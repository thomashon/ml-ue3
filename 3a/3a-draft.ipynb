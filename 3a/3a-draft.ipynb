{
 "cells": [
  {
   "cell_type": "code",
   "execution_count": 1,
   "metadata": {
    "ExecuteTime": {
     "end_time": "2019-07-21T08:50:51.874007Z",
     "start_time": "2019-07-21T08:50:47.867369Z"
    }
   },
   "outputs": [
    {
     "name": "stderr",
     "output_type": "stream",
     "text": [
      "C:\\Users\\thoma\\AppData\\Roaming\\Python\\Python37\\site-packages\\numpy\\core\\__init__.py:29: UserWarning: loaded more than 1 DLL from .libs:\n",
      "C:\\Users\\thoma\\AppData\\Roaming\\Python\\Python37\\site-packages\\numpy\\.libs\\libopenblas.IPBC74C7KURV7CB2PKT5Z5FNR3SIBV4J.gfortran-win_amd64.dll\n",
      "C:\\Users\\thoma\\AppData\\Roaming\\Python\\Python37\\site-packages\\numpy\\.libs\\libopenblas.TXA6YQSD3GCQQC22GEQ54J2UDCXDXHWN.gfortran-win_amd64.dll\n",
      "  stacklevel=1)\n"
     ]
    }
   ],
   "source": [
    "import pandas as pd\n",
    "import numpy as np\n",
    "import matplotlib.pyplot as plt\n",
    "import seaborn as sns\n",
    "\n",
    "white = pd.read_csv('winequality-white.csv', sep=';')\n",
    "red = pd.read_csv('winequality-red.csv', sep=';')"
   ]
  },
  {
   "cell_type": "code",
   "execution_count": 2,
   "metadata": {
    "ExecuteTime": {
     "end_time": "2019-07-21T08:50:53.383023Z",
     "start_time": "2019-07-21T08:50:53.148168Z"
    }
   },
   "outputs": [
    {
     "data": {
      "text/html": [
       "<div>\n",
       "<style scoped>\n",
       "    .dataframe tbody tr th:only-of-type {\n",
       "        vertical-align: middle;\n",
       "    }\n",
       "\n",
       "    .dataframe tbody tr th {\n",
       "        vertical-align: top;\n",
       "    }\n",
       "\n",
       "    .dataframe thead th {\n",
       "        text-align: right;\n",
       "    }\n",
       "</style>\n",
       "<table border=\"1\" class=\"dataframe\">\n",
       "  <thead>\n",
       "    <tr style=\"text-align: right;\">\n",
       "      <th></th>\n",
       "      <th>fixed acidity</th>\n",
       "      <th>volatile acidity</th>\n",
       "      <th>citric acid</th>\n",
       "      <th>residual sugar</th>\n",
       "      <th>chlorides</th>\n",
       "      <th>free sulfur dioxide</th>\n",
       "      <th>total sulfur dioxide</th>\n",
       "      <th>density</th>\n",
       "      <th>pH</th>\n",
       "      <th>sulphates</th>\n",
       "      <th>alcohol</th>\n",
       "      <th>quality</th>\n",
       "    </tr>\n",
       "  </thead>\n",
       "  <tbody>\n",
       "    <tr>\n",
       "      <th>count</th>\n",
       "      <td>4898.000000</td>\n",
       "      <td>4898.000000</td>\n",
       "      <td>4898.000000</td>\n",
       "      <td>4898.000000</td>\n",
       "      <td>4898.000000</td>\n",
       "      <td>4898.000000</td>\n",
       "      <td>4898.000000</td>\n",
       "      <td>4898.000000</td>\n",
       "      <td>4898.000000</td>\n",
       "      <td>4898.000000</td>\n",
       "      <td>4898.000000</td>\n",
       "      <td>4898.000000</td>\n",
       "    </tr>\n",
       "    <tr>\n",
       "      <th>mean</th>\n",
       "      <td>6.854788</td>\n",
       "      <td>0.278241</td>\n",
       "      <td>0.334192</td>\n",
       "      <td>6.391415</td>\n",
       "      <td>0.045772</td>\n",
       "      <td>35.308085</td>\n",
       "      <td>138.360657</td>\n",
       "      <td>0.994027</td>\n",
       "      <td>3.188267</td>\n",
       "      <td>0.489847</td>\n",
       "      <td>10.514267</td>\n",
       "      <td>5.877909</td>\n",
       "    </tr>\n",
       "    <tr>\n",
       "      <th>std</th>\n",
       "      <td>0.843868</td>\n",
       "      <td>0.100795</td>\n",
       "      <td>0.121020</td>\n",
       "      <td>5.072058</td>\n",
       "      <td>0.021848</td>\n",
       "      <td>17.007137</td>\n",
       "      <td>42.498065</td>\n",
       "      <td>0.002991</td>\n",
       "      <td>0.151001</td>\n",
       "      <td>0.114126</td>\n",
       "      <td>1.230621</td>\n",
       "      <td>0.885639</td>\n",
       "    </tr>\n",
       "    <tr>\n",
       "      <th>min</th>\n",
       "      <td>3.800000</td>\n",
       "      <td>0.080000</td>\n",
       "      <td>0.000000</td>\n",
       "      <td>0.600000</td>\n",
       "      <td>0.009000</td>\n",
       "      <td>2.000000</td>\n",
       "      <td>9.000000</td>\n",
       "      <td>0.987110</td>\n",
       "      <td>2.720000</td>\n",
       "      <td>0.220000</td>\n",
       "      <td>8.000000</td>\n",
       "      <td>3.000000</td>\n",
       "    </tr>\n",
       "    <tr>\n",
       "      <th>25%</th>\n",
       "      <td>6.300000</td>\n",
       "      <td>0.210000</td>\n",
       "      <td>0.270000</td>\n",
       "      <td>1.700000</td>\n",
       "      <td>0.036000</td>\n",
       "      <td>23.000000</td>\n",
       "      <td>108.000000</td>\n",
       "      <td>0.991723</td>\n",
       "      <td>3.090000</td>\n",
       "      <td>0.410000</td>\n",
       "      <td>9.500000</td>\n",
       "      <td>5.000000</td>\n",
       "    </tr>\n",
       "    <tr>\n",
       "      <th>50%</th>\n",
       "      <td>6.800000</td>\n",
       "      <td>0.260000</td>\n",
       "      <td>0.320000</td>\n",
       "      <td>5.200000</td>\n",
       "      <td>0.043000</td>\n",
       "      <td>34.000000</td>\n",
       "      <td>134.000000</td>\n",
       "      <td>0.993740</td>\n",
       "      <td>3.180000</td>\n",
       "      <td>0.470000</td>\n",
       "      <td>10.400000</td>\n",
       "      <td>6.000000</td>\n",
       "    </tr>\n",
       "    <tr>\n",
       "      <th>75%</th>\n",
       "      <td>7.300000</td>\n",
       "      <td>0.320000</td>\n",
       "      <td>0.390000</td>\n",
       "      <td>9.900000</td>\n",
       "      <td>0.050000</td>\n",
       "      <td>46.000000</td>\n",
       "      <td>167.000000</td>\n",
       "      <td>0.996100</td>\n",
       "      <td>3.280000</td>\n",
       "      <td>0.550000</td>\n",
       "      <td>11.400000</td>\n",
       "      <td>6.000000</td>\n",
       "    </tr>\n",
       "    <tr>\n",
       "      <th>max</th>\n",
       "      <td>14.200000</td>\n",
       "      <td>1.100000</td>\n",
       "      <td>1.660000</td>\n",
       "      <td>65.800000</td>\n",
       "      <td>0.346000</td>\n",
       "      <td>289.000000</td>\n",
       "      <td>440.000000</td>\n",
       "      <td>1.038980</td>\n",
       "      <td>3.820000</td>\n",
       "      <td>1.080000</td>\n",
       "      <td>14.200000</td>\n",
       "      <td>9.000000</td>\n",
       "    </tr>\n",
       "  </tbody>\n",
       "</table>\n",
       "</div>"
      ],
      "text/plain": [
       "       fixed acidity  volatile acidity  citric acid  residual sugar  \\\n",
       "count    4898.000000       4898.000000  4898.000000     4898.000000   \n",
       "mean        6.854788          0.278241     0.334192        6.391415   \n",
       "std         0.843868          0.100795     0.121020        5.072058   \n",
       "min         3.800000          0.080000     0.000000        0.600000   \n",
       "25%         6.300000          0.210000     0.270000        1.700000   \n",
       "50%         6.800000          0.260000     0.320000        5.200000   \n",
       "75%         7.300000          0.320000     0.390000        9.900000   \n",
       "max        14.200000          1.100000     1.660000       65.800000   \n",
       "\n",
       "         chlorides  free sulfur dioxide  total sulfur dioxide      density  \\\n",
       "count  4898.000000          4898.000000           4898.000000  4898.000000   \n",
       "mean      0.045772            35.308085            138.360657     0.994027   \n",
       "std       0.021848            17.007137             42.498065     0.002991   \n",
       "min       0.009000             2.000000              9.000000     0.987110   \n",
       "25%       0.036000            23.000000            108.000000     0.991723   \n",
       "50%       0.043000            34.000000            134.000000     0.993740   \n",
       "75%       0.050000            46.000000            167.000000     0.996100   \n",
       "max       0.346000           289.000000            440.000000     1.038980   \n",
       "\n",
       "                pH    sulphates      alcohol      quality  \n",
       "count  4898.000000  4898.000000  4898.000000  4898.000000  \n",
       "mean      3.188267     0.489847    10.514267     5.877909  \n",
       "std       0.151001     0.114126     1.230621     0.885639  \n",
       "min       2.720000     0.220000     8.000000     3.000000  \n",
       "25%       3.090000     0.410000     9.500000     5.000000  \n",
       "50%       3.180000     0.470000    10.400000     6.000000  \n",
       "75%       3.280000     0.550000    11.400000     6.000000  \n",
       "max       3.820000     1.080000    14.200000     9.000000  "
      ]
     },
     "execution_count": 2,
     "metadata": {},
     "output_type": "execute_result"
    }
   ],
   "source": [
    "white.describe()"
   ]
  },
  {
   "cell_type": "code",
   "execution_count": 3,
   "metadata": {
    "ExecuteTime": {
     "end_time": "2019-07-21T08:50:53.687012Z",
     "start_time": "2019-07-21T08:50:53.539024Z"
    }
   },
   "outputs": [
    {
     "data": {
      "text/html": [
       "<div>\n",
       "<style scoped>\n",
       "    .dataframe tbody tr th:only-of-type {\n",
       "        vertical-align: middle;\n",
       "    }\n",
       "\n",
       "    .dataframe tbody tr th {\n",
       "        vertical-align: top;\n",
       "    }\n",
       "\n",
       "    .dataframe thead th {\n",
       "        text-align: right;\n",
       "    }\n",
       "</style>\n",
       "<table border=\"1\" class=\"dataframe\">\n",
       "  <thead>\n",
       "    <tr style=\"text-align: right;\">\n",
       "      <th></th>\n",
       "      <th>fixed acidity</th>\n",
       "      <th>volatile acidity</th>\n",
       "      <th>citric acid</th>\n",
       "      <th>residual sugar</th>\n",
       "      <th>chlorides</th>\n",
       "      <th>free sulfur dioxide</th>\n",
       "      <th>total sulfur dioxide</th>\n",
       "      <th>density</th>\n",
       "      <th>pH</th>\n",
       "      <th>sulphates</th>\n",
       "      <th>alcohol</th>\n",
       "      <th>quality</th>\n",
       "    </tr>\n",
       "  </thead>\n",
       "  <tbody>\n",
       "    <tr>\n",
       "      <th>count</th>\n",
       "      <td>1599.000000</td>\n",
       "      <td>1599.000000</td>\n",
       "      <td>1599.000000</td>\n",
       "      <td>1599.000000</td>\n",
       "      <td>1599.000000</td>\n",
       "      <td>1599.000000</td>\n",
       "      <td>1599.000000</td>\n",
       "      <td>1599.000000</td>\n",
       "      <td>1599.000000</td>\n",
       "      <td>1599.000000</td>\n",
       "      <td>1599.000000</td>\n",
       "      <td>1599.000000</td>\n",
       "    </tr>\n",
       "    <tr>\n",
       "      <th>mean</th>\n",
       "      <td>8.319637</td>\n",
       "      <td>0.527821</td>\n",
       "      <td>0.270976</td>\n",
       "      <td>2.538806</td>\n",
       "      <td>0.087467</td>\n",
       "      <td>15.874922</td>\n",
       "      <td>46.467792</td>\n",
       "      <td>0.996747</td>\n",
       "      <td>3.311113</td>\n",
       "      <td>0.658149</td>\n",
       "      <td>10.422983</td>\n",
       "      <td>5.636023</td>\n",
       "    </tr>\n",
       "    <tr>\n",
       "      <th>std</th>\n",
       "      <td>1.741096</td>\n",
       "      <td>0.179060</td>\n",
       "      <td>0.194801</td>\n",
       "      <td>1.409928</td>\n",
       "      <td>0.047065</td>\n",
       "      <td>10.460157</td>\n",
       "      <td>32.895324</td>\n",
       "      <td>0.001887</td>\n",
       "      <td>0.154386</td>\n",
       "      <td>0.169507</td>\n",
       "      <td>1.065668</td>\n",
       "      <td>0.807569</td>\n",
       "    </tr>\n",
       "    <tr>\n",
       "      <th>min</th>\n",
       "      <td>4.600000</td>\n",
       "      <td>0.120000</td>\n",
       "      <td>0.000000</td>\n",
       "      <td>0.900000</td>\n",
       "      <td>0.012000</td>\n",
       "      <td>1.000000</td>\n",
       "      <td>6.000000</td>\n",
       "      <td>0.990070</td>\n",
       "      <td>2.740000</td>\n",
       "      <td>0.330000</td>\n",
       "      <td>8.400000</td>\n",
       "      <td>3.000000</td>\n",
       "    </tr>\n",
       "    <tr>\n",
       "      <th>25%</th>\n",
       "      <td>7.100000</td>\n",
       "      <td>0.390000</td>\n",
       "      <td>0.090000</td>\n",
       "      <td>1.900000</td>\n",
       "      <td>0.070000</td>\n",
       "      <td>7.000000</td>\n",
       "      <td>22.000000</td>\n",
       "      <td>0.995600</td>\n",
       "      <td>3.210000</td>\n",
       "      <td>0.550000</td>\n",
       "      <td>9.500000</td>\n",
       "      <td>5.000000</td>\n",
       "    </tr>\n",
       "    <tr>\n",
       "      <th>50%</th>\n",
       "      <td>7.900000</td>\n",
       "      <td>0.520000</td>\n",
       "      <td>0.260000</td>\n",
       "      <td>2.200000</td>\n",
       "      <td>0.079000</td>\n",
       "      <td>14.000000</td>\n",
       "      <td>38.000000</td>\n",
       "      <td>0.996750</td>\n",
       "      <td>3.310000</td>\n",
       "      <td>0.620000</td>\n",
       "      <td>10.200000</td>\n",
       "      <td>6.000000</td>\n",
       "    </tr>\n",
       "    <tr>\n",
       "      <th>75%</th>\n",
       "      <td>9.200000</td>\n",
       "      <td>0.640000</td>\n",
       "      <td>0.420000</td>\n",
       "      <td>2.600000</td>\n",
       "      <td>0.090000</td>\n",
       "      <td>21.000000</td>\n",
       "      <td>62.000000</td>\n",
       "      <td>0.997835</td>\n",
       "      <td>3.400000</td>\n",
       "      <td>0.730000</td>\n",
       "      <td>11.100000</td>\n",
       "      <td>6.000000</td>\n",
       "    </tr>\n",
       "    <tr>\n",
       "      <th>max</th>\n",
       "      <td>15.900000</td>\n",
       "      <td>1.580000</td>\n",
       "      <td>1.000000</td>\n",
       "      <td>15.500000</td>\n",
       "      <td>0.611000</td>\n",
       "      <td>72.000000</td>\n",
       "      <td>289.000000</td>\n",
       "      <td>1.003690</td>\n",
       "      <td>4.010000</td>\n",
       "      <td>2.000000</td>\n",
       "      <td>14.900000</td>\n",
       "      <td>8.000000</td>\n",
       "    </tr>\n",
       "  </tbody>\n",
       "</table>\n",
       "</div>"
      ],
      "text/plain": [
       "       fixed acidity  volatile acidity  citric acid  residual sugar  \\\n",
       "count    1599.000000       1599.000000  1599.000000     1599.000000   \n",
       "mean        8.319637          0.527821     0.270976        2.538806   \n",
       "std         1.741096          0.179060     0.194801        1.409928   \n",
       "min         4.600000          0.120000     0.000000        0.900000   \n",
       "25%         7.100000          0.390000     0.090000        1.900000   \n",
       "50%         7.900000          0.520000     0.260000        2.200000   \n",
       "75%         9.200000          0.640000     0.420000        2.600000   \n",
       "max        15.900000          1.580000     1.000000       15.500000   \n",
       "\n",
       "         chlorides  free sulfur dioxide  total sulfur dioxide      density  \\\n",
       "count  1599.000000          1599.000000           1599.000000  1599.000000   \n",
       "mean      0.087467            15.874922             46.467792     0.996747   \n",
       "std       0.047065            10.460157             32.895324     0.001887   \n",
       "min       0.012000             1.000000              6.000000     0.990070   \n",
       "25%       0.070000             7.000000             22.000000     0.995600   \n",
       "50%       0.079000            14.000000             38.000000     0.996750   \n",
       "75%       0.090000            21.000000             62.000000     0.997835   \n",
       "max       0.611000            72.000000            289.000000     1.003690   \n",
       "\n",
       "                pH    sulphates      alcohol      quality  \n",
       "count  1599.000000  1599.000000  1599.000000  1599.000000  \n",
       "mean      3.311113     0.658149    10.422983     5.636023  \n",
       "std       0.154386     0.169507     1.065668     0.807569  \n",
       "min       2.740000     0.330000     8.400000     3.000000  \n",
       "25%       3.210000     0.550000     9.500000     5.000000  \n",
       "50%       3.310000     0.620000    10.200000     6.000000  \n",
       "75%       3.400000     0.730000    11.100000     6.000000  \n",
       "max       4.010000     2.000000    14.900000     8.000000  "
      ]
     },
     "execution_count": 3,
     "metadata": {},
     "output_type": "execute_result"
    }
   ],
   "source": [
    "red.describe()"
   ]
  },
  {
   "cell_type": "code",
   "execution_count": 4,
   "metadata": {
    "ExecuteTime": {
     "end_time": "2019-07-21T08:50:53.863015Z",
     "start_time": "2019-07-21T08:50:53.839012Z"
    },
    "scrolled": true
   },
   "outputs": [
    {
     "name": "stdout",
     "output_type": "stream",
     "text": [
      "<class 'pandas.core.frame.DataFrame'>\n",
      "RangeIndex: 4898 entries, 0 to 4897\n",
      "Data columns (total 12 columns):\n",
      "fixed acidity           4898 non-null float64\n",
      "volatile acidity        4898 non-null float64\n",
      "citric acid             4898 non-null float64\n",
      "residual sugar          4898 non-null float64\n",
      "chlorides               4898 non-null float64\n",
      "free sulfur dioxide     4898 non-null float64\n",
      "total sulfur dioxide    4898 non-null float64\n",
      "density                 4898 non-null float64\n",
      "pH                      4898 non-null float64\n",
      "sulphates               4898 non-null float64\n",
      "alcohol                 4898 non-null float64\n",
      "quality                 4898 non-null int64\n",
      "dtypes: float64(11), int64(1)\n",
      "memory usage: 459.3 KB\n"
     ]
    }
   ],
   "source": [
    "white.info()"
   ]
  },
  {
   "cell_type": "code",
   "execution_count": 5,
   "metadata": {
    "ExecuteTime": {
     "end_time": "2019-07-21T08:50:54.151020Z",
     "start_time": "2019-07-21T08:50:54.127023Z"
    },
    "scrolled": true
   },
   "outputs": [
    {
     "name": "stdout",
     "output_type": "stream",
     "text": [
      "<class 'pandas.core.frame.DataFrame'>\n",
      "RangeIndex: 1599 entries, 0 to 1598\n",
      "Data columns (total 12 columns):\n",
      "fixed acidity           1599 non-null float64\n",
      "volatile acidity        1599 non-null float64\n",
      "citric acid             1599 non-null float64\n",
      "residual sugar          1599 non-null float64\n",
      "chlorides               1599 non-null float64\n",
      "free sulfur dioxide     1599 non-null float64\n",
      "total sulfur dioxide    1599 non-null float64\n",
      "density                 1599 non-null float64\n",
      "pH                      1599 non-null float64\n",
      "sulphates               1599 non-null float64\n",
      "alcohol                 1599 non-null float64\n",
      "quality                 1599 non-null int64\n",
      "dtypes: float64(11), int64(1)\n",
      "memory usage: 150.0 KB\n"
     ]
    }
   ],
   "source": [
    "red.info()"
   ]
  },
  {
   "cell_type": "code",
   "execution_count": 6,
   "metadata": {
    "ExecuteTime": {
     "end_time": "2019-07-21T08:50:54.395025Z",
     "start_time": "2019-07-21T08:50:54.379008Z"
    }
   },
   "outputs": [],
   "source": [
    "red['type'] = 1\n",
    "white['type'] = 0\n",
    "\n",
    "wines = red.append(white, ignore_index=True)"
   ]
  },
  {
   "cell_type": "code",
   "execution_count": 7,
   "metadata": {
    "ExecuteTime": {
     "end_time": "2019-07-21T08:50:54.767023Z",
     "start_time": "2019-07-21T08:50:54.751019Z"
    }
   },
   "outputs": [
    {
     "data": {
      "text/plain": [
       "False"
      ]
     },
     "execution_count": 7,
     "metadata": {},
     "output_type": "execute_result"
    }
   ],
   "source": [
    "wines.isna().any().any()"
   ]
  },
  {
   "cell_type": "code",
   "execution_count": 8,
   "metadata": {
    "ExecuteTime": {
     "end_time": "2019-07-21T08:50:56.191311Z",
     "start_time": "2019-07-21T08:50:55.393846Z"
    }
   },
   "outputs": [
    {
     "data": {
      "text/plain": [
       "<matplotlib.axes._subplots.AxesSubplot at 0x1f3142d2cf8>"
      ]
     },
     "execution_count": 8,
     "metadata": {},
     "output_type": "execute_result"
    },
    {
     "data": {
      "image/png": "[encoded data removed]",
      "text/plain": [
       "<Figure size 432x288 with 1 Axes>"
      ]
     },
     "metadata": {
      "needs_background": "light"
     },
     "output_type": "display_data"
    }
   ],
   "source": [
    "wines.quality.hist()"
   ]
  },
  {
   "cell_type": "code",
   "execution_count": 9,
   "metadata": {
    "ExecuteTime": {
     "end_time": "2019-07-21T08:50:56.315308Z",
     "start_time": "2019-07-21T08:50:56.199317Z"
    }
   },
   "outputs": [
    {
     "data": {
      "text/plain": [
       "6    2836\n",
       "5    2138\n",
       "7    1079\n",
       "4     216\n",
       "8     193\n",
       "3      30\n",
       "9       5\n",
       "Name: quality, dtype: int64"
      ]
     },
     "execution_count": 9,
     "metadata": {},
     "output_type": "execute_result"
    }
   ],
   "source": [
    "wines.quality.value_counts()"
   ]
  },
  {
   "cell_type": "code",
   "execution_count": 10,
   "metadata": {
    "ExecuteTime": {
     "end_time": "2019-07-21T08:50:56.367309Z",
     "start_time": "2019-07-21T08:50:56.323315Z"
    }
   },
   "outputs": [
    {
     "data": {
      "text/plain": [
       "total sulfur dioxide   -0.700357\n",
       "free sulfur dioxide    -0.471644\n",
       "residual sugar         -0.348821\n",
       "citric acid            -0.187397\n",
       "quality                -0.119323\n",
       "alcohol                -0.032970\n",
       "pH                      0.329129\n",
       "density                 0.390645\n",
       "fixed acidity           0.486740\n",
       "sulphates               0.487218\n",
       "chlorides               0.512678\n",
       "volatile acidity        0.653036\n",
       "type                    1.000000\n",
       "Name: type, dtype: float64"
      ]
     },
     "execution_count": 10,
     "metadata": {},
     "output_type": "execute_result"
    }
   ],
   "source": [
    "wines.corr()['type'].sort_values()"
   ]
  },
  {
   "cell_type": "code",
   "execution_count": 11,
   "metadata": {
    "ExecuteTime": {
     "end_time": "2019-07-21T08:50:57.456648Z",
     "start_time": "2019-07-21T08:50:56.851308Z"
    }
   },
   "outputs": [
    {
     "data": {
      "image/png": "[encoded data removed]",
      "text/plain": [
       "<Figure size 576x576 with 2 Axes>"
      ]
     },
     "metadata": {
      "needs_background": "light"
     },
     "output_type": "display_data"
    }
   ],
   "source": [
    "plt.figure(figsize=(8, 8))\n",
    "sns.heatmap(wines.corr(), square=True, cmap=\"YlGnBu\")\n",
    "plt.show()"
   ]
  },
  {
   "cell_type": "code",
   "execution_count": 12,
   "metadata": {
    "ExecuteTime": {
     "end_time": "2019-07-21T08:50:57.532637Z",
     "start_time": "2019-07-21T08:50:57.460639Z"
    }
   },
   "outputs": [
    {
     "data": {
      "text/html": [
       "<div>\n",
       "<style scoped>\n",
       "    .dataframe tbody tr th:only-of-type {\n",
       "        vertical-align: middle;\n",
       "    }\n",
       "\n",
       "    .dataframe tbody tr th {\n",
       "        vertical-align: top;\n",
       "    }\n",
       "\n",
       "    .dataframe thead th {\n",
       "        text-align: right;\n",
       "    }\n",
       "</style>\n",
       "<table border=\"1\" class=\"dataframe\">\n",
       "  <thead>\n",
       "    <tr style=\"text-align: right;\">\n",
       "      <th></th>\n",
       "      <th>fixed acidity</th>\n",
       "      <th>volatile acidity</th>\n",
       "      <th>citric acid</th>\n",
       "      <th>residual sugar</th>\n",
       "      <th>chlorides</th>\n",
       "      <th>free sulfur dioxide</th>\n",
       "      <th>total sulfur dioxide</th>\n",
       "      <th>density</th>\n",
       "      <th>pH</th>\n",
       "      <th>sulphates</th>\n",
       "      <th>alcohol</th>\n",
       "      <th>quality</th>\n",
       "      <th>type</th>\n",
       "    </tr>\n",
       "  </thead>\n",
       "  <tbody>\n",
       "    <tr>\n",
       "      <th>0</th>\n",
       "      <td>7.4</td>\n",
       "      <td>0.70</td>\n",
       "      <td>0.00</td>\n",
       "      <td>1.9</td>\n",
       "      <td>0.076</td>\n",
       "      <td>11.0</td>\n",
       "      <td>34.0</td>\n",
       "      <td>0.9978</td>\n",
       "      <td>3.51</td>\n",
       "      <td>0.56</td>\n",
       "      <td>9.4</td>\n",
       "      <td>5</td>\n",
       "      <td>1</td>\n",
       "    </tr>\n",
       "    <tr>\n",
       "      <th>1</th>\n",
       "      <td>7.8</td>\n",
       "      <td>0.88</td>\n",
       "      <td>0.00</td>\n",
       "      <td>2.6</td>\n",
       "      <td>0.098</td>\n",
       "      <td>25.0</td>\n",
       "      <td>67.0</td>\n",
       "      <td>0.9968</td>\n",
       "      <td>3.20</td>\n",
       "      <td>0.68</td>\n",
       "      <td>9.8</td>\n",
       "      <td>5</td>\n",
       "      <td>1</td>\n",
       "    </tr>\n",
       "    <tr>\n",
       "      <th>2</th>\n",
       "      <td>7.8</td>\n",
       "      <td>0.76</td>\n",
       "      <td>0.04</td>\n",
       "      <td>2.3</td>\n",
       "      <td>0.092</td>\n",
       "      <td>15.0</td>\n",
       "      <td>54.0</td>\n",
       "      <td>0.9970</td>\n",
       "      <td>3.26</td>\n",
       "      <td>0.65</td>\n",
       "      <td>9.8</td>\n",
       "      <td>5</td>\n",
       "      <td>1</td>\n",
       "    </tr>\n",
       "    <tr>\n",
       "      <th>3</th>\n",
       "      <td>11.2</td>\n",
       "      <td>0.28</td>\n",
       "      <td>0.56</td>\n",
       "      <td>1.9</td>\n",
       "      <td>0.075</td>\n",
       "      <td>17.0</td>\n",
       "      <td>60.0</td>\n",
       "      <td>0.9980</td>\n",
       "      <td>3.16</td>\n",
       "      <td>0.58</td>\n",
       "      <td>9.8</td>\n",
       "      <td>6</td>\n",
       "      <td>1</td>\n",
       "    </tr>\n",
       "    <tr>\n",
       "      <th>4</th>\n",
       "      <td>7.4</td>\n",
       "      <td>0.70</td>\n",
       "      <td>0.00</td>\n",
       "      <td>1.9</td>\n",
       "      <td>0.076</td>\n",
       "      <td>11.0</td>\n",
       "      <td>34.0</td>\n",
       "      <td>0.9978</td>\n",
       "      <td>3.51</td>\n",
       "      <td>0.56</td>\n",
       "      <td>9.4</td>\n",
       "      <td>5</td>\n",
       "      <td>1</td>\n",
       "    </tr>\n",
       "  </tbody>\n",
       "</table>\n",
       "</div>"
      ],
      "text/plain": [
       "   fixed acidity  volatile acidity  citric acid  residual sugar  chlorides  \\\n",
       "0            7.4              0.70         0.00             1.9      0.076   \n",
       "1            7.8              0.88         0.00             2.6      0.098   \n",
       "2            7.8              0.76         0.04             2.3      0.092   \n",
       "3           11.2              0.28         0.56             1.9      0.075   \n",
       "4            7.4              0.70         0.00             1.9      0.076   \n",
       "\n",
       "   free sulfur dioxide  total sulfur dioxide  density    pH  sulphates  \\\n",
       "0                 11.0                  34.0   0.9978  3.51       0.56   \n",
       "1                 25.0                  67.0   0.9968  3.20       0.68   \n",
       "2                 15.0                  54.0   0.9970  3.26       0.65   \n",
       "3                 17.0                  60.0   0.9980  3.16       0.58   \n",
       "4                 11.0                  34.0   0.9978  3.51       0.56   \n",
       "\n",
       "   alcohol  quality  type  \n",
       "0      9.4        5     1  \n",
       "1      9.8        5     1  \n",
       "2      9.8        5     1  \n",
       "3      9.8        6     1  \n",
       "4      9.4        5     1  "
      ]
     },
     "execution_count": 12,
     "metadata": {},
     "output_type": "execute_result"
    }
   ],
   "source": [
    "wines.head()"
   ]
  },
  {
   "cell_type": "code",
   "execution_count": 13,
   "metadata": {
    "ExecuteTime": {
     "end_time": "2019-07-21T08:50:57.828634Z",
     "start_time": "2019-07-21T08:50:57.816650Z"
    }
   },
   "outputs": [],
   "source": [
    "X = wines.drop('quality', axis=1)"
   ]
  },
  {
   "cell_type": "code",
   "execution_count": 14,
   "metadata": {
    "ExecuteTime": {
     "end_time": "2019-07-21T08:50:58.240647Z",
     "start_time": "2019-07-21T08:50:58.220648Z"
    }
   },
   "outputs": [
    {
     "data": {
      "text/plain": [
       "0    5\n",
       "1    5\n",
       "2    5\n",
       "3    6\n",
       "4    5\n",
       "Name: quality, dtype: int64"
      ]
     },
     "execution_count": 14,
     "metadata": {},
     "output_type": "execute_result"
    }
   ],
   "source": [
    "wines['quality'].head()"
   ]
  },
  {
   "cell_type": "code",
   "execution_count": 15,
   "metadata": {
    "ExecuteTime": {
     "end_time": "2019-07-21T08:50:58.568635Z",
     "start_time": "2019-07-21T08:50:58.552650Z"
    }
   },
   "outputs": [],
   "source": [
    "wines['quality'] = wines['quality'].astype(str)"
   ]
  },
  {
   "cell_type": "code",
   "execution_count": 16,
   "metadata": {
    "ExecuteTime": {
     "end_time": "2019-07-21T08:50:58.920635Z",
     "start_time": "2019-07-21T08:50:58.900636Z"
    }
   },
   "outputs": [
    {
     "data": {
      "text/plain": [
       "0    5\n",
       "1    5\n",
       "2    5\n",
       "3    6\n",
       "4    5\n",
       "Name: quality, dtype: object"
      ]
     },
     "execution_count": 16,
     "metadata": {},
     "output_type": "execute_result"
    }
   ],
   "source": [
    "wines['quality'].head()"
   ]
  },
  {
   "cell_type": "code",
   "execution_count": 17,
   "metadata": {
    "ExecuteTime": {
     "end_time": "2019-07-21T08:50:59.216651Z",
     "start_time": "2019-07-21T08:50:59.204649Z"
    }
   },
   "outputs": [],
   "source": [
    "wines['quality'] = pd.Categorical(wines['quality'])"
   ]
  },
  {
   "cell_type": "code",
   "execution_count": 18,
   "metadata": {
    "ExecuteTime": {
     "end_time": "2019-07-21T08:50:59.548647Z",
     "start_time": "2019-07-21T08:50:59.524634Z"
    }
   },
   "outputs": [
    {
     "data": {
      "text/plain": [
       "0    5\n",
       "1    5\n",
       "2    5\n",
       "3    6\n",
       "4    5\n",
       "Name: quality, dtype: category\n",
       "Categories (7, object): [3, 4, 5, 6, 7, 8, 9]"
      ]
     },
     "execution_count": 18,
     "metadata": {},
     "output_type": "execute_result"
    }
   ],
   "source": [
    "wines['quality'].head()"
   ]
  },
  {
   "cell_type": "code",
   "execution_count": 19,
   "metadata": {
    "ExecuteTime": {
     "end_time": "2019-07-21T08:50:59.844651Z",
     "start_time": "2019-07-21T08:50:59.828633Z"
    }
   },
   "outputs": [
    {
     "data": {
      "text/plain": [
       "0    2\n",
       "1    2\n",
       "2    2\n",
       "3    3\n",
       "4    2\n",
       "dtype: int8"
      ]
     },
     "execution_count": 19,
     "metadata": {},
     "output_type": "execute_result"
    }
   ],
   "source": [
    "wines['quality'].cat.codes.head()"
   ]
  },
  {
   "cell_type": "code",
   "execution_count": 20,
   "metadata": {
    "ExecuteTime": {
     "end_time": "2019-07-21T08:51:00.216649Z",
     "start_time": "2019-07-21T08:51:00.196652Z"
    }
   },
   "outputs": [
    {
     "data": {
      "text/plain": [
       "6    2836\n",
       "5    2138\n",
       "7    1079\n",
       "4     216\n",
       "8     193\n",
       "3      30\n",
       "9       5\n",
       "Name: quality, dtype: int64"
      ]
     },
     "execution_count": 20,
     "metadata": {},
     "output_type": "execute_result"
    }
   ],
   "source": [
    "wines.quality.value_counts()"
   ]
  },
  {
   "cell_type": "code",
   "execution_count": 21,
   "metadata": {
    "ExecuteTime": {
     "end_time": "2019-07-21T08:51:05.316827Z",
     "start_time": "2019-07-21T08:51:00.540643Z"
    }
   },
   "outputs": [
    {
     "name": "stderr",
     "output_type": "stream",
     "text": [
      "Using TensorFlow backend.\n"
     ]
    }
   ],
   "source": [
    "from keras.utils import to_categorical\n",
    "y = to_categorical(wines['quality'])\n"
   ]
  },
  {
   "cell_type": "code",
   "execution_count": 22,
   "metadata": {
    "ExecuteTime": {
     "end_time": "2019-07-21T08:51:05.463993Z",
     "start_time": "2019-07-21T08:51:05.316827Z"
    }
   },
   "outputs": [
    {
     "data": {
      "text/html": [
       "<div>\n",
       "<style scoped>\n",
       "    .dataframe tbody tr th:only-of-type {\n",
       "        vertical-align: middle;\n",
       "    }\n",
       "\n",
       "    .dataframe tbody tr th {\n",
       "        vertical-align: top;\n",
       "    }\n",
       "\n",
       "    .dataframe thead th {\n",
       "        text-align: right;\n",
       "    }\n",
       "</style>\n",
       "<table border=\"1\" class=\"dataframe\">\n",
       "  <thead>\n",
       "    <tr style=\"text-align: right;\">\n",
       "      <th></th>\n",
       "      <th>0</th>\n",
       "      <th>1</th>\n",
       "      <th>2</th>\n",
       "      <th>3</th>\n",
       "      <th>4</th>\n",
       "      <th>5</th>\n",
       "      <th>6</th>\n",
       "      <th>7</th>\n",
       "      <th>8</th>\n",
       "      <th>9</th>\n",
       "    </tr>\n",
       "  </thead>\n",
       "  <tbody>\n",
       "    <tr>\n",
       "      <th>0</th>\n",
       "      <td>0.0</td>\n",
       "      <td>0.0</td>\n",
       "      <td>0.0</td>\n",
       "      <td>0.0</td>\n",
       "      <td>0.0</td>\n",
       "      <td>1.0</td>\n",
       "      <td>0.0</td>\n",
       "      <td>0.0</td>\n",
       "      <td>0.0</td>\n",
       "      <td>0.0</td>\n",
       "    </tr>\n",
       "    <tr>\n",
       "      <th>1</th>\n",
       "      <td>0.0</td>\n",
       "      <td>0.0</td>\n",
       "      <td>0.0</td>\n",
       "      <td>0.0</td>\n",
       "      <td>0.0</td>\n",
       "      <td>1.0</td>\n",
       "      <td>0.0</td>\n",
       "      <td>0.0</td>\n",
       "      <td>0.0</td>\n",
       "      <td>0.0</td>\n",
       "    </tr>\n",
       "    <tr>\n",
       "      <th>2</th>\n",
       "      <td>0.0</td>\n",
       "      <td>0.0</td>\n",
       "      <td>0.0</td>\n",
       "      <td>0.0</td>\n",
       "      <td>0.0</td>\n",
       "      <td>1.0</td>\n",
       "      <td>0.0</td>\n",
       "      <td>0.0</td>\n",
       "      <td>0.0</td>\n",
       "      <td>0.0</td>\n",
       "    </tr>\n",
       "    <tr>\n",
       "      <th>3</th>\n",
       "      <td>0.0</td>\n",
       "      <td>0.0</td>\n",
       "      <td>0.0</td>\n",
       "      <td>0.0</td>\n",
       "      <td>0.0</td>\n",
       "      <td>0.0</td>\n",
       "      <td>1.0</td>\n",
       "      <td>0.0</td>\n",
       "      <td>0.0</td>\n",
       "      <td>0.0</td>\n",
       "    </tr>\n",
       "    <tr>\n",
       "      <th>4</th>\n",
       "      <td>0.0</td>\n",
       "      <td>0.0</td>\n",
       "      <td>0.0</td>\n",
       "      <td>0.0</td>\n",
       "      <td>0.0</td>\n",
       "      <td>1.0</td>\n",
       "      <td>0.0</td>\n",
       "      <td>0.0</td>\n",
       "      <td>0.0</td>\n",
       "      <td>0.0</td>\n",
       "    </tr>\n",
       "  </tbody>\n",
       "</table>\n",
       "</div>"
      ],
      "text/plain": [
       "     0    1    2    3    4    5    6    7    8    9\n",
       "0  0.0  0.0  0.0  0.0  0.0  1.0  0.0  0.0  0.0  0.0\n",
       "1  0.0  0.0  0.0  0.0  0.0  1.0  0.0  0.0  0.0  0.0\n",
       "2  0.0  0.0  0.0  0.0  0.0  1.0  0.0  0.0  0.0  0.0\n",
       "3  0.0  0.0  0.0  0.0  0.0  0.0  1.0  0.0  0.0  0.0\n",
       "4  0.0  0.0  0.0  0.0  0.0  1.0  0.0  0.0  0.0  0.0"
      ]
     },
     "execution_count": 22,
     "metadata": {},
     "output_type": "execute_result"
    }
   ],
   "source": [
    "pd.DataFrame(y).head()"
   ]
  },
  {
   "cell_type": "code",
   "execution_count": 23,
   "metadata": {
    "ExecuteTime": {
     "end_time": "2019-07-21T08:51:06.044110Z",
     "start_time": "2019-07-21T08:51:05.483992Z"
    }
   },
   "outputs": [],
   "source": [
    "from sklearn.model_selection import train_test_split\n",
    "\n",
    "X_train, X_test, y_train, y_test = train_test_split(X, y, test_size=0.2, random_state=123)"
   ]
  },
  {
   "cell_type": "code",
   "execution_count": 24,
   "metadata": {
    "ExecuteTime": {
     "end_time": "2019-07-21T08:51:06.107987Z",
     "start_time": "2019-07-21T08:51:06.047997Z"
    }
   },
   "outputs": [
    {
     "data": {
      "text/html": [
       "<div>\n",
       "<style scoped>\n",
       "    .dataframe tbody tr th:only-of-type {\n",
       "        vertical-align: middle;\n",
       "    }\n",
       "\n",
       "    .dataframe tbody tr th {\n",
       "        vertical-align: top;\n",
       "    }\n",
       "\n",
       "    .dataframe thead th {\n",
       "        text-align: right;\n",
       "    }\n",
       "</style>\n",
       "<table border=\"1\" class=\"dataframe\">\n",
       "  <thead>\n",
       "    <tr style=\"text-align: right;\">\n",
       "      <th></th>\n",
       "      <th>fixed acidity</th>\n",
       "      <th>volatile acidity</th>\n",
       "      <th>citric acid</th>\n",
       "      <th>residual sugar</th>\n",
       "      <th>chlorides</th>\n",
       "      <th>free sulfur dioxide</th>\n",
       "      <th>total sulfur dioxide</th>\n",
       "      <th>density</th>\n",
       "      <th>pH</th>\n",
       "      <th>sulphates</th>\n",
       "      <th>alcohol</th>\n",
       "      <th>type</th>\n",
       "    </tr>\n",
       "  </thead>\n",
       "  <tbody>\n",
       "    <tr>\n",
       "      <th>0</th>\n",
       "      <td>7.4</td>\n",
       "      <td>0.70</td>\n",
       "      <td>0.00</td>\n",
       "      <td>1.9</td>\n",
       "      <td>0.076</td>\n",
       "      <td>11.0</td>\n",
       "      <td>34.0</td>\n",
       "      <td>0.9978</td>\n",
       "      <td>3.51</td>\n",
       "      <td>0.56</td>\n",
       "      <td>9.4</td>\n",
       "      <td>1</td>\n",
       "    </tr>\n",
       "    <tr>\n",
       "      <th>1</th>\n",
       "      <td>7.8</td>\n",
       "      <td>0.88</td>\n",
       "      <td>0.00</td>\n",
       "      <td>2.6</td>\n",
       "      <td>0.098</td>\n",
       "      <td>25.0</td>\n",
       "      <td>67.0</td>\n",
       "      <td>0.9968</td>\n",
       "      <td>3.20</td>\n",
       "      <td>0.68</td>\n",
       "      <td>9.8</td>\n",
       "      <td>1</td>\n",
       "    </tr>\n",
       "    <tr>\n",
       "      <th>2</th>\n",
       "      <td>7.8</td>\n",
       "      <td>0.76</td>\n",
       "      <td>0.04</td>\n",
       "      <td>2.3</td>\n",
       "      <td>0.092</td>\n",
       "      <td>15.0</td>\n",
       "      <td>54.0</td>\n",
       "      <td>0.9970</td>\n",
       "      <td>3.26</td>\n",
       "      <td>0.65</td>\n",
       "      <td>9.8</td>\n",
       "      <td>1</td>\n",
       "    </tr>\n",
       "    <tr>\n",
       "      <th>3</th>\n",
       "      <td>11.2</td>\n",
       "      <td>0.28</td>\n",
       "      <td>0.56</td>\n",
       "      <td>1.9</td>\n",
       "      <td>0.075</td>\n",
       "      <td>17.0</td>\n",
       "      <td>60.0</td>\n",
       "      <td>0.9980</td>\n",
       "      <td>3.16</td>\n",
       "      <td>0.58</td>\n",
       "      <td>9.8</td>\n",
       "      <td>1</td>\n",
       "    </tr>\n",
       "    <tr>\n",
       "      <th>4</th>\n",
       "      <td>7.4</td>\n",
       "      <td>0.70</td>\n",
       "      <td>0.00</td>\n",
       "      <td>1.9</td>\n",
       "      <td>0.076</td>\n",
       "      <td>11.0</td>\n",
       "      <td>34.0</td>\n",
       "      <td>0.9978</td>\n",
       "      <td>3.51</td>\n",
       "      <td>0.56</td>\n",
       "      <td>9.4</td>\n",
       "      <td>1</td>\n",
       "    </tr>\n",
       "  </tbody>\n",
       "</table>\n",
       "</div>"
      ],
      "text/plain": [
       "   fixed acidity  volatile acidity  citric acid  residual sugar  chlorides  \\\n",
       "0            7.4              0.70         0.00             1.9      0.076   \n",
       "1            7.8              0.88         0.00             2.6      0.098   \n",
       "2            7.8              0.76         0.04             2.3      0.092   \n",
       "3           11.2              0.28         0.56             1.9      0.075   \n",
       "4            7.4              0.70         0.00             1.9      0.076   \n",
       "\n",
       "   free sulfur dioxide  total sulfur dioxide  density    pH  sulphates  \\\n",
       "0                 11.0                  34.0   0.9978  3.51       0.56   \n",
       "1                 25.0                  67.0   0.9968  3.20       0.68   \n",
       "2                 15.0                  54.0   0.9970  3.26       0.65   \n",
       "3                 17.0                  60.0   0.9980  3.16       0.58   \n",
       "4                 11.0                  34.0   0.9978  3.51       0.56   \n",
       "\n",
       "   alcohol  type  \n",
       "0      9.4     1  \n",
       "1      9.8     1  \n",
       "2      9.8     1  \n",
       "3      9.8     1  \n",
       "4      9.4     1  "
      ]
     },
     "execution_count": 24,
     "metadata": {},
     "output_type": "execute_result"
    }
   ],
   "source": [
    "X.head()"
   ]
  },
  {
   "cell_type": "code",
   "execution_count": 25,
   "metadata": {
    "ExecuteTime": {
     "end_time": "2019-07-21T08:51:06.135986Z",
     "start_time": "2019-07-21T08:51:06.111987Z"
    }
   },
   "outputs": [],
   "source": [
    "from sklearn.preprocessing import StandardScaler\n",
    "\n",
    "scaler = StandardScaler()\n",
    "\n",
    "scaler.fit(X_train)\n",
    "\n",
    "X_train_scaled = scaler.transform(X_train)\n",
    "X_test_scaled = scaler.transform(X_test)"
   ]
  },
  {
   "cell_type": "code",
   "execution_count": 26,
   "metadata": {
    "ExecuteTime": {
     "end_time": "2019-07-21T08:51:06.199995Z",
     "start_time": "2019-07-21T08:51:06.175988Z"
    }
   },
   "outputs": [],
   "source": [
    "from keras.models import Sequential\n",
    "from keras.layers import Dense, BatchNormalization\n",
    "from keras.callbacks import EarlyStopping\n",
    "\n",
    "early_stopping_monitor = EarlyStopping(patience=3)\n",
    "\n",
    "in_cols = X.shape[1]\n",
    "out_cols = y.shape[1]"
   ]
  },
  {
   "cell_type": "code",
   "execution_count": 27,
   "metadata": {
    "ExecuteTime": {
     "end_time": "2019-07-21T08:51:47.404925Z",
     "start_time": "2019-07-21T08:51:06.207998Z"
    }
   },
   "outputs": [
    {
     "name": "stdout",
     "output_type": "stream",
     "text": [
      "WARNING:tensorflow:From C:\\Users\\thoma\\AppData\\Roaming\\Python\\Python37\\site-packages\\tensorflow\\python\\framework\\op_def_library.py:263: colocate_with (from tensorflow.python.framework.ops) is deprecated and will be removed in a future version.\n",
      "Instructions for updating:\n",
      "Colocations handled automatically by placer.\n",
      "WARNING:tensorflow:From C:\\Users\\thoma\\AppData\\Roaming\\Python\\Python37\\site-packages\\tensorflow\\python\\ops\\math_ops.py:3066: to_int32 (from tensorflow.python.ops.math_ops) is deprecated and will be removed in a future version.\n",
      "Instructions for updating:\n",
      "Use tf.cast instead.\n"
     ]
    }
   ],
   "source": [
    "model_1 = Sequential()\n",
    "\n",
    "model_1.add(Dense(1000, activation='relu', input_shape=(in_cols,)))\n",
    "model_1.add(BatchNormalization())\n",
    "model_1.add(Dense(500, activation='relu'))\n",
    "model_1.add(BatchNormalization())\n",
    "model_1.add(Dense(250, activation='relu'))\n",
    "model_1.add(BatchNormalization())\n",
    "model_1.add(Dense(out_cols, activation='softmax'))\n",
    "\n",
    "\n",
    "model_1.compile(loss='categorical_crossentropy', \n",
    "              optimizer='adam', \n",
    "              metrics=['accuracy'])\n",
    "\n",
    "model_1_training = model_1.fit(\n",
    "    X_train_scaled,\n",
    "    y_train,\n",
    "    batch_size=100,\n",
    "    epochs=50,\n",
    "    validation_data=(X_test_scaled, y_test),\n",
    "    callbacks=[early_stopping_monitor],\n",
    "    verbose=False\n",
    ")"
   ]
  },
  {
   "cell_type": "code",
   "execution_count": 28,
   "metadata": {
    "ExecuteTime": {
     "end_time": "2019-07-21T08:51:54.950183Z",
     "start_time": "2019-07-21T08:51:47.404925Z"
    }
   },
   "outputs": [],
   "source": [
    "model_2 = Sequential()\n",
    "\n",
    "model_2.add(Dense(12, activation='relu', input_shape=(in_cols,)))\n",
    "model_2.add(BatchNormalization())\n",
    "model_2.add(Dense(8, activation='relu'))\n",
    "model_2.add(BatchNormalization())\n",
    "model_2.add(Dense(out_cols, activation='softmax'))\n",
    "\n",
    "\n",
    "model_2.compile(loss='categorical_crossentropy', \n",
    "              optimizer='adam', \n",
    "              metrics=['accuracy'])\n",
    "\n",
    "model_2_training = model_2.fit(\n",
    "    X_train_scaled,\n",
    "    y_train,\n",
    "    batch_size=200,\n",
    "    epochs=50,\n",
    "    validation_data=(X_test_scaled, y_test),\n",
    "    callbacks=[early_stopping_monitor],\n",
    "    verbose=False\n",
    ")"
   ]
  },
  {
   "cell_type": "code",
   "execution_count": 29,
   "metadata": {
    "ExecuteTime": {
     "end_time": "2019-07-21T08:51:55.030711Z",
     "start_time": "2019-07-21T08:51:54.950183Z"
    }
   },
   "outputs": [],
   "source": [
    "def plot_history(model): \n",
    "    fig, ax = plt.subplots(1, 2, figsize=(14, 5))\n",
    "\n",
    "    ax[0].plot(model.history['loss'])\n",
    "    ax[0].set_xlabel('Epochs')\n",
    "    ax[0].set_ylim([0, 1])\n",
    "    ax[0].set_title('Loss over Epochs')\n",
    "    ax[0].plot(model.history['val_loss'])\n",
    "    ax[0].legend(['Training loss', 'Prediction loss'])\n",
    "\n",
    "    ax[1].plot(model.history['acc'])\n",
    "    ax[1].set_xlabel('Epochs')\n",
    "    ax[1].set_ylim([0, 1])\n",
    "    ax[1].set_title('Accuracy over Epochs')\n",
    "    ax[1].plot(model.history['val_acc'])\n",
    "    ax[1].legend(['Training accuracy', 'Prediction accuracy'])\n",
    "\n",
    "    fig.suptitle(\"Model Quality over Epochs\")\n",
    "\n",
    "    plt.show()"
   ]
  },
  {
   "cell_type": "code",
   "execution_count": 30,
   "metadata": {
    "ExecuteTime": {
     "end_time": "2019-07-21T08:51:56.632133Z",
     "start_time": "2019-07-21T08:51:55.042727Z"
    }
   },
   "outputs": [
    {
     "data": {
      "image/png": "[encoded data removed]",
      "text/plain": [
       "<Figure size 1008x360 with 2 Axes>"
      ]
     },
     "metadata": {
      "needs_background": "light"
     },
     "output_type": "display_data"
    },
    {
     "data": {
      "image/png": "[encoded data removed]",
      "text/plain": [
       "<Figure size 1008x360 with 2 Axes>"
      ]
     },
     "metadata": {
      "needs_background": "light"
     },
     "output_type": "display_data"
    }
   ],
   "source": [
    "plot_history(model=model_1_training)\n",
    "plot_history(model=model_2_training)"
   ]
  },
  {
   "cell_type": "code",
   "execution_count": 31,
   "metadata": {
    "ExecuteTime": {
     "end_time": "2019-07-21T08:51:57.196778Z",
     "start_time": "2019-07-21T08:51:56.644143Z"
    }
   },
   "outputs": [
    {
     "data": {
      "image/png": "[encoded data removed]",
      "text/plain": [
       "<Figure size 432x288 with 1 Axes>"
      ]
     },
     "metadata": {
      "needs_background": "light"
     },
     "output_type": "display_data"
    }
   ],
   "source": [
    "plt.plot(model_1_training.history['val_loss'], 'r', model_2_training.history['val_loss'], 'b')\n",
    "plt.xlabel('Epochs')\n",
    "plt.ylabel('Validation score')\n",
    "plt.show()"
   ]
  },
  {
   "cell_type": "code",
   "execution_count": 32,
   "metadata": {
    "ExecuteTime": {
     "end_time": "2019-07-21T08:51:57.824012Z",
     "start_time": "2019-07-21T08:51:57.208786Z"
    }
   },
   "outputs": [
    {
     "name": "stdout",
     "output_type": "stream",
     "text": [
      "Predicted: [0. 0. 0. 0. 0. 0. 0. 0. 0. 0.], actual 0.0\n"
     ]
    }
   ],
   "source": [
    "from numpy import round\n",
    "\n",
    "y_predicted = model_1.predict(X_test_scaled)\n",
    "\n",
    "print('Predicted: {}, actual {}'.format(round(y_predicted[0]), y_test.ravel()[0]))"
   ]
  },
  {
   "cell_type": "code",
   "execution_count": 33,
   "metadata": {
    "ExecuteTime": {
     "end_time": "2019-07-21T08:51:58.216021Z",
     "start_time": "2019-07-21T08:51:57.832028Z"
    }
   },
   "outputs": [
    {
     "name": "stdout",
     "output_type": "stream",
     "text": [
      "1300/1300 [==============================] - 0s 280us/step\n",
      "Loss: 1.0411666481311506, accuracy: 0.5700000001833989\n"
     ]
    }
   ],
   "source": [
    "loss, accuracy = model_1.evaluate(X_test_scaled, y_test)\n",
    "\n",
    "print('Loss: {}, accuracy: {}'.format(loss, accuracy))"
   ]
  },
  {
   "cell_type": "code",
   "execution_count": 34,
   "metadata": {
    "ExecuteTime": {
     "end_time": "2019-07-21T08:51:58.348049Z",
     "start_time": "2019-07-21T08:51:58.228023Z"
    }
   },
   "outputs": [
    {
     "name": "stdout",
     "output_type": "stream",
     "text": [
      "1300/1300 [==============================] - 0s 71us/step\n",
      "Loss: 1.0648815118349515, accuracy: 0.5584615385532379\n"
     ]
    }
   ],
   "source": [
    "loss, accuracy = model_2.evaluate(X_test_scaled, y_test)\n",
    "\n",
    "print('Loss: {}, accuracy: {}'.format(loss, accuracy))"
   ]
  },
  {
   "cell_type": "code",
   "execution_count": 35,
   "metadata": {
    "ExecuteTime": {
     "end_time": "2019-07-21T08:52:13.146597Z",
     "start_time": "2019-07-21T08:52:13.130596Z"
    }
   },
   "outputs": [],
   "source": [
    "def create_model(optimizer='adam', activation='relu'):\n",
    "    model = Sequential()\n",
    "    model.add(Dense(12, input_shape=(in_cols,), activation=activation))\n",
    "    model.add(Dense(out_cols, activation='sigmoid'))\n",
    "    model.compile(optimizer=optimizer, loss='categorical_crossentropy', metrics=['accuracy'])\n",
    "    return model\n",
    "\n",
    "from keras.wrappers.scikit_learn import KerasClassifier\n",
    "\n",
    "model = KerasClassifier(build_fn=create_model, epochs=6, batch_size=16)"
   ]
  },
  {
   "cell_type": "code",
   "execution_count": 36,
   "metadata": {
    "ExecuteTime": {
     "end_time": "2019-07-21T08:52:58.797956Z",
     "start_time": "2019-07-21T08:52:21.189102Z"
    },
    "scrolled": true
   },
   "outputs": [
    {
     "name": "stdout",
     "output_type": "stream",
     "text": [
      "Epoch 1/6\n",
      "4157/4157 [==============================] - 2s 453us/step - loss: 1.7698 - acc: 0.3878\n",
      "Epoch 2/6\n",
      "4157/4157 [==============================] - 1s 186us/step - loss: 1.3078 - acc: 0.4424\n",
      "Epoch 3/6\n",
      "4157/4157 [==============================] - 1s 159us/step - loss: 1.1971 - acc: 0.4566\n",
      "Epoch 4/6\n",
      "4157/4157 [==============================] - 1s 163us/step - loss: 1.1559 - acc: 0.4681\n",
      "Epoch 5/6\n",
      "4157/4157 [==============================] - ETA: 0s - loss: 1.1332 - acc: 0.478 - 1s 180us/step - loss: 1.1305 - acc: 0.4799\n",
      "Epoch 6/6\n",
      "4157/4157 [==============================] - 1s 194us/step - loss: 1.1112 - acc: 0.4980\n",
      "1040/1040 [==============================] - 0s 334us/step\n",
      "Epoch 1/6\n",
      "4157/4157 [==============================] - 2s 393us/step - loss: 1.9215 - acc: 0.3517\n",
      "Epoch 2/6\n",
      "4157/4157 [==============================] - 1s 208us/step - loss: 1.3406 - acc: 0.4559\n",
      "Epoch 3/6\n",
      "4157/4157 [==============================] - 1s 222us/step - loss: 1.1864 - acc: 0.4975\n",
      "Epoch 4/6\n",
      "4157/4157 [==============================] - ETA: 0s - loss: 1.1456 - acc: 0.513 - 1s 208us/step - loss: 1.1464 - acc: 0.5148\n",
      "Epoch 5/6\n",
      "4157/4157 [==============================] - 1s 213us/step - loss: 1.1235 - acc: 0.5218\n",
      "Epoch 6/6\n",
      "4157/4157 [==============================] - 1s 194us/step - loss: 1.1092 - acc: 0.5218\n",
      "1040/1040 [==============================] - 0s 361us/step\n",
      "Epoch 1/6\n",
      "4158/4158 [==============================] - 2s 509us/step - loss: 1.9839 - acc: 0.3329\n",
      "Epoch 2/6\n",
      "4158/4158 [==============================] - 1s 200us/step - loss: 1.3974 - acc: 0.4514\n",
      "Epoch 3/6\n",
      "4158/4158 [==============================] - 1s 194us/step - loss: 1.2327 - acc: 0.4584\n",
      "Epoch 4/6\n",
      "4158/4158 [==============================] - 1s 198us/step - loss: 1.1766 - acc: 0.4632\n",
      "Epoch 5/6\n",
      "4158/4158 [==============================] - 1s 197us/step - loss: 1.1485 - acc: 0.4738\n",
      "Epoch 6/6\n",
      "4158/4158 [==============================] - 1s 211us/step - loss: 1.1303 - acc: 0.4841\n",
      "1039/1039 [==============================] - 0s 397us/step\n",
      "Epoch 1/6\n",
      "4158/4158 [==============================] - 2s 385us/step - loss: 1.9340 - acc: 0.3692\n",
      "Epoch 2/6\n",
      "4158/4158 [==============================] - 1s 202us/step - loss: 1.3495 - acc: 0.4995\n",
      "Epoch 3/6\n",
      "4158/4158 [==============================] - 1s 188us/step - loss: 1.1813 - acc: 0.4856\n",
      "Epoch 4/6\n",
      "4158/4158 [==============================] - 1s 207us/step - loss: 1.1309 - acc: 0.4959 0s - loss: 1.1662\n",
      "Epoch 5/6\n",
      "4158/4158 [==============================] - 1s 194us/step - loss: 1.1067 - acc: 0.5161\n",
      "Epoch 6/6\n",
      "4158/4158 [==============================] - 1s 199us/step - loss: 1.0877 - acc: 0.5197\n",
      "1039/1039 [==============================] - 0s 418us/step\n",
      "Epoch 1/6\n",
      "4158/4158 [==============================] - 2s 404us/step - loss: 1.9354 - acc: 0.2785\n",
      "Epoch 2/6\n",
      "4158/4158 [==============================] - 1s 220us/step - loss: 1.3671 - acc: 0.4380\n",
      "Epoch 3/6\n",
      "4158/4158 [==============================] - 1s 268us/step - loss: 1.1832 - acc: 0.4695 0s - loss: 1.1904 - acc: 0.46\n",
      "Epoch 4/6\n",
      "4158/4158 [==============================] - 2s 372us/step - loss: 1.1375 - acc: 0.4937\n",
      "Epoch 5/6\n",
      "4158/4158 [==============================] - 2s 368us/step - loss: 1.1155 - acc: 0.5082 0s - loss: 1.1341\n",
      "Epoch 6/6\n",
      "4158/4158 [==============================] - 1s 254us/step - loss: 1.0984 - acc: 0.5144\n",
      "1039/1039 [==============================] - 1s 713us/step\n"
     ]
    },
    {
     "data": {
      "text/plain": [
       "0.5172219961282811"
      ]
     },
     "execution_count": 36,
     "metadata": {},
     "output_type": "execute_result"
    }
   ],
   "source": [
    "# Import cross_val_score\n",
    "from sklearn.model_selection import cross_val_score \n",
    " \n",
    "# Check how your keras model performs with 5 fold crossvalidation\n",
    "kfold = cross_val_score(model, X_train_scaled, y_train, cv=5) \n",
    "\n",
    "# Print the mean accuracy per fold\n",
    "kfold.mean() "
   ]
  },
  {
   "cell_type": "code",
   "execution_count": 37,
   "metadata": {
    "ExecuteTime": {
     "end_time": "2019-07-21T08:53:21.583168Z",
     "start_time": "2019-07-21T08:53:21.571168Z"
    }
   },
   "outputs": [
    {
     "data": {
      "text/plain": [
       "0.016838043167714405"
      ]
     },
     "execution_count": 37,
     "metadata": {},
     "output_type": "execute_result"
    }
   ],
   "source": [
    "# Print the standard deviation per fold\n",
    "kfold.std()"
   ]
  },
  {
   "cell_type": "code",
   "execution_count": 38,
   "metadata": {
    "ExecuteTime": {
     "end_time": "2019-07-21T08:59:05.232509Z",
     "start_time": "2019-07-21T08:53:38.596994Z"
    }
   },
   "outputs": [
    {
     "name": "stdout",
     "output_type": "stream",
     "text": [
      "Epoch 1/3\n",
      "3464/3464 [==============================] - 3s 954us/step - loss: 2.0847 - acc: 0.3245\n",
      "Epoch 2/3\n",
      "3464/3464 [==============================] - 2s 591us/step - loss: 1.7365 - acc: 0.4789\n",
      "Epoch 3/3\n",
      "3464/3464 [==============================] - 2s 556us/step - loss: 1.4722 - acc: 0.4919\n",
      "1733/1733 [==============================] - 1s 507us/step\n",
      "Epoch 1/3\n",
      "3465/3465 [==============================] - 3s 837us/step - loss: 2.0725 - acc: 0.3408\n",
      "Epoch 2/3\n",
      "3465/3465 [==============================] - 2s 566us/step - loss: 1.7402 - acc: 0.4938\n",
      "Epoch 3/3\n",
      "3465/3465 [==============================] - 2s 648us/step - loss: 1.4746 - acc: 0.4912\n",
      "1732/1732 [==============================] - 1s 629us/step\n",
      "Epoch 1/3\n",
      "3465/3465 [==============================] - 4s 1ms/step - loss: 2.1374 - acc: 0.2623\n",
      "Epoch 2/3\n",
      "3465/3465 [==============================] - 3s 753us/step - loss: 1.8290 - acc: 0.5100\n",
      "Epoch 3/3\n",
      "3465/3465 [==============================] - 2s 621us/step - loss: 1.5978 - acc: 0.5146\n",
      "1732/1732 [==============================] - 1s 541us/step\n",
      "Epoch 1/3\n",
      "3464/3464 [==============================] - 2s 534us/step - loss: 2.1233 - acc: 0.3008\n",
      "Epoch 2/3\n",
      "3464/3464 [==============================] - 1s 324us/step - loss: 1.8896 - acc: 0.4313\n",
      "Epoch 3/3\n",
      "3464/3464 [==============================] - 1s 273us/step - loss: 1.6880 - acc: 0.4509\n",
      "1733/1733 [==============================] - 1s 393us/step\n",
      "Epoch 1/3\n",
      "3465/3465 [==============================] - 2s 590us/step - loss: 2.1854 - acc: 0.2364\n",
      "Epoch 2/3\n",
      "3465/3465 [==============================] - 1s 306us/step - loss: 1.9204 - acc: 0.4303\n",
      "Epoch 3/3\n",
      "3465/3465 [==============================] - 1s 346us/step - loss: 1.7063 - acc: 0.4540 1s - loss\n",
      "1732/1732 [==============================] - 1s 419us/step\n",
      "Epoch 1/3\n",
      "3465/3465 [==============================] - 2s 636us/step - loss: 2.1481 - acc: 0.3004\n",
      "Epoch 2/3\n",
      "3465/3465 [==============================] - 1s 284us/step - loss: 1.8775 - acc: 0.4612\n",
      "Epoch 3/3\n",
      "3465/3465 [==============================] - 1s 329us/step - loss: 1.6616 - acc: 0.4782\n",
      "1732/1732 [==============================] - 1s 461us/step\n",
      "Epoch 1/3\n",
      "3464/3464 [==============================] - 3s 871us/step - loss: 2.0234 - acc: 0.3785\n",
      "Epoch 2/3\n",
      "3464/3464 [==============================] - 2s 610us/step - loss: 1.5933 - acc: 0.4974\n",
      "Epoch 3/3\n",
      "3464/3464 [==============================] - 2s 592us/step - loss: 1.3202 - acc: 0.5012\n",
      "1733/1733 [==============================] - 1s 664us/step\n",
      "Epoch 1/3\n",
      "3465/3465 [==============================] - 5s 1ms/step - loss: 1.9553 - acc: 0.3674 ETA: 1s - loss: 2\n",
      "Epoch 2/3\n",
      "3465/3465 [==============================] - 4s 1ms/step - loss: 1.4722 - acc: 0.4372A: 6s - loss: 1.5714 - acc: 0.383 -\n",
      "Epoch 3/3\n",
      "3465/3465 [==============================] - ETA: 0s - loss: 1.2850 - acc: 0.445 - 4s 1ms/step - loss: 1.2846 - acc: 0.4462\n",
      "1732/1732 [==============================] - 2s 1ms/step\n",
      "Epoch 1/3\n",
      "3465/3465 [==============================] - 6s 2ms/step - loss: 1.9923 - acc: 0.3016A: 0s - loss: 2.0046 - acc: 0.\n",
      "Epoch 2/3\n",
      "3465/3465 [==============================] - 4s 1ms/step - loss: 1.5520 - acc: 0.4214A: 1s - loss:\n",
      "Epoch 3/3\n",
      "3465/3465 [==============================] - 5s 1ms/step - loss: 1.3496 - acc: 0.4398\n",
      "1732/1732 [==============================] - 2s 1ms/step\n",
      "Epoch 1/3\n",
      "3464/3464 [==============================] - 4s 1ms/step - loss: 2.0345 - acc: 0.2535\n",
      "Epoch 2/3\n",
      "3464/3464 [==============================] - 1s 428us/step - loss: 1.5708 - acc: 0.4449 0s - loss: 1.5799 - acc: 0.44\n",
      "Epoch 3/3\n",
      "3464/3464 [==============================] - 1s 402us/step - loss: 1.2977 - acc: 0.4564\n",
      "1733/1733 [==============================] - 2s 905us/step\n",
      "Epoch 1/3\n",
      "3465/3465 [==============================] - 4s 1ms/step - loss: 2.0141 - acc: 0.2456A: 4s - loss: 2.1814 -\n",
      "Epoch 2/3\n",
      "3465/3465 [==============================] - 1s 362us/step - loss: 1.5286 - acc: 0.3859 0s - loss: 1.5620 - acc: 0.\n",
      "Epoch 3/3\n",
      "3465/3465 [==============================] - 1s 342us/step - loss: 1.2965 - acc: 0.4338\n",
      "1732/1732 [==============================] - 1s 836us/step\n",
      "Epoch 1/3\n",
      "3465/3465 [==============================] - 4s 1ms/step - loss: 2.1341 - acc: 0.2716\n",
      "Epoch 2/3\n",
      "3465/3465 [==============================] - 1s 304us/step - loss: 1.5974 - acc: 0.4317\n",
      "Epoch 3/3\n",
      "3465/3465 [==============================] - 1s 384us/step - loss: 1.3019 - acc: 0.4698\n",
      "1732/1732 [==============================] - 2s 1ms/step\n",
      "Epoch 1/3\n",
      "3464/3464 [==============================] - 4s 1ms/step - loss: 2.2146 - acc: 0.2281\n",
      "Epoch 2/3\n",
      "3464/3464 [==============================] - 1s 421us/step - loss: 1.9415 - acc: 0.4301\n",
      "Epoch 3/3\n",
      "3464/3464 [==============================] - 1s 268us/step - loss: 1.5665 - acc: 0.5009\n",
      "1733/1733 [==============================] - 1s 671us/step\n",
      "Epoch 1/3\n",
      "3465/3465 [==============================] - 2s 641us/step - loss: 2.1818 - acc: 0.2035\n",
      "Epoch 2/3\n",
      "3465/3465 [==============================] - 1s 178us/step - loss: 1.9022 - acc: 0.3986 0s - loss: 2.0107 - ac\n",
      "Epoch 3/3\n",
      "3465/3465 [==============================] - 1s 189us/step - loss: 1.5978 - acc: 0.4655\n",
      "1732/1732 [==============================] - 1s 510us/step\n",
      "Epoch 1/3\n",
      "3465/3465 [==============================] - 2s 673us/step - loss: 2.1555 - acc: 0.2603 0s - loss: 2.1820 - acc: 0.2\n",
      "Epoch 2/3\n",
      "3465/3465 [==============================] - 1s 174us/step - loss: 1.8495 - acc: 0.3879 0s - loss: 1.9621 - acc\n",
      "Epoch 3/3\n",
      "3465/3465 [==============================] - 1s 172us/step - loss: 1.5427 - acc: 0.4661 0s - loss: 1.7175 - ac\n",
      "1732/1732 [==============================] - 1s 526us/step\n",
      "Epoch 1/3\n",
      "3464/3464 [==============================] - 3s 820us/step - loss: 2.1830 - acc: 0.2803\n",
      "Epoch 2/3\n",
      "3464/3464 [==============================] - 1s 320us/step - loss: 1.9872 - acc: 0.4056\n",
      "Epoch 3/3\n",
      "3464/3464 [==============================] - 1s 349us/step - loss: 1.8512 - acc: 0.4587\n",
      "1733/1733 [==============================] - 1s 630us/step\n",
      "Epoch 1/3\n",
      "3465/3465 [==============================] - 3s 889us/step - loss: 2.2025 - acc: 0.1986\n",
      "Epoch 2/3\n",
      "3465/3465 [==============================] - 3s 748us/step - loss: 1.9977 - acc: 0.3625\n",
      "Epoch 3/3\n",
      "3465/3465 [==============================] - 2s 451us/step - loss: 1.8415 - acc: 0.4508\n",
      "1732/1732 [==============================] - 2s 939us/step\n",
      "Epoch 1/3\n",
      "3465/3465 [==============================] - 4s 1ms/step - loss: 2.1633 - acc: 0.2193\n",
      "Epoch 2/3\n",
      "3465/3465 [==============================] - 2s 473us/step - loss: 1.8881 - acc: 0.3931\n",
      "Epoch 3/3\n",
      "3465/3465 [==============================] - 2s 518us/step - loss: 1.6983 - acc: 0.4320\n",
      "1732/1732 [==============================] - 1s 848us/step\n",
      "Epoch 1/3\n",
      "3464/3464 [==============================] - 4s 1ms/step - loss: 1.9152 - acc: 0.3285A: 0s - loss: 1.9980 - acc: 0\n",
      "Epoch 2/3\n",
      "3464/3464 [==============================] - 2s 475us/step - loss: 1.3185 - acc: 0.4501\n",
      "Epoch 3/3\n",
      "3464/3464 [==============================] - 2s 445us/step - loss: 1.2066 - acc: 0.4651\n",
      "1733/1733 [==============================] - 1s 828us/step\n",
      "Epoch 1/3\n",
      "3465/3465 [==============================] - 4s 1ms/step - loss: 1.8876 - acc: 0.3293A: 0s - loss: 1.9671 - acc: \n",
      "Epoch 2/3\n",
      "3465/3465 [==============================] - 2s 486us/step - loss: 1.2641 - acc: 0.4667\n",
      "Epoch 3/3\n",
      "3465/3465 [==============================] - 2s 491us/step - loss: 1.1579 - acc: 0.4886\n",
      "1732/1732 [==============================] - 2s 907us/step\n",
      "Epoch 1/3\n",
      "3465/3465 [==============================] - 5s 1ms/step - loss: 2.0023 - acc: 0.2571\n",
      "Epoch 2/3\n",
      "3465/3465 [==============================] - 2s 509us/step - loss: 1.3090 - acc: 0.4866 1s - loss: 1.4551 - ETA: 0s - loss: 1.3427 - a\n",
      "Epoch 3/3\n",
      "3465/3465 [==============================] - 2s 556us/step - loss: 1.1685 - acc: 0.5068\n",
      "1732/1732 [==============================] - 2s 949us/step\n",
      "Epoch 1/3\n",
      "3464/3464 [==============================] - 3s 978us/step - loss: 2.0101 - acc: 0.3490 1s - loss: 2.0295 - acc: 0\n",
      "Epoch 2/3\n",
      "3464/3464 [==============================] - 1s 247us/step - loss: 1.8769 - acc: 0.3932 0s - loss: 1.9114 - acc\n",
      "Epoch 3/3\n",
      "3464/3464 [==============================] - 1s 253us/step - loss: 1.7522 - acc: 0.4091\n"
     ]
    },
    {
     "name": "stdout",
     "output_type": "stream",
     "text": [
      "1733/1733 [==============================] - 2s 991us/step\n",
      "Epoch 1/3\n",
      "3465/3465 [==============================] - 4s 1ms/step - loss: 2.2049 - acc: 0.1564\n",
      "Epoch 2/3\n",
      "3465/3465 [==============================] - 1s 242us/step - loss: 2.0157 - acc: 0.3590\n",
      "Epoch 3/3\n",
      "3465/3465 [==============================] - 1s 274us/step - loss: 1.8848 - acc: 0.4528\n",
      "1732/1732 [==============================] - 1s 799us/step\n",
      "Epoch 1/3\n",
      "3465/3465 [==============================] - 4s 1ms/step - loss: 2.1389 - acc: 0.3007\n",
      "Epoch 2/3\n",
      "3465/3465 [==============================] - 1s 275us/step - loss: 1.9572 - acc: 0.4032\n",
      "Epoch 3/3\n",
      "3465/3465 [==============================] - 1s 279us/step - loss: 1.8168 - acc: 0.4248\n",
      "1732/1732 [==============================] - 2s 990us/step\n",
      "Epoch 1/3\n",
      "3464/3464 [==============================] - ETA: 0s - loss: 1.6247 - acc: 0.384 - 7s 2ms/step - loss: 1.6233 - acc: 0.3845\n",
      "Epoch 2/3\n",
      "3464/3464 [==============================] - 3s 991us/step - loss: 1.1806 - acc: 0.4983\n",
      "Epoch 3/3\n",
      "3464/3464 [==============================] - 4s 1ms/step - loss: 1.1149 - acc: 0.5219A: 0s - loss: 1.1\n",
      "1733/1733 [==============================] - 3s 1ms/step\n",
      "Epoch 1/3\n",
      "3465/3465 [==============================] - 7s 2ms/step - loss: 1.6763 - acc: 0.4133A: 1s - loss: 1.793\n",
      "Epoch 2/3\n",
      "3465/3465 [==============================] - 4s 1ms/step - loss: 1.1793 - acc: 0.5036\n",
      "Epoch 3/3\n",
      "3465/3465 [==============================] - 4s 1ms/step - loss: 1.1075 - acc: 0.5192A: 2s - loss: 1.1257 - acc: 0 - ETA\n",
      "1732/1732 [==============================] - 2s 1ms/step\n",
      "Epoch 1/3\n",
      "3465/3465 [==============================] - 7s 2ms/step - loss: 1.6306 - acc: 0.4188\n",
      "Epoch 2/3\n",
      "3465/3465 [==============================] - 3s 771us/step - loss: 1.1949 - acc: 0.4947 0s - loss: 1.2056 - acc - ETA: 0s - loss: 1.1992 - acc: 0.49\n",
      "Epoch 3/3\n",
      "3465/3465 [==============================] - 3s 781us/step - loss: 1.1391 - acc: 0.5094\n",
      "1732/1732 [==============================] - 4s 2ms/step\n",
      "Epoch 1/3\n",
      "3464/3464 [==============================] - 3s 1ms/step - loss: 2.2781 - acc: 0.1429\n",
      "Epoch 2/3\n",
      "3464/3464 [==============================] - 0s 140us/step - loss: 2.1164 - acc: 0.2789\n",
      "Epoch 3/3\n",
      "3464/3464 [==============================] - 1s 150us/step - loss: 2.0087 - acc: 0.3946\n",
      "1733/1733 [==============================] - 1s 659us/step\n",
      "Epoch 1/3\n",
      "3465/3465 [==============================] - 3s 983us/step - loss: 2.2336 - acc: 0.1683\n",
      "Epoch 2/3\n",
      "3465/3465 [==============================] - 0s 140us/step - loss: 2.1111 - acc: 0.2753\n",
      "Epoch 3/3\n",
      "3465/3465 [==============================] - 1s 153us/step - loss: 2.0246 - acc: 0.3605\n",
      "1732/1732 [==============================] - 2s 952us/step\n",
      "Epoch 1/3\n",
      "3465/3465 [==============================] - 12s 3ms/step - loss: 2.2316 - acc: 0.2860\n",
      "Epoch 2/3\n",
      "3465/3465 [==============================] - 1s 222us/step - loss: 2.0818 - acc: 0.3916\n",
      "Epoch 3/3\n",
      "3465/3465 [==============================] - 1s 244us/step - loss: 1.9838 - acc: 0.4632\n",
      "1732/1732 [==============================] - 3s 2ms/step\n",
      "Epoch 1/3\n",
      "5197/5197 [==============================] - 15s 3ms/step - loss: 1.5769 - acc: 0.4150: 6s - loss: - ETA: 2s - loss: 1\n",
      "Epoch 2/3\n",
      "5197/5197 [==============================] - 6s 1ms/step - loss: 1.1558 - acc: 0.4920\n",
      "Epoch 3/3\n",
      "5197/5197 [==============================] - 5s 1ms/step - loss: 1.1056 - acc: 0.5205\n",
      "Best: %f using %s\n"
     ]
    }
   ],
   "source": [
    "# Import RandomizedSearchCV\n",
    "from sklearn.model_selection import RandomizedSearchCV\n",
    "\n",
    "# Define a series of parameters\n",
    "params = {\n",
    "    'optimizer':['sgd', 'adam'],\n",
    "    'epochs':[3],\n",
    "    'batch_size':[5, 10, 20],\n",
    "    'activation':['relu','tanh']\n",
    "}\n",
    "\n",
    " \n",
    "# Create a random search cv object and fit it to the data\n",
    "random_search = RandomizedSearchCV(model, param_distributions=params, cv=3)\n",
    "random_search_results = random_search.fit(X_train_scaled, y_train)\n",
    "\n",
    "# Print results\n",
    "print(\"Best: {} using {}\".format(random_search_results.best_score_, random_search_results.best_params_))"
   ]
  },
  {
   "cell_type": "code",
   "execution_count": 64,
   "metadata": {
    "ExecuteTime": {
     "end_time": "2019-07-21T09:18:48.812731Z",
     "start_time": "2019-07-21T09:18:48.800732Z"
    }
   },
   "outputs": [],
   "source": [
    "def create_model(nl=1,nn=256):\n",
    "    model = Sequential()\n",
    "    model.add(Dense(10, input_shape=(in_cols,), activation='relu'))\n",
    "    # Add as many hidden layers as specified in nl\n",
    "    for i in range(nl):\n",
    "        # Layers have nn neurons\n",
    "        model.add(Dense(nn, activation='relu'))\n",
    "        \n",
    "    # End defining and compiling your model...\n",
    "    model.add(Dense(out_cols, activation='sigmoid'))\n",
    "    model.compile(optimizer='adam', loss='categorical_crossentropy', metrics=['accuracy'])\n",
    "    return model\n",
    "    \n",
    "model = KerasClassifier(build_fn=create_model, epochs=6, batch_size=16)"
   ]
  },
  {
   "cell_type": "code",
   "execution_count": 65,
   "metadata": {
    "ExecuteTime": {
     "end_time": "2019-07-21T09:18:49.128730Z",
     "start_time": "2019-07-21T09:18:49.116728Z"
    }
   },
   "outputs": [],
   "source": [
    "# Define parameters, named just like in create_model()\n",
    "params = {\n",
    "    'nl':[1, 2, 9],\n",
    "    'nn':[128,256,1000]\n",
    "}\n",
    " \n",
    "# Repeat the random search... \n",
    " \n",
    "# Print results..."
   ]
  },
  {
   "cell_type": "code",
   "execution_count": 66,
   "metadata": {
    "ExecuteTime": {
     "end_time": "2019-07-21T10:10:30.201752Z",
     "start_time": "2019-07-21T09:18:49.405759Z"
    },
    "scrolled": true
   },
   "outputs": [
    {
     "name": "stderr",
     "output_type": "stream",
     "text": [
      "C:\\Users\\thoma\\AppData\\Roaming\\Python\\Python37\\site-packages\\sklearn\\model_selection\\_search.py:266: UserWarning: The total space of parameters 9 is smaller than n_iter=10. Running 9 iterations. For exhaustive searches, use GridSearchCV.\n",
      "  % (grid_size, self.n_iter, grid_size), UserWarning)\n"
     ]
    },
    {
     "name": "stdout",
     "output_type": "stream",
     "text": [
      "Epoch 1/6\n",
      "3464/3464 [==============================] - 4s 1ms/step - loss: 1.5272 - acc: 0.4359\n",
      "Epoch 2/6\n",
      "3464/3464 [==============================] - 1s 286us/step - loss: 1.1788 - acc: 0.4342\n",
      "Epoch 3/6\n",
      "3464/3464 [==============================] - 1s 281us/step - loss: 1.1205 - acc: 0.4365\n",
      "Epoch 4/6\n",
      "3464/3464 [==============================] - 1s 309us/step - loss: 1.0957 - acc: 0.4648\n",
      "Epoch 5/6\n",
      "3464/3464 [==============================] - 1s 283us/step - loss: 1.0716 - acc: 0.5263\n",
      "Epoch 6/6\n",
      "3464/3464 [==============================] - 1s 281us/step - loss: 1.0528 - acc: 0.5349\n",
      "1733/1733 [==============================] - 1s 753us/step\n",
      "Epoch 1/6\n",
      "3465/3465 [==============================] - 4s 1ms/step - loss: 1.5010 - acc: 0.3983\n",
      "Epoch 2/6\n",
      "3465/3465 [==============================] - 1s 302us/step - loss: 1.1761 - acc: 0.4499\n",
      "Epoch 3/6\n",
      "3465/3465 [==============================] - 1s 339us/step - loss: 1.1164 - acc: 0.5056\n",
      "Epoch 4/6\n",
      "3465/3465 [==============================] - 1s 312us/step - loss: 1.0904 - acc: 0.5316\n",
      "Epoch 5/6\n",
      "3465/3465 [==============================] - 1s 328us/step - loss: 1.0716 - acc: 0.5371\n",
      "Epoch 6/6\n",
      "3465/3465 [==============================] - 1s 372us/step - loss: 1.0619 - acc: 0.5411\n",
      "1732/1732 [==============================] - 2s 1ms/step\n",
      "Epoch 1/6\n",
      "3465/3465 [==============================] - 4s 1ms/step - loss: 1.4820 - acc: 0.4185\n",
      "Epoch 2/6\n",
      "3465/3465 [==============================] - 1s 301us/step - loss: 1.1775 - acc: 0.4341\n",
      "Epoch 3/6\n",
      "3465/3465 [==============================] - 1s 300us/step - loss: 1.1289 - acc: 0.4436\n",
      "Epoch 4/6\n",
      "3465/3465 [==============================] - 1s 305us/step - loss: 1.0990 - acc: 0.5030\n",
      "Epoch 5/6\n",
      "3465/3465 [==============================] - 1s 308us/step - loss: 1.0784 - acc: 0.5209\n",
      "Epoch 6/6\n",
      "3465/3465 [==============================] - 1s 321us/step - loss: 1.0698 - acc: 0.5235\n",
      "1732/1732 [==============================] - 1s 805us/step\n",
      "Epoch 1/6\n",
      "3464/3464 [==============================] - 4s 1ms/step - loss: 1.4056 - acc: 0.4391\n",
      "Epoch 2/6\n",
      "3464/3464 [==============================] - 1s 350us/step - loss: 1.1518 - acc: 0.4348\n",
      "Epoch 3/6\n",
      "3464/3464 [==============================] - 1s 321us/step - loss: 1.1249 - acc: 0.4457\n",
      "Epoch 4/6\n",
      "3464/3464 [==============================] - 1s 313us/step - loss: 1.0936 - acc: 0.5113\n",
      "Epoch 5/6\n",
      "3464/3464 [==============================] - 1s 369us/step - loss: 1.0707 - acc: 0.5312 0s - loss: 1.0713 - acc: 0.5\n",
      "Epoch 6/6\n",
      "3464/3464 [==============================] - 1s 380us/step - loss: 1.0599 - acc: 0.5320\n",
      "1733/1733 [==============================] - 2s 1ms/step\n",
      "Epoch 1/6\n",
      "3465/3465 [==============================] - 4s 1ms/step - loss: 1.3782 - acc: 0.4375A: 1s - loss: 1.4573 - acc:\n",
      "Epoch 2/6\n",
      "3465/3465 [==============================] - 1s 358us/step - loss: 1.1317 - acc: 0.4447\n",
      "Epoch 3/6\n",
      "3465/3465 [==============================] - 1s 337us/step - loss: 1.1058 - acc: 0.4563\n",
      "Epoch 4/6\n",
      "3465/3465 [==============================] - 1s 339us/step - loss: 1.0954 - acc: 0.4831 0s - loss: 1.0921 - acc: 0\n",
      "Epoch 5/6\n",
      "3465/3465 [==============================] - 1s 329us/step - loss: 1.0719 - acc: 0.5330 1s - loss:\n",
      "Epoch 6/6\n",
      "3465/3465 [==============================] - 1s 320us/step - loss: 1.0622 - acc: 0.5380\n",
      "1732/1732 [==============================] - 2s 1ms/step\n",
      "Epoch 1/6\n",
      "3465/3465 [==============================] - 5s 1ms/step - loss: 1.4034 - acc: 0.4381\n",
      "Epoch 2/6\n",
      "3465/3465 [==============================] - 1s 336us/step - loss: 1.1640 - acc: 0.4456\n",
      "Epoch 3/6\n",
      "3465/3465 [==============================] - 1s 349us/step - loss: 1.1162 - acc: 0.5128\n",
      "Epoch 4/6\n",
      "3465/3465 [==============================] - 1s 314us/step - loss: 1.0887 - acc: 0.5380 0s - loss: 1.\n",
      "Epoch 5/6\n",
      "3465/3465 [==============================] - ETA: 0s - loss: 1.0732 - acc: 0.545 - 1s 372us/step - loss: 1.0736 - acc: 0.5423\n",
      "Epoch 6/6\n",
      "3465/3465 [==============================] - 2s 477us/step - loss: 1.0641 - acc: 0.5382\n",
      "1732/1732 [==============================] - 2s 1ms/step\n",
      "Epoch 1/6\n",
      "3464/3464 [==============================] - 8s 2ms/step - loss: 1.3216 - acc: 0.4353A: 1s - loss: 1.3469 - acc\n",
      "Epoch 2/6\n",
      "3464/3464 [==============================] - 2s 589us/step - loss: 1.1453 - acc: 0.4977\n",
      "Epoch 3/6\n",
      "3464/3464 [==============================] - 2s 712us/step - loss: 1.0972 - acc: 0.5217\n",
      "Epoch 4/6\n",
      "3464/3464 [==============================] - 2s 530us/step - loss: 1.0777 - acc: 0.5266\n",
      "Epoch 5/6\n",
      "3464/3464 [==============================] - 2s 550us/step - loss: 1.0615 - acc: 0.5245\n",
      "Epoch 6/6\n",
      "3464/3464 [==============================] - 2s 532us/step - loss: 1.0492 - acc: 0.5315\n",
      "1733/1733 [==============================] - 2s 1ms/step\n",
      "Epoch 1/6\n",
      "3465/3465 [==============================] - 7s 2ms/step - loss: 1.3103 - acc: 0.4410A: 2s - loss: 1.3532 \n",
      "Epoch 2/6\n",
      "3465/3465 [==============================] - 2s 531us/step - loss: 1.1263 - acc: 0.4465\n",
      "Epoch 3/6\n",
      "3465/3465 [==============================] - 2s 591us/step - loss: 1.1040 - acc: 0.4548\n",
      "Epoch 4/6\n",
      "3465/3465 [==============================] - 2s 581us/step - loss: 1.0805 - acc: 0.4918\n",
      "Epoch 5/6\n",
      "3465/3465 [==============================] - 2s 551us/step - loss: 1.0601 - acc: 0.5293\n",
      "Epoch 6/6\n",
      "3465/3465 [==============================] - 2s 565us/step - loss: 1.0405 - acc: 0.5374 1s - loss: 1.\n",
      "1732/1732 [==============================] - 2s 1ms/step\n",
      "Epoch 1/6\n",
      "3465/3465 [==============================] - 5s 2ms/step - loss: 1.3543 - acc: 0.4378A: 1s - loss: 1.3878 - acc: \n",
      "Epoch 2/6\n",
      "3465/3465 [==============================] - 2s 680us/step - loss: 1.1440 - acc: 0.4649\n",
      "Epoch 3/6\n",
      "3465/3465 [==============================] - 4s 1ms/step - loss: 1.0984 - acc: 0.5270- ETA: 1s - loss: 1\n",
      "Epoch 4/6\n",
      "3465/3465 [==============================] - 2s 636us/step - loss: 1.0794 - acc: 0.5342\n",
      "Epoch 5/6\n",
      "3465/3465 [==============================] - 2s 566us/step - loss: 1.0654 - acc: 0.5391 1s \n",
      "Epoch 6/6\n",
      "3465/3465 [==============================] - 2s 525us/step - loss: 1.0553 - acc: 0.5388\n",
      "1732/1732 [==============================] - 2s 1ms/step\n",
      "Epoch 1/6\n",
      "3464/3464 [==============================] - 7s 2ms/step - loss: 1.3634 - acc: 0.4339A: 7s - loss: 1.5119 - acc: - ETA: 5s -\n",
      "Epoch 2/6\n",
      "3464/3464 [==============================] - 2s 485us/step - loss: 1.1682 - acc: 0.4876\n",
      "Epoch 3/6\n",
      "3464/3464 [==============================] - 2s 485us/step - loss: 1.1107 - acc: 0.5208 2\n",
      "Epoch 4/6\n",
      "3464/3464 [==============================] - 2s 508us/step - loss: 1.0835 - acc: 0.5303\n",
      "Epoch 5/6\n",
      "3464/3464 [==============================] - 2s 486us/step - loss: 1.0664 - acc: 0.5372\n",
      "Epoch 6/6\n",
      "3464/3464 [==============================] - 2s 436us/step - loss: 1.0530 - acc: 0.5355\n",
      "1733/1733 [==============================] - 2s 1ms/step\n",
      "Epoch 1/6\n",
      "3465/3465 [==============================] - 11s 3ms/step - loss: 1.3815 - acc: 0.4364: 1s - loss: 1.41\n",
      "Epoch 2/6\n",
      "3465/3465 [==============================] - 7s 2ms/step - loss: 1.1380 - acc: 0.4439A: 2s - loss: 1.1408 - acc: 0. - ETA: 2s - loss: 1.1425 - acc: - ETA: 1s - loss: 1.1333 - acc: - ETA: 0s - loss: 1.1313 - acc\n",
      "Epoch 3/6\n",
      "3465/3465 [==============================] - 4s 1ms/step - loss: 1.1116 - acc: 0.4548\n",
      "Epoch 4/6\n",
      "3465/3465 [==============================] - 2s 525us/step - loss: 1.0896 - acc: 0.5004\n",
      "Epoch 5/6\n",
      "3465/3465 [==============================] - 2s 459us/step - loss: 1.0691 - acc: 0.5247\n",
      "Epoch 6/6\n",
      "3465/3465 [==============================] - 2s 459us/step - loss: 1.0555 - acc: 0.5290\n",
      "1732/1732 [==============================] - 2s 1ms/step\n",
      "Epoch 1/6\n",
      "3465/3465 [==============================] - 5s 2ms/step - loss: 1.3625 - acc: 0.4263\n",
      "Epoch 2/6\n",
      "3465/3465 [==============================] - 2s 562us/step - loss: 1.1536 - acc: 0.4338\n",
      "Epoch 3/6\n",
      "3465/3465 [==============================] - 2s 491us/step - loss: 1.1157 - acc: 0.4667\n",
      "Epoch 4/6\n",
      "3465/3465 [==============================] - 2s 538us/step - loss: 1.0787 - acc: 0.5278\n",
      "Epoch 5/6\n",
      "3465/3465 [==============================] - 2s 486us/step - loss: 1.0616 - acc: 0.5420\n",
      "Epoch 6/6\n",
      "3465/3465 [==============================] - 2s 481us/step - loss: 1.0518 - acc: 0.5362\n",
      "1732/1732 [==============================] - 2s 1ms/step\n",
      "Epoch 1/6\n"
     ]
    },
    {
     "name": "stdout",
     "output_type": "stream",
     "text": [
      "3464/3464 [==============================] - 7s 2ms/step - loss: 1.2870 - acc: 0.4275A: 0s - loss: 1.2858 - acc: 0.42\n",
      "Epoch 2/6\n",
      "3464/3464 [==============================] - 3s 984us/step - loss: 1.1465 - acc: 0.4330\n",
      "Epoch 3/6\n",
      "3464/3464 [==============================] - 4s 1ms/step - loss: 1.1166 - acc: 0.4411\n",
      "Epoch 4/6\n",
      "3464/3464 [==============================] - 4s 1ms/step - loss: 1.1008 - acc: 0.4919\n",
      "Epoch 5/6\n",
      "3464/3464 [==============================] - 5s 2ms/step - loss: 1.0745 - acc: 0.5214A: 6s - loss: 1.\n",
      "Epoch 6/6\n",
      "3464/3464 [==============================] - 5s 1ms/step - loss: 1.0558 - acc: 0.5286\n",
      "1733/1733 [==============================] - 3s 2ms/step\n",
      "Epoch 1/6\n",
      "3465/3465 [==============================] - 19s 5ms/step - loss: 1.3061 - acc: 0.4442: 1s - loss: 1.3113 - acc: 0.442 - ETA: 1s - loss: 1.3116 - acc: 0\n",
      "Epoch 2/6\n",
      "3465/3465 [==============================] - 5s 1ms/step - loss: 1.1363 - acc: 0.4439A: 2s - l - ETA: 0s - loss: 1.1409\n",
      "Epoch 3/6\n",
      "3465/3465 [==============================] - 5s 2ms/step - loss: 1.1023 - acc: 0.4494A: 1s - loss:\n",
      "Epoch 4/6\n",
      "3465/3465 [==============================] - 4s 1ms/step - loss: 1.0829 - acc: 0.5045\n",
      "Epoch 5/6\n",
      "3465/3465 [==============================] - 4s 1ms/step - loss: 1.0629 - acc: 0.5287A: 1s - loss: 1.0773 - acc: 0 - ETA: 0s - loss: 1.0656 - \n",
      "Epoch 6/6\n",
      "3465/3465 [==============================] - 4s 1ms/step - loss: 1.0474 - acc: 0.5307A: 0s - loss: 1.0428\n",
      "1732/1732 [==============================] - 5s 3ms/step\n",
      "Epoch 1/6\n",
      "3465/3465 [==============================] - 10s 3ms/step - loss: 1.3281 - acc: 0.4364\n",
      "Epoch 2/6\n",
      "3465/3465 [==============================] - 3s 764us/step - loss: 1.1496 - acc: 0.4372\n",
      "Epoch 3/6\n",
      "3465/3465 [==============================] - 3s 998us/step - loss: 1.1027 - acc: 0.5105 3s - loss: 1.0371 - acc: - ETA: 0s - loss: 1.1028 - acc: 0.5\n",
      "Epoch 4/6\n",
      "3465/3465 [==============================] - 5s 1ms/step - loss: 1.0657 - acc: 0.5284\n",
      "Epoch 5/6\n",
      "3465/3465 [==============================] - 4s 1ms/step - loss: 1.0510 - acc: 0.5319- ETA: 1s - loss: 1.0313 - acc: 0.542 - ETA: 1s - loss: 1.0328 - a - ETA: 1s - loss: 1.0503 - acc:  - ETA: 0s - loss: 1.0\n",
      "Epoch 6/6\n",
      "3465/3465 [==============================] - 6s 2ms/step - loss: 1.0344 - acc: 0.5374A: 2s - ETA: 0s - loss: 1.0408 - acc\n",
      "1732/1732 [==============================] - 3s 2ms/step\n",
      "Epoch 1/6\n",
      "3464/3464 [==============================] - 31s 9ms/step - loss: 1.2656 - acc: 0.4301: 2s - loss: 1.27\n",
      "Epoch 2/6\n",
      "3464/3464 [==============================] - 18s 5ms/step - loss: 1.1363 - acc: 0.4333\n",
      "Epoch 3/6\n",
      "3464/3464 [==============================] - 21s 6ms/step - loss: 1.1005 - acc: 0.4336\n",
      "Epoch 4/6\n",
      "3464/3464 [==============================] - 17s 5ms/step - loss: 1.0784 - acc: 0.4919\n",
      "Epoch 5/6\n",
      "3464/3464 [==============================] - 26s 7ms/step - loss: 1.0506 - acc: 0.5283\n",
      "Epoch 6/6\n",
      "3464/3464 [==============================] - 26s 7ms/step - loss: 1.0323 - acc: 0.5413: 2s - loss: 1\n",
      "1733/1733 [==============================] - 5s 3ms/step\n",
      "Epoch 1/6\n",
      "3465/3465 [==============================] - 24s 7ms/step - loss: 1.2763 - acc: 0.4407\n",
      "Epoch 2/6\n",
      "3465/3465 [==============================] - 20s 6ms/step - loss: 1.1539 - acc: 0.4424: 0s - loss: 1.1633 - ac\n",
      "Epoch 3/6\n",
      "3465/3465 [==============================] - 20s 6ms/step - loss: 1.1122 - acc: 0.4742\n",
      "Epoch 4/6\n",
      "3465/3465 [==============================] - 24s 7ms/step - loss: 1.0869 - acc: 0.5157\n",
      "Epoch 5/6\n",
      "3465/3465 [==============================] - 20s 6ms/step - loss: 1.0633 - acc: 0.5264\n",
      "Epoch 6/6\n",
      "3465/3465 [==============================] - 17s 5ms/step - loss: 1.0443 - acc: 0.5284: 0s - loss: 1.0437 - acc: 0.52\n",
      "1732/1732 [==============================] - 3s 2ms/step\n",
      "Epoch 1/6\n",
      "3465/3465 [==============================] - 25s 7ms/step - loss: 1.2651 - acc: 0.4574: 2s - loss: 1.2822 - ac - ETA: 1s - loss: 1.2778\n",
      "Epoch 2/6\n",
      "3465/3465 [==============================] - 21s 6ms/step - loss: 1.1195 - acc: 0.4707: - ETA: 1s - loss: 1\n",
      "Epoch 3/6\n",
      "3465/3465 [==============================] - 24s 7ms/step - loss: 1.0834 - acc: 0.5218\n",
      "Epoch 4/6\n",
      "3465/3465 [==============================] - 22s 6ms/step - loss: 1.0597 - acc: 0.5325: 0s - loss: 1.0590 - acc: 0.5\n",
      "Epoch 5/6\n",
      "3465/3465 [==============================] - 20s 6ms/step - loss: 1.0415 - acc: 0.5403\n",
      "Epoch 6/6\n",
      "3465/3465 [==============================] - 18s 5ms/step - loss: 1.0280 - acc: 0.5400: 3s - loss: 1.0181 - acc: 0 \n",
      "1732/1732 [==============================] - 4s 2ms/step\n",
      "Epoch 1/6\n",
      "3464/3464 [==============================] - 12s 4ms/step - loss: 1.3817 - acc: 0.4307T - E\n",
      "Epoch 2/6\n",
      "3464/3464 [==============================] - 6s 2ms/step - loss: 1.2097 - acc: 0.4336A\n",
      "Epoch 3/6\n",
      "3464/3464 [==============================] - 6s 2ms/step - loss: 1.1503 - acc: 0.4333\n",
      "Epoch 4/6\n",
      "3464/3464 [==============================] - 6s 2ms/step - loss: 1.1260 - acc: 0.4333A: 4s - loss: 1.1527 - acc: - ETA: 4s - loss: 1.13 - ETA: 3s - loss: 1.1340 - acc - ETA: 3s - loss: 1.1312 - acc:  - ETA: 2s - los - ETA: 1s - l\n",
      "Epoch 5/6\n",
      "3464/3464 [==============================] - 6s 2ms/step - loss: 1.1167 - acc: 0.4417\n",
      "Epoch 6/6\n",
      "3464/3464 [==============================] - 6s 2ms/step - loss: 1.1020 - acc: 0.5017\n",
      "1733/1733 [==============================] - 3s 2ms/step\n",
      "Epoch 1/6\n",
      "3465/3465 [==============================] - 13s 4ms/step - loss: 1.3738 - acc: 0.4332: 3s - loss: 1.421 - ETA: 0s - loss: 1.3867 - acc:\n",
      "Epoch 2/6\n",
      "3465/3465 [==============================] - 6s 2ms/step - loss: 1.1838 - acc: 0.4427A: 2s - loss: 1.1783 - acc - ETA: 1s\n",
      "Epoch 3/6\n",
      "3465/3465 [==============================] - 6s 2ms/step - loss: 1.1278 - acc: 0.4652\n",
      "Epoch 4/6\n",
      "3465/3465 [==============================] - 6s 2ms/step - loss: 1.0964 - acc: 0.5186\n",
      "Epoch 5/6\n",
      "3465/3465 [==============================] - 6s 2ms/step - loss: 1.0729 - acc: 0.5250A: 1\n",
      "Epoch 6/6\n",
      "3465/3465 [==============================] - 6s 2ms/step - loss: 1.0632 - acc: 0.5276\n",
      "1732/1732 [==============================] - 4s 2ms/step\n",
      "Epoch 1/6\n",
      "3465/3465 [==============================] - 12s 3ms/step - loss: 1.4110 - acc: 0.3654\n",
      "Epoch 2/6\n",
      "3465/3465 [==============================] - 6s 2ms/step - loss: 1.2084 - acc: 0.4442A: 0s - loss: 1.2138 \n",
      "Epoch 3/6\n",
      "3465/3465 [==============================] - 6s 2ms/step - loss: 1.1211 - acc: 0.5108A: 2s - loss: 1.1206 - - ETA: 1s - loss: 1.1134 - a - ETA: 0s - loss: 1.1242 -\n",
      "Epoch 4/6\n",
      "3465/3465 [==============================] - 6s 2ms/step - loss: 1.0899 - acc: 0.5276\n",
      "Epoch 5/6\n",
      "3465/3465 [==============================] - 6s 2ms/step - loss: 1.0652 - acc: 0.5328\n",
      "Epoch 6/6\n",
      "3465/3465 [==============================] - 6s 2ms/step - loss: 1.0544 - acc: 0.5443\n",
      "1732/1732 [==============================] - 3s 2ms/step\n",
      "Epoch 1/6\n",
      "3464/3464 [==============================] - 23s 7ms/step - loss: 1.4499 - acc: 0.4310\n",
      "Epoch 2/6\n",
      "3464/3464 [==============================] - 15s 4ms/step - loss: 1.2270 - acc: 0.4336\n",
      "Epoch 3/6\n",
      "3464/3464 [==============================] - 15s 4ms/step - loss: 1.1501 - acc: 0.4348\n",
      "Epoch 4/6\n",
      "3464/3464 [==============================] - 15s 4ms/step - loss: 1.1212 - acc: 0.4827\n",
      "Epoch 5/6\n",
      "3464/3464 [==============================] - 15s 4ms/step - loss: 1.0958 - acc: 0.5121: 0s - loss: 1.0965 - acc: 0.511\n",
      "Epoch 6/6\n",
      "3464/3464 [==============================] - 16s 5ms/step - loss: 1.0765 - acc: 0.5242\n",
      "1733/1733 [==============================] - 4s 3ms/step\n",
      "Epoch 1/6\n",
      "3465/3465 [==============================] - 22s 6ms/step - loss: 1.3413 - acc: 0.4395\n",
      "Epoch 2/6\n",
      "3465/3465 [==============================] - 16s 5ms/step - loss: 1.1530 - acc: 0.4427\n",
      "Epoch 3/6\n",
      "3465/3465 [==============================] - 15s 4ms/step - loss: 1.1299 - acc: 0.4511\n",
      "Epoch 4/6\n",
      "3465/3465 [==============================] - 15s 4ms/step - loss: 1.1082 - acc: 0.5195\n",
      "Epoch 5/6\n",
      "3465/3465 [==============================] - 15s 4ms/step - loss: 1.0886 - acc: 0.5270\n",
      "Epoch 6/6\n",
      "3465/3465 [==============================] - 15s 4ms/step - loss: 1.0864 - acc: 0.5255: 1s - loss: 1.0\n",
      "1732/1732 [==============================] - 4s 2ms/step\n",
      "Epoch 1/6\n",
      "3465/3465 [==============================] - 22s 6ms/step - loss: 1.3539 - acc: 0.4303\n",
      "Epoch 2/6\n"
     ]
    },
    {
     "name": "stdout",
     "output_type": "stream",
     "text": [
      "3465/3465 [==============================] - 15s 4ms/step - loss: 1.1850 - acc: 0.4338\n",
      "Epoch 3/6\n",
      "3465/3465 [==============================] - 16s 5ms/step - loss: 1.1402 - acc: 0.4338\n",
      "Epoch 4/6\n",
      "3465/3465 [==============================] - 16s 4ms/step - loss: 1.1133 - acc: 0.4378\n",
      "Epoch 5/6\n",
      "3465/3465 [==============================] - 15s 4ms/step - loss: 1.0997 - acc: 0.4860\n",
      "Epoch 6/6\n",
      "3465/3465 [==============================] - 15s 4ms/step - loss: 1.0752 - acc: 0.5114\n",
      "1732/1732 [==============================] - 4s 2ms/step\n",
      "Epoch 1/6\n",
      "3464/3464 [==============================] - 98s 28ms/step - loss: 1.9450 - acc: 0.3303\n",
      "Epoch 2/6\n",
      "3464/3464 [==============================] - 81s 23ms/step - loss: 1.9434 - acc: 0.3317\n",
      "Epoch 3/6\n",
      "3464/3464 [==============================] - 81s 23ms/step - loss: 1.9434 - acc: 0.3317\n",
      "Epoch 4/6\n",
      "3464/3464 [==============================] - 81s 23ms/step - loss: 1.9434 - acc: 0.3317\n",
      "Epoch 5/6\n",
      "3464/3464 [==============================] - 81s 24ms/step - loss: 1.9434 - acc: 0.3317\n",
      "Epoch 6/6\n",
      "3464/3464 [==============================] - 80s 23ms/step - loss: 1.9434 - acc: 0.3317\n",
      "1733/1733 [==============================] - 10s 6ms/step\n",
      "Epoch 1/6\n",
      "3465/3465 [==============================] - 104s 30ms/step - loss: 1.3732 - acc: 0.4078\n",
      "Epoch 2/6\n",
      "3465/3465 [==============================] - 122s 35ms/step - loss: 1.2426 - acc: 0.4439\n",
      "Epoch 3/6\n",
      "3465/3465 [==============================] - 86s 25ms/step - loss: 1.2087 - acc: 0.4427\n",
      "Epoch 4/6\n",
      "3465/3465 [==============================] - 103s 30ms/step - loss: 1.1702 - acc: 0.4499\n",
      "Epoch 5/6\n",
      "3465/3465 [==============================] - 109s 31ms/step - loss: 1.1434 - acc: 0.5059\n",
      "Epoch 6/6\n",
      "3465/3465 [==============================] - 108s 31ms/step - loss: 1.1280 - acc: 0.5206\n",
      "1732/1732 [==============================] - 14s 8ms/step\n",
      "Epoch 1/6\n",
      "3465/3465 [==============================] - 122s 35ms/step - loss: 1.9632 - acc: 0.3648\n",
      "Epoch 2/6\n",
      "3465/3465 [==============================] - 102s 29ms/step - loss: 2.0956 - acc: 0.3356\n",
      "Epoch 3/6\n",
      "3465/3465 [==============================] - 126s 36ms/step - loss: 2.0956 - acc: 0.3356\n",
      "Epoch 4/6\n",
      "3465/3465 [==============================] - 115s 33ms/step - loss: 2.0956 - acc: 0.3356\n",
      "Epoch 5/6\n",
      "3465/3465 [==============================] - 103s 30ms/step - loss: 2.0956 - acc: 0.3356\n",
      "Epoch 6/6\n",
      "3465/3465 [==============================] - 103s 30ms/step - loss: 2.0956 - acc: 0.3356\n",
      "1732/1732 [==============================] - 19s 11ms/step\n",
      "Epoch 1/6\n",
      "5197/5197 [==============================] - 25s 5ms/step - loss: 1.3463 - acc: 0.4481TA: 13s - loss: 1. - ETA: 8s - loss: 1.4118 - acc - ETA: 3s - loss: 1.3745 - ac\n",
      "Epoch 2/6\n",
      "5197/5197 [==============================] - 6s 1ms/step - loss: 1.1195 - acc: 0.5113A: 0s - loss: 1.1184 - acc: \n",
      "Epoch 3/6\n",
      "5197/5197 [==============================] - 5s 999us/step - loss: 1.0901 - acc: 0.5261 ETA: 1s - loss: 1.0\n",
      "Epoch 4/6\n",
      "5197/5197 [==============================] - 4s 745us/step - loss: 1.0748 - acc: 0.5326ETA: 0s - loss: \n",
      "Epoch 5/6\n",
      "5197/5197 [==============================] - 5s 940us/step - loss: 1.0654 - acc: 0.5349\n",
      "Epoch 6/6\n",
      "5197/5197 [==============================] - 5s 1ms/step - loss: 1.0580 - acc: 0.5361A: 0s - loss: 1.056\n",
      "Best: 0.5360785068538021 using {'nn': 128, 'nl': 1}\n"
     ]
    }
   ],
   "source": [
    "# Create a random search cv object and fit it to the data\n",
    "random_search = RandomizedSearchCV(model, param_distributions=params, cv=3)\n",
    "random_search_results = random_search.fit(X_train_scaled, y_train)\n",
    "\n",
    "# Print results\n",
    "print(\"Best: {} using {}\".format(random_search_results.best_score_, random_search_results.best_params_))"
   ]
  },
  {
   "cell_type": "code",
   "execution_count": 138,
   "metadata": {
    "ExecuteTime": {
     "end_time": "2019-07-21T10:54:33.300147Z",
     "start_time": "2019-07-21T10:54:32.597293Z"
    }
   },
   "outputs": [
    {
     "data": {
      "text/plain": [
       "(1300, 10)"
      ]
     },
     "execution_count": 138,
     "metadata": {},
     "output_type": "execute_result"
    }
   ],
   "source": [
    "y_predicted_rounded = model_1.predict_classes(X_test_scaled)\n",
    "y_predicted_rounded = to_categorical(y_predicted_rounded)\n",
    "y_predicted_rounded = pd.DataFrame(y_predicted_rounded)\n",
    "y_predicted_rounded['9'] = 0.0\n",
    "y_predicted_rounded.shape"
   ]
  },
  {
   "cell_type": "code",
   "execution_count": 135,
   "metadata": {
    "ExecuteTime": {
     "end_time": "2019-07-21T10:54:11.417006Z",
     "start_time": "2019-07-21T10:54:11.333953Z"
    }
   },
   "outputs": [
    {
     "data": {
      "text/html": [
       "<div>\n",
       "<style scoped>\n",
       "    .dataframe tbody tr th:only-of-type {\n",
       "        vertical-align: middle;\n",
       "    }\n",
       "\n",
       "    .dataframe tbody tr th {\n",
       "        vertical-align: top;\n",
       "    }\n",
       "\n",
       "    .dataframe thead th {\n",
       "        text-align: right;\n",
       "    }\n",
       "</style>\n",
       "<table border=\"1\" class=\"dataframe\">\n",
       "  <thead>\n",
       "    <tr style=\"text-align: right;\">\n",
       "      <th></th>\n",
       "      <th>0</th>\n",
       "      <th>1</th>\n",
       "      <th>2</th>\n",
       "      <th>3</th>\n",
       "      <th>4</th>\n",
       "      <th>5</th>\n",
       "      <th>6</th>\n",
       "      <th>7</th>\n",
       "      <th>8</th>\n",
       "      <th>9</th>\n",
       "    </tr>\n",
       "  </thead>\n",
       "  <tbody>\n",
       "    <tr>\n",
       "      <th>0</th>\n",
       "      <td>0.0</td>\n",
       "      <td>0.0</td>\n",
       "      <td>0.0</td>\n",
       "      <td>0.0</td>\n",
       "      <td>0.0</td>\n",
       "      <td>0.0</td>\n",
       "      <td>0.0</td>\n",
       "      <td>1.0</td>\n",
       "      <td>0.0</td>\n",
       "      <td>0.0</td>\n",
       "    </tr>\n",
       "    <tr>\n",
       "      <th>1</th>\n",
       "      <td>0.0</td>\n",
       "      <td>0.0</td>\n",
       "      <td>0.0</td>\n",
       "      <td>0.0</td>\n",
       "      <td>0.0</td>\n",
       "      <td>0.0</td>\n",
       "      <td>1.0</td>\n",
       "      <td>0.0</td>\n",
       "      <td>0.0</td>\n",
       "      <td>0.0</td>\n",
       "    </tr>\n",
       "    <tr>\n",
       "      <th>2</th>\n",
       "      <td>0.0</td>\n",
       "      <td>0.0</td>\n",
       "      <td>0.0</td>\n",
       "      <td>0.0</td>\n",
       "      <td>0.0</td>\n",
       "      <td>0.0</td>\n",
       "      <td>0.0</td>\n",
       "      <td>0.0</td>\n",
       "      <td>1.0</td>\n",
       "      <td>0.0</td>\n",
       "    </tr>\n",
       "    <tr>\n",
       "      <th>3</th>\n",
       "      <td>0.0</td>\n",
       "      <td>0.0</td>\n",
       "      <td>0.0</td>\n",
       "      <td>0.0</td>\n",
       "      <td>0.0</td>\n",
       "      <td>0.0</td>\n",
       "      <td>1.0</td>\n",
       "      <td>0.0</td>\n",
       "      <td>0.0</td>\n",
       "      <td>0.0</td>\n",
       "    </tr>\n",
       "    <tr>\n",
       "      <th>4</th>\n",
       "      <td>0.0</td>\n",
       "      <td>0.0</td>\n",
       "      <td>0.0</td>\n",
       "      <td>0.0</td>\n",
       "      <td>0.0</td>\n",
       "      <td>0.0</td>\n",
       "      <td>1.0</td>\n",
       "      <td>0.0</td>\n",
       "      <td>0.0</td>\n",
       "      <td>0.0</td>\n",
       "    </tr>\n",
       "  </tbody>\n",
       "</table>\n",
       "</div>"
      ],
      "text/plain": [
       "     0    1    2    3    4    5    6    7    8    9\n",
       "0  0.0  0.0  0.0  0.0  0.0  0.0  0.0  1.0  0.0  0.0\n",
       "1  0.0  0.0  0.0  0.0  0.0  0.0  1.0  0.0  0.0  0.0\n",
       "2  0.0  0.0  0.0  0.0  0.0  0.0  0.0  0.0  1.0  0.0\n",
       "3  0.0  0.0  0.0  0.0  0.0  0.0  1.0  0.0  0.0  0.0\n",
       "4  0.0  0.0  0.0  0.0  0.0  0.0  1.0  0.0  0.0  0.0"
      ]
     },
     "execution_count": 135,
     "metadata": {},
     "output_type": "execute_result"
    }
   ],
   "source": [
    "y_predicted_rounded.head()"
   ]
  },
  {
   "cell_type": "code",
   "execution_count": 140,
   "metadata": {
    "ExecuteTime": {
     "end_time": "2019-07-21T10:54:59.236747Z",
     "start_time": "2019-07-21T10:54:59.229758Z"
    }
   },
   "outputs": [],
   "source": [
    "y_test_conf = pd.DataFrame(y_test)"
   ]
  },
  {
   "cell_type": "code",
   "execution_count": 179,
   "metadata": {
    "ExecuteTime": {
     "end_time": "2019-07-21T12:15:59.724765Z",
     "start_time": "2019-07-21T12:15:59.698761Z"
    }
   },
   "outputs": [],
   "source": [
    "from sklearn.metrics import multilabel_confusion_matrix\n",
    "\n",
    "df_confusion = multilabel_confusion_matrix(y_test_conf.values.ravel(), y_predicted_rounded.values.ravel())"
   ]
  },
  {
   "cell_type": "code",
   "execution_count": 180,
   "metadata": {
    "ExecuteTime": {
     "end_time": "2019-07-21T12:16:01.778857Z",
     "start_time": "2019-07-21T12:16:01.769841Z"
    }
   },
   "outputs": [
    {
     "name": "stdout",
     "output_type": "stream",
     "text": [
      "[[[  741   559]\n",
      "  [  559 11141]]\n",
      "\n",
      " [[11141   559]\n",
      "  [  559   741]]]\n"
     ]
    }
   ],
   "source": [
    "print(df_confusion)"
   ]
  },
  {
   "cell_type": "code",
   "execution_count": null,
   "metadata": {},
   "outputs": [],
   "source": []
  },
  {
   "cell_type": "code",
   "execution_count": 181,
   "metadata": {
    "ExecuteTime": {
     "end_time": "2019-07-21T12:16:06.368487Z",
     "start_time": "2019-07-21T12:16:05.889694Z"
    }
   },
   "outputs": [
    {
     "ename": "ValueError",
     "evalue": "Must pass 2-d input",
     "output_type": "error",
     "traceback": [
      "\u001b[1;31m---------------------------------------------------------------------------\u001b[0m",
      "\u001b[1;31mValueError\u001b[0m                                Traceback (most recent call last)",
      "\u001b[1;32m<ipython-input-181-d3b32abb50d2>\u001b[0m in \u001b[0;36m<module>\u001b[1;34m\u001b[0m\n\u001b[0;32m      1\u001b[0m \u001b[0max\u001b[0m\u001b[1;33m=\u001b[0m \u001b[0mplt\u001b[0m\u001b[1;33m.\u001b[0m\u001b[0msubplot\u001b[0m\u001b[1;33m(\u001b[0m\u001b[1;33m)\u001b[0m\u001b[1;33m\u001b[0m\u001b[1;33m\u001b[0m\u001b[0m\n\u001b[0;32m      2\u001b[0m \u001b[1;33m\u001b[0m\u001b[0m\n\u001b[1;32m----> 3\u001b[1;33m \u001b[0msns\u001b[0m\u001b[1;33m.\u001b[0m\u001b[0mheatmap\u001b[0m\u001b[1;33m(\u001b[0m\u001b[0mdf_confusion\u001b[0m\u001b[1;33m,\u001b[0m \u001b[0mannot\u001b[0m\u001b[1;33m=\u001b[0m\u001b[1;32mTrue\u001b[0m\u001b[1;33m,\u001b[0m \u001b[0max\u001b[0m \u001b[1;33m=\u001b[0m \u001b[0max\u001b[0m\u001b[1;33m)\u001b[0m\u001b[1;33m\u001b[0m\u001b[1;33m\u001b[0m\u001b[0m\n\u001b[0m",
      "\u001b[1;32m~\\Anaconda3\\lib\\site-packages\\seaborn\\matrix.py\u001b[0m in \u001b[0;36mheatmap\u001b[1;34m(data, vmin, vmax, cmap, center, robust, annot, fmt, annot_kws, linewidths, linecolor, cbar, cbar_kws, cbar_ax, square, xticklabels, yticklabels, mask, ax, **kwargs)\u001b[0m\n\u001b[0;32m    515\u001b[0m     plotter = _HeatMapper(data, vmin, vmax, cmap, center, robust, annot, fmt,\n\u001b[0;32m    516\u001b[0m                           \u001b[0mannot_kws\u001b[0m\u001b[1;33m,\u001b[0m \u001b[0mcbar\u001b[0m\u001b[1;33m,\u001b[0m \u001b[0mcbar_kws\u001b[0m\u001b[1;33m,\u001b[0m \u001b[0mxticklabels\u001b[0m\u001b[1;33m,\u001b[0m\u001b[1;33m\u001b[0m\u001b[1;33m\u001b[0m\u001b[0m\n\u001b[1;32m--> 517\u001b[1;33m                           yticklabels, mask)\n\u001b[0m\u001b[0;32m    518\u001b[0m \u001b[1;33m\u001b[0m\u001b[0m\n\u001b[0;32m    519\u001b[0m     \u001b[1;31m# Add the pcolormesh kwargs here\u001b[0m\u001b[1;33m\u001b[0m\u001b[1;33m\u001b[0m\u001b[1;33m\u001b[0m\u001b[0m\n",
      "\u001b[1;32m~\\Anaconda3\\lib\\site-packages\\seaborn\\matrix.py\u001b[0m in \u001b[0;36m__init__\u001b[1;34m(self, data, vmin, vmax, cmap, center, robust, annot, fmt, annot_kws, cbar, cbar_kws, xticklabels, yticklabels, mask)\u001b[0m\n\u001b[0;32m    108\u001b[0m         \u001b[1;32melse\u001b[0m\u001b[1;33m:\u001b[0m\u001b[1;33m\u001b[0m\u001b[1;33m\u001b[0m\u001b[0m\n\u001b[0;32m    109\u001b[0m             \u001b[0mplot_data\u001b[0m \u001b[1;33m=\u001b[0m \u001b[0mnp\u001b[0m\u001b[1;33m.\u001b[0m\u001b[0masarray\u001b[0m\u001b[1;33m(\u001b[0m\u001b[0mdata\u001b[0m\u001b[1;33m)\u001b[0m\u001b[1;33m\u001b[0m\u001b[1;33m\u001b[0m\u001b[0m\n\u001b[1;32m--> 110\u001b[1;33m             \u001b[0mdata\u001b[0m \u001b[1;33m=\u001b[0m \u001b[0mpd\u001b[0m\u001b[1;33m.\u001b[0m\u001b[0mDataFrame\u001b[0m\u001b[1;33m(\u001b[0m\u001b[0mplot_data\u001b[0m\u001b[1;33m)\u001b[0m\u001b[1;33m\u001b[0m\u001b[1;33m\u001b[0m\u001b[0m\n\u001b[0m\u001b[0;32m    111\u001b[0m \u001b[1;33m\u001b[0m\u001b[0m\n\u001b[0;32m    112\u001b[0m         \u001b[1;31m# Validate the mask and convet to DataFrame\u001b[0m\u001b[1;33m\u001b[0m\u001b[1;33m\u001b[0m\u001b[1;33m\u001b[0m\u001b[0m\n",
      "\u001b[1;32m~\\AppData\\Roaming\\Python\\Python37\\site-packages\\pandas\\core\\frame.py\u001b[0m in \u001b[0;36m__init__\u001b[1;34m(self, data, index, columns, dtype, copy)\u001b[0m\n\u001b[0;32m    422\u001b[0m             \u001b[1;32melse\u001b[0m\u001b[1;33m:\u001b[0m\u001b[1;33m\u001b[0m\u001b[1;33m\u001b[0m\u001b[0m\n\u001b[0;32m    423\u001b[0m                 mgr = init_ndarray(data, index, columns, dtype=dtype,\n\u001b[1;32m--> 424\u001b[1;33m                                    copy=copy)\n\u001b[0m\u001b[0;32m    425\u001b[0m \u001b[1;33m\u001b[0m\u001b[0m\n\u001b[0;32m    426\u001b[0m         \u001b[1;31m# For data is list-like, or Iterable (will consume into list)\u001b[0m\u001b[1;33m\u001b[0m\u001b[1;33m\u001b[0m\u001b[1;33m\u001b[0m\u001b[0m\n",
      "\u001b[1;32m~\\AppData\\Roaming\\Python\\Python37\\site-packages\\pandas\\core\\internals\\construction.py\u001b[0m in \u001b[0;36minit_ndarray\u001b[1;34m(values, index, columns, dtype, copy)\u001b[0m\n\u001b[0;32m    144\u001b[0m     \u001b[1;31m# by definition an array here\u001b[0m\u001b[1;33m\u001b[0m\u001b[1;33m\u001b[0m\u001b[1;33m\u001b[0m\u001b[0m\n\u001b[0;32m    145\u001b[0m     \u001b[1;31m# the dtypes will be coerced to a single dtype\u001b[0m\u001b[1;33m\u001b[0m\u001b[1;33m\u001b[0m\u001b[1;33m\u001b[0m\u001b[0m\n\u001b[1;32m--> 146\u001b[1;33m     \u001b[0mvalues\u001b[0m \u001b[1;33m=\u001b[0m \u001b[0mprep_ndarray\u001b[0m\u001b[1;33m(\u001b[0m\u001b[0mvalues\u001b[0m\u001b[1;33m,\u001b[0m \u001b[0mcopy\u001b[0m\u001b[1;33m=\u001b[0m\u001b[0mcopy\u001b[0m\u001b[1;33m)\u001b[0m\u001b[1;33m\u001b[0m\u001b[1;33m\u001b[0m\u001b[0m\n\u001b[0m\u001b[0;32m    147\u001b[0m \u001b[1;33m\u001b[0m\u001b[0m\n\u001b[0;32m    148\u001b[0m     \u001b[1;32mif\u001b[0m \u001b[0mdtype\u001b[0m \u001b[1;32mis\u001b[0m \u001b[1;32mnot\u001b[0m \u001b[1;32mNone\u001b[0m\u001b[1;33m:\u001b[0m\u001b[1;33m\u001b[0m\u001b[1;33m\u001b[0m\u001b[0m\n",
      "\u001b[1;32m~\\AppData\\Roaming\\Python\\Python37\\site-packages\\pandas\\core\\internals\\construction.py\u001b[0m in \u001b[0;36mprep_ndarray\u001b[1;34m(values, copy)\u001b[0m\n\u001b[0;32m    247\u001b[0m         \u001b[0mvalues\u001b[0m \u001b[1;33m=\u001b[0m \u001b[0mvalues\u001b[0m\u001b[1;33m.\u001b[0m\u001b[0mreshape\u001b[0m\u001b[1;33m(\u001b[0m\u001b[1;33m(\u001b[0m\u001b[0mvalues\u001b[0m\u001b[1;33m.\u001b[0m\u001b[0mshape\u001b[0m\u001b[1;33m[\u001b[0m\u001b[1;36m0\u001b[0m\u001b[1;33m]\u001b[0m\u001b[1;33m,\u001b[0m \u001b[1;36m1\u001b[0m\u001b[1;33m)\u001b[0m\u001b[1;33m)\u001b[0m\u001b[1;33m\u001b[0m\u001b[1;33m\u001b[0m\u001b[0m\n\u001b[0;32m    248\u001b[0m     \u001b[1;32melif\u001b[0m \u001b[0mvalues\u001b[0m\u001b[1;33m.\u001b[0m\u001b[0mndim\u001b[0m \u001b[1;33m!=\u001b[0m \u001b[1;36m2\u001b[0m\u001b[1;33m:\u001b[0m\u001b[1;33m\u001b[0m\u001b[1;33m\u001b[0m\u001b[0m\n\u001b[1;32m--> 249\u001b[1;33m         \u001b[1;32mraise\u001b[0m \u001b[0mValueError\u001b[0m\u001b[1;33m(\u001b[0m\u001b[1;34m'Must pass 2-d input'\u001b[0m\u001b[1;33m)\u001b[0m\u001b[1;33m\u001b[0m\u001b[1;33m\u001b[0m\u001b[0m\n\u001b[0m\u001b[0;32m    250\u001b[0m \u001b[1;33m\u001b[0m\u001b[0m\n\u001b[0;32m    251\u001b[0m     \u001b[1;32mreturn\u001b[0m \u001b[0mvalues\u001b[0m\u001b[1;33m\u001b[0m\u001b[1;33m\u001b[0m\u001b[0m\n",
      "\u001b[1;31mValueError\u001b[0m: Must pass 2-d input"
     ]
    },
    {
     "data": {
      "image/png": "[encoded data removed]",
      "text/plain": [
       "<Figure size 432x288 with 1 Axes>"
      ]
     },
     "metadata": {
      "needs_background": "light"
     },
     "output_type": "display_data"
    }
   ],
   "source": [
    "ax= plt.subplot()\n",
    "\n",
    "sns.heatmap(df_confusion, annot=True, ax = ax)"
   ]
  },
  {
   "cell_type": "code",
   "execution_count": 169,
   "metadata": {
    "ExecuteTime": {
     "end_time": "2019-07-21T12:11:56.420051Z",
     "start_time": "2019-07-21T12:11:56.352049Z"
    }
   },
   "outputs": [],
   "source": [
    "y_actu = pd.Series(y_test_conf.values.ravel(), name='Actual')\n",
    "y_pred = pd.Series(y_predicted_rounded.values.ravel(), name='Predicted')\n",
    "df_confusion = pd.crosstab(y_actu, y_pred)"
   ]
  },
  {
   "cell_type": "code",
   "execution_count": 170,
   "metadata": {
    "ExecuteTime": {
     "end_time": "2019-07-21T12:11:57.198310Z",
     "start_time": "2019-07-21T12:11:57.179307Z"
    }
   },
   "outputs": [
    {
     "data": {
      "text/html": [
       "<div>\n",
       "<style scoped>\n",
       "    .dataframe tbody tr th:only-of-type {\n",
       "        vertical-align: middle;\n",
       "    }\n",
       "\n",
       "    .dataframe tbody tr th {\n",
       "        vertical-align: top;\n",
       "    }\n",
       "\n",
       "    .dataframe thead th {\n",
       "        text-align: right;\n",
       "    }\n",
       "</style>\n",
       "<table border=\"1\" class=\"dataframe\">\n",
       "  <thead>\n",
       "    <tr style=\"text-align: right;\">\n",
       "      <th>Predicted</th>\n",
       "      <th>0.0</th>\n",
       "      <th>1.0</th>\n",
       "    </tr>\n",
       "    <tr>\n",
       "      <th>Actual</th>\n",
       "      <th></th>\n",
       "      <th></th>\n",
       "    </tr>\n",
       "  </thead>\n",
       "  <tbody>\n",
       "    <tr>\n",
       "      <th>0.0</th>\n",
       "      <td>11141</td>\n",
       "      <td>559</td>\n",
       "    </tr>\n",
       "    <tr>\n",
       "      <th>1.0</th>\n",
       "      <td>559</td>\n",
       "      <td>741</td>\n",
       "    </tr>\n",
       "  </tbody>\n",
       "</table>\n",
       "</div>"
      ],
      "text/plain": [
       "Predicted    0.0  1.0\n",
       "Actual               \n",
       "0.0        11141  559\n",
       "1.0          559  741"
      ]
     },
     "execution_count": 170,
     "metadata": {},
     "output_type": "execute_result"
    }
   ],
   "source": [
    "df_confusion"
   ]
  },
  {
   "cell_type": "code",
   "execution_count": 168,
   "metadata": {
    "ExecuteTime": {
     "end_time": "2019-07-21T12:09:07.807151Z",
     "start_time": "2019-07-21T12:09:07.768145Z"
    }
   },
   "outputs": [
    {
     "ename": "TypeError",
     "evalue": "'module' object is not callable",
     "output_type": "error",
     "traceback": [
      "\u001b[1;31m---------------------------------------------------------------------------\u001b[0m",
      "\u001b[1;31mTypeError\u001b[0m                                 Traceback (most recent call last)",
      "\u001b[1;32m<ipython-input-168-47b9dd693c18>\u001b[0m in \u001b[0;36m<module>\u001b[1;34m\u001b[0m\n\u001b[1;32m----> 1\u001b[1;33m \u001b[0msns\u001b[0m\u001b[1;33m.\u001b[0m\u001b[0mcm\u001b[0m\u001b[1;33m(\u001b[0m\u001b[0mdf_confusion\u001b[0m\u001b[1;33m)\u001b[0m\u001b[1;33m\u001b[0m\u001b[1;33m\u001b[0m\u001b[0m\n\u001b[0m",
      "\u001b[1;31mTypeError\u001b[0m: 'module' object is not callable"
     ]
    }
   ],
   "source": [
    "sns.cm(df_confusion)"
   ]
  }
 ],
 "metadata": {
  "kernelspec": {
   "display_name": "Python 3",
   "language": "python",
   "name": "python3"
  },
  "language_info": {
   "codemirror_mode": {
    "name": "ipython",
    "version": 3
   },
   "file_extension": ".py",
   "mimetype": "text/x-python",
   "name": "python",
   "nbconvert_exporter": "python",
   "pygments_lexer": "ipython3",
   "version": "3.7.3"
  }
 },
 "nbformat": 4,
 "nbformat_minor": 2
}
