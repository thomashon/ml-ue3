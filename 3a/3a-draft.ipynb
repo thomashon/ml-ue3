{
 "cells": [
  {
   "cell_type": "code",
   "execution_count": 42,
   "metadata": {
    "ExecuteTime": {
     "end_time": "2019-07-21T17:34:44.000590Z",
     "start_time": "2019-07-21T17:34:43.948589Z"
    }
   },
   "outputs": [],
   "source": [
    "import pandas as pd\n",
    "import numpy as np\n",
    "import matplotlib.pyplot as plt\n",
    "import seaborn as sns\n",
    "\n",
    "white = pd.read_csv('winequality-white.csv', sep=';')\n",
    "red = pd.read_csv('winequality-red.csv', sep=';')"
   ]
  },
  {
   "cell_type": "code",
   "execution_count": 43,
   "metadata": {
    "ExecuteTime": {
     "end_time": "2019-07-21T17:34:44.168573Z",
     "start_time": "2019-07-21T17:34:44.008578Z"
    }
   },
   "outputs": [
    {
     "data": {
      "text/html": [
       "<div>\n",
       "<style scoped>\n",
       "    .dataframe tbody tr th:only-of-type {\n",
       "        vertical-align: middle;\n",
       "    }\n",
       "\n",
       "    .dataframe tbody tr th {\n",
       "        vertical-align: top;\n",
       "    }\n",
       "\n",
       "    .dataframe thead th {\n",
       "        text-align: right;\n",
       "    }\n",
       "</style>\n",
       "<table border=\"1\" class=\"dataframe\">\n",
       "  <thead>\n",
       "    <tr style=\"text-align: right;\">\n",
       "      <th></th>\n",
       "      <th>fixed acidity</th>\n",
       "      <th>volatile acidity</th>\n",
       "      <th>citric acid</th>\n",
       "      <th>residual sugar</th>\n",
       "      <th>chlorides</th>\n",
       "      <th>free sulfur dioxide</th>\n",
       "      <th>total sulfur dioxide</th>\n",
       "      <th>density</th>\n",
       "      <th>pH</th>\n",
       "      <th>sulphates</th>\n",
       "      <th>alcohol</th>\n",
       "      <th>quality</th>\n",
       "    </tr>\n",
       "  </thead>\n",
       "  <tbody>\n",
       "    <tr>\n",
       "      <th>count</th>\n",
       "      <td>4898.000000</td>\n",
       "      <td>4898.000000</td>\n",
       "      <td>4898.000000</td>\n",
       "      <td>4898.000000</td>\n",
       "      <td>4898.000000</td>\n",
       "      <td>4898.000000</td>\n",
       "      <td>4898.000000</td>\n",
       "      <td>4898.000000</td>\n",
       "      <td>4898.000000</td>\n",
       "      <td>4898.000000</td>\n",
       "      <td>4898.000000</td>\n",
       "      <td>4898.000000</td>\n",
       "    </tr>\n",
       "    <tr>\n",
       "      <th>mean</th>\n",
       "      <td>6.854788</td>\n",
       "      <td>0.278241</td>\n",
       "      <td>0.334192</td>\n",
       "      <td>6.391415</td>\n",
       "      <td>0.045772</td>\n",
       "      <td>35.308085</td>\n",
       "      <td>138.360657</td>\n",
       "      <td>0.994027</td>\n",
       "      <td>3.188267</td>\n",
       "      <td>0.489847</td>\n",
       "      <td>10.514267</td>\n",
       "      <td>5.877909</td>\n",
       "    </tr>\n",
       "    <tr>\n",
       "      <th>std</th>\n",
       "      <td>0.843868</td>\n",
       "      <td>0.100795</td>\n",
       "      <td>0.121020</td>\n",
       "      <td>5.072058</td>\n",
       "      <td>0.021848</td>\n",
       "      <td>17.007137</td>\n",
       "      <td>42.498065</td>\n",
       "      <td>0.002991</td>\n",
       "      <td>0.151001</td>\n",
       "      <td>0.114126</td>\n",
       "      <td>1.230621</td>\n",
       "      <td>0.885639</td>\n",
       "    </tr>\n",
       "    <tr>\n",
       "      <th>min</th>\n",
       "      <td>3.800000</td>\n",
       "      <td>0.080000</td>\n",
       "      <td>0.000000</td>\n",
       "      <td>0.600000</td>\n",
       "      <td>0.009000</td>\n",
       "      <td>2.000000</td>\n",
       "      <td>9.000000</td>\n",
       "      <td>0.987110</td>\n",
       "      <td>2.720000</td>\n",
       "      <td>0.220000</td>\n",
       "      <td>8.000000</td>\n",
       "      <td>3.000000</td>\n",
       "    </tr>\n",
       "    <tr>\n",
       "      <th>25%</th>\n",
       "      <td>6.300000</td>\n",
       "      <td>0.210000</td>\n",
       "      <td>0.270000</td>\n",
       "      <td>1.700000</td>\n",
       "      <td>0.036000</td>\n",
       "      <td>23.000000</td>\n",
       "      <td>108.000000</td>\n",
       "      <td>0.991723</td>\n",
       "      <td>3.090000</td>\n",
       "      <td>0.410000</td>\n",
       "      <td>9.500000</td>\n",
       "      <td>5.000000</td>\n",
       "    </tr>\n",
       "    <tr>\n",
       "      <th>50%</th>\n",
       "      <td>6.800000</td>\n",
       "      <td>0.260000</td>\n",
       "      <td>0.320000</td>\n",
       "      <td>5.200000</td>\n",
       "      <td>0.043000</td>\n",
       "      <td>34.000000</td>\n",
       "      <td>134.000000</td>\n",
       "      <td>0.993740</td>\n",
       "      <td>3.180000</td>\n",
       "      <td>0.470000</td>\n",
       "      <td>10.400000</td>\n",
       "      <td>6.000000</td>\n",
       "    </tr>\n",
       "    <tr>\n",
       "      <th>75%</th>\n",
       "      <td>7.300000</td>\n",
       "      <td>0.320000</td>\n",
       "      <td>0.390000</td>\n",
       "      <td>9.900000</td>\n",
       "      <td>0.050000</td>\n",
       "      <td>46.000000</td>\n",
       "      <td>167.000000</td>\n",
       "      <td>0.996100</td>\n",
       "      <td>3.280000</td>\n",
       "      <td>0.550000</td>\n",
       "      <td>11.400000</td>\n",
       "      <td>6.000000</td>\n",
       "    </tr>\n",
       "    <tr>\n",
       "      <th>max</th>\n",
       "      <td>14.200000</td>\n",
       "      <td>1.100000</td>\n",
       "      <td>1.660000</td>\n",
       "      <td>65.800000</td>\n",
       "      <td>0.346000</td>\n",
       "      <td>289.000000</td>\n",
       "      <td>440.000000</td>\n",
       "      <td>1.038980</td>\n",
       "      <td>3.820000</td>\n",
       "      <td>1.080000</td>\n",
       "      <td>14.200000</td>\n",
       "      <td>9.000000</td>\n",
       "    </tr>\n",
       "  </tbody>\n",
       "</table>\n",
       "</div>"
      ],
      "text/plain": [
       "       fixed acidity  volatile acidity  citric acid  residual sugar  \\\n",
       "count    4898.000000       4898.000000  4898.000000     4898.000000   \n",
       "mean        6.854788          0.278241     0.334192        6.391415   \n",
       "std         0.843868          0.100795     0.121020        5.072058   \n",
       "min         3.800000          0.080000     0.000000        0.600000   \n",
       "25%         6.300000          0.210000     0.270000        1.700000   \n",
       "50%         6.800000          0.260000     0.320000        5.200000   \n",
       "75%         7.300000          0.320000     0.390000        9.900000   \n",
       "max        14.200000          1.100000     1.660000       65.800000   \n",
       "\n",
       "         chlorides  free sulfur dioxide  total sulfur dioxide      density  \\\n",
       "count  4898.000000          4898.000000           4898.000000  4898.000000   \n",
       "mean      0.045772            35.308085            138.360657     0.994027   \n",
       "std       0.021848            17.007137             42.498065     0.002991   \n",
       "min       0.009000             2.000000              9.000000     0.987110   \n",
       "25%       0.036000            23.000000            108.000000     0.991723   \n",
       "50%       0.043000            34.000000            134.000000     0.993740   \n",
       "75%       0.050000            46.000000            167.000000     0.996100   \n",
       "max       0.346000           289.000000            440.000000     1.038980   \n",
       "\n",
       "                pH    sulphates      alcohol      quality  \n",
       "count  4898.000000  4898.000000  4898.000000  4898.000000  \n",
       "mean      3.188267     0.489847    10.514267     5.877909  \n",
       "std       0.151001     0.114126     1.230621     0.885639  \n",
       "min       2.720000     0.220000     8.000000     3.000000  \n",
       "25%       3.090000     0.410000     9.500000     5.000000  \n",
       "50%       3.180000     0.470000    10.400000     6.000000  \n",
       "75%       3.280000     0.550000    11.400000     6.000000  \n",
       "max       3.820000     1.080000    14.200000     9.000000  "
      ]
     },
     "execution_count": 43,
     "metadata": {},
     "output_type": "execute_result"
    }
   ],
   "source": [
    "white.describe()"
   ]
  },
  {
   "cell_type": "code",
   "execution_count": 44,
   "metadata": {
    "ExecuteTime": {
     "end_time": "2019-07-21T17:34:44.292588Z",
     "start_time": "2019-07-21T17:34:44.172586Z"
    }
   },
   "outputs": [
    {
     "data": {
      "text/html": [
       "<div>\n",
       "<style scoped>\n",
       "    .dataframe tbody tr th:only-of-type {\n",
       "        vertical-align: middle;\n",
       "    }\n",
       "\n",
       "    .dataframe tbody tr th {\n",
       "        vertical-align: top;\n",
       "    }\n",
       "\n",
       "    .dataframe thead th {\n",
       "        text-align: right;\n",
       "    }\n",
       "</style>\n",
       "<table border=\"1\" class=\"dataframe\">\n",
       "  <thead>\n",
       "    <tr style=\"text-align: right;\">\n",
       "      <th></th>\n",
       "      <th>fixed acidity</th>\n",
       "      <th>volatile acidity</th>\n",
       "      <th>citric acid</th>\n",
       "      <th>residual sugar</th>\n",
       "      <th>chlorides</th>\n",
       "      <th>free sulfur dioxide</th>\n",
       "      <th>total sulfur dioxide</th>\n",
       "      <th>density</th>\n",
       "      <th>pH</th>\n",
       "      <th>sulphates</th>\n",
       "      <th>alcohol</th>\n",
       "      <th>quality</th>\n",
       "    </tr>\n",
       "  </thead>\n",
       "  <tbody>\n",
       "    <tr>\n",
       "      <th>count</th>\n",
       "      <td>1599.000000</td>\n",
       "      <td>1599.000000</td>\n",
       "      <td>1599.000000</td>\n",
       "      <td>1599.000000</td>\n",
       "      <td>1599.000000</td>\n",
       "      <td>1599.000000</td>\n",
       "      <td>1599.000000</td>\n",
       "      <td>1599.000000</td>\n",
       "      <td>1599.000000</td>\n",
       "      <td>1599.000000</td>\n",
       "      <td>1599.000000</td>\n",
       "      <td>1599.000000</td>\n",
       "    </tr>\n",
       "    <tr>\n",
       "      <th>mean</th>\n",
       "      <td>8.319637</td>\n",
       "      <td>0.527821</td>\n",
       "      <td>0.270976</td>\n",
       "      <td>2.538806</td>\n",
       "      <td>0.087467</td>\n",
       "      <td>15.874922</td>\n",
       "      <td>46.467792</td>\n",
       "      <td>0.996747</td>\n",
       "      <td>3.311113</td>\n",
       "      <td>0.658149</td>\n",
       "      <td>10.422983</td>\n",
       "      <td>5.636023</td>\n",
       "    </tr>\n",
       "    <tr>\n",
       "      <th>std</th>\n",
       "      <td>1.741096</td>\n",
       "      <td>0.179060</td>\n",
       "      <td>0.194801</td>\n",
       "      <td>1.409928</td>\n",
       "      <td>0.047065</td>\n",
       "      <td>10.460157</td>\n",
       "      <td>32.895324</td>\n",
       "      <td>0.001887</td>\n",
       "      <td>0.154386</td>\n",
       "      <td>0.169507</td>\n",
       "      <td>1.065668</td>\n",
       "      <td>0.807569</td>\n",
       "    </tr>\n",
       "    <tr>\n",
       "      <th>min</th>\n",
       "      <td>4.600000</td>\n",
       "      <td>0.120000</td>\n",
       "      <td>0.000000</td>\n",
       "      <td>0.900000</td>\n",
       "      <td>0.012000</td>\n",
       "      <td>1.000000</td>\n",
       "      <td>6.000000</td>\n",
       "      <td>0.990070</td>\n",
       "      <td>2.740000</td>\n",
       "      <td>0.330000</td>\n",
       "      <td>8.400000</td>\n",
       "      <td>3.000000</td>\n",
       "    </tr>\n",
       "    <tr>\n",
       "      <th>25%</th>\n",
       "      <td>7.100000</td>\n",
       "      <td>0.390000</td>\n",
       "      <td>0.090000</td>\n",
       "      <td>1.900000</td>\n",
       "      <td>0.070000</td>\n",
       "      <td>7.000000</td>\n",
       "      <td>22.000000</td>\n",
       "      <td>0.995600</td>\n",
       "      <td>3.210000</td>\n",
       "      <td>0.550000</td>\n",
       "      <td>9.500000</td>\n",
       "      <td>5.000000</td>\n",
       "    </tr>\n",
       "    <tr>\n",
       "      <th>50%</th>\n",
       "      <td>7.900000</td>\n",
       "      <td>0.520000</td>\n",
       "      <td>0.260000</td>\n",
       "      <td>2.200000</td>\n",
       "      <td>0.079000</td>\n",
       "      <td>14.000000</td>\n",
       "      <td>38.000000</td>\n",
       "      <td>0.996750</td>\n",
       "      <td>3.310000</td>\n",
       "      <td>0.620000</td>\n",
       "      <td>10.200000</td>\n",
       "      <td>6.000000</td>\n",
       "    </tr>\n",
       "    <tr>\n",
       "      <th>75%</th>\n",
       "      <td>9.200000</td>\n",
       "      <td>0.640000</td>\n",
       "      <td>0.420000</td>\n",
       "      <td>2.600000</td>\n",
       "      <td>0.090000</td>\n",
       "      <td>21.000000</td>\n",
       "      <td>62.000000</td>\n",
       "      <td>0.997835</td>\n",
       "      <td>3.400000</td>\n",
       "      <td>0.730000</td>\n",
       "      <td>11.100000</td>\n",
       "      <td>6.000000</td>\n",
       "    </tr>\n",
       "    <tr>\n",
       "      <th>max</th>\n",
       "      <td>15.900000</td>\n",
       "      <td>1.580000</td>\n",
       "      <td>1.000000</td>\n",
       "      <td>15.500000</td>\n",
       "      <td>0.611000</td>\n",
       "      <td>72.000000</td>\n",
       "      <td>289.000000</td>\n",
       "      <td>1.003690</td>\n",
       "      <td>4.010000</td>\n",
       "      <td>2.000000</td>\n",
       "      <td>14.900000</td>\n",
       "      <td>8.000000</td>\n",
       "    </tr>\n",
       "  </tbody>\n",
       "</table>\n",
       "</div>"
      ],
      "text/plain": [
       "       fixed acidity  volatile acidity  citric acid  residual sugar  \\\n",
       "count    1599.000000       1599.000000  1599.000000     1599.000000   \n",
       "mean        8.319637          0.527821     0.270976        2.538806   \n",
       "std         1.741096          0.179060     0.194801        1.409928   \n",
       "min         4.600000          0.120000     0.000000        0.900000   \n",
       "25%         7.100000          0.390000     0.090000        1.900000   \n",
       "50%         7.900000          0.520000     0.260000        2.200000   \n",
       "75%         9.200000          0.640000     0.420000        2.600000   \n",
       "max        15.900000          1.580000     1.000000       15.500000   \n",
       "\n",
       "         chlorides  free sulfur dioxide  total sulfur dioxide      density  \\\n",
       "count  1599.000000          1599.000000           1599.000000  1599.000000   \n",
       "mean      0.087467            15.874922             46.467792     0.996747   \n",
       "std       0.047065            10.460157             32.895324     0.001887   \n",
       "min       0.012000             1.000000              6.000000     0.990070   \n",
       "25%       0.070000             7.000000             22.000000     0.995600   \n",
       "50%       0.079000            14.000000             38.000000     0.996750   \n",
       "75%       0.090000            21.000000             62.000000     0.997835   \n",
       "max       0.611000            72.000000            289.000000     1.003690   \n",
       "\n",
       "                pH    sulphates      alcohol      quality  \n",
       "count  1599.000000  1599.000000  1599.000000  1599.000000  \n",
       "mean      3.311113     0.658149    10.422983     5.636023  \n",
       "std       0.154386     0.169507     1.065668     0.807569  \n",
       "min       2.740000     0.330000     8.400000     3.000000  \n",
       "25%       3.210000     0.550000     9.500000     5.000000  \n",
       "50%       3.310000     0.620000    10.200000     6.000000  \n",
       "75%       3.400000     0.730000    11.100000     6.000000  \n",
       "max       4.010000     2.000000    14.900000     8.000000  "
      ]
     },
     "execution_count": 44,
     "metadata": {},
     "output_type": "execute_result"
    }
   ],
   "source": [
    "red.describe()"
   ]
  },
  {
   "cell_type": "code",
   "execution_count": 45,
   "metadata": {
    "ExecuteTime": {
     "end_time": "2019-07-21T17:34:44.320590Z",
     "start_time": "2019-07-21T17:34:44.296574Z"
    },
    "scrolled": true
   },
   "outputs": [
    {
     "name": "stdout",
     "output_type": "stream",
     "text": [
      "<class 'pandas.core.frame.DataFrame'>\n",
      "RangeIndex: 4898 entries, 0 to 4897\n",
      "Data columns (total 12 columns):\n",
      "fixed acidity           4898 non-null float64\n",
      "volatile acidity        4898 non-null float64\n",
      "citric acid             4898 non-null float64\n",
      "residual sugar          4898 non-null float64\n",
      "chlorides               4898 non-null float64\n",
      "free sulfur dioxide     4898 non-null float64\n",
      "total sulfur dioxide    4898 non-null float64\n",
      "density                 4898 non-null float64\n",
      "pH                      4898 non-null float64\n",
      "sulphates               4898 non-null float64\n",
      "alcohol                 4898 non-null float64\n",
      "quality                 4898 non-null int64\n",
      "dtypes: float64(11), int64(1)\n",
      "memory usage: 459.3 KB\n"
     ]
    }
   ],
   "source": [
    "white.info()"
   ]
  },
  {
   "cell_type": "code",
   "execution_count": 46,
   "metadata": {
    "ExecuteTime": {
     "end_time": "2019-07-21T17:34:44.344577Z",
     "start_time": "2019-07-21T17:34:44.324574Z"
    },
    "scrolled": true
   },
   "outputs": [
    {
     "name": "stdout",
     "output_type": "stream",
     "text": [
      "<class 'pandas.core.frame.DataFrame'>\n",
      "RangeIndex: 1599 entries, 0 to 1598\n",
      "Data columns (total 12 columns):\n",
      "fixed acidity           1599 non-null float64\n",
      "volatile acidity        1599 non-null float64\n",
      "citric acid             1599 non-null float64\n",
      "residual sugar          1599 non-null float64\n",
      "chlorides               1599 non-null float64\n",
      "free sulfur dioxide     1599 non-null float64\n",
      "total sulfur dioxide    1599 non-null float64\n",
      "density                 1599 non-null float64\n",
      "pH                      1599 non-null float64\n",
      "sulphates               1599 non-null float64\n",
      "alcohol                 1599 non-null float64\n",
      "quality                 1599 non-null int64\n",
      "dtypes: float64(11), int64(1)\n",
      "memory usage: 150.0 KB\n"
     ]
    }
   ],
   "source": [
    "red.info()"
   ]
  },
  {
   "cell_type": "code",
   "execution_count": 47,
   "metadata": {
    "ExecuteTime": {
     "end_time": "2019-07-21T17:34:44.368585Z",
     "start_time": "2019-07-21T17:34:44.348581Z"
    }
   },
   "outputs": [],
   "source": [
    "red['type'] = 1\n",
    "white['type'] = 0\n",
    "\n",
    "wines = red.append(white, ignore_index=True)"
   ]
  },
  {
   "cell_type": "code",
   "execution_count": 48,
   "metadata": {
    "ExecuteTime": {
     "end_time": "2019-07-21T17:34:44.392582Z",
     "start_time": "2019-07-21T17:34:44.372578Z"
    }
   },
   "outputs": [
    {
     "data": {
      "text/plain": [
       "False"
      ]
     },
     "execution_count": 48,
     "metadata": {},
     "output_type": "execute_result"
    }
   ],
   "source": [
    "wines.isna().any().any()"
   ]
  },
  {
   "cell_type": "code",
   "execution_count": 49,
   "metadata": {
    "ExecuteTime": {
     "end_time": "2019-07-21T17:34:44.952589Z",
     "start_time": "2019-07-21T17:34:44.400577Z"
    }
   },
   "outputs": [
    {
     "data": {
      "text/plain": [
       "<matplotlib.axes._subplots.AxesSubplot at 0x2381d9b7240>"
      ]
     },
     "execution_count": 49,
     "metadata": {},
     "output_type": "execute_result"
    },
    {
     "data": {
      "image/png": "[encoded data removed]",
      "text/plain": [
       "<Figure size 432x288 with 1 Axes>"
      ]
     },
     "metadata": {
      "needs_background": "light"
     },
     "output_type": "display_data"
    }
   ],
   "source": [
    "wines.quality.hist()"
   ]
  },
  {
   "cell_type": "code",
   "execution_count": 50,
   "metadata": {
    "ExecuteTime": {
     "end_time": "2019-07-21T17:34:44.984573Z",
     "start_time": "2019-07-21T17:34:44.960582Z"
    }
   },
   "outputs": [
    {
     "data": {
      "text/plain": [
       "6    2836\n",
       "5    2138\n",
       "7    1079\n",
       "4     216\n",
       "8     193\n",
       "3      30\n",
       "9       5\n",
       "Name: quality, dtype: int64"
      ]
     },
     "execution_count": 50,
     "metadata": {},
     "output_type": "execute_result"
    }
   ],
   "source": [
    "wines.quality.value_counts()"
   ]
  },
  {
   "cell_type": "code",
   "execution_count": 51,
   "metadata": {
    "ExecuteTime": {
     "end_time": "2019-07-21T17:34:45.024602Z",
     "start_time": "2019-07-21T17:34:44.992583Z"
    }
   },
   "outputs": [
    {
     "data": {
      "text/plain": [
       "total sulfur dioxide   -0.700357\n",
       "free sulfur dioxide    -0.471644\n",
       "residual sugar         -0.348821\n",
       "citric acid            -0.187397\n",
       "quality                -0.119323\n",
       "alcohol                -0.032970\n",
       "pH                      0.329129\n",
       "density                 0.390645\n",
       "fixed acidity           0.486740\n",
       "sulphates               0.487218\n",
       "chlorides               0.512678\n",
       "volatile acidity        0.653036\n",
       "type                    1.000000\n",
       "Name: type, dtype: float64"
      ]
     },
     "execution_count": 51,
     "metadata": {},
     "output_type": "execute_result"
    }
   ],
   "source": [
    "wines.corr()['type'].sort_values()"
   ]
  },
  {
   "cell_type": "code",
   "execution_count": 52,
   "metadata": {
    "ExecuteTime": {
     "end_time": "2019-07-21T17:34:45.695020Z",
     "start_time": "2019-07-21T17:34:45.028586Z"
    }
   },
   "outputs": [
    {
     "data": {
      "image/png": "[encoded data removed]",
      "text/plain": [
       "<Figure size 576x576 with 2 Axes>"
      ]
     },
     "metadata": {
      "needs_background": "light"
     },
     "output_type": "display_data"
    }
   ],
   "source": [
    "plt.figure(figsize=(8, 8))\n",
    "sns.heatmap(wines.corr(), square=True, cmap=\"YlGnBu\")\n",
    "plt.show()"
   ]
  },
  {
   "cell_type": "code",
   "execution_count": 53,
   "metadata": {
    "ExecuteTime": {
     "end_time": "2019-07-21T17:34:45.759017Z",
     "start_time": "2019-07-21T17:34:45.707035Z"
    }
   },
   "outputs": [
    {
     "data": {
      "text/html": [
       "<div>\n",
       "<style scoped>\n",
       "    .dataframe tbody tr th:only-of-type {\n",
       "        vertical-align: middle;\n",
       "    }\n",
       "\n",
       "    .dataframe tbody tr th {\n",
       "        vertical-align: top;\n",
       "    }\n",
       "\n",
       "    .dataframe thead th {\n",
       "        text-align: right;\n",
       "    }\n",
       "</style>\n",
       "<table border=\"1\" class=\"dataframe\">\n",
       "  <thead>\n",
       "    <tr style=\"text-align: right;\">\n",
       "      <th></th>\n",
       "      <th>fixed acidity</th>\n",
       "      <th>volatile acidity</th>\n",
       "      <th>citric acid</th>\n",
       "      <th>residual sugar</th>\n",
       "      <th>chlorides</th>\n",
       "      <th>free sulfur dioxide</th>\n",
       "      <th>total sulfur dioxide</th>\n",
       "      <th>density</th>\n",
       "      <th>pH</th>\n",
       "      <th>sulphates</th>\n",
       "      <th>alcohol</th>\n",
       "      <th>quality</th>\n",
       "      <th>type</th>\n",
       "    </tr>\n",
       "  </thead>\n",
       "  <tbody>\n",
       "    <tr>\n",
       "      <th>0</th>\n",
       "      <td>7.4</td>\n",
       "      <td>0.70</td>\n",
       "      <td>0.00</td>\n",
       "      <td>1.9</td>\n",
       "      <td>0.076</td>\n",
       "      <td>11.0</td>\n",
       "      <td>34.0</td>\n",
       "      <td>0.9978</td>\n",
       "      <td>3.51</td>\n",
       "      <td>0.56</td>\n",
       "      <td>9.4</td>\n",
       "      <td>5</td>\n",
       "      <td>1</td>\n",
       "    </tr>\n",
       "    <tr>\n",
       "      <th>1</th>\n",
       "      <td>7.8</td>\n",
       "      <td>0.88</td>\n",
       "      <td>0.00</td>\n",
       "      <td>2.6</td>\n",
       "      <td>0.098</td>\n",
       "      <td>25.0</td>\n",
       "      <td>67.0</td>\n",
       "      <td>0.9968</td>\n",
       "      <td>3.20</td>\n",
       "      <td>0.68</td>\n",
       "      <td>9.8</td>\n",
       "      <td>5</td>\n",
       "      <td>1</td>\n",
       "    </tr>\n",
       "    <tr>\n",
       "      <th>2</th>\n",
       "      <td>7.8</td>\n",
       "      <td>0.76</td>\n",
       "      <td>0.04</td>\n",
       "      <td>2.3</td>\n",
       "      <td>0.092</td>\n",
       "      <td>15.0</td>\n",
       "      <td>54.0</td>\n",
       "      <td>0.9970</td>\n",
       "      <td>3.26</td>\n",
       "      <td>0.65</td>\n",
       "      <td>9.8</td>\n",
       "      <td>5</td>\n",
       "      <td>1</td>\n",
       "    </tr>\n",
       "    <tr>\n",
       "      <th>3</th>\n",
       "      <td>11.2</td>\n",
       "      <td>0.28</td>\n",
       "      <td>0.56</td>\n",
       "      <td>1.9</td>\n",
       "      <td>0.075</td>\n",
       "      <td>17.0</td>\n",
       "      <td>60.0</td>\n",
       "      <td>0.9980</td>\n",
       "      <td>3.16</td>\n",
       "      <td>0.58</td>\n",
       "      <td>9.8</td>\n",
       "      <td>6</td>\n",
       "      <td>1</td>\n",
       "    </tr>\n",
       "    <tr>\n",
       "      <th>4</th>\n",
       "      <td>7.4</td>\n",
       "      <td>0.70</td>\n",
       "      <td>0.00</td>\n",
       "      <td>1.9</td>\n",
       "      <td>0.076</td>\n",
       "      <td>11.0</td>\n",
       "      <td>34.0</td>\n",
       "      <td>0.9978</td>\n",
       "      <td>3.51</td>\n",
       "      <td>0.56</td>\n",
       "      <td>9.4</td>\n",
       "      <td>5</td>\n",
       "      <td>1</td>\n",
       "    </tr>\n",
       "  </tbody>\n",
       "</table>\n",
       "</div>"
      ],
      "text/plain": [
       "   fixed acidity  volatile acidity  citric acid  residual sugar  chlorides  \\\n",
       "0            7.4              0.70         0.00             1.9      0.076   \n",
       "1            7.8              0.88         0.00             2.6      0.098   \n",
       "2            7.8              0.76         0.04             2.3      0.092   \n",
       "3           11.2              0.28         0.56             1.9      0.075   \n",
       "4            7.4              0.70         0.00             1.9      0.076   \n",
       "\n",
       "   free sulfur dioxide  total sulfur dioxide  density    pH  sulphates  \\\n",
       "0                 11.0                  34.0   0.9978  3.51       0.56   \n",
       "1                 25.0                  67.0   0.9968  3.20       0.68   \n",
       "2                 15.0                  54.0   0.9970  3.26       0.65   \n",
       "3                 17.0                  60.0   0.9980  3.16       0.58   \n",
       "4                 11.0                  34.0   0.9978  3.51       0.56   \n",
       "\n",
       "   alcohol  quality  type  \n",
       "0      9.4        5     1  \n",
       "1      9.8        5     1  \n",
       "2      9.8        5     1  \n",
       "3      9.8        6     1  \n",
       "4      9.4        5     1  "
      ]
     },
     "execution_count": 53,
     "metadata": {},
     "output_type": "execute_result"
    }
   ],
   "source": [
    "wines.head()"
   ]
  },
  {
   "cell_type": "code",
   "execution_count": 54,
   "metadata": {
    "ExecuteTime": {
     "end_time": "2019-07-21T17:34:45.779041Z",
     "start_time": "2019-07-21T17:34:45.763021Z"
    }
   },
   "outputs": [],
   "source": [
    "X = wines.drop('quality', axis=1)"
   ]
  },
  {
   "cell_type": "code",
   "execution_count": 55,
   "metadata": {
    "ExecuteTime": {
     "end_time": "2019-07-21T17:34:45.811021Z",
     "start_time": "2019-07-21T17:34:45.787036Z"
    }
   },
   "outputs": [
    {
     "data": {
      "text/plain": [
       "0    5\n",
       "1    5\n",
       "2    5\n",
       "3    6\n",
       "4    5\n",
       "Name: quality, dtype: int64"
      ]
     },
     "execution_count": 55,
     "metadata": {},
     "output_type": "execute_result"
    }
   ],
   "source": [
    "wines['quality'].head()"
   ]
  },
  {
   "cell_type": "code",
   "execution_count": 56,
   "metadata": {
    "ExecuteTime": {
     "end_time": "2019-07-21T17:34:45.855018Z",
     "start_time": "2019-07-21T17:34:45.819051Z"
    }
   },
   "outputs": [],
   "source": [
    "from keras.utils import to_categorical\n",
    "y = to_categorical(pd.Categorical(wines['quality'].astype(str)))"
   ]
  },
  {
   "cell_type": "code",
   "execution_count": 57,
   "metadata": {
    "ExecuteTime": {
     "end_time": "2019-07-21T17:34:45.927028Z",
     "start_time": "2019-07-21T17:34:45.871024Z"
    }
   },
   "outputs": [
    {
     "data": {
      "text/html": [
       "<div>\n",
       "<style scoped>\n",
       "    .dataframe tbody tr th:only-of-type {\n",
       "        vertical-align: middle;\n",
       "    }\n",
       "\n",
       "    .dataframe tbody tr th {\n",
       "        vertical-align: top;\n",
       "    }\n",
       "\n",
       "    .dataframe thead th {\n",
       "        text-align: right;\n",
       "    }\n",
       "</style>\n",
       "<table border=\"1\" class=\"dataframe\">\n",
       "  <thead>\n",
       "    <tr style=\"text-align: right;\">\n",
       "      <th></th>\n",
       "      <th>0</th>\n",
       "      <th>1</th>\n",
       "      <th>2</th>\n",
       "      <th>3</th>\n",
       "      <th>4</th>\n",
       "      <th>5</th>\n",
       "      <th>6</th>\n",
       "      <th>7</th>\n",
       "      <th>8</th>\n",
       "      <th>9</th>\n",
       "    </tr>\n",
       "  </thead>\n",
       "  <tbody>\n",
       "    <tr>\n",
       "      <th>0</th>\n",
       "      <td>0.0</td>\n",
       "      <td>0.0</td>\n",
       "      <td>0.0</td>\n",
       "      <td>0.0</td>\n",
       "      <td>0.0</td>\n",
       "      <td>1.0</td>\n",
       "      <td>0.0</td>\n",
       "      <td>0.0</td>\n",
       "      <td>0.0</td>\n",
       "      <td>0.0</td>\n",
       "    </tr>\n",
       "    <tr>\n",
       "      <th>1</th>\n",
       "      <td>0.0</td>\n",
       "      <td>0.0</td>\n",
       "      <td>0.0</td>\n",
       "      <td>0.0</td>\n",
       "      <td>0.0</td>\n",
       "      <td>1.0</td>\n",
       "      <td>0.0</td>\n",
       "      <td>0.0</td>\n",
       "      <td>0.0</td>\n",
       "      <td>0.0</td>\n",
       "    </tr>\n",
       "    <tr>\n",
       "      <th>2</th>\n",
       "      <td>0.0</td>\n",
       "      <td>0.0</td>\n",
       "      <td>0.0</td>\n",
       "      <td>0.0</td>\n",
       "      <td>0.0</td>\n",
       "      <td>1.0</td>\n",
       "      <td>0.0</td>\n",
       "      <td>0.0</td>\n",
       "      <td>0.0</td>\n",
       "      <td>0.0</td>\n",
       "    </tr>\n",
       "    <tr>\n",
       "      <th>3</th>\n",
       "      <td>0.0</td>\n",
       "      <td>0.0</td>\n",
       "      <td>0.0</td>\n",
       "      <td>0.0</td>\n",
       "      <td>0.0</td>\n",
       "      <td>0.0</td>\n",
       "      <td>1.0</td>\n",
       "      <td>0.0</td>\n",
       "      <td>0.0</td>\n",
       "      <td>0.0</td>\n",
       "    </tr>\n",
       "    <tr>\n",
       "      <th>4</th>\n",
       "      <td>0.0</td>\n",
       "      <td>0.0</td>\n",
       "      <td>0.0</td>\n",
       "      <td>0.0</td>\n",
       "      <td>0.0</td>\n",
       "      <td>1.0</td>\n",
       "      <td>0.0</td>\n",
       "      <td>0.0</td>\n",
       "      <td>0.0</td>\n",
       "      <td>0.0</td>\n",
       "    </tr>\n",
       "  </tbody>\n",
       "</table>\n",
       "</div>"
      ],
      "text/plain": [
       "     0    1    2    3    4    5    6    7    8    9\n",
       "0  0.0  0.0  0.0  0.0  0.0  1.0  0.0  0.0  0.0  0.0\n",
       "1  0.0  0.0  0.0  0.0  0.0  1.0  0.0  0.0  0.0  0.0\n",
       "2  0.0  0.0  0.0  0.0  0.0  1.0  0.0  0.0  0.0  0.0\n",
       "3  0.0  0.0  0.0  0.0  0.0  0.0  1.0  0.0  0.0  0.0\n",
       "4  0.0  0.0  0.0  0.0  0.0  1.0  0.0  0.0  0.0  0.0"
      ]
     },
     "execution_count": 57,
     "metadata": {},
     "output_type": "execute_result"
    }
   ],
   "source": [
    "pd.DataFrame(y).head()"
   ]
  },
  {
   "cell_type": "code",
   "execution_count": 58,
   "metadata": {
    "ExecuteTime": {
     "end_time": "2019-07-21T17:34:45.951018Z",
     "start_time": "2019-07-21T17:34:45.931020Z"
    }
   },
   "outputs": [
    {
     "data": {
      "text/plain": [
       "0    5\n",
       "1    5\n",
       "2    5\n",
       "3    6\n",
       "4    5\n",
       "Name: quality, dtype: int64"
      ]
     },
     "execution_count": 58,
     "metadata": {},
     "output_type": "execute_result"
    }
   ],
   "source": [
    "wines['quality'].head()"
   ]
  },
  {
   "cell_type": "code",
   "execution_count": 61,
   "metadata": {
    "ExecuteTime": {
     "end_time": "2019-07-21T17:35:48.504799Z",
     "start_time": "2019-07-21T17:35:48.488797Z"
    }
   },
   "outputs": [],
   "source": [
    "from sklearn.model_selection import train_test_split\n",
    "\n",
    "X_train, X_test, y_train_reg, y_test_reg, y_train_class, y_test_class = train_test_split(\n",
    "    X, wines['quality'], y, test_size=0.2, random_state=123)"
   ]
  },
  {
   "cell_type": "code",
   "execution_count": 20,
   "metadata": {
    "ExecuteTime": {
     "end_time": "2019-07-21T17:28:30.398378Z",
     "start_time": "2019-07-21T17:28:30.358388Z"
    }
   },
   "outputs": [
    {
     "data": {
      "text/html": [
       "<div>\n",
       "<style scoped>\n",
       "    .dataframe tbody tr th:only-of-type {\n",
       "        vertical-align: middle;\n",
       "    }\n",
       "\n",
       "    .dataframe tbody tr th {\n",
       "        vertical-align: top;\n",
       "    }\n",
       "\n",
       "    .dataframe thead th {\n",
       "        text-align: right;\n",
       "    }\n",
       "</style>\n",
       "<table border=\"1\" class=\"dataframe\">\n",
       "  <thead>\n",
       "    <tr style=\"text-align: right;\">\n",
       "      <th></th>\n",
       "      <th>fixed acidity</th>\n",
       "      <th>volatile acidity</th>\n",
       "      <th>citric acid</th>\n",
       "      <th>residual sugar</th>\n",
       "      <th>chlorides</th>\n",
       "      <th>free sulfur dioxide</th>\n",
       "      <th>total sulfur dioxide</th>\n",
       "      <th>density</th>\n",
       "      <th>pH</th>\n",
       "      <th>sulphates</th>\n",
       "      <th>alcohol</th>\n",
       "      <th>type</th>\n",
       "    </tr>\n",
       "  </thead>\n",
       "  <tbody>\n",
       "    <tr>\n",
       "      <th>0</th>\n",
       "      <td>7.4</td>\n",
       "      <td>0.70</td>\n",
       "      <td>0.00</td>\n",
       "      <td>1.9</td>\n",
       "      <td>0.076</td>\n",
       "      <td>11.0</td>\n",
       "      <td>34.0</td>\n",
       "      <td>0.9978</td>\n",
       "      <td>3.51</td>\n",
       "      <td>0.56</td>\n",
       "      <td>9.4</td>\n",
       "      <td>1</td>\n",
       "    </tr>\n",
       "    <tr>\n",
       "      <th>1</th>\n",
       "      <td>7.8</td>\n",
       "      <td>0.88</td>\n",
       "      <td>0.00</td>\n",
       "      <td>2.6</td>\n",
       "      <td>0.098</td>\n",
       "      <td>25.0</td>\n",
       "      <td>67.0</td>\n",
       "      <td>0.9968</td>\n",
       "      <td>3.20</td>\n",
       "      <td>0.68</td>\n",
       "      <td>9.8</td>\n",
       "      <td>1</td>\n",
       "    </tr>\n",
       "    <tr>\n",
       "      <th>2</th>\n",
       "      <td>7.8</td>\n",
       "      <td>0.76</td>\n",
       "      <td>0.04</td>\n",
       "      <td>2.3</td>\n",
       "      <td>0.092</td>\n",
       "      <td>15.0</td>\n",
       "      <td>54.0</td>\n",
       "      <td>0.9970</td>\n",
       "      <td>3.26</td>\n",
       "      <td>0.65</td>\n",
       "      <td>9.8</td>\n",
       "      <td>1</td>\n",
       "    </tr>\n",
       "    <tr>\n",
       "      <th>3</th>\n",
       "      <td>11.2</td>\n",
       "      <td>0.28</td>\n",
       "      <td>0.56</td>\n",
       "      <td>1.9</td>\n",
       "      <td>0.075</td>\n",
       "      <td>17.0</td>\n",
       "      <td>60.0</td>\n",
       "      <td>0.9980</td>\n",
       "      <td>3.16</td>\n",
       "      <td>0.58</td>\n",
       "      <td>9.8</td>\n",
       "      <td>1</td>\n",
       "    </tr>\n",
       "    <tr>\n",
       "      <th>4</th>\n",
       "      <td>7.4</td>\n",
       "      <td>0.70</td>\n",
       "      <td>0.00</td>\n",
       "      <td>1.9</td>\n",
       "      <td>0.076</td>\n",
       "      <td>11.0</td>\n",
       "      <td>34.0</td>\n",
       "      <td>0.9978</td>\n",
       "      <td>3.51</td>\n",
       "      <td>0.56</td>\n",
       "      <td>9.4</td>\n",
       "      <td>1</td>\n",
       "    </tr>\n",
       "  </tbody>\n",
       "</table>\n",
       "</div>"
      ],
      "text/plain": [
       "   fixed acidity  volatile acidity  citric acid  residual sugar  chlorides  \\\n",
       "0            7.4              0.70         0.00             1.9      0.076   \n",
       "1            7.8              0.88         0.00             2.6      0.098   \n",
       "2            7.8              0.76         0.04             2.3      0.092   \n",
       "3           11.2              0.28         0.56             1.9      0.075   \n",
       "4            7.4              0.70         0.00             1.9      0.076   \n",
       "\n",
       "   free sulfur dioxide  total sulfur dioxide  density    pH  sulphates  \\\n",
       "0                 11.0                  34.0   0.9978  3.51       0.56   \n",
       "1                 25.0                  67.0   0.9968  3.20       0.68   \n",
       "2                 15.0                  54.0   0.9970  3.26       0.65   \n",
       "3                 17.0                  60.0   0.9980  3.16       0.58   \n",
       "4                 11.0                  34.0   0.9978  3.51       0.56   \n",
       "\n",
       "   alcohol  type  \n",
       "0      9.4     1  \n",
       "1      9.8     1  \n",
       "2      9.8     1  \n",
       "3      9.8     1  \n",
       "4      9.4     1  "
      ]
     },
     "execution_count": 20,
     "metadata": {},
     "output_type": "execute_result"
    }
   ],
   "source": [
    "X.head()"
   ]
  },
  {
   "cell_type": "code",
   "execution_count": 64,
   "metadata": {
    "ExecuteTime": {
     "end_time": "2019-07-21T17:36:54.825199Z",
     "start_time": "2019-07-21T17:36:54.801208Z"
    }
   },
   "outputs": [],
   "source": [
    "from sklearn.preprocessing import StandardScaler\n",
    "\n",
    "scaler = StandardScaler()\n",
    "\n",
    "scaler.fit(X_train)\n",
    "scaler.fit(y_train_reg.values.reshape(-1,1))\n",
    "\n",
    "X_train_scaled = scaler.transform(X_train)\n",
    "X_test_scaled = scaler.transform(X_test)\n",
    "y_train_scaled = scaler.transform(y_train_reg.values.reshape(-1,1))\n",
    "y_test_scaled = scaler.transform(y_test_reg.values.reshape(-1,1))"
   ]
  },
  {
   "cell_type": "code",
   "execution_count": 65,
   "metadata": {
    "ExecuteTime": {
     "end_time": "2019-07-21T17:36:59.044129Z",
     "start_time": "2019-07-21T17:36:59.036126Z"
    }
   },
   "outputs": [],
   "source": [
    "from keras.models import Sequential\n",
    "from keras.layers import Dense, BatchNormalization\n",
    "from keras.callbacks import EarlyStopping\n",
    "\n",
    "early_stopping_monitor = EarlyStopping(patience=5)\n",
    "\n"
   ]
  },
  {
   "cell_type": "code",
   "execution_count": 66,
   "metadata": {
    "ExecuteTime": {
     "end_time": "2019-07-21T17:37:01.157351Z",
     "start_time": "2019-07-21T17:37:01.149339Z"
    }
   },
   "outputs": [],
   "source": [
    "in_cols = X.shape[1]\n",
    "out_cols = y.shape[1]"
   ]
  },
  {
   "cell_type": "code",
   "execution_count": 72,
   "metadata": {
    "ExecuteTime": {
     "end_time": "2019-07-21T17:39:58.681891Z",
     "start_time": "2019-07-21T17:39:10.605449Z"
    }
   },
   "outputs": [
    {
     "name": "stdout",
     "output_type": "stream",
     "text": [
      "Train on 5197 samples, validate on 1300 samples\n",
      "Epoch 1/50\n",
      "5197/5197 [==============================] - 7s 1ms/step - loss: 1.9913 - acc: 0.4043 - val_loss: 1.8719 - val_acc: 0.4246\n",
      "Epoch 2/50\n",
      "5197/5197 [==============================] - 4s 787us/step - loss: 1.4598 - acc: 0.5026 - val_loss: 1.4684 - val_acc: 0.4454\n",
      "Epoch 3/50\n",
      "5197/5197 [==============================] - 4s 794us/step - loss: 1.2375 - acc: 0.5218 - val_loss: 1.2847 - val_acc: 0.4923\n",
      "Epoch 4/50\n",
      "5197/5197 [==============================] - 4s 794us/step - loss: 1.1473 - acc: 0.5234 - val_loss: 1.2905 - val_acc: 0.4892\n",
      "Epoch 5/50\n",
      "5197/5197 [==============================] - 4s 831us/step - loss: 1.1115 - acc: 0.5370 - val_loss: 1.2332 - val_acc: 0.4685\n",
      "Epoch 6/50\n",
      "5197/5197 [==============================] - 4s 814us/step - loss: 1.0903 - acc: 0.5292 - val_loss: 1.2906 - val_acc: 0.4608\n",
      "Epoch 7/50\n",
      "5197/5197 [==============================] - 4s 821us/step - loss: 1.0831 - acc: 0.5407 - val_loss: 1.3375 - val_acc: 0.4715\n",
      "Epoch 8/50\n",
      "5197/5197 [==============================] - 4s 809us/step - loss: 1.0684 - acc: 0.5417 - val_loss: 1.8701 - val_acc: 0.3708\n",
      "Epoch 9/50\n",
      "5197/5197 [==============================] - 4s 819us/step - loss: 1.0632 - acc: 0.5376 - val_loss: 1.5397 - val_acc: 0.3923\n",
      "Epoch 10/50\n",
      "5197/5197 [==============================] - 4s 839us/step - loss: 1.0528 - acc: 0.5444 - val_loss: 1.6585 - val_acc: 0.3877\n"
     ]
    }
   ],
   "source": [
    "model_1 = Sequential()\n",
    "\n",
    "model_1.add(Dense(1000, activation='relu', input_shape=(in_cols,)))\n",
    "model_1.add(BatchNormalization())\n",
    "model_1.add(Dense(500, activation='relu'))\n",
    "model_1.add(BatchNormalization())\n",
    "model_1.add(Dense(250, activation='relu'))\n",
    "model_1.add(BatchNormalization())\n",
    "model_1.add(Dense(out_cols, activation='softmax'))\n",
    "\n",
    "\n",
    "model_1.compile(loss='categorical_crossentropy', \n",
    "              optimizer='adam', \n",
    "              metrics=['accuracy'])\n",
    "\n",
    "model_1_training = model_1.fit(\n",
    "    X_train_scaled,\n",
    "    y_train_class,\n",
    "    batch_size=100,\n",
    "    epochs=50,\n",
    "    validation_data=(X_test_scaled, y_test_class),\n",
    "    callbacks=[early_stopping_monitor],\n",
    "    verbose=True\n",
    ")"
   ]
  },
  {
   "cell_type": "code",
   "execution_count": 68,
   "metadata": {
    "ExecuteTime": {
     "end_time": "2019-07-21T17:38:07.864016Z",
     "start_time": "2019-07-21T17:38:00.127868Z"
    }
   },
   "outputs": [],
   "source": [
    "model_2 = Sequential()\n",
    "\n",
    "model_2.add(Dense(12, activation='relu', input_shape=(in_cols,)))\n",
    "model_2.add(BatchNormalization())\n",
    "model_2.add(Dense(8, activation='relu'))\n",
    "model_2.add(BatchNormalization())\n",
    "model_2.add(Dense(out_cols, activation='softmax'))\n",
    "\n",
    "\n",
    "model_2.compile(loss='categorical_crossentropy', \n",
    "              optimizer='adam', \n",
    "              metrics=['accuracy'])\n",
    "\n",
    "model_2_training = model_2.fit(\n",
    "    X_train_scaled,\n",
    "    y_train_class,\n",
    "    batch_size=200,\n",
    "    epochs=50,\n",
    "    validation_data=(X_test_scaled, y_test_class),\n",
    "    callbacks=[early_stopping_monitor],\n",
    "    verbose=False\n",
    ")"
   ]
  },
  {
   "cell_type": "code",
   "execution_count": 73,
   "metadata": {
    "ExecuteTime": {
     "end_time": "2019-07-21T17:40:27.331174Z",
     "start_time": "2019-07-21T17:40:27.315173Z"
    }
   },
   "outputs": [],
   "source": [
    "def plot_history(model): \n",
    "    fig, ax = plt.subplots(1, 2, figsize=(14, 5))\n",
    "\n",
    "    ax[0].plot(model.history['loss'])\n",
    "    ax[0].set_xlabel('Epochs')\n",
    "    ax[0].set_ylim([0, 2])\n",
    "    ax[0].set_title('Loss over Epochs')\n",
    "    ax[0].plot(model.history['val_loss'])\n",
    "    ax[0].legend(['Training loss', 'Prediction loss'])\n",
    "\n",
    "    ax[1].plot(model.history['acc'])\n",
    "    ax[1].set_xlabel('Epochs')\n",
    "    ax[1].set_ylim([0, 1])\n",
    "    ax[1].set_title('Accuracy over Epochs')\n",
    "    ax[1].plot(model.history['val_acc'])\n",
    "    ax[1].legend(['Training accuracy', 'Prediction accuracy'])\n",
    "\n",
    "    fig.suptitle(\"Model Quality over Epochs\")\n",
    "\n",
    "    plt.show()"
   ]
  },
  {
   "cell_type": "code",
   "execution_count": 74,
   "metadata": {
    "ExecuteTime": {
     "end_time": "2019-07-21T17:40:29.334786Z",
     "start_time": "2019-07-21T17:40:28.060783Z"
    }
   },
   "outputs": [
    {
     "data": {
      "image/png": "[encoded data removed]",
      "text/plain": [
       "<Figure size 1008x360 with 2 Axes>"
      ]
     },
     "metadata": {
      "needs_background": "light"
     },
     "output_type": "display_data"
    },
    {
     "data": {
      "image/png": "[encoded data removed]",
      "text/plain": [
       "<Figure size 1008x360 with 2 Axes>"
      ]
     },
     "metadata": {
      "needs_background": "light"
     },
     "output_type": "display_data"
    }
   ],
   "source": [
    "plot_history(model=model_1_training)\n",
    "plot_history(model=model_2_training)"
   ]
  },
  {
   "cell_type": "code",
   "execution_count": 75,
   "metadata": {
    "ExecuteTime": {
     "end_time": "2019-07-21T17:40:41.698753Z",
     "start_time": "2019-07-21T17:40:41.355200Z"
    }
   },
   "outputs": [
    {
     "data": {
      "image/png": "[encoded data removed]",
      "text/plain": [
       "<Figure size 432x288 with 1 Axes>"
      ]
     },
     "metadata": {
      "needs_background": "light"
     },
     "output_type": "display_data"
    }
   ],
   "source": [
    "plt.plot(model_1_training.history['val_loss'], 'r', model_2_training.history['val_loss'], 'b')\n",
    "plt.xlabel('Epochs')\n",
    "plt.ylabel('Validation score')\n",
    "plt.show()"
   ]
  },
  {
   "cell_type": "code",
   "execution_count": 76,
   "metadata": {
    "ExecuteTime": {
     "end_time": "2019-07-21T17:40:45.175605Z",
     "start_time": "2019-07-21T17:40:44.292481Z"
    }
   },
   "outputs": [
    {
     "name": "stdout",
     "output_type": "stream",
     "text": [
      "Predicted: [0. 0. 0. 0. 0. 0. 0. 0. 0. 0.], actual 6\n"
     ]
    }
   ],
   "source": [
    "from numpy import round\n",
    "\n",
    "y_predicted = model_1.predict(X_test_scaled)\n",
    "\n",
    "print('Predicted: {}, actual {}'.format(round(y_predicted[0]), y_test.ravel()[0]))"
   ]
  },
  {
   "cell_type": "code",
   "execution_count": 78,
   "metadata": {
    "ExecuteTime": {
     "end_time": "2019-07-21T17:40:56.413384Z",
     "start_time": "2019-07-21T17:40:55.993378Z"
    }
   },
   "outputs": [
    {
     "name": "stdout",
     "output_type": "stream",
     "text": [
      "1300/1300 [==============================] - 0s 311us/step\n",
      "Loss: 1.6585266872552724, accuracy: 0.38769230769230767\n"
     ]
    }
   ],
   "source": [
    "loss, accuracy = model_1.evaluate(X_test_scaled, y_test_class)\n",
    "\n",
    "print('Loss: {}, accuracy: {}'.format(loss, accuracy))"
   ]
  },
  {
   "cell_type": "code",
   "execution_count": 79,
   "metadata": {
    "ExecuteTime": {
     "end_time": "2019-07-21T17:41:02.299529Z",
     "start_time": "2019-07-21T17:41:02.203528Z"
    }
   },
   "outputs": [
    {
     "name": "stdout",
     "output_type": "stream",
     "text": [
      "1300/1300 [==============================] - 0s 62us/step\n",
      "Loss: 1.188513289965116, accuracy: 0.5046153846153846\n"
     ]
    }
   ],
   "source": [
    "loss, accuracy = model_2.evaluate(X_test_scaled, y_test_class)\n",
    "\n",
    "print('Loss: {}, accuracy: {}'.format(loss, accuracy))"
   ]
  },
  {
   "cell_type": "code",
   "execution_count": null,
   "metadata": {
    "ExecuteTime": {
     "end_time": "2019-07-21T08:52:13.146597Z",
     "start_time": "2019-07-21T08:52:13.130596Z"
    }
   },
   "outputs": [],
   "source": [
    "def create_model(optimizer='adam', activation='relu'):\n",
    "    model = Sequential()\n",
    "    model.add(Dense(12, input_shape=(in_cols,), activation=activation))\n",
    "    model.add(Dense(out_cols, activation='sigmoid'))\n",
    "    model.compile(optimizer=optimizer, loss='categorical_crossentropy', metrics=['accuracy'])\n",
    "    return model\n",
    "\n",
    "from keras.wrappers.scikit_learn import KerasClassifier\n",
    "\n",
    "model = KerasClassifier(build_fn=create_model, epochs=6, batch_size=16)"
   ]
  },
  {
   "cell_type": "code",
   "execution_count": null,
   "metadata": {
    "ExecuteTime": {
     "end_time": "2019-07-21T08:52:58.797956Z",
     "start_time": "2019-07-21T08:52:21.189102Z"
    },
    "scrolled": true
   },
   "outputs": [],
   "source": [
    "# Import cross_val_score\n",
    "from sklearn.model_selection import cross_val_score \n",
    " \n",
    "# Check how your keras model performs with 5 fold crossvalidation\n",
    "kfold = cross_val_score(model, X_train_scaled, y_train, cv=5) \n",
    "\n",
    "# Print the mean accuracy per fold\n",
    "kfold.mean() "
   ]
  },
  {
   "cell_type": "code",
   "execution_count": null,
   "metadata": {
    "ExecuteTime": {
     "end_time": "2019-07-21T08:53:21.583168Z",
     "start_time": "2019-07-21T08:53:21.571168Z"
    }
   },
   "outputs": [],
   "source": [
    "# Print the standard deviation per fold\n",
    "kfold.std()"
   ]
  },
  {
   "cell_type": "code",
   "execution_count": null,
   "metadata": {
    "ExecuteTime": {
     "end_time": "2019-07-21T08:59:05.232509Z",
     "start_time": "2019-07-21T08:53:38.596994Z"
    }
   },
   "outputs": [],
   "source": [
    "# Import RandomizedSearchCV\n",
    "from sklearn.model_selection import RandomizedSearchCV\n",
    "\n",
    "# Define a series of parameters\n",
    "params = {\n",
    "    'optimizer':['sgd', 'adam'],\n",
    "    'epochs':[3],\n",
    "    'batch_size':[5, 10, 20],\n",
    "    'activation':['relu','tanh']\n",
    "}\n",
    "\n",
    " \n",
    "# Create a random search cv object and fit it to the data\n",
    "random_search = RandomizedSearchCV(model, param_distributions=params, cv=3)\n",
    "random_search_results = random_search.fit(X_train_scaled, y_train)\n",
    "\n",
    "# Print results\n",
    "print(\"Best: {} using {}\".format(random_search_results.best_score_, random_search_results.best_params_))"
   ]
  },
  {
   "cell_type": "code",
   "execution_count": null,
   "metadata": {
    "ExecuteTime": {
     "end_time": "2019-07-21T09:18:48.812731Z",
     "start_time": "2019-07-21T09:18:48.800732Z"
    }
   },
   "outputs": [],
   "source": [
    "def create_model(nl=1,nn=256):\n",
    "    model = Sequential()\n",
    "    model.add(Dense(10, input_shape=(in_cols,), activation='relu'))\n",
    "    # Add as many hidden layers as specified in nl\n",
    "    for i in range(nl):\n",
    "        # Layers have nn neurons\n",
    "        model.add(Dense(nn, activation='relu'))\n",
    "        \n",
    "    # End defining and compiling your model...\n",
    "    model.add(Dense(out_cols, activation='sigmoid'))\n",
    "    model.compile(optimizer='adam', loss='categorical_crossentropy', metrics=['accuracy'])\n",
    "    return model\n",
    "    \n",
    "model = KerasClassifier(build_fn=create_model, epochs=6, batch_size=16)"
   ]
  },
  {
   "cell_type": "code",
   "execution_count": null,
   "metadata": {
    "ExecuteTime": {
     "end_time": "2019-07-21T09:18:49.128730Z",
     "start_time": "2019-07-21T09:18:49.116728Z"
    }
   },
   "outputs": [],
   "source": [
    "# Define parameters, named just like in create_model()\n",
    "params = {\n",
    "    'nl':[1, 2, 9],\n",
    "    'nn':[128,256,1000]\n",
    "}\n",
    " \n",
    "# Repeat the random search... \n",
    " \n",
    "# Print results..."
   ]
  },
  {
   "cell_type": "code",
   "execution_count": null,
   "metadata": {
    "ExecuteTime": {
     "end_time": "2019-07-21T10:10:30.201752Z",
     "start_time": "2019-07-21T09:18:49.405759Z"
    },
    "scrolled": true
   },
   "outputs": [],
   "source": [
    "# Create a random search cv object and fit it to the data\n",
    "random_search = RandomizedSearchCV(model, param_distributions=params, cv=3)\n",
    "random_search_results = random_search.fit(X_train_scaled, y_train)\n",
    "\n",
    "# Print results\n",
    "print(\"Best: {} using {}\".format(random_search_results.best_score_, random_search_results.best_params_))"
   ]
  },
  {
   "cell_type": "code",
   "execution_count": 87,
   "metadata": {
    "ExecuteTime": {
     "end_time": "2019-07-21T17:45:05.242428Z",
     "start_time": "2019-07-21T17:44:50.988498Z"
    }
   },
   "outputs": [
    {
     "name": "stdout",
     "output_type": "stream",
     "text": [
      "Train on 5197 samples, validate on 1300 samples\n",
      "Epoch 1/50\n",
      "5197/5197 [==============================] - 3s 643us/step - loss: 2.3521 - mean_absolute_error: 1.1917 - val_loss: 1.2814 - val_mean_absolute_error: 0.8956\n",
      "Epoch 2/50\n",
      "5197/5197 [==============================] - 1s 118us/step - loss: 1.1009 - mean_absolute_error: 0.8168 - val_loss: 1.0491 - val_mean_absolute_error: 0.8043\n",
      "Epoch 3/50\n",
      "5197/5197 [==============================] - 1s 117us/step - loss: 0.9562 - mean_absolute_error: 0.7756 - val_loss: 1.1231 - val_mean_absolute_error: 0.8688\n",
      "Epoch 4/50\n",
      "5197/5197 [==============================] - 1s 126us/step - loss: 0.8631 - mean_absolute_error: 0.7376 - val_loss: 0.9053 - val_mean_absolute_error: 0.7579\n",
      "Epoch 5/50\n",
      "5197/5197 [==============================] - 1s 122us/step - loss: 0.8167 - mean_absolute_error: 0.7189 - val_loss: 0.8382 - val_mean_absolute_error: 0.7321\n",
      "Epoch 6/50\n",
      "5197/5197 [==============================] - 1s 117us/step - loss: 0.7924 - mean_absolute_error: 0.7058 - val_loss: 0.8024 - val_mean_absolute_error: 0.7149\n",
      "Epoch 7/50\n",
      "5197/5197 [==============================] - 1s 128us/step - loss: 0.7838 - mean_absolute_error: 0.7012 - val_loss: 0.9362 - val_mean_absolute_error: 0.7753\n",
      "Epoch 8/50\n",
      "5197/5197 [==============================] - 1s 132us/step - loss: 0.7640 - mean_absolute_error: 0.6919 - val_loss: 0.9383 - val_mean_absolute_error: 0.7728\n",
      "Epoch 9/50\n",
      "5197/5197 [==============================] - 1s 109us/step - loss: 0.7496 - mean_absolute_error: 0.6825 - val_loss: 0.9944 - val_mean_absolute_error: 0.7922\n",
      "Epoch 10/50\n",
      "5197/5197 [==============================] - 1s 110us/step - loss: 0.7529 - mean_absolute_error: 0.6852 - val_loss: 0.7606 - val_mean_absolute_error: 0.6921\n",
      "Epoch 11/50\n",
      "5197/5197 [==============================] - 1s 113us/step - loss: 0.7418 - mean_absolute_error: 0.6772 - val_loss: 0.7693 - val_mean_absolute_error: 0.6907\n",
      "Epoch 12/50\n",
      "5197/5197 [==============================] - 1s 112us/step - loss: 0.7427 - mean_absolute_error: 0.6791 - val_loss: 0.8399 - val_mean_absolute_error: 0.7233\n",
      "Epoch 13/50\n",
      "5197/5197 [==============================] - 1s 118us/step - loss: 0.7459 - mean_absolute_error: 0.6834 - val_loss: 0.8627 - val_mean_absolute_error: 0.7143\n",
      "Epoch 14/50\n",
      "5197/5197 [==============================] - 1s 110us/step - loss: 0.7416 - mean_absolute_error: 0.6784 - val_loss: 0.8204 - val_mean_absolute_error: 0.7081\n",
      "Epoch 15/50\n",
      "5197/5197 [==============================] - 1s 111us/step - loss: 0.7389 - mean_absolute_error: 0.6755 - val_loss: 0.9185 - val_mean_absolute_error: 0.7441\n"
     ]
    }
   ],
   "source": [
    "model_3 = Sequential()\n",
    "\n",
    "model_3.add(Dense(12, activation='relu', input_shape=(in_cols,)))\n",
    "model_3.add(BatchNormalization())\n",
    "model_3.add(Dense(8, activation='relu'))\n",
    "model_3.add(BatchNormalization())\n",
    "model_3.add(Dense(1))\n",
    "\n",
    "\n",
    "model_3.compile(loss='mean_squared_error', \n",
    "              optimizer='adam', \n",
    "              metrics=['mae'])\n",
    "\n",
    "model_3_training = model_3.fit(\n",
    "    X_train_scaled,\n",
    "    y_train_scaled,\n",
    "    batch_size=50,\n",
    "    epochs=50,\n",
    "    validation_data=(X_test_scaled, y_test_scaled),\n",
    "    callbacks=[early_stopping_monitor],\n",
    "    verbose=1\n",
    ")"
   ]
  },
  {
   "cell_type": "code",
   "execution_count": 83,
   "metadata": {
    "ExecuteTime": {
     "end_time": "2019-07-21T17:44:02.612626Z",
     "start_time": "2019-07-21T17:44:02.592627Z"
    }
   },
   "outputs": [],
   "source": [
    "def plot_history_regression(model): \n",
    "    fig, ax = plt.subplots(1, 2, figsize=(14, 5))\n",
    "\n",
    "    ax[0].plot(model.history['loss'])\n",
    "    ax[0].set_xlabel('Epochs')\n",
    "    ax[0].set_ylim([0, 1])\n",
    "    ax[0].set_title('Loss over Epochs')\n",
    "    ax[0].plot(model.history['val_loss'])\n",
    "    ax[0].legend(['Training loss', 'Prediction loss'])\n",
    "\n",
    "    ax[1].plot(model.history['mean_absolute_error'])\n",
    "    ax[1].set_xlabel('Epochs')\n",
    "    ax[1].set_ylim([0, 1])\n",
    "    ax[1].set_title('MAE over Epochs')\n",
    "    ax[1].plot(model.history['val_mean_absolute_error'])\n",
    "    ax[1].legend(['Training accuracy', 'Prediction accuracy'])\n",
    "\n",
    "    fig.suptitle(\"Model Quality over Epochs\")\n",
    "\n",
    "    plt.show()"
   ]
  },
  {
   "cell_type": "code",
   "execution_count": 89,
   "metadata": {
    "ExecuteTime": {
     "end_time": "2019-07-21T17:45:21.422054Z",
     "start_time": "2019-07-21T17:45:21.302058Z"
    }
   },
   "outputs": [
    {
     "name": "stdout",
     "output_type": "stream",
     "text": [
      "1300/1300 [==============================] - 0s 74us/step\n"
     ]
    },
    {
     "data": {
      "text/plain": [
       "[38.65189042311448, 6.168413204779991]"
      ]
     },
     "execution_count": 89,
     "metadata": {},
     "output_type": "execute_result"
    }
   ],
   "source": [
    "model_3.evaluate(X_test_scaled, y_test)"
   ]
  },
  {
   "cell_type": "code",
   "execution_count": 90,
   "metadata": {
    "ExecuteTime": {
     "end_time": "2019-07-21T17:45:26.473996Z",
     "start_time": "2019-07-21T17:45:25.731462Z"
    }
   },
   "outputs": [
    {
     "data": {
      "text/plain": [
       "array([[ 0.09267011],\n",
       "       [-0.20973906],\n",
       "       [ 0.00574908],\n",
       "       ...,\n",
       "       [-0.9639561 ],\n",
       "       [-0.16211668],\n",
       "       [-0.5047469 ]], dtype=float32)"
      ]
     },
     "execution_count": 90,
     "metadata": {},
     "output_type": "execute_result"
    }
   ],
   "source": [
    "model_3.predict(X_test_scaled)"
   ]
  },
  {
   "cell_type": "code",
   "execution_count": 91,
   "metadata": {
    "ExecuteTime": {
     "end_time": "2019-07-21T17:45:27.360944Z",
     "start_time": "2019-07-21T17:45:26.598012Z"
    }
   },
   "outputs": [
    {
     "data": {
      "image/png": "[encoded data removed]",
      "text/plain": [
       "<Figure size 1008x360 with 2 Axes>"
      ]
     },
     "metadata": {
      "needs_background": "light"
     },
     "output_type": "display_data"
    }
   ],
   "source": [
    "plot_history_regression(model_3_training)"
   ]
  },
  {
   "cell_type": "code",
   "execution_count": 25,
   "metadata": {
    "ExecuteTime": {
     "end_time": "2019-07-21T17:29:59.044049Z",
     "start_time": "2019-07-21T17:29:41.762835Z"
    },
    "scrolled": true
   },
   "outputs": [
    {
     "name": "stdout",
     "output_type": "stream",
     "text": [
      "Train on 5197 samples, validate on 1300 samples\n",
      "Epoch 1/50\n",
      "5197/5197 [==============================] - 3s 595us/step - loss: 0.9379 - mean_absolute_error: 0.7507 - val_loss: 0.9369 - val_mean_absolute_error: 0.7156\n",
      "Epoch 2/50\n",
      "5197/5197 [==============================] - 1s 232us/step - loss: 0.7971 - mean_absolute_error: 0.6982 - val_loss: 0.7836 - val_mean_absolute_error: 0.6746\n",
      "Epoch 3/50\n",
      "5197/5197 [==============================] - 1s 221us/step - loss: 0.7717 - mean_absolute_error: 0.6892 - val_loss: 0.7413 - val_mean_absolute_error: 0.6643\n",
      "Epoch 4/50\n",
      "5197/5197 [==============================] - 1s 219us/step - loss: 0.7605 - mean_absolute_error: 0.6829 - val_loss: 0.7268 - val_mean_absolute_error: 0.6676\n",
      "Epoch 5/50\n",
      "5197/5197 [==============================] - 1s 221us/step - loss: 0.7505 - mean_absolute_error: 0.6790 - val_loss: 0.7066 - val_mean_absolute_error: 0.6627\n",
      "Epoch 6/50\n",
      "5197/5197 [==============================] - 1s 257us/step - loss: 0.7419 - mean_absolute_error: 0.6726 - val_loss: 0.7815 - val_mean_absolute_error: 0.6842\n",
      "Epoch 7/50\n",
      "5197/5197 [==============================] - 1s 242us/step - loss: 0.7252 - mean_absolute_error: 0.6683 - val_loss: 0.7653 - val_mean_absolute_error: 0.6775\n",
      "Epoch 8/50\n",
      "5197/5197 [==============================] - 1s 238us/step - loss: 0.7317 - mean_absolute_error: 0.6716 - val_loss: 0.7853 - val_mean_absolute_error: 0.6988\n",
      "Epoch 9/50\n",
      "5197/5197 [==============================] - 1s 234us/step - loss: 0.7300 - mean_absolute_error: 0.6719 - val_loss: 0.7663 - val_mean_absolute_error: 0.6884\n",
      "Epoch 10/50\n",
      "5197/5197 [==============================] - 1s 250us/step - loss: 0.7178 - mean_absolute_error: 0.6677 - val_loss: 0.7534 - val_mean_absolute_error: 0.6848\n"
     ]
    }
   ],
   "source": [
    "model_4 = Sequential()\n",
    "\n",
    "model_4.add(Dense(100, activation='relu', input_shape=(in_cols,)))\n",
    "model_4.add(BatchNormalization())\n",
    "model_4.add(Dense(50, activation='relu'))\n",
    "model_4.add(BatchNormalization())\n",
    "model_4.add(Dense(25, activation='relu'))\n",
    "model_4.add(BatchNormalization())\n",
    "model_4.add(Dense(1))\n",
    "\n",
    "\n",
    "model_4.compile(loss='mean_squared_error', \n",
    "              optimizer='adam', \n",
    "              metrics=['mae'])\n",
    "\n",
    "model_4_training = model_4.fit(\n",
    "    X_train_scaled,\n",
    "    y_train_scaled,\n",
    "    batch_size=25,\n",
    "    epochs=50,\n",
    "    validation_data=(X_test_scaled, y_test_scaled),\n",
    "    callbacks=[early_stopping_monitor],\n",
    "    verbose=1\n",
    ")"
   ]
  },
  {
   "cell_type": "code",
   "execution_count": 92,
   "metadata": {
    "ExecuteTime": {
     "end_time": "2019-07-21T17:45:39.815138Z",
     "start_time": "2019-07-21T17:45:39.071444Z"
    }
   },
   "outputs": [],
   "source": [
    "model_4_prediction = model_4.predict(X_test_scaled)"
   ]
  },
  {
   "cell_type": "code",
   "execution_count": 93,
   "metadata": {
    "ExecuteTime": {
     "end_time": "2019-07-21T17:45:40.627865Z",
     "start_time": "2019-07-21T17:45:40.611862Z"
    }
   },
   "outputs": [
    {
     "data": {
      "text/html": [
       "<div>\n",
       "<style scoped>\n",
       "    .dataframe tbody tr th:only-of-type {\n",
       "        vertical-align: middle;\n",
       "    }\n",
       "\n",
       "    .dataframe tbody tr th {\n",
       "        vertical-align: top;\n",
       "    }\n",
       "\n",
       "    .dataframe thead th {\n",
       "        text-align: right;\n",
       "    }\n",
       "</style>\n",
       "<table border=\"1\" class=\"dataframe\">\n",
       "  <thead>\n",
       "    <tr style=\"text-align: right;\">\n",
       "      <th></th>\n",
       "      <th>0</th>\n",
       "    </tr>\n",
       "  </thead>\n",
       "  <tbody>\n",
       "    <tr>\n",
       "      <th>0</th>\n",
       "      <td>0.595982</td>\n",
       "    </tr>\n",
       "    <tr>\n",
       "      <th>1</th>\n",
       "      <td>0.543790</td>\n",
       "    </tr>\n",
       "    <tr>\n",
       "      <th>2</th>\n",
       "      <td>0.690549</td>\n",
       "    </tr>\n",
       "    <tr>\n",
       "      <th>3</th>\n",
       "      <td>0.442539</td>\n",
       "    </tr>\n",
       "    <tr>\n",
       "      <th>4</th>\n",
       "      <td>0.437065</td>\n",
       "    </tr>\n",
       "  </tbody>\n",
       "</table>\n",
       "</div>"
      ],
      "text/plain": [
       "          0\n",
       "0  0.595982\n",
       "1  0.543790\n",
       "2  0.690549\n",
       "3  0.442539\n",
       "4  0.437065"
      ]
     },
     "execution_count": 93,
     "metadata": {},
     "output_type": "execute_result"
    }
   ],
   "source": [
    "pd.DataFrame(model_4_prediction).head()"
   ]
  },
  {
   "cell_type": "code",
   "execution_count": 94,
   "metadata": {
    "ExecuteTime": {
     "end_time": "2019-07-21T17:45:42.172812Z",
     "start_time": "2019-07-21T17:45:41.580960Z"
    }
   },
   "outputs": [
    {
     "data": {
      "image/png": "[encoded data removed]",
      "text/plain": [
       "<Figure size 1008x360 with 2 Axes>"
      ]
     },
     "metadata": {
      "needs_background": "light"
     },
     "output_type": "display_data"
    }
   ],
   "source": [
    "plot_history_regression(model_4_training)"
   ]
  },
  {
   "cell_type": "code",
   "execution_count": 95,
   "metadata": {
    "ExecuteTime": {
     "end_time": "2019-07-21T17:45:45.334304Z",
     "start_time": "2019-07-21T17:45:45.326315Z"
    }
   },
   "outputs": [],
   "source": [
    "from keras.layers import Input"
   ]
  },
  {
   "cell_type": "code",
   "execution_count": 110,
   "metadata": {
    "ExecuteTime": {
     "end_time": "2019-07-21T17:56:55.119369Z",
     "start_time": "2019-07-21T17:56:55.043385Z"
    }
   },
   "outputs": [],
   "source": [
    "input_tensor = Input(shape=(in_cols,))\n",
    "output_tensor_reg = Dense(1, activation='relu')(input_tensor)\n",
    "output_tensor_class = Dense(out_cols, activation='sigmoid')(output_tensor_reg)"
   ]
  },
  {
   "cell_type": "code",
   "execution_count": 111,
   "metadata": {
    "ExecuteTime": {
     "end_time": "2019-07-21T17:56:57.962331Z",
     "start_time": "2019-07-21T17:56:57.758349Z"
    }
   },
   "outputs": [],
   "source": [
    "from keras.models import Model\n",
    "\n",
    "model = Model(input_tensor, [output_tensor_reg, output_tensor_class])\n",
    "model.compile(loss=['mean_squared_error', 'categorical_crossentropy'],\n",
    "             optimizer='adam',\n",
    "             metrics=['mean_squared_error', 'accuracy'])"
   ]
  },
  {
   "cell_type": "code",
   "execution_count": 115,
   "metadata": {
    "ExecuteTime": {
     "end_time": "2019-07-21T18:00:06.077345Z",
     "start_time": "2019-07-21T17:59:49.493363Z"
    },
    "scrolled": true
   },
   "outputs": [
    {
     "name": "stdout",
     "output_type": "stream",
     "text": [
      "Epoch 1/50\n",
      "5197/5197 [==============================] - 0s 55us/step - loss: 2.2750 - dense_43_loss: 1.0000 - dense_44_loss: 1.2750 - dense_43_mean_squared_error: 1.0000 - dense_43_acc: 0.0000e+00 - dense_44_mean_squared_error: 0.1162 - dense_44_acc: 0.4366\n",
      "Epoch 2/50\n",
      "5197/5197 [==============================] - 0s 62us/step - loss: 2.2750 - dense_43_loss: 1.0000 - dense_44_loss: 1.2750 - dense_43_mean_squared_error: 1.0000 - dense_43_acc: 0.0000e+00 - dense_44_mean_squared_error: 0.1162 - dense_44_acc: 0.4366\n",
      "Epoch 3/50\n",
      "5197/5197 [==============================] - 0s 64us/step - loss: 2.2749 - dense_43_loss: 1.0000 - dense_44_loss: 1.2749 - dense_43_mean_squared_error: 1.0000 - dense_43_acc: 0.0000e+00 - dense_44_mean_squared_error: 0.1162 - dense_44_acc: 0.4366\n",
      "Epoch 4/50\n",
      "5197/5197 [==============================] - 0s 79us/step - loss: 2.2748 - dense_43_loss: 1.0000 - dense_44_loss: 1.2748 - dense_43_mean_squared_error: 1.0000 - dense_43_acc: 0.0000e+00 - dense_44_mean_squared_error: 0.1162 - dense_44_acc: 0.4366\n",
      "Epoch 5/50\n",
      "5197/5197 [==============================] - 0s 55us/step - loss: 2.2747 - dense_43_loss: 1.0000 - dense_44_loss: 1.2747 - dense_43_mean_squared_error: 1.0000 - dense_43_acc: 0.0000e+00 - dense_44_mean_squared_error: 0.1162 - dense_44_acc: 0.4366\n",
      "Epoch 6/50\n",
      "5197/5197 [==============================] - 0s 51us/step - loss: 2.2746 - dense_43_loss: 1.0000 - dense_44_loss: 1.2746 - dense_43_mean_squared_error: 1.0000 - dense_43_acc: 0.0000e+00 - dense_44_mean_squared_error: 0.1162 - dense_44_acc: 0.4366\n",
      "Epoch 7/50\n",
      "5197/5197 [==============================] - 0s 66us/step - loss: 2.2746 - dense_43_loss: 1.0000 - dense_44_loss: 1.2746 - dense_43_mean_squared_error: 1.0000 - dense_43_acc: 0.0000e+00 - dense_44_mean_squared_error: 0.1161 - dense_44_acc: 0.4366\n",
      "Epoch 8/50\n",
      "5197/5197 [==============================] - 0s 67us/step - loss: 2.2745 - dense_43_loss: 1.0000 - dense_44_loss: 1.2745 - dense_43_mean_squared_error: 1.0000 - dense_43_acc: 0.0000e+00 - dense_44_mean_squared_error: 0.1161 - dense_44_acc: 0.4366\n",
      "Epoch 9/50\n",
      "5197/5197 [==============================] - 0s 69us/step - loss: 2.2744 - dense_43_loss: 1.0000 - dense_44_loss: 1.2744 - dense_43_mean_squared_error: 1.0000 - dense_43_acc: 0.0000e+00 - dense_44_mean_squared_error: 0.1161 - dense_44_acc: 0.4366\n",
      "Epoch 10/50\n",
      "5197/5197 [==============================] - 0s 61us/step - loss: 2.2743 - dense_43_loss: 1.0000 - dense_44_loss: 1.2743 - dense_43_mean_squared_error: 1.0000 - dense_43_acc: 0.0000e+00 - dense_44_mean_squared_error: 0.1161 - dense_44_acc: 0.4366\n",
      "Epoch 11/50\n",
      "5197/5197 [==============================] - 0s 72us/step - loss: 2.2743 - dense_43_loss: 1.0000 - dense_44_loss: 1.2743 - dense_43_mean_squared_error: 1.0000 - dense_43_acc: 0.0000e+00 - dense_44_mean_squared_error: 0.1161 - dense_44_acc: 0.4366\n",
      "Epoch 12/50\n",
      "5197/5197 [==============================] - 0s 69us/step - loss: 2.2742 - dense_43_loss: 1.0000 - dense_44_loss: 1.2742 - dense_43_mean_squared_error: 1.0000 - dense_43_acc: 0.0000e+00 - dense_44_mean_squared_error: 0.1161 - dense_44_acc: 0.4366\n",
      "Epoch 13/50\n",
      "5197/5197 [==============================] - 0s 59us/step - loss: 2.2741 - dense_43_loss: 1.0000 - dense_44_loss: 1.2741 - dense_43_mean_squared_error: 1.0000 - dense_43_acc: 0.0000e+00 - dense_44_mean_squared_error: 0.1161 - dense_44_acc: 0.4366\n",
      "Epoch 14/50\n",
      "5197/5197 [==============================] - 0s 61us/step - loss: 2.2741 - dense_43_loss: 1.0000 - dense_44_loss: 1.2741 - dense_43_mean_squared_error: 1.0000 - dense_43_acc: 0.0000e+00 - dense_44_mean_squared_error: 0.1161 - dense_44_acc: 0.4366\n",
      "Epoch 15/50\n",
      "5197/5197 [==============================] - 0s 60us/step - loss: 2.2740 - dense_43_loss: 1.0000 - dense_44_loss: 1.2740 - dense_43_mean_squared_error: 1.0000 - dense_43_acc: 0.0000e+00 - dense_44_mean_squared_error: 0.1161 - dense_44_acc: 0.4366\n",
      "Epoch 16/50\n",
      "5197/5197 [==============================] - 0s 68us/step - loss: 2.2740 - dense_43_loss: 1.0000 - dense_44_loss: 1.2740 - dense_43_mean_squared_error: 1.0000 - dense_43_acc: 0.0000e+00 - dense_44_mean_squared_error: 0.1161 - dense_44_acc: 0.4366\n",
      "Epoch 17/50\n",
      "5197/5197 [==============================] - 0s 61us/step - loss: 2.2739 - dense_43_loss: 1.0000 - dense_44_loss: 1.2739 - dense_43_mean_squared_error: 1.0000 - dense_43_acc: 0.0000e+00 - dense_44_mean_squared_error: 0.1161 - dense_44_acc: 0.4366\n",
      "Epoch 18/50\n",
      "5197/5197 [==============================] - 0s 68us/step - loss: 2.2739 - dense_43_loss: 1.0000 - dense_44_loss: 1.2739 - dense_43_mean_squared_error: 1.0000 - dense_43_acc: 0.0000e+00 - dense_44_mean_squared_error: 0.1161 - dense_44_acc: 0.4366\n",
      "Epoch 19/50\n",
      "5197/5197 [==============================] - 0s 70us/step - loss: 2.2738 - dense_43_loss: 1.0000 - dense_44_loss: 1.2738 - dense_43_mean_squared_error: 1.0000 - dense_43_acc: 0.0000e+00 - dense_44_mean_squared_error: 0.1161 - dense_44_acc: 0.4366: 0s - loss: 2.2774 - dense_43_loss: 1.0020 - dense_44_loss: 1.2754 - dense_43_mean_squared_error: 1.0020 - dense_43_acc: 0.0000e+00 - dense_44_mean_squared_error: 0.1164 - dense_44_acc: 0.4\n",
      "Epoch 20/50\n",
      "5197/5197 [==============================] - 0s 56us/step - loss: 2.2738 - dense_43_loss: 1.0000 - dense_44_loss: 1.2738 - dense_43_mean_squared_error: 1.0000 - dense_43_acc: 0.0000e+00 - dense_44_mean_squared_error: 0.1160 - dense_44_acc: 0.4366\n",
      "Epoch 21/50\n",
      "5197/5197 [==============================] - 0s 62us/step - loss: 2.2737 - dense_43_loss: 1.0000 - dense_44_loss: 1.2737 - dense_43_mean_squared_error: 1.0000 - dense_43_acc: 0.0000e+00 - dense_44_mean_squared_error: 0.1160 - dense_44_acc: 0.4366\n",
      "Epoch 22/50\n",
      "5197/5197 [==============================] - 0s 59us/step - loss: 2.2737 - dense_43_loss: 1.0000 - dense_44_loss: 1.2737 - dense_43_mean_squared_error: 1.0000 - dense_43_acc: 0.0000e+00 - dense_44_mean_squared_error: 0.1160 - dense_44_acc: 0.4366\n",
      "Epoch 23/50\n",
      "5197/5197 [==============================] - 0s 60us/step - loss: 2.2736 - dense_43_loss: 1.0000 - dense_44_loss: 1.2736 - dense_43_mean_squared_error: 1.0000 - dense_43_acc: 0.0000e+00 - dense_44_mean_squared_error: 0.1160 - dense_44_acc: 0.4366\n",
      "Epoch 24/50\n",
      "5197/5197 [==============================] - 0s 61us/step - loss: 2.2736 - dense_43_loss: 1.0000 - dense_44_loss: 1.2736 - dense_43_mean_squared_error: 1.0000 - dense_43_acc: 0.0000e+00 - dense_44_mean_squared_error: 0.1160 - dense_44_acc: 0.4366\n",
      "Epoch 25/50\n",
      "5197/5197 [==============================] - 0s 58us/step - loss: 2.2736 - dense_43_loss: 1.0000 - dense_44_loss: 1.2736 - dense_43_mean_squared_error: 1.0000 - dense_43_acc: 0.0000e+00 - dense_44_mean_squared_error: 0.1159 - dense_44_acc: 0.4366\n",
      "Epoch 26/50\n",
      "5197/5197 [==============================] - 0s 60us/step - loss: 2.2735 - dense_43_loss: 1.0000 - dense_44_loss: 1.2735 - dense_43_mean_squared_error: 1.0000 - dense_43_acc: 0.0000e+00 - dense_44_mean_squared_error: 0.1160 - dense_44_acc: 0.4366\n",
      "Epoch 27/50\n",
      "5197/5197 [==============================] - 0s 58us/step - loss: 2.2735 - dense_43_loss: 1.0000 - dense_44_loss: 1.2735 - dense_43_mean_squared_error: 1.0000 - dense_43_acc: 0.0000e+00 - dense_44_mean_squared_error: 0.1159 - dense_44_acc: 0.4366\n",
      "Epoch 28/50\n",
      "5197/5197 [==============================] - 0s 58us/step - loss: 2.2734 - dense_43_loss: 1.0000 - dense_44_loss: 1.2734 - dense_43_mean_squared_error: 1.0000 - dense_43_acc: 0.0000e+00 - dense_44_mean_squared_error: 0.1159 - dense_44_acc: 0.4366\n",
      "Epoch 29/50\n",
      "5197/5197 [==============================] - 0s 59us/step - loss: 2.2734 - dense_43_loss: 1.0000 - dense_44_loss: 1.2734 - dense_43_mean_squared_error: 1.0000 - dense_43_acc: 0.0000e+00 - dense_44_mean_squared_error: 0.1160 - dense_44_acc: 0.4366\n",
      "Epoch 30/50\n",
      "5197/5197 [==============================] - 0s 56us/step - loss: 2.2733 - dense_43_loss: 1.0000 - dense_44_loss: 1.2733 - dense_43_mean_squared_error: 1.0000 - dense_43_acc: 0.0000e+00 - dense_44_mean_squared_error: 0.1160 - dense_44_acc: 0.4366\n",
      "Epoch 31/50\n"
     ]
    },
    {
     "name": "stdout",
     "output_type": "stream",
     "text": [
      "5197/5197 [==============================] - 0s 59us/step - loss: 2.2733 - dense_43_loss: 1.0000 - dense_44_loss: 1.2733 - dense_43_mean_squared_error: 1.0000 - dense_43_acc: 0.0000e+00 - dense_44_mean_squared_error: 0.1160 - dense_44_acc: 0.4366\n",
      "Epoch 32/50\n",
      "5197/5197 [==============================] - 0s 62us/step - loss: 2.2733 - dense_43_loss: 1.0000 - dense_44_loss: 1.2733 - dense_43_mean_squared_error: 1.0000 - dense_43_acc: 0.0000e+00 - dense_44_mean_squared_error: 0.1160 - dense_44_acc: 0.4366\n",
      "Epoch 33/50\n",
      "5197/5197 [==============================] - 0s 70us/step - loss: 2.2733 - dense_43_loss: 1.0000 - dense_44_loss: 1.2733 - dense_43_mean_squared_error: 1.0000 - dense_43_acc: 0.0000e+00 - dense_44_mean_squared_error: 0.1160 - dense_44_acc: 0.4366\n",
      "Epoch 34/50\n",
      "5197/5197 [==============================] - 0s 65us/step - loss: 2.2732 - dense_43_loss: 1.0000 - dense_44_loss: 1.2732 - dense_43_mean_squared_error: 1.0000 - dense_43_acc: 0.0000e+00 - dense_44_mean_squared_error: 0.1159 - dense_44_acc: 0.4366\n",
      "Epoch 35/50\n",
      "5197/5197 [==============================] - 0s 69us/step - loss: 2.2732 - dense_43_loss: 1.0000 - dense_44_loss: 1.2732 - dense_43_mean_squared_error: 1.0000 - dense_43_acc: 0.0000e+00 - dense_44_mean_squared_error: 0.1159 - dense_44_acc: 0.4366\n",
      "Epoch 36/50\n",
      "5197/5197 [==============================] - 0s 64us/step - loss: 2.2732 - dense_43_loss: 1.0000 - dense_44_loss: 1.2732 - dense_43_mean_squared_error: 1.0000 - dense_43_acc: 0.0000e+00 - dense_44_mean_squared_error: 0.1159 - dense_44_acc: 0.4366\n",
      "Epoch 37/50\n",
      "5197/5197 [==============================] - 0s 68us/step - loss: 2.2731 - dense_43_loss: 1.0000 - dense_44_loss: 1.2731 - dense_43_mean_squared_error: 1.0000 - dense_43_acc: 0.0000e+00 - dense_44_mean_squared_error: 0.1159 - dense_44_acc: 0.4366\n",
      "Epoch 38/50\n",
      "5197/5197 [==============================] - 0s 69us/step - loss: 2.2731 - dense_43_loss: 1.0000 - dense_44_loss: 1.2731 - dense_43_mean_squared_error: 1.0000 - dense_43_acc: 0.0000e+00 - dense_44_mean_squared_error: 0.1159 - dense_44_acc: 0.4366\n",
      "Epoch 39/50\n",
      "5197/5197 [==============================] - 0s 66us/step - loss: 2.2731 - dense_43_loss: 1.0000 - dense_44_loss: 1.2731 - dense_43_mean_squared_error: 1.0000 - dense_43_acc: 0.0000e+00 - dense_44_mean_squared_error: 0.1159 - dense_44_acc: 0.4366\n",
      "Epoch 40/50\n",
      "5197/5197 [==============================] - 0s 65us/step - loss: 2.2731 - dense_43_loss: 1.0000 - dense_44_loss: 1.2731 - dense_43_mean_squared_error: 1.0000 - dense_43_acc: 0.0000e+00 - dense_44_mean_squared_error: 0.1159 - dense_44_acc: 0.4366\n",
      "Epoch 41/50\n",
      "5197/5197 [==============================] - 0s 60us/step - loss: 2.2730 - dense_43_loss: 1.0000 - dense_44_loss: 1.2730 - dense_43_mean_squared_error: 1.0000 - dense_43_acc: 0.0000e+00 - dense_44_mean_squared_error: 0.1160 - dense_44_acc: 0.4366\n",
      "Epoch 42/50\n",
      "5197/5197 [==============================] - 0s 58us/step - loss: 2.2730 - dense_43_loss: 1.0000 - dense_44_loss: 1.2730 - dense_43_mean_squared_error: 1.0000 - dense_43_acc: 0.0000e+00 - dense_44_mean_squared_error: 0.1159 - dense_44_acc: 0.4366\n",
      "Epoch 43/50\n",
      "5197/5197 [==============================] - 0s 59us/step - loss: 2.2730 - dense_43_loss: 1.0000 - dense_44_loss: 1.2730 - dense_43_mean_squared_error: 1.0000 - dense_43_acc: 0.0000e+00 - dense_44_mean_squared_error: 0.1159 - dense_44_acc: 0.4366\n",
      "Epoch 44/50\n",
      "5197/5197 [==============================] - 0s 61us/step - loss: 2.2730 - dense_43_loss: 1.0000 - dense_44_loss: 1.2730 - dense_43_mean_squared_error: 1.0000 - dense_43_acc: 0.0000e+00 - dense_44_mean_squared_error: 0.1159 - dense_44_acc: 0.4366\n",
      "Epoch 45/50\n",
      "5197/5197 [==============================] - 0s 61us/step - loss: 2.2729 - dense_43_loss: 1.0000 - dense_44_loss: 1.2729 - dense_43_mean_squared_error: 1.0000 - dense_43_acc: 0.0000e+00 - dense_44_mean_squared_error: 0.1159 - dense_44_acc: 0.4366\n",
      "Epoch 46/50\n",
      "5197/5197 [==============================] - 0s 58us/step - loss: 2.2729 - dense_43_loss: 1.0000 - dense_44_loss: 1.2729 - dense_43_mean_squared_error: 1.0000 - dense_43_acc: 0.0000e+00 - dense_44_mean_squared_error: 0.1159 - dense_44_acc: 0.4366\n",
      "Epoch 47/50\n",
      "5197/5197 [==============================] - 0s 63us/step - loss: 2.2729 - dense_43_loss: 1.0000 - dense_44_loss: 1.2729 - dense_43_mean_squared_error: 1.0000 - dense_43_acc: 0.0000e+00 - dense_44_mean_squared_error: 0.1159 - dense_44_acc: 0.4366\n",
      "Epoch 48/50\n",
      "5197/5197 [==============================] - 0s 60us/step - loss: 2.2729 - dense_43_loss: 1.0000 - dense_44_loss: 1.2729 - dense_43_mean_squared_error: 1.0000 - dense_43_acc: 0.0000e+00 - dense_44_mean_squared_error: 0.1160 - dense_44_acc: 0.4366\n",
      "Epoch 49/50\n",
      "5197/5197 [==============================] - 0s 58us/step - loss: 2.2728 - dense_43_loss: 1.0000 - dense_44_loss: 1.2728 - dense_43_mean_squared_error: 1.0000 - dense_43_acc: 0.0000e+00 - dense_44_mean_squared_error: 0.1160 - dense_44_acc: 0.4366\n",
      "Epoch 50/50\n",
      "5197/5197 [==============================] - 0s 60us/step - loss: 2.2728 - dense_43_loss: 1.0000 - dense_44_loss: 1.2728 - dense_43_mean_squared_error: 1.0000 - dense_43_acc: 0.0000e+00 - dense_44_mean_squared_error: 0.1160 - dense_44_acc: 0.4366\n"
     ]
    }
   ],
   "source": [
    "X = X_train_scaled\n",
    "y_reg = y_train_scaled\n",
    "y_class = y_train_class\n",
    "\n",
    "model_5_training = model.fit(X, [y_reg, y_class], batch_size=75, epochs=50)"
   ]
  },
  {
   "cell_type": "code",
   "execution_count": 113,
   "metadata": {
    "ExecuteTime": {
     "end_time": "2019-07-21T17:58:17.278028Z",
     "start_time": "2019-07-21T17:58:15.981031Z"
    }
   },
   "outputs": [
    {
     "name": "stdout",
     "output_type": "stream",
     "text": [
      "5197/5197 [==============================] - 1s 245us/step\n"
     ]
    },
    {
     "data": {
      "text/plain": [
       "[2.2750547589167556,\n",
       " 1.0000000207131015,\n",
       " 1.2750547326985107,\n",
       " 1.0000000207131015,\n",
       " 0.0,\n",
       " 0.11620209151755302,\n",
       " 0.4365980373980427]"
      ]
     },
     "execution_count": 113,
     "metadata": {},
     "output_type": "execute_result"
    }
   ],
   "source": [
    "model.evaluate(X, [y_reg, y_class])"
   ]
  },
  {
   "cell_type": "code",
   "execution_count": 114,
   "metadata": {
    "ExecuteTime": {
     "end_time": "2019-07-21T17:58:19.047445Z",
     "start_time": "2019-07-21T17:58:18.927434Z"
    }
   },
   "outputs": [
    {
     "name": "stdout",
     "output_type": "stream",
     "text": [
      "1300/1300 [==============================] - 0s 83us/step\n"
     ]
    },
    {
     "data": {
      "text/plain": [
       "[2.2830030793410083,\n",
       " 0.9987460224445049,\n",
       " 1.2842570612980768,\n",
       " 0.9987460224445049,\n",
       " 0.0,\n",
       " 0.11747603187194237,\n",
       " 0.4361538463372451]"
      ]
     },
     "execution_count": 114,
     "metadata": {},
     "output_type": "execute_result"
    }
   ],
   "source": [
    "model.evaluate(X_test_scaled, [y_test_scaled, y_test_class])"
   ]
  },
  {
   "cell_type": "code",
   "execution_count": null,
   "metadata": {},
   "outputs": [],
   "source": []
  }
 ],
 "metadata": {
  "kernelspec": {
   "display_name": "Python 3",
   "language": "python",
   "name": "python3"
  },
  "language_info": {
   "codemirror_mode": {
    "name": "ipython",
    "version": 3
   },
   "file_extension": ".py",
   "mimetype": "text/x-python",
   "name": "python",
   "nbconvert_exporter": "python",
   "pygments_lexer": "ipython3",
   "version": "3.7.3"
  }
 },
 "nbformat": 4,
 "nbformat_minor": 2
}
