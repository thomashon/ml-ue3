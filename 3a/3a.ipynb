{
 "cells": [
  {
   "cell_type": "code",
   "execution_count": 35,
   "metadata": {
    "ExecuteTime": {
     "end_time": "2019-07-20T21:34:33.736623Z",
     "start_time": "2019-07-20T21:34:33.669626Z"
    }
   },
   "outputs": [],
   "source": [
    "import pandas as pd\n",
    "import numpy as np\n",
    "import matplotlib.pyplot as plt\n",
    "import seaborn as sns\n",
    "\n",
    "white = pd.read_csv('winequality-white.csv', sep=';')\n",
    "red = pd.read_csv('winequality-red.csv', sep=';')"
   ]
  },
  {
   "cell_type": "code",
   "execution_count": 36,
   "metadata": {
    "ExecuteTime": {
     "end_time": "2019-07-20T21:34:33.985630Z",
     "start_time": "2019-07-20T21:34:33.747620Z"
    }
   },
   "outputs": [
    {
     "data": {
      "text/html": [
       "<div>\n",
       "<style scoped>\n",
       "    .dataframe tbody tr th:only-of-type {\n",
       "        vertical-align: middle;\n",
       "    }\n",
       "\n",
       "    .dataframe tbody tr th {\n",
       "        vertical-align: top;\n",
       "    }\n",
       "\n",
       "    .dataframe thead th {\n",
       "        text-align: right;\n",
       "    }\n",
       "</style>\n",
       "<table border=\"1\" class=\"dataframe\">\n",
       "  <thead>\n",
       "    <tr style=\"text-align: right;\">\n",
       "      <th></th>\n",
       "      <th>fixed acidity</th>\n",
       "      <th>volatile acidity</th>\n",
       "      <th>citric acid</th>\n",
       "      <th>residual sugar</th>\n",
       "      <th>chlorides</th>\n",
       "      <th>free sulfur dioxide</th>\n",
       "      <th>total sulfur dioxide</th>\n",
       "      <th>density</th>\n",
       "      <th>pH</th>\n",
       "      <th>sulphates</th>\n",
       "      <th>alcohol</th>\n",
       "      <th>quality</th>\n",
       "    </tr>\n",
       "  </thead>\n",
       "  <tbody>\n",
       "    <tr>\n",
       "      <th>count</th>\n",
       "      <td>4898.000000</td>\n",
       "      <td>4898.000000</td>\n",
       "      <td>4898.000000</td>\n",
       "      <td>4898.000000</td>\n",
       "      <td>4898.000000</td>\n",
       "      <td>4898.000000</td>\n",
       "      <td>4898.000000</td>\n",
       "      <td>4898.000000</td>\n",
       "      <td>4898.000000</td>\n",
       "      <td>4898.000000</td>\n",
       "      <td>4898.000000</td>\n",
       "      <td>4898.000000</td>\n",
       "    </tr>\n",
       "    <tr>\n",
       "      <th>mean</th>\n",
       "      <td>6.854788</td>\n",
       "      <td>0.278241</td>\n",
       "      <td>0.334192</td>\n",
       "      <td>6.391415</td>\n",
       "      <td>0.045772</td>\n",
       "      <td>35.308085</td>\n",
       "      <td>138.360657</td>\n",
       "      <td>0.994027</td>\n",
       "      <td>3.188267</td>\n",
       "      <td>0.489847</td>\n",
       "      <td>10.514267</td>\n",
       "      <td>5.877909</td>\n",
       "    </tr>\n",
       "    <tr>\n",
       "      <th>std</th>\n",
       "      <td>0.843868</td>\n",
       "      <td>0.100795</td>\n",
       "      <td>0.121020</td>\n",
       "      <td>5.072058</td>\n",
       "      <td>0.021848</td>\n",
       "      <td>17.007137</td>\n",
       "      <td>42.498065</td>\n",
       "      <td>0.002991</td>\n",
       "      <td>0.151001</td>\n",
       "      <td>0.114126</td>\n",
       "      <td>1.230621</td>\n",
       "      <td>0.885639</td>\n",
       "    </tr>\n",
       "    <tr>\n",
       "      <th>min</th>\n",
       "      <td>3.800000</td>\n",
       "      <td>0.080000</td>\n",
       "      <td>0.000000</td>\n",
       "      <td>0.600000</td>\n",
       "      <td>0.009000</td>\n",
       "      <td>2.000000</td>\n",
       "      <td>9.000000</td>\n",
       "      <td>0.987110</td>\n",
       "      <td>2.720000</td>\n",
       "      <td>0.220000</td>\n",
       "      <td>8.000000</td>\n",
       "      <td>3.000000</td>\n",
       "    </tr>\n",
       "    <tr>\n",
       "      <th>25%</th>\n",
       "      <td>6.300000</td>\n",
       "      <td>0.210000</td>\n",
       "      <td>0.270000</td>\n",
       "      <td>1.700000</td>\n",
       "      <td>0.036000</td>\n",
       "      <td>23.000000</td>\n",
       "      <td>108.000000</td>\n",
       "      <td>0.991723</td>\n",
       "      <td>3.090000</td>\n",
       "      <td>0.410000</td>\n",
       "      <td>9.500000</td>\n",
       "      <td>5.000000</td>\n",
       "    </tr>\n",
       "    <tr>\n",
       "      <th>50%</th>\n",
       "      <td>6.800000</td>\n",
       "      <td>0.260000</td>\n",
       "      <td>0.320000</td>\n",
       "      <td>5.200000</td>\n",
       "      <td>0.043000</td>\n",
       "      <td>34.000000</td>\n",
       "      <td>134.000000</td>\n",
       "      <td>0.993740</td>\n",
       "      <td>3.180000</td>\n",
       "      <td>0.470000</td>\n",
       "      <td>10.400000</td>\n",
       "      <td>6.000000</td>\n",
       "    </tr>\n",
       "    <tr>\n",
       "      <th>75%</th>\n",
       "      <td>7.300000</td>\n",
       "      <td>0.320000</td>\n",
       "      <td>0.390000</td>\n",
       "      <td>9.900000</td>\n",
       "      <td>0.050000</td>\n",
       "      <td>46.000000</td>\n",
       "      <td>167.000000</td>\n",
       "      <td>0.996100</td>\n",
       "      <td>3.280000</td>\n",
       "      <td>0.550000</td>\n",
       "      <td>11.400000</td>\n",
       "      <td>6.000000</td>\n",
       "    </tr>\n",
       "    <tr>\n",
       "      <th>max</th>\n",
       "      <td>14.200000</td>\n",
       "      <td>1.100000</td>\n",
       "      <td>1.660000</td>\n",
       "      <td>65.800000</td>\n",
       "      <td>0.346000</td>\n",
       "      <td>289.000000</td>\n",
       "      <td>440.000000</td>\n",
       "      <td>1.038980</td>\n",
       "      <td>3.820000</td>\n",
       "      <td>1.080000</td>\n",
       "      <td>14.200000</td>\n",
       "      <td>9.000000</td>\n",
       "    </tr>\n",
       "  </tbody>\n",
       "</table>\n",
       "</div>"
      ],
      "text/plain": [
       "       fixed acidity  volatile acidity  citric acid  residual sugar  \\\n",
       "count    4898.000000       4898.000000  4898.000000     4898.000000   \n",
       "mean        6.854788          0.278241     0.334192        6.391415   \n",
       "std         0.843868          0.100795     0.121020        5.072058   \n",
       "min         3.800000          0.080000     0.000000        0.600000   \n",
       "25%         6.300000          0.210000     0.270000        1.700000   \n",
       "50%         6.800000          0.260000     0.320000        5.200000   \n",
       "75%         7.300000          0.320000     0.390000        9.900000   \n",
       "max        14.200000          1.100000     1.660000       65.800000   \n",
       "\n",
       "         chlorides  free sulfur dioxide  total sulfur dioxide      density  \\\n",
       "count  4898.000000          4898.000000           4898.000000  4898.000000   \n",
       "mean      0.045772            35.308085            138.360657     0.994027   \n",
       "std       0.021848            17.007137             42.498065     0.002991   \n",
       "min       0.009000             2.000000              9.000000     0.987110   \n",
       "25%       0.036000            23.000000            108.000000     0.991723   \n",
       "50%       0.043000            34.000000            134.000000     0.993740   \n",
       "75%       0.050000            46.000000            167.000000     0.996100   \n",
       "max       0.346000           289.000000            440.000000     1.038980   \n",
       "\n",
       "                pH    sulphates      alcohol      quality  \n",
       "count  4898.000000  4898.000000  4898.000000  4898.000000  \n",
       "mean      3.188267     0.489847    10.514267     5.877909  \n",
       "std       0.151001     0.114126     1.230621     0.885639  \n",
       "min       2.720000     0.220000     8.000000     3.000000  \n",
       "25%       3.090000     0.410000     9.500000     5.000000  \n",
       "50%       3.180000     0.470000    10.400000     6.000000  \n",
       "75%       3.280000     0.550000    11.400000     6.000000  \n",
       "max       3.820000     1.080000    14.200000     9.000000  "
      ]
     },
     "execution_count": 36,
     "metadata": {},
     "output_type": "execute_result"
    }
   ],
   "source": [
    "white.describe()"
   ]
  },
  {
   "cell_type": "code",
   "execution_count": 37,
   "metadata": {
    "ExecuteTime": {
     "end_time": "2019-07-20T21:34:34.145626Z",
     "start_time": "2019-07-20T21:34:33.992623Z"
    }
   },
   "outputs": [
    {
     "data": {
      "text/html": [
       "<div>\n",
       "<style scoped>\n",
       "    .dataframe tbody tr th:only-of-type {\n",
       "        vertical-align: middle;\n",
       "    }\n",
       "\n",
       "    .dataframe tbody tr th {\n",
       "        vertical-align: top;\n",
       "    }\n",
       "\n",
       "    .dataframe thead th {\n",
       "        text-align: right;\n",
       "    }\n",
       "</style>\n",
       "<table border=\"1\" class=\"dataframe\">\n",
       "  <thead>\n",
       "    <tr style=\"text-align: right;\">\n",
       "      <th></th>\n",
       "      <th>fixed acidity</th>\n",
       "      <th>volatile acidity</th>\n",
       "      <th>citric acid</th>\n",
       "      <th>residual sugar</th>\n",
       "      <th>chlorides</th>\n",
       "      <th>free sulfur dioxide</th>\n",
       "      <th>total sulfur dioxide</th>\n",
       "      <th>density</th>\n",
       "      <th>pH</th>\n",
       "      <th>sulphates</th>\n",
       "      <th>alcohol</th>\n",
       "      <th>quality</th>\n",
       "    </tr>\n",
       "  </thead>\n",
       "  <tbody>\n",
       "    <tr>\n",
       "      <th>count</th>\n",
       "      <td>1599.000000</td>\n",
       "      <td>1599.000000</td>\n",
       "      <td>1599.000000</td>\n",
       "      <td>1599.000000</td>\n",
       "      <td>1599.000000</td>\n",
       "      <td>1599.000000</td>\n",
       "      <td>1599.000000</td>\n",
       "      <td>1599.000000</td>\n",
       "      <td>1599.000000</td>\n",
       "      <td>1599.000000</td>\n",
       "      <td>1599.000000</td>\n",
       "      <td>1599.000000</td>\n",
       "    </tr>\n",
       "    <tr>\n",
       "      <th>mean</th>\n",
       "      <td>8.319637</td>\n",
       "      <td>0.527821</td>\n",
       "      <td>0.270976</td>\n",
       "      <td>2.538806</td>\n",
       "      <td>0.087467</td>\n",
       "      <td>15.874922</td>\n",
       "      <td>46.467792</td>\n",
       "      <td>0.996747</td>\n",
       "      <td>3.311113</td>\n",
       "      <td>0.658149</td>\n",
       "      <td>10.422983</td>\n",
       "      <td>5.636023</td>\n",
       "    </tr>\n",
       "    <tr>\n",
       "      <th>std</th>\n",
       "      <td>1.741096</td>\n",
       "      <td>0.179060</td>\n",
       "      <td>0.194801</td>\n",
       "      <td>1.409928</td>\n",
       "      <td>0.047065</td>\n",
       "      <td>10.460157</td>\n",
       "      <td>32.895324</td>\n",
       "      <td>0.001887</td>\n",
       "      <td>0.154386</td>\n",
       "      <td>0.169507</td>\n",
       "      <td>1.065668</td>\n",
       "      <td>0.807569</td>\n",
       "    </tr>\n",
       "    <tr>\n",
       "      <th>min</th>\n",
       "      <td>4.600000</td>\n",
       "      <td>0.120000</td>\n",
       "      <td>0.000000</td>\n",
       "      <td>0.900000</td>\n",
       "      <td>0.012000</td>\n",
       "      <td>1.000000</td>\n",
       "      <td>6.000000</td>\n",
       "      <td>0.990070</td>\n",
       "      <td>2.740000</td>\n",
       "      <td>0.330000</td>\n",
       "      <td>8.400000</td>\n",
       "      <td>3.000000</td>\n",
       "    </tr>\n",
       "    <tr>\n",
       "      <th>25%</th>\n",
       "      <td>7.100000</td>\n",
       "      <td>0.390000</td>\n",
       "      <td>0.090000</td>\n",
       "      <td>1.900000</td>\n",
       "      <td>0.070000</td>\n",
       "      <td>7.000000</td>\n",
       "      <td>22.000000</td>\n",
       "      <td>0.995600</td>\n",
       "      <td>3.210000</td>\n",
       "      <td>0.550000</td>\n",
       "      <td>9.500000</td>\n",
       "      <td>5.000000</td>\n",
       "    </tr>\n",
       "    <tr>\n",
       "      <th>50%</th>\n",
       "      <td>7.900000</td>\n",
       "      <td>0.520000</td>\n",
       "      <td>0.260000</td>\n",
       "      <td>2.200000</td>\n",
       "      <td>0.079000</td>\n",
       "      <td>14.000000</td>\n",
       "      <td>38.000000</td>\n",
       "      <td>0.996750</td>\n",
       "      <td>3.310000</td>\n",
       "      <td>0.620000</td>\n",
       "      <td>10.200000</td>\n",
       "      <td>6.000000</td>\n",
       "    </tr>\n",
       "    <tr>\n",
       "      <th>75%</th>\n",
       "      <td>9.200000</td>\n",
       "      <td>0.640000</td>\n",
       "      <td>0.420000</td>\n",
       "      <td>2.600000</td>\n",
       "      <td>0.090000</td>\n",
       "      <td>21.000000</td>\n",
       "      <td>62.000000</td>\n",
       "      <td>0.997835</td>\n",
       "      <td>3.400000</td>\n",
       "      <td>0.730000</td>\n",
       "      <td>11.100000</td>\n",
       "      <td>6.000000</td>\n",
       "    </tr>\n",
       "    <tr>\n",
       "      <th>max</th>\n",
       "      <td>15.900000</td>\n",
       "      <td>1.580000</td>\n",
       "      <td>1.000000</td>\n",
       "      <td>15.500000</td>\n",
       "      <td>0.611000</td>\n",
       "      <td>72.000000</td>\n",
       "      <td>289.000000</td>\n",
       "      <td>1.003690</td>\n",
       "      <td>4.010000</td>\n",
       "      <td>2.000000</td>\n",
       "      <td>14.900000</td>\n",
       "      <td>8.000000</td>\n",
       "    </tr>\n",
       "  </tbody>\n",
       "</table>\n",
       "</div>"
      ],
      "text/plain": [
       "       fixed acidity  volatile acidity  citric acid  residual sugar  \\\n",
       "count    1599.000000       1599.000000  1599.000000     1599.000000   \n",
       "mean        8.319637          0.527821     0.270976        2.538806   \n",
       "std         1.741096          0.179060     0.194801        1.409928   \n",
       "min         4.600000          0.120000     0.000000        0.900000   \n",
       "25%         7.100000          0.390000     0.090000        1.900000   \n",
       "50%         7.900000          0.520000     0.260000        2.200000   \n",
       "75%         9.200000          0.640000     0.420000        2.600000   \n",
       "max        15.900000          1.580000     1.000000       15.500000   \n",
       "\n",
       "         chlorides  free sulfur dioxide  total sulfur dioxide      density  \\\n",
       "count  1599.000000          1599.000000           1599.000000  1599.000000   \n",
       "mean      0.087467            15.874922             46.467792     0.996747   \n",
       "std       0.047065            10.460157             32.895324     0.001887   \n",
       "min       0.012000             1.000000              6.000000     0.990070   \n",
       "25%       0.070000             7.000000             22.000000     0.995600   \n",
       "50%       0.079000            14.000000             38.000000     0.996750   \n",
       "75%       0.090000            21.000000             62.000000     0.997835   \n",
       "max       0.611000            72.000000            289.000000     1.003690   \n",
       "\n",
       "                pH    sulphates      alcohol      quality  \n",
       "count  1599.000000  1599.000000  1599.000000  1599.000000  \n",
       "mean      3.311113     0.658149    10.422983     5.636023  \n",
       "std       0.154386     0.169507     1.065668     0.807569  \n",
       "min       2.740000     0.330000     8.400000     3.000000  \n",
       "25%       3.210000     0.550000     9.500000     5.000000  \n",
       "50%       3.310000     0.620000    10.200000     6.000000  \n",
       "75%       3.400000     0.730000    11.100000     6.000000  \n",
       "max       4.010000     2.000000    14.900000     8.000000  "
      ]
     },
     "execution_count": 37,
     "metadata": {},
     "output_type": "execute_result"
    }
   ],
   "source": [
    "red.describe()"
   ]
  },
  {
   "cell_type": "code",
   "execution_count": 38,
   "metadata": {
    "ExecuteTime": {
     "end_time": "2019-07-20T21:34:34.197615Z",
     "start_time": "2019-07-20T21:34:34.153620Z"
    },
    "scrolled": true
   },
   "outputs": [
    {
     "name": "stdout",
     "output_type": "stream",
     "text": [
      "<class 'pandas.core.frame.DataFrame'>\n",
      "RangeIndex: 4898 entries, 0 to 4897\n",
      "Data columns (total 12 columns):\n",
      "fixed acidity           4898 non-null float64\n",
      "volatile acidity        4898 non-null float64\n",
      "citric acid             4898 non-null float64\n",
      "residual sugar          4898 non-null float64\n",
      "chlorides               4898 non-null float64\n",
      "free sulfur dioxide     4898 non-null float64\n",
      "total sulfur dioxide    4898 non-null float64\n",
      "density                 4898 non-null float64\n",
      "pH                      4898 non-null float64\n",
      "sulphates               4898 non-null float64\n",
      "alcohol                 4898 non-null float64\n",
      "quality                 4898 non-null int64\n",
      "dtypes: float64(11), int64(1)\n",
      "memory usage: 459.3 KB\n"
     ]
    }
   ],
   "source": [
    "white.info()"
   ]
  },
  {
   "cell_type": "code",
   "execution_count": 39,
   "metadata": {
    "ExecuteTime": {
     "end_time": "2019-07-20T21:34:34.254639Z",
     "start_time": "2019-07-20T21:34:34.207619Z"
    },
    "scrolled": true
   },
   "outputs": [
    {
     "name": "stdout",
     "output_type": "stream",
     "text": [
      "<class 'pandas.core.frame.DataFrame'>\n",
      "RangeIndex: 1599 entries, 0 to 1598\n",
      "Data columns (total 12 columns):\n",
      "fixed acidity           1599 non-null float64\n",
      "volatile acidity        1599 non-null float64\n",
      "citric acid             1599 non-null float64\n",
      "residual sugar          1599 non-null float64\n",
      "chlorides               1599 non-null float64\n",
      "free sulfur dioxide     1599 non-null float64\n",
      "total sulfur dioxide    1599 non-null float64\n",
      "density                 1599 non-null float64\n",
      "pH                      1599 non-null float64\n",
      "sulphates               1599 non-null float64\n",
      "alcohol                 1599 non-null float64\n",
      "quality                 1599 non-null int64\n",
      "dtypes: float64(11), int64(1)\n",
      "memory usage: 150.0 KB\n"
     ]
    }
   ],
   "source": [
    "red.info()"
   ]
  },
  {
   "cell_type": "code",
   "execution_count": 40,
   "metadata": {
    "ExecuteTime": {
     "end_time": "2019-07-20T21:34:34.286636Z",
     "start_time": "2019-07-20T21:34:34.263619Z"
    }
   },
   "outputs": [],
   "source": [
    "red['type'] = 1\n",
    "white['type'] = 0\n",
    "\n",
    "wines = red.append(white, ignore_index=True)"
   ]
  },
  {
   "cell_type": "code",
   "execution_count": 41,
   "metadata": {
    "ExecuteTime": {
     "end_time": "2019-07-20T21:34:34.323649Z",
     "start_time": "2019-07-20T21:34:34.295619Z"
    }
   },
   "outputs": [
    {
     "data": {
      "text/plain": [
       "False"
      ]
     },
     "execution_count": 41,
     "metadata": {},
     "output_type": "execute_result"
    }
   ],
   "source": [
    "wines.isna().any().any()"
   ]
  },
  {
   "cell_type": "code",
   "execution_count": 42,
   "metadata": {
    "ExecuteTime": {
     "end_time": "2019-07-20T21:34:35.080744Z",
     "start_time": "2019-07-20T21:34:34.336622Z"
    }
   },
   "outputs": [
    {
     "data": {
      "text/plain": [
       "<matplotlib.axes._subplots.AxesSubplot at 0x221e4e14dd8>"
      ]
     },
     "execution_count": 42,
     "metadata": {},
     "output_type": "execute_result"
    },
    {
     "data": {
      "image/png": "[encoded data removed]",
      "text/plain": [
       "<Figure size 432x288 with 1 Axes>"
      ]
     },
     "metadata": {
      "needs_background": "light"
     },
     "output_type": "display_data"
    }
   ],
   "source": [
    "wines.quality.hist()"
   ]
  },
  {
   "cell_type": "code",
   "execution_count": 43,
   "metadata": {
    "ExecuteTime": {
     "end_time": "2019-07-20T21:34:35.113747Z",
     "start_time": "2019-07-20T21:34:35.089745Z"
    }
   },
   "outputs": [
    {
     "data": {
      "text/plain": [
       "6    2836\n",
       "5    2138\n",
       "7    1079\n",
       "4     216\n",
       "8     193\n",
       "3      30\n",
       "9       5\n",
       "Name: quality, dtype: int64"
      ]
     },
     "execution_count": 43,
     "metadata": {},
     "output_type": "execute_result"
    }
   ],
   "source": [
    "wines.quality.value_counts()"
   ]
  },
  {
   "cell_type": "code",
   "execution_count": 44,
   "metadata": {
    "ExecuteTime": {
     "end_time": "2019-07-20T21:34:35.178754Z",
     "start_time": "2019-07-20T21:34:35.122747Z"
    }
   },
   "outputs": [
    {
     "data": {
      "text/plain": [
       "total sulfur dioxide   -0.700357\n",
       "free sulfur dioxide    -0.471644\n",
       "residual sugar         -0.348821\n",
       "citric acid            -0.187397\n",
       "quality                -0.119323\n",
       "alcohol                -0.032970\n",
       "pH                      0.329129\n",
       "density                 0.390645\n",
       "fixed acidity           0.486740\n",
       "sulphates               0.487218\n",
       "chlorides               0.512678\n",
       "volatile acidity        0.653036\n",
       "type                    1.000000\n",
       "Name: type, dtype: float64"
      ]
     },
     "execution_count": 44,
     "metadata": {},
     "output_type": "execute_result"
    }
   ],
   "source": [
    "wines.corr()['type'].sort_values()"
   ]
  },
  {
   "cell_type": "code",
   "execution_count": 45,
   "metadata": {
    "ExecuteTime": {
     "end_time": "2019-07-20T21:34:36.002756Z",
     "start_time": "2019-07-20T21:34:35.192751Z"
    }
   },
   "outputs": [
    {
     "data": {
      "image/png": "[encoded data removed]",
      "text/plain": [
       "<Figure size 576x576 with 2 Axes>"
      ]
     },
     "metadata": {
      "needs_background": "light"
     },
     "output_type": "display_data"
    }
   ],
   "source": [
    "plt.figure(figsize=(8, 8))\n",
    "sns.heatmap(wines.corr(), square=True, cmap=\"YlGnBu\")\n",
    "plt.show()"
   ]
  },
  {
   "cell_type": "code",
   "execution_count": 46,
   "metadata": {
    "ExecuteTime": {
     "end_time": "2019-07-20T21:34:36.070749Z",
     "start_time": "2019-07-20T21:34:36.009747Z"
    }
   },
   "outputs": [
    {
     "data": {
      "text/html": [
       "<div>\n",
       "<style scoped>\n",
       "    .dataframe tbody tr th:only-of-type {\n",
       "        vertical-align: middle;\n",
       "    }\n",
       "\n",
       "    .dataframe tbody tr th {\n",
       "        vertical-align: top;\n",
       "    }\n",
       "\n",
       "    .dataframe thead th {\n",
       "        text-align: right;\n",
       "    }\n",
       "</style>\n",
       "<table border=\"1\" class=\"dataframe\">\n",
       "  <thead>\n",
       "    <tr style=\"text-align: right;\">\n",
       "      <th></th>\n",
       "      <th>fixed acidity</th>\n",
       "      <th>volatile acidity</th>\n",
       "      <th>citric acid</th>\n",
       "      <th>residual sugar</th>\n",
       "      <th>chlorides</th>\n",
       "      <th>free sulfur dioxide</th>\n",
       "      <th>total sulfur dioxide</th>\n",
       "      <th>density</th>\n",
       "      <th>pH</th>\n",
       "      <th>sulphates</th>\n",
       "      <th>alcohol</th>\n",
       "      <th>quality</th>\n",
       "      <th>type</th>\n",
       "    </tr>\n",
       "  </thead>\n",
       "  <tbody>\n",
       "    <tr>\n",
       "      <th>0</th>\n",
       "      <td>7.4</td>\n",
       "      <td>0.70</td>\n",
       "      <td>0.00</td>\n",
       "      <td>1.9</td>\n",
       "      <td>0.076</td>\n",
       "      <td>11.0</td>\n",
       "      <td>34.0</td>\n",
       "      <td>0.9978</td>\n",
       "      <td>3.51</td>\n",
       "      <td>0.56</td>\n",
       "      <td>9.4</td>\n",
       "      <td>5</td>\n",
       "      <td>1</td>\n",
       "    </tr>\n",
       "    <tr>\n",
       "      <th>1</th>\n",
       "      <td>7.8</td>\n",
       "      <td>0.88</td>\n",
       "      <td>0.00</td>\n",
       "      <td>2.6</td>\n",
       "      <td>0.098</td>\n",
       "      <td>25.0</td>\n",
       "      <td>67.0</td>\n",
       "      <td>0.9968</td>\n",
       "      <td>3.20</td>\n",
       "      <td>0.68</td>\n",
       "      <td>9.8</td>\n",
       "      <td>5</td>\n",
       "      <td>1</td>\n",
       "    </tr>\n",
       "    <tr>\n",
       "      <th>2</th>\n",
       "      <td>7.8</td>\n",
       "      <td>0.76</td>\n",
       "      <td>0.04</td>\n",
       "      <td>2.3</td>\n",
       "      <td>0.092</td>\n",
       "      <td>15.0</td>\n",
       "      <td>54.0</td>\n",
       "      <td>0.9970</td>\n",
       "      <td>3.26</td>\n",
       "      <td>0.65</td>\n",
       "      <td>9.8</td>\n",
       "      <td>5</td>\n",
       "      <td>1</td>\n",
       "    </tr>\n",
       "    <tr>\n",
       "      <th>3</th>\n",
       "      <td>11.2</td>\n",
       "      <td>0.28</td>\n",
       "      <td>0.56</td>\n",
       "      <td>1.9</td>\n",
       "      <td>0.075</td>\n",
       "      <td>17.0</td>\n",
       "      <td>60.0</td>\n",
       "      <td>0.9980</td>\n",
       "      <td>3.16</td>\n",
       "      <td>0.58</td>\n",
       "      <td>9.8</td>\n",
       "      <td>6</td>\n",
       "      <td>1</td>\n",
       "    </tr>\n",
       "    <tr>\n",
       "      <th>4</th>\n",
       "      <td>7.4</td>\n",
       "      <td>0.70</td>\n",
       "      <td>0.00</td>\n",
       "      <td>1.9</td>\n",
       "      <td>0.076</td>\n",
       "      <td>11.0</td>\n",
       "      <td>34.0</td>\n",
       "      <td>0.9978</td>\n",
       "      <td>3.51</td>\n",
       "      <td>0.56</td>\n",
       "      <td>9.4</td>\n",
       "      <td>5</td>\n",
       "      <td>1</td>\n",
       "    </tr>\n",
       "  </tbody>\n",
       "</table>\n",
       "</div>"
      ],
      "text/plain": [
       "   fixed acidity  volatile acidity  citric acid  residual sugar  chlorides  \\\n",
       "0            7.4              0.70         0.00             1.9      0.076   \n",
       "1            7.8              0.88         0.00             2.6      0.098   \n",
       "2            7.8              0.76         0.04             2.3      0.092   \n",
       "3           11.2              0.28         0.56             1.9      0.075   \n",
       "4            7.4              0.70         0.00             1.9      0.076   \n",
       "\n",
       "   free sulfur dioxide  total sulfur dioxide  density    pH  sulphates  \\\n",
       "0                 11.0                  34.0   0.9978  3.51       0.56   \n",
       "1                 25.0                  67.0   0.9968  3.20       0.68   \n",
       "2                 15.0                  54.0   0.9970  3.26       0.65   \n",
       "3                 17.0                  60.0   0.9980  3.16       0.58   \n",
       "4                 11.0                  34.0   0.9978  3.51       0.56   \n",
       "\n",
       "   alcohol  quality  type  \n",
       "0      9.4        5     1  \n",
       "1      9.8        5     1  \n",
       "2      9.8        5     1  \n",
       "3      9.8        6     1  \n",
       "4      9.4        5     1  "
      ]
     },
     "execution_count": 46,
     "metadata": {},
     "output_type": "execute_result"
    }
   ],
   "source": [
    "wines.head()"
   ]
  },
  {
   "cell_type": "code",
   "execution_count": 47,
   "metadata": {
    "ExecuteTime": {
     "end_time": "2019-07-20T21:34:36.110755Z",
     "start_time": "2019-07-20T21:34:36.077747Z"
    }
   },
   "outputs": [],
   "source": [
    "X = wines.drop('quality', axis=1)"
   ]
  },
  {
   "cell_type": "code",
   "execution_count": 48,
   "metadata": {
    "ExecuteTime": {
     "end_time": "2019-07-20T21:34:36.145749Z",
     "start_time": "2019-07-20T21:34:36.118753Z"
    }
   },
   "outputs": [
    {
     "data": {
      "text/plain": [
       "0    5\n",
       "1    5\n",
       "2    5\n",
       "3    6\n",
       "4    5\n",
       "Name: quality, dtype: int64"
      ]
     },
     "execution_count": 48,
     "metadata": {},
     "output_type": "execute_result"
    }
   ],
   "source": [
    "wines['quality'].head()"
   ]
  },
  {
   "cell_type": "code",
   "execution_count": 49,
   "metadata": {
    "ExecuteTime": {
     "end_time": "2019-07-20T21:34:36.185743Z",
     "start_time": "2019-07-20T21:34:36.155748Z"
    }
   },
   "outputs": [],
   "source": [
    "wines['quality'] = wines['quality'].astype(str)"
   ]
  },
  {
   "cell_type": "code",
   "execution_count": 50,
   "metadata": {
    "ExecuteTime": {
     "end_time": "2019-07-20T21:34:36.210743Z",
     "start_time": "2019-07-20T21:34:36.193748Z"
    }
   },
   "outputs": [
    {
     "data": {
      "text/plain": [
       "0    5\n",
       "1    5\n",
       "2    5\n",
       "3    6\n",
       "4    5\n",
       "Name: quality, dtype: object"
      ]
     },
     "execution_count": 50,
     "metadata": {},
     "output_type": "execute_result"
    }
   ],
   "source": [
    "wines['quality'].head()"
   ]
  },
  {
   "cell_type": "code",
   "execution_count": 51,
   "metadata": {
    "ExecuteTime": {
     "end_time": "2019-07-20T21:34:36.233745Z",
     "start_time": "2019-07-20T21:34:36.217743Z"
    }
   },
   "outputs": [],
   "source": [
    "wines['quality'] = pd.Categorical(wines['quality'])"
   ]
  },
  {
   "cell_type": "code",
   "execution_count": 52,
   "metadata": {
    "ExecuteTime": {
     "end_time": "2019-07-20T21:34:36.263749Z",
     "start_time": "2019-07-20T21:34:36.242749Z"
    }
   },
   "outputs": [
    {
     "data": {
      "text/plain": [
       "0    5\n",
       "1    5\n",
       "2    5\n",
       "3    6\n",
       "4    5\n",
       "Name: quality, dtype: category\n",
       "Categories (7, object): [3, 4, 5, 6, 7, 8, 9]"
      ]
     },
     "execution_count": 52,
     "metadata": {},
     "output_type": "execute_result"
    }
   ],
   "source": [
    "wines['quality'].head()"
   ]
  },
  {
   "cell_type": "code",
   "execution_count": 53,
   "metadata": {
    "ExecuteTime": {
     "end_time": "2019-07-20T21:34:36.294749Z",
     "start_time": "2019-07-20T21:34:36.271741Z"
    }
   },
   "outputs": [
    {
     "data": {
      "text/plain": [
       "0    2\n",
       "1    2\n",
       "2    2\n",
       "3    3\n",
       "4    2\n",
       "dtype: int8"
      ]
     },
     "execution_count": 53,
     "metadata": {},
     "output_type": "execute_result"
    }
   ],
   "source": [
    "wines['quality'].cat.codes.head()"
   ]
  },
  {
   "cell_type": "code",
   "execution_count": 54,
   "metadata": {
    "ExecuteTime": {
     "end_time": "2019-07-20T21:34:36.337738Z",
     "start_time": "2019-07-20T21:34:36.301738Z"
    }
   },
   "outputs": [
    {
     "data": {
      "text/plain": [
       "6    2836\n",
       "5    2138\n",
       "7    1079\n",
       "4     216\n",
       "8     193\n",
       "3      30\n",
       "9       5\n",
       "Name: quality, dtype: int64"
      ]
     },
     "execution_count": 54,
     "metadata": {},
     "output_type": "execute_result"
    }
   ],
   "source": [
    "wines.quality.value_counts()"
   ]
  },
  {
   "cell_type": "code",
   "execution_count": 55,
   "metadata": {
    "ExecuteTime": {
     "end_time": "2019-07-20T21:34:42.634206Z",
     "start_time": "2019-07-20T21:34:36.348322Z"
    }
   },
   "outputs": [
    {
     "name": "stderr",
     "output_type": "stream",
     "text": [
      "Using TensorFlow backend.\n"
     ]
    }
   ],
   "source": [
    "from keras.utils import to_categorical\n",
    "y = to_categorical(wines['quality'])\n"
   ]
  },
  {
   "cell_type": "code",
   "execution_count": 56,
   "metadata": {
    "ExecuteTime": {
     "end_time": "2019-07-20T21:34:42.777130Z",
     "start_time": "2019-07-20T21:34:42.640104Z"
    }
   },
   "outputs": [
    {
     "data": {
      "text/html": [
       "<div>\n",
       "<style scoped>\n",
       "    .dataframe tbody tr th:only-of-type {\n",
       "        vertical-align: middle;\n",
       "    }\n",
       "\n",
       "    .dataframe tbody tr th {\n",
       "        vertical-align: top;\n",
       "    }\n",
       "\n",
       "    .dataframe thead th {\n",
       "        text-align: right;\n",
       "    }\n",
       "</style>\n",
       "<table border=\"1\" class=\"dataframe\">\n",
       "  <thead>\n",
       "    <tr style=\"text-align: right;\">\n",
       "      <th></th>\n",
       "      <th>0</th>\n",
       "      <th>1</th>\n",
       "      <th>2</th>\n",
       "      <th>3</th>\n",
       "      <th>4</th>\n",
       "      <th>5</th>\n",
       "      <th>6</th>\n",
       "      <th>7</th>\n",
       "      <th>8</th>\n",
       "      <th>9</th>\n",
       "    </tr>\n",
       "  </thead>\n",
       "  <tbody>\n",
       "    <tr>\n",
       "      <th>0</th>\n",
       "      <td>0.0</td>\n",
       "      <td>0.0</td>\n",
       "      <td>0.0</td>\n",
       "      <td>0.0</td>\n",
       "      <td>0.0</td>\n",
       "      <td>1.0</td>\n",
       "      <td>0.0</td>\n",
       "      <td>0.0</td>\n",
       "      <td>0.0</td>\n",
       "      <td>0.0</td>\n",
       "    </tr>\n",
       "    <tr>\n",
       "      <th>1</th>\n",
       "      <td>0.0</td>\n",
       "      <td>0.0</td>\n",
       "      <td>0.0</td>\n",
       "      <td>0.0</td>\n",
       "      <td>0.0</td>\n",
       "      <td>1.0</td>\n",
       "      <td>0.0</td>\n",
       "      <td>0.0</td>\n",
       "      <td>0.0</td>\n",
       "      <td>0.0</td>\n",
       "    </tr>\n",
       "    <tr>\n",
       "      <th>2</th>\n",
       "      <td>0.0</td>\n",
       "      <td>0.0</td>\n",
       "      <td>0.0</td>\n",
       "      <td>0.0</td>\n",
       "      <td>0.0</td>\n",
       "      <td>1.0</td>\n",
       "      <td>0.0</td>\n",
       "      <td>0.0</td>\n",
       "      <td>0.0</td>\n",
       "      <td>0.0</td>\n",
       "    </tr>\n",
       "    <tr>\n",
       "      <th>3</th>\n",
       "      <td>0.0</td>\n",
       "      <td>0.0</td>\n",
       "      <td>0.0</td>\n",
       "      <td>0.0</td>\n",
       "      <td>0.0</td>\n",
       "      <td>0.0</td>\n",
       "      <td>1.0</td>\n",
       "      <td>0.0</td>\n",
       "      <td>0.0</td>\n",
       "      <td>0.0</td>\n",
       "    </tr>\n",
       "    <tr>\n",
       "      <th>4</th>\n",
       "      <td>0.0</td>\n",
       "      <td>0.0</td>\n",
       "      <td>0.0</td>\n",
       "      <td>0.0</td>\n",
       "      <td>0.0</td>\n",
       "      <td>1.0</td>\n",
       "      <td>0.0</td>\n",
       "      <td>0.0</td>\n",
       "      <td>0.0</td>\n",
       "      <td>0.0</td>\n",
       "    </tr>\n",
       "  </tbody>\n",
       "</table>\n",
       "</div>"
      ],
      "text/plain": [
       "     0    1    2    3    4    5    6    7    8    9\n",
       "0  0.0  0.0  0.0  0.0  0.0  1.0  0.0  0.0  0.0  0.0\n",
       "1  0.0  0.0  0.0  0.0  0.0  1.0  0.0  0.0  0.0  0.0\n",
       "2  0.0  0.0  0.0  0.0  0.0  1.0  0.0  0.0  0.0  0.0\n",
       "3  0.0  0.0  0.0  0.0  0.0  0.0  1.0  0.0  0.0  0.0\n",
       "4  0.0  0.0  0.0  0.0  0.0  1.0  0.0  0.0  0.0  0.0"
      ]
     },
     "execution_count": 56,
     "metadata": {},
     "output_type": "execute_result"
    }
   ],
   "source": [
    "pd.DataFrame(y).head()"
   ]
  },
  {
   "cell_type": "code",
   "execution_count": 57,
   "metadata": {
    "ExecuteTime": {
     "end_time": "2019-07-20T21:35:22.288098Z",
     "start_time": "2019-07-20T21:35:21.558102Z"
    }
   },
   "outputs": [],
   "source": [
    "from sklearn.model_selection import train_test_split\n",
    "\n",
    "X_train, X_test, y_train, y_test = train_test_split(X, y, test_size=0.2, random_state=123)"
   ]
  },
  {
   "cell_type": "code",
   "execution_count": 58,
   "metadata": {
    "ExecuteTime": {
     "end_time": "2019-07-20T21:35:22.830098Z",
     "start_time": "2019-07-20T21:35:22.792106Z"
    }
   },
   "outputs": [
    {
     "data": {
      "text/html": [
       "<div>\n",
       "<style scoped>\n",
       "    .dataframe tbody tr th:only-of-type {\n",
       "        vertical-align: middle;\n",
       "    }\n",
       "\n",
       "    .dataframe tbody tr th {\n",
       "        vertical-align: top;\n",
       "    }\n",
       "\n",
       "    .dataframe thead th {\n",
       "        text-align: right;\n",
       "    }\n",
       "</style>\n",
       "<table border=\"1\" class=\"dataframe\">\n",
       "  <thead>\n",
       "    <tr style=\"text-align: right;\">\n",
       "      <th></th>\n",
       "      <th>fixed acidity</th>\n",
       "      <th>volatile acidity</th>\n",
       "      <th>citric acid</th>\n",
       "      <th>residual sugar</th>\n",
       "      <th>chlorides</th>\n",
       "      <th>free sulfur dioxide</th>\n",
       "      <th>total sulfur dioxide</th>\n",
       "      <th>density</th>\n",
       "      <th>pH</th>\n",
       "      <th>sulphates</th>\n",
       "      <th>alcohol</th>\n",
       "      <th>type</th>\n",
       "    </tr>\n",
       "  </thead>\n",
       "  <tbody>\n",
       "    <tr>\n",
       "      <th>0</th>\n",
       "      <td>7.4</td>\n",
       "      <td>0.70</td>\n",
       "      <td>0.00</td>\n",
       "      <td>1.9</td>\n",
       "      <td>0.076</td>\n",
       "      <td>11.0</td>\n",
       "      <td>34.0</td>\n",
       "      <td>0.9978</td>\n",
       "      <td>3.51</td>\n",
       "      <td>0.56</td>\n",
       "      <td>9.4</td>\n",
       "      <td>1</td>\n",
       "    </tr>\n",
       "    <tr>\n",
       "      <th>1</th>\n",
       "      <td>7.8</td>\n",
       "      <td>0.88</td>\n",
       "      <td>0.00</td>\n",
       "      <td>2.6</td>\n",
       "      <td>0.098</td>\n",
       "      <td>25.0</td>\n",
       "      <td>67.0</td>\n",
       "      <td>0.9968</td>\n",
       "      <td>3.20</td>\n",
       "      <td>0.68</td>\n",
       "      <td>9.8</td>\n",
       "      <td>1</td>\n",
       "    </tr>\n",
       "    <tr>\n",
       "      <th>2</th>\n",
       "      <td>7.8</td>\n",
       "      <td>0.76</td>\n",
       "      <td>0.04</td>\n",
       "      <td>2.3</td>\n",
       "      <td>0.092</td>\n",
       "      <td>15.0</td>\n",
       "      <td>54.0</td>\n",
       "      <td>0.9970</td>\n",
       "      <td>3.26</td>\n",
       "      <td>0.65</td>\n",
       "      <td>9.8</td>\n",
       "      <td>1</td>\n",
       "    </tr>\n",
       "    <tr>\n",
       "      <th>3</th>\n",
       "      <td>11.2</td>\n",
       "      <td>0.28</td>\n",
       "      <td>0.56</td>\n",
       "      <td>1.9</td>\n",
       "      <td>0.075</td>\n",
       "      <td>17.0</td>\n",
       "      <td>60.0</td>\n",
       "      <td>0.9980</td>\n",
       "      <td>3.16</td>\n",
       "      <td>0.58</td>\n",
       "      <td>9.8</td>\n",
       "      <td>1</td>\n",
       "    </tr>\n",
       "    <tr>\n",
       "      <th>4</th>\n",
       "      <td>7.4</td>\n",
       "      <td>0.70</td>\n",
       "      <td>0.00</td>\n",
       "      <td>1.9</td>\n",
       "      <td>0.076</td>\n",
       "      <td>11.0</td>\n",
       "      <td>34.0</td>\n",
       "      <td>0.9978</td>\n",
       "      <td>3.51</td>\n",
       "      <td>0.56</td>\n",
       "      <td>9.4</td>\n",
       "      <td>1</td>\n",
       "    </tr>\n",
       "  </tbody>\n",
       "</table>\n",
       "</div>"
      ],
      "text/plain": [
       "   fixed acidity  volatile acidity  citric acid  residual sugar  chlorides  \\\n",
       "0            7.4              0.70         0.00             1.9      0.076   \n",
       "1            7.8              0.88         0.00             2.6      0.098   \n",
       "2            7.8              0.76         0.04             2.3      0.092   \n",
       "3           11.2              0.28         0.56             1.9      0.075   \n",
       "4            7.4              0.70         0.00             1.9      0.076   \n",
       "\n",
       "   free sulfur dioxide  total sulfur dioxide  density    pH  sulphates  \\\n",
       "0                 11.0                  34.0   0.9978  3.51       0.56   \n",
       "1                 25.0                  67.0   0.9968  3.20       0.68   \n",
       "2                 15.0                  54.0   0.9970  3.26       0.65   \n",
       "3                 17.0                  60.0   0.9980  3.16       0.58   \n",
       "4                 11.0                  34.0   0.9978  3.51       0.56   \n",
       "\n",
       "   alcohol  type  \n",
       "0      9.4     1  \n",
       "1      9.8     1  \n",
       "2      9.8     1  \n",
       "3      9.8     1  \n",
       "4      9.4     1  "
      ]
     },
     "execution_count": 58,
     "metadata": {},
     "output_type": "execute_result"
    }
   ],
   "source": [
    "X.head()"
   ]
  },
  {
   "cell_type": "code",
   "execution_count": 59,
   "metadata": {
    "ExecuteTime": {
     "end_time": "2019-07-20T21:35:23.539754Z",
     "start_time": "2019-07-20T21:35:23.519771Z"
    }
   },
   "outputs": [],
   "source": [
    "from sklearn.preprocessing import StandardScaler\n",
    "\n",
    "scaler = StandardScaler()\n",
    "\n",
    "scaler.fit(X_train)\n",
    "\n",
    "X_train_scaled = scaler.transform(X_train)\n",
    "X_test_scaled = scaler.transform(X_test)"
   ]
  },
  {
   "cell_type": "code",
   "execution_count": 75,
   "metadata": {
    "ExecuteTime": {
     "end_time": "2019-07-20T21:38:58.129043Z",
     "start_time": "2019-07-20T21:38:58.120038Z"
    }
   },
   "outputs": [],
   "source": [
    "from keras.models import Sequential\n",
    "from keras.layers import Dense, BatchNormalization\n",
    "from keras.callbacks import EarlyStopping\n",
    "\n",
    "early_stopping_monitor = EarlyStopping(patience=3)\n",
    "\n",
    "in_cols = X.shape[1]\n",
    "out_cols = y.shape[1]"
   ]
  },
  {
   "cell_type": "code",
   "execution_count": 81,
   "metadata": {
    "ExecuteTime": {
     "end_time": "2019-07-20T21:41:05.452814Z",
     "start_time": "2019-07-20T21:40:10.967289Z"
    }
   },
   "outputs": [],
   "source": [
    "model_1 = Sequential()\n",
    "\n",
    "model_1.add(Dense(1000, activation='relu', input_shape=(in_cols,)))\n",
    "model_1.add(BatchNormalization())\n",
    "model_1.add(Dense(500, activation='relu'))\n",
    "model_1.add(BatchNormalization())\n",
    "model_1.add(Dense(250, activation='relu'))\n",
    "model_1.add(BatchNormalization())\n",
    "model_1.add(Dense(out_cols, activation='softmax'))\n",
    "\n",
    "\n",
    "model_1.compile(loss='categorical_crossentropy', \n",
    "              optimizer='adam', \n",
    "              metrics=['accuracy'])\n",
    "\n",
    "model_1_training = model_1.fit(\n",
    "    X_train_scaled,\n",
    "    y_train,\n",
    "    batch_size=100,\n",
    "    epochs=50,\n",
    "    validation_data=(X_test_scaled, y_test),\n",
    "    callbacks=[early_stopping_monitor],\n",
    "    verbose=False\n",
    ")"
   ]
  },
  {
   "cell_type": "code",
   "execution_count": 95,
   "metadata": {
    "ExecuteTime": {
     "end_time": "2019-07-20T21:53:01.582845Z",
     "start_time": "2019-07-20T21:52:52.350274Z"
    }
   },
   "outputs": [],
   "source": [
    "model_2 = Sequential()\n",
    "\n",
    "model_2.add(Dense(12, activation='relu', input_shape=(in_cols,)))\n",
    "model_2.add(BatchNormalization())\n",
    "model_2.add(Dense(8, activation='relu'))\n",
    "model_2.add(BatchNormalization())\n",
    "model_2.add(Dense(out_cols, activation='softmax'))\n",
    "\n",
    "\n",
    "model_2.compile(loss='categorical_crossentropy', \n",
    "              optimizer='adam', \n",
    "              metrics=['accuracy'])\n",
    "\n",
    "model_2_training = model_2.fit(\n",
    "    X_train_scaled,\n",
    "    y_train,\n",
    "    batch_size=200,\n",
    "    epochs=50,\n",
    "    validation_data=(X_test_scaled, y_test),\n",
    "    callbacks=[early_stopping_monitor],\n",
    "    verbose=False\n",
    ")"
   ]
  },
  {
   "cell_type": "code",
   "execution_count": 63,
   "metadata": {
    "ExecuteTime": {
     "end_time": "2019-07-20T21:36:36.228219Z",
     "start_time": "2019-07-20T21:36:36.188238Z"
    }
   },
   "outputs": [],
   "source": [
    "def plot_history(model): \n",
    "    fig, ax = plt.subplots(1, 2, figsize=(14, 5))\n",
    "\n",
    "    ax[0].plot(model.history['loss'])\n",
    "    ax[0].set_xlabel('Epochs')\n",
    "    ax[0].set_ylim([0, 1])\n",
    "    ax[0].set_title('Loss over Epochs')\n",
    "    ax[0].plot(model.history['val_loss'])\n",
    "    ax[0].legend(['Training loss', 'Prediction loss'])\n",
    "\n",
    "    ax[1].plot(model.history['acc'])\n",
    "    ax[1].set_xlabel('Epochs')\n",
    "    ax[1].set_ylim([0, 1])\n",
    "    ax[1].set_title('Accuracy over Epochs')\n",
    "    ax[1].plot(model.history['val_acc'])\n",
    "    ax[1].legend(['Training accuracy', 'Prediction accuracy'])\n",
    "\n",
    "    fig.suptitle(\"Model Quality over Epochs\")\n",
    "\n",
    "    plt.show()"
   ]
  },
  {
   "cell_type": "code",
   "execution_count": 82,
   "metadata": {
    "ExecuteTime": {
     "end_time": "2019-07-20T21:43:51.414686Z",
     "start_time": "2019-07-20T21:43:49.681091Z"
    }
   },
   "outputs": [
    {
     "data": {
      "image/png": "[encoded data removed]",
      "text/plain": [
       "<Figure size 1008x360 with 2 Axes>"
      ]
     },
     "metadata": {
      "needs_background": "light"
     },
     "output_type": "display_data"
    },
    {
     "data": {
      "image/png": "[encoded data removed]",
      "text/plain": [
       "<Figure size 1008x360 with 2 Axes>"
      ]
     },
     "metadata": {
      "needs_background": "light"
     },
     "output_type": "display_data"
    }
   ],
   "source": [
    "plot_history(model=model_1_training)\n",
    "plot_history(model=model_2_training)"
   ]
  },
  {
   "cell_type": "code",
   "execution_count": 83,
   "metadata": {
    "ExecuteTime": {
     "end_time": "2019-07-20T21:43:58.682228Z",
     "start_time": "2019-07-20T21:43:58.295696Z"
    }
   },
   "outputs": [
    {
     "data": {
      "image/png": "[encoded data removed]",
      "text/plain": [
       "<Figure size 432x288 with 1 Axes>"
      ]
     },
     "metadata": {
      "needs_background": "light"
     },
     "output_type": "display_data"
    }
   ],
   "source": [
    "plt.plot(model_1_training.history['val_loss'], 'r', model_2_training.history['val_loss'], 'b')\n",
    "plt.xlabel('Epochs')\n",
    "plt.ylabel('Validation score')\n",
    "plt.show()"
   ]
  },
  {
   "cell_type": "code",
   "execution_count": 84,
   "metadata": {
    "ExecuteTime": {
     "end_time": "2019-07-20T21:44:05.431136Z",
     "start_time": "2019-07-20T21:44:04.583119Z"
    }
   },
   "outputs": [
    {
     "name": "stdout",
     "output_type": "stream",
     "text": [
      "Predicted: [0. 0. 0. 0. 0. 0. 0. 1. 0. 0.], actual 0.0\n"
     ]
    }
   ],
   "source": [
    "from numpy import round\n",
    "\n",
    "y_predicted = model_1.predict(X_test_scaled)\n",
    "\n",
    "print('Predicted: {}, actual {}'.format(round(y_predicted[0]), y_test.ravel()[0]))"
   ]
  },
  {
   "cell_type": "code",
   "execution_count": 85,
   "metadata": {
    "ExecuteTime": {
     "end_time": "2019-07-20T21:44:07.722824Z",
     "start_time": "2019-07-20T21:44:07.304822Z"
    }
   },
   "outputs": [
    {
     "name": "stdout",
     "output_type": "stream",
     "text": [
      "1300/1300 [==============================] - 0s 311us/step\n",
      "Loss: 1.0462468429712148, accuracy: 0.5830769227101252\n"
     ]
    }
   ],
   "source": [
    "loss, accuracy = model_1.evaluate(X_test_scaled, y_test)\n",
    "\n",
    "print('Loss: {}, accuracy: {}'.format(loss, accuracy))"
   ]
  },
  {
   "cell_type": "code",
   "execution_count": 86,
   "metadata": {
    "ExecuteTime": {
     "end_time": "2019-07-20T21:44:10.776281Z",
     "start_time": "2019-07-20T21:44:10.679271Z"
    }
   },
   "outputs": [
    {
     "name": "stdout",
     "output_type": "stream",
     "text": [
      "1300/1300 [==============================] - 0s 65us/step\n",
      "Loss: 1.077954726952773, accuracy: 0.5438461536627549\n"
     ]
    }
   ],
   "source": [
    "loss, accuracy = model_2.evaluate(X_test_scaled, y_test)\n",
    "\n",
    "print('Loss: {}, accuracy: {}'.format(loss, accuracy))"
   ]
  },
  {
   "cell_type": "code",
   "execution_count": 106,
   "metadata": {
    "ExecuteTime": {
     "end_time": "2019-07-20T22:00:26.050274Z",
     "start_time": "2019-07-20T22:00:26.039268Z"
    }
   },
   "outputs": [],
   "source": [
    "def create_model(optimizer='adam', activation='relu'):\n",
    "    model = Sequential()\n",
    "    model.add(Dense(12, input_shape=(in_cols,), activation=activation))\n",
    "    model.add(Dense(out_cols, activation='sigmoid'))\n",
    "    model.compile(optimizer=optimizer, loss='categorical_crossentropy', metrics=['accuracy'])\n",
    "    return model\n",
    "\n",
    "from keras.wrappers.scikit_learn import KerasClassifier\n",
    "\n",
    "model = KerasClassifier(build_fn=create_model, epochs=6, batch_size=16)"
   ]
  },
  {
   "cell_type": "code",
   "execution_count": 107,
   "metadata": {
    "ExecuteTime": {
     "end_time": "2019-07-20T22:01:48.724395Z",
     "start_time": "2019-07-20T22:00:28.222081Z"
    }
   },
   "outputs": [
    {
     "name": "stdout",
     "output_type": "stream",
     "text": [
      "Epoch 1/6\n",
      "4157/4157 [==============================] - 2s 551us/step - loss: 2.0670 - acc: 0.2632\n",
      "Epoch 2/6\n",
      "4157/4157 [==============================] - ETA: 0s - loss: 1.4593 - acc: 0.377 - 1s 305us/step - loss: 1.4515 - acc: 0.3770\n",
      "Epoch 3/6\n",
      "4157/4157 [==============================] - 1s 300us/step - loss: 1.2348 - acc: 0.4542\n",
      "Epoch 4/6\n",
      "4157/4157 [==============================] - 1s 299us/step - loss: 1.1697 - acc: 0.4643 0s - loss: 1.\n",
      "Epoch 5/6\n",
      "4157/4157 [==============================] - 1s 297us/step - loss: 1.1381 - acc: 0.4804\n",
      "Epoch 6/6\n",
      "4157/4157 [==============================] - 2s 386us/step - loss: 1.1184 - acc: 0.5085 0s - loss: 1.1079 -\n",
      "1040/1040 [==============================] - 3s 3ms/step\n",
      "Epoch 1/6\n",
      "4157/4157 [==============================] - 8s 2ms/step - loss: 1.8852 - acc: 0.4073\n",
      "Epoch 2/6\n",
      "4157/4157 [==============================] - 2s 444us/step - loss: 1.3095 - acc: 0.5035\n",
      "Epoch 3/6\n",
      "4157/4157 [==============================] - 2s 474us/step - loss: 1.1669 - acc: 0.5117 0s - loss: 1.1635 - acc: 0.51\n",
      "Epoch 4/6\n",
      "4157/4157 [==============================] - 2s 407us/step - loss: 1.1284 - acc: 0.5198\n",
      "Epoch 5/6\n",
      "4157/4157 [==============================] - 1s 352us/step - loss: 1.1092 - acc: 0.5201\n",
      "Epoch 6/6\n",
      "4157/4157 [==============================] - 2s 379us/step - loss: 1.0984 - acc: 0.5210\n",
      "1040/1040 [==============================] - 2s 2ms/step\n",
      "Epoch 1/6\n",
      "4158/4158 [==============================] - 6s 2ms/step - loss: 1.8516 - acc: 0.3571\n",
      "Epoch 2/6\n",
      "4158/4158 [==============================] - 2s 371us/step - loss: 1.3554 - acc: 0.4524 0s - loss: 1.\n",
      "Epoch 3/6\n",
      "4158/4158 [==============================] - 1s 323us/step - loss: 1.2242 - acc: 0.4649\n",
      "Epoch 4/6\n",
      "4158/4158 [==============================] - 1s 292us/step - loss: 1.1818 - acc: 0.4687\n",
      "Epoch 5/6\n",
      "4158/4158 [==============================] - 2s 364us/step - loss: 1.1584 - acc: 0.4719\n",
      "Epoch 6/6\n",
      "4158/4158 [==============================] - 2s 425us/step - loss: 1.1400 - acc: 0.4750\n",
      "1039/1039 [==============================] - 1s 1ms/step\n",
      "Epoch 1/6\n",
      "4158/4158 [==============================] - 4s 869us/step - loss: 2.0220 - acc: 0.3418 1s - loss: 2.1418 - acc\n",
      "Epoch 2/6\n",
      "4158/4158 [==============================] - 1s 344us/step - loss: 1.3814 - acc: 0.4726\n",
      "Epoch 3/6\n",
      "4158/4158 [==============================] - 1s 323us/step - loss: 1.2177 - acc: 0.4683\n",
      "Epoch 4/6\n",
      "4158/4158 [==============================] - 1s 326us/step - loss: 1.1744 - acc: 0.4834\n",
      "Epoch 5/6\n",
      "4158/4158 [==============================] - 1s 299us/step - loss: 1.1497 - acc: 0.4909\n",
      "Epoch 6/6\n",
      "4158/4158 [==============================] - 1s 304us/step - loss: 1.1299 - acc: 0.4897\n",
      "1039/1039 [==============================] - 1s 917us/step\n",
      "Epoch 1/6\n",
      "4158/4158 [==============================] - 6s 1ms/step - loss: 1.7815 - acc: 0.3066A: 1s - loss: 1.8625 - acc: 0.2 - ETA: 1s - loss: 1.8271 - acc: 0\n",
      "Epoch 2/6\n",
      "4158/4158 [==============================] - 2s 415us/step - loss: 1.3373 - acc: 0.3961\n",
      "Epoch 3/6\n",
      "4158/4158 [==============================] - 1s 291us/step - loss: 1.2323 - acc: 0.4355\n",
      "Epoch 4/6\n",
      "4158/4158 [==============================] - 1s 221us/step - loss: 1.1797 - acc: 0.4377\n",
      "Epoch 5/6\n",
      "4158/4158 [==============================] - 2s 565us/step - loss: 1.1441 - acc: 0.4377 1s - loss: 1.\n",
      "Epoch 6/6\n",
      "4158/4158 [==============================] - 2s 379us/step - loss: 1.1229 - acc: 0.4380\n",
      "1039/1039 [==============================] - 2s 2ms/step\n"
     ]
    },
    {
     "data": {
      "text/plain": [
       "0.49874139339175266"
      ]
     },
     "execution_count": 107,
     "metadata": {},
     "output_type": "execute_result"
    }
   ],
   "source": [
    "# Import cross_val_score\n",
    "from sklearn.model_selection import cross_val_score \n",
    " \n",
    "# Check how your keras model performs with 5 fold crossvalidation\n",
    "kfold = cross_val_score(model, X_train_scaled, y_train, cv=5) \n",
    "\n",
    "# Print the mean accuracy per fold\n",
    "kfold.mean() "
   ]
  },
  {
   "cell_type": "code",
   "execution_count": 108,
   "metadata": {
    "ExecuteTime": {
     "end_time": "2019-07-20T22:02:25.617087Z",
     "start_time": "2019-07-20T22:02:25.609103Z"
    }
   },
   "outputs": [
    {
     "data": {
      "text/plain": [
       "0.03355847457354765"
      ]
     },
     "execution_count": 108,
     "metadata": {},
     "output_type": "execute_result"
    }
   ],
   "source": [
    "# Print the standard deviation per fold\n",
    "kfold.std()"
   ]
  },
  {
   "cell_type": "code",
   "execution_count": 118,
   "metadata": {
    "ExecuteTime": {
     "end_time": "2019-07-20T22:31:41.609607Z",
     "start_time": "2019-07-20T22:26:25.245781Z"
    }
   },
   "outputs": [
    {
     "name": "stdout",
     "output_type": "stream",
     "text": [
      "Epoch 1/3\n",
      "3464/3464 [==============================] - 4s 1ms/step - loss: 1.9328 - acc: 0.2994\n",
      "Epoch 2/3\n",
      "3464/3464 [==============================] - 3s 933us/step - loss: 1.4795 - acc: 0.4483\n",
      "Epoch 3/3\n",
      "3464/3464 [==============================] - 2s 691us/step - loss: 1.3059 - acc: 0.4550\n",
      "1733/1733 [==============================] - 2s 944us/step\n",
      "Epoch 1/3\n",
      "3465/3465 [==============================] - 7s 2ms/step - loss: 2.1059 - acc: 0.3405\n",
      "Epoch 2/3\n",
      "3465/3465 [==============================] - ETA: 0s - loss: 1.7204 - acc: 0.462 - 4s 1ms/step - loss: 1.7199 - acc: 0.4620\n",
      "Epoch 3/3\n",
      "3465/3465 [==============================] - 3s 917us/step - loss: 1.4237 - acc: 0.4644\n",
      "1732/1732 [==============================] - 2s 904us/step\n",
      "Epoch 1/3\n",
      "3465/3465 [==============================] - 3s 954us/step - loss: 2.1494 - acc: 0.3177\n",
      "Epoch 2/3\n",
      "3465/3465 [==============================] - 2s 464us/step - loss: 1.7356 - acc: 0.4664\n",
      "Epoch 3/3\n",
      "3465/3465 [==============================] - 2s 525us/step - loss: 1.4369 - acc: 0.4678\n",
      "1732/1732 [==============================] - 1s 699us/step\n",
      "Epoch 1/3\n",
      "3464/3464 [==============================] - 5s 1ms/step - loss: 1.9299 - acc: 0.3863\n",
      "Epoch 2/3\n",
      "3464/3464 [==============================] - 3s 837us/step - loss: 1.2562 - acc: 0.5211\n",
      "Epoch 3/3\n",
      "3464/3464 [==============================] - 3s 807us/step - loss: 1.1267 - acc: 0.5121\n",
      "1733/1733 [==============================] - 2s 1ms/step\n",
      "Epoch 1/3\n",
      "3465/3465 [==============================] - 7s 2ms/step - loss: 1.8962 - acc: 0.3758\n",
      "Epoch 2/3\n",
      "3465/3465 [==============================] - ETA: 0s - loss: 1.2426 - acc: 0.514 - 3s 774us/step - loss: 1.2423 - acc: 0.5146\n",
      "Epoch 3/3\n",
      "3465/3465 [==============================] - 3s 801us/step - loss: 1.1226 - acc: 0.5126\n",
      "1732/1732 [==============================] - 1s 680us/step\n",
      "Epoch 1/3\n",
      "3465/3465 [==============================] - 4s 1ms/step - loss: 1.9189 - acc: 0.3945\n",
      "Epoch 2/3\n",
      "3465/3465 [==============================] - 2s 596us/step - loss: 1.2425 - acc: 0.4947\n",
      "Epoch 3/3\n",
      "3465/3465 [==============================] - 2s 528us/step - loss: 1.1220 - acc: 0.5033\n",
      "1732/1732 [==============================] - 1s 639us/step\n",
      "Epoch 1/3\n",
      "3464/3464 [==============================] - 3s 841us/step - loss: 1.8960 - acc: 0.3170\n",
      "Epoch 2/3\n",
      "3464/3464 [==============================] - 1s 280us/step - loss: 1.2966 - acc: 0.4376\n",
      "Epoch 3/3\n",
      "3464/3464 [==============================] - 1s 302us/step - loss: 1.1725 - acc: 0.4726\n",
      "1733/1733 [==============================] - 1s 536us/step\n",
      "Epoch 1/3\n",
      "3465/3465 [==============================] - 3s 763us/step - loss: 1.7725 - acc: 0.4130\n",
      "Epoch 2/3\n",
      "3465/3465 [==============================] - 1s 266us/step - loss: 1.2530 - acc: 0.4638\n",
      "Epoch 3/3\n",
      "3465/3465 [==============================] - 1s 286us/step - loss: 1.1604 - acc: 0.4670\n",
      "1732/1732 [==============================] - 1s 579us/step\n",
      "Epoch 1/3\n",
      "3465/3465 [==============================] - 3s 922us/step - loss: 1.8664 - acc: 0.3986\n",
      "Epoch 2/3\n",
      "3465/3465 [==============================] - 1s 266us/step - loss: 1.2640 - acc: 0.4837\n",
      "Epoch 3/3\n",
      "3465/3465 [==============================] - 1s 306us/step - loss: 1.1519 - acc: 0.4975\n",
      "1732/1732 [==============================] - 1s 604us/step\n",
      "Epoch 1/3\n",
      "3464/3464 [==============================] - 3s 803us/step - loss: 2.2121 - acc: 0.2110\n",
      "Epoch 2/3\n",
      "3464/3464 [==============================] - 1s 144us/step - loss: 1.9390 - acc: 0.4004\n",
      "Epoch 3/3\n",
      "3464/3464 [==============================] - 1s 183us/step - loss: 1.6278 - acc: 0.4890\n",
      "1733/1733 [==============================] - 1s 694us/step\n",
      "Epoch 1/3\n",
      "3465/3465 [==============================] - 3s 766us/step - loss: 2.1991 - acc: 0.1411\n",
      "Epoch 2/3\n",
      "3465/3465 [==============================] - 0s 135us/step - loss: 1.9226 - acc: 0.3385\n",
      "Epoch 3/3\n",
      "3465/3465 [==============================] - 1s 160us/step - loss: 1.6310 - acc: 0.4609\n",
      "1732/1732 [==============================] - 1s 741us/step\n",
      "Epoch 1/3\n",
      "3465/3465 [==============================] - 4s 1ms/step - loss: 2.2335 - acc: 0.1752\n",
      "Epoch 2/3\n",
      "3465/3465 [==============================] - 1s 204us/step - loss: 1.9478 - acc: 0.3648\n",
      "Epoch 3/3\n",
      "3465/3465 [==============================] - 1s 237us/step - loss: 1.6555 - acc: 0.4424\n",
      "1732/1732 [==============================] - 2s 942us/step\n",
      "Epoch 1/3\n",
      "3464/3464 [==============================] - 3s 934us/step - loss: 2.1936 - acc: 0.2162\n",
      "Epoch 2/3\n",
      "3464/3464 [==============================] - 1s 350us/step - loss: 1.9728 - acc: 0.4431 0s - loss: 1.9915 - acc: \n",
      "Epoch 3/3\n",
      "3464/3464 [==============================] - 1s 271us/step - loss: 1.8069 - acc: 0.5000\n",
      "1733/1733 [==============================] - 1s 595us/step\n",
      "Epoch 1/3\n",
      "3465/3465 [==============================] - 3s 844us/step - loss: 2.1667 - acc: 0.2069\n",
      "Epoch 2/3\n",
      "3465/3465 [==============================] - 1s 282us/step - loss: 1.9687 - acc: 0.4407\n",
      "Epoch 3/3\n",
      "3465/3465 [==============================] - 1s 266us/step - loss: 1.8192 - acc: 0.4823\n",
      "1732/1732 [==============================] - 1s 604us/step\n",
      "Epoch 1/3\n",
      "3465/3465 [==============================] - 3s 893us/step - loss: 2.1795 - acc: 0.1515\n",
      "Epoch 2/3\n",
      "3465/3465 [==============================] - 1s 307us/step - loss: 1.9809 - acc: 0.3538\n",
      "Epoch 3/3\n",
      "3465/3465 [==============================] - 1s 401us/step - loss: 1.8316 - acc: 0.4534\n",
      "1732/1732 [==============================] - 2s 1ms/step\n",
      "Epoch 1/3\n",
      "3464/3464 [==============================] - 5s 1ms/step - loss: 2.2384 - acc: 0.1622\n",
      "Epoch 2/3\n",
      "3464/3464 [==============================] - 1s 207us/step - loss: 2.0270 - acc: 0.3158\n",
      "Epoch 3/3\n",
      "3464/3464 [==============================] - 1s 231us/step - loss: 1.8908 - acc: 0.4079\n",
      "1733/1733 [==============================] - 2s 1ms/step\n",
      "Epoch 1/3\n",
      "3465/3465 [==============================] - 6s 2ms/step - loss: 2.0894 - acc: 0.2987A: 4s - loss: 2.1452 - acc: 0.2 - ETA: 2s - loss: 2.1265 - acc:\n",
      "Epoch 2/3\n",
      "3465/3465 [==============================] - 1s 309us/step - loss: 1.9066 - acc: 0.4554\n",
      "Epoch 3/3\n",
      "3465/3465 [==============================] - 1s 235us/step - loss: 1.7529 - acc: 0.4690\n",
      "1732/1732 [==============================] - 2s 1ms/step\n",
      "Epoch 1/3\n",
      "3465/3465 [==============================] - 7s 2ms/step - loss: 2.1722 - acc: 0.2981\n",
      "Epoch 2/3\n",
      "3465/3465 [==============================] - 1s 151us/step - loss: 2.0216 - acc: 0.4257\n",
      "Epoch 3/3\n",
      "3465/3465 [==============================] - 1s 149us/step - loss: 1.9049 - acc: 0.4574\n",
      "1732/1732 [==============================] - 1s 763us/step\n",
      "Epoch 1/3\n",
      "3464/3464 [==============================] - 3s 917us/step - loss: 2.2678 - acc: 0.0782\n",
      "Epoch 2/3\n",
      "3464/3464 [==============================] - 1s 153us/step - loss: 2.1336 - acc: 0.2292\n",
      "Epoch 3/3\n",
      "3464/3464 [==============================] - 1s 199us/step - loss: 2.0403 - acc: 0.3744\n",
      "1733/1733 [==============================] - 1s 808us/step\n",
      "Epoch 1/3\n",
      "3465/3465 [==============================] - 3s 855us/step - loss: 2.2542 - acc: 0.1838\n",
      "Epoch 2/3\n",
      "3465/3465 [==============================] - 1s 222us/step - loss: 2.1207 - acc: 0.2690\n",
      "Epoch 3/3\n",
      "3465/3465 [==============================] - 0s 140us/step - loss: 2.0225 - acc: 0.3654\n",
      "1732/1732 [==============================] - 1s 638us/step\n",
      "Epoch 1/3\n",
      "3465/3465 [==============================] - 3s 973us/step - loss: 2.2658 - acc: 0.1685\n",
      "Epoch 2/3\n",
      "3465/3465 [==============================] - 1s 154us/step - loss: 2.1103 - acc: 0.2652\n",
      "Epoch 3/3\n",
      "3465/3465 [==============================] - 1s 147us/step - loss: 1.9976 - acc: 0.3726\n",
      "1732/1732 [==============================] - 1s 770us/step\n",
      "Epoch 1/3\n",
      "3464/3464 [==============================] - 4s 1ms/step - loss: 2.0867 - acc: 0.2838\n",
      "Epoch 2/3\n",
      "3464/3464 [==============================] - 1s 305us/step - loss: 1.5422 - acc: 0.4971\n",
      "Epoch 3/3\n",
      "3464/3464 [==============================] - 1s 288us/step - loss: 1.2136 - acc: 0.5113\n",
      "1733/1733 [==============================] - 1s 729us/step\n",
      "Epoch 1/3\n",
      "3465/3465 [==============================] - 6s 2ms/step - loss: 2.1017 - acc: 0.2346\n",
      "Epoch 2/3\n",
      "3465/3465 [==============================] - 2s 440us/step - loss: 1.5523 - acc: 0.5071\n",
      "Epoch 3/3\n",
      "3465/3465 [==============================] - 2s 467us/step - loss: 1.2003 - acc: 0.5267\n"
     ]
    },
    {
     "name": "stdout",
     "output_type": "stream",
     "text": [
      "1732/1732 [==============================] - 2s 1ms/step\n",
      "Epoch 1/3\n",
      "3465/3465 [==============================] - 8s 2ms/step - loss: 2.0688 - acc: 0.2756\n",
      "Epoch 2/3\n",
      "3465/3465 [==============================] - 2s 548us/step - loss: 1.5394 - acc: 0.5221\n",
      "Epoch 3/3\n",
      "3465/3465 [==============================] - 2s 611us/step - loss: 1.1972 - acc: 0.5146\n",
      "1732/1732 [==============================] - 3s 2ms/step\n",
      "Epoch 1/3\n",
      "3464/3464 [==============================] - 5s 2ms/step - loss: 1.9755 - acc: 0.4206\n",
      "Epoch 2/3\n",
      "3464/3464 [==============================] - 1s 292us/step - loss: 1.6727 - acc: 0.4916\n",
      "Epoch 3/3\n",
      "3464/3464 [==============================] - 1s 272us/step - loss: 1.4532 - acc: 0.4945\n",
      "1733/1733 [==============================] - 1s 785us/step\n",
      "Epoch 1/3\n",
      "3465/3465 [==============================] - 4s 1ms/step - loss: 2.2396 - acc: 0.1486\n",
      "Epoch 2/3\n",
      "3465/3465 [==============================] - 1s 320us/step - loss: 1.9167 - acc: 0.3368\n",
      "Epoch 3/3\n",
      "3465/3465 [==============================] - 1s 294us/step - loss: 1.7166 - acc: 0.3977\n",
      "1732/1732 [==============================] - 1s 815us/step\n",
      "Epoch 1/3\n",
      "3465/3465 [==============================] - 5s 1ms/step - loss: 2.1808 - acc: 0.2309\n",
      "Epoch 2/3\n",
      "3465/3465 [==============================] - 3s 785us/step - loss: 1.8991 - acc: 0.4528\n",
      "Epoch 3/3\n",
      "3465/3465 [==============================] - 3s 724us/step - loss: 1.6905 - acc: 0.4753\n",
      "1732/1732 [==============================] - 2s 1ms/step\n",
      "Epoch 1/3\n",
      "3464/3464 [==============================] - 6s 2ms/step - loss: 2.0887 - acc: 0.3124\n",
      "Epoch 2/3\n",
      "3464/3464 [==============================] - 3s 726us/step - loss: 1.7715 - acc: 0.4830\n",
      "Epoch 3/3\n",
      "3464/3464 [==============================] - 3s 785us/step - loss: 1.5151 - acc: 0.4887\n",
      "1733/1733 [==============================] - 2s 1ms/step\n",
      "Epoch 1/3\n",
      "3465/3465 [==============================] - 6s 2ms/step - loss: 2.1069 - acc: 0.2390\n",
      "Epoch 2/3\n",
      "3465/3465 [==============================] - 2s 707us/step - loss: 1.7749 - acc: 0.4661\n",
      "Epoch 3/3\n",
      "3465/3465 [==============================] - 2s 651us/step - loss: 1.5147 - acc: 0.4794\n",
      "1732/1732 [==============================] - 3s 2ms/step\n",
      "Epoch 1/3\n",
      "3465/3465 [==============================] - 6s 2ms/step - loss: 2.1121 - acc: 0.2395\n",
      "Epoch 2/3\n",
      "3465/3465 [==============================] - 4s 1ms/step - loss: 1.7394 - acc: 0.4436\n",
      "Epoch 3/3\n",
      "3465/3465 [==============================] - 3s 861us/step - loss: 1.4805 - acc: 0.4785\n",
      "1732/1732 [==============================] - 2s 1ms/step\n",
      "Epoch 1/3\n",
      "5197/5197 [==============================] - 7s 1ms/step - loss: 1.7922 - acc: 0.3315\n",
      "Epoch 2/3\n",
      "5197/5197 [==============================] - 4s 798us/step - loss: 1.2087 - acc: 0.4753\n",
      "Epoch 3/3\n",
      "5197/5197 [==============================] - 5s 929us/step - loss: 1.1282 - acc: 0.5066\n",
      "Best: %f using %s\n"
     ]
    }
   ],
   "source": [
    "# Import RandomizedSearchCV\n",
    "from sklearn.model_selection import RandomizedSearchCV\n",
    "\n",
    "# Define a series of parameters\n",
    "params = {\n",
    "    'optimizer':['sgd', 'adam'],\n",
    "    'epochs':[3],\n",
    "    'batch_size':[5, 10, 20],\n",
    "    'activation':['relu','tanh']\n",
    "}\n",
    "\n",
    " \n",
    "# Create a random search cv object and fit it to the data\n",
    "random_search = RandomizedSearchCV(model, param_distributions=params, cv=3)\n",
    "random_search_results = random_search.fit(X_train_scaled, y_train)\n",
    "\n",
    "# Print results\n",
    "print(\"Best: %f using %s\".format(random_search_results.best_score_, random_search_results.best_params_))"
   ]
  },
  {
   "cell_type": "code",
   "execution_count": null,
   "metadata": {},
   "outputs": [],
   "source": []
  }
 ],
 "metadata": {
  "kernelspec": {
   "display_name": "Python 3",
   "language": "python",
   "name": "python3"
  },
  "language_info": {
   "codemirror_mode": {
    "name": "ipython",
    "version": 3
   },
   "file_extension": ".py",
   "mimetype": "text/x-python",
   "name": "python",
   "nbconvert_exporter": "python",
   "pygments_lexer": "ipython3",
   "version": "3.7.3"
  }
 },
 "nbformat": 4,
 "nbformat_minor": 2
}
