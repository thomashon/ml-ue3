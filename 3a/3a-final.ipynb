{
 "cells": [
  {
   "cell_type": "code",
   "execution_count": 1,
   "metadata": {
    "ExecuteTime": {
     "end_time": "2019-07-22T19:33:17.712239Z",
     "start_time": "2019-07-22T19:33:14.970031Z"
    }
   },
   "outputs": [
    {
     "name": "stderr",
     "output_type": "stream",
     "text": [
      "C:\\Users\\thoma\\AppData\\Roaming\\Python\\Python37\\site-packages\\numpy\\core\\__init__.py:29: UserWarning: loaded more than 1 DLL from .libs:\n",
      "C:\\Users\\thoma\\AppData\\Roaming\\Python\\Python37\\site-packages\\numpy\\.libs\\libopenblas.IPBC74C7KURV7CB2PKT5Z5FNR3SIBV4J.gfortran-win_amd64.dll\n",
      "C:\\Users\\thoma\\AppData\\Roaming\\Python\\Python37\\site-packages\\numpy\\.libs\\libopenblas.TXA6YQSD3GCQQC22GEQ54J2UDCXDXHWN.gfortran-win_amd64.dll\n",
      "  stacklevel=1)\n"
     ]
    }
   ],
   "source": [
    "import pandas as pd\n",
    "import numpy as np\n",
    "import matplotlib.pyplot as plt\n",
    "import seaborn as sns\n",
    "\n",
    "white = pd.read_csv('winequality-white.csv', sep=';')\n",
    "red = pd.read_csv('winequality-red.csv', sep=';')"
   ]
  },
  {
   "cell_type": "code",
   "execution_count": 2,
   "metadata": {
    "ExecuteTime": {
     "end_time": "2019-07-22T19:33:18.016234Z",
     "start_time": "2019-07-22T19:33:17.720228Z"
    }
   },
   "outputs": [
    {
     "data": {
      "text/html": [
       "<div>\n",
       "<style scoped>\n",
       "    .dataframe tbody tr th:only-of-type {\n",
       "        vertical-align: middle;\n",
       "    }\n",
       "\n",
       "    .dataframe tbody tr th {\n",
       "        vertical-align: top;\n",
       "    }\n",
       "\n",
       "    .dataframe thead th {\n",
       "        text-align: right;\n",
       "    }\n",
       "</style>\n",
       "<table border=\"1\" class=\"dataframe\">\n",
       "  <thead>\n",
       "    <tr style=\"text-align: right;\">\n",
       "      <th></th>\n",
       "      <th>fixed acidity</th>\n",
       "      <th>volatile acidity</th>\n",
       "      <th>citric acid</th>\n",
       "      <th>residual sugar</th>\n",
       "      <th>chlorides</th>\n",
       "      <th>free sulfur dioxide</th>\n",
       "      <th>total sulfur dioxide</th>\n",
       "      <th>density</th>\n",
       "      <th>pH</th>\n",
       "      <th>sulphates</th>\n",
       "      <th>alcohol</th>\n",
       "      <th>quality</th>\n",
       "    </tr>\n",
       "  </thead>\n",
       "  <tbody>\n",
       "    <tr>\n",
       "      <th>count</th>\n",
       "      <td>4898.000000</td>\n",
       "      <td>4898.000000</td>\n",
       "      <td>4898.000000</td>\n",
       "      <td>4898.000000</td>\n",
       "      <td>4898.000000</td>\n",
       "      <td>4898.000000</td>\n",
       "      <td>4898.000000</td>\n",
       "      <td>4898.000000</td>\n",
       "      <td>4898.000000</td>\n",
       "      <td>4898.000000</td>\n",
       "      <td>4898.000000</td>\n",
       "      <td>4898.000000</td>\n",
       "    </tr>\n",
       "    <tr>\n",
       "      <th>mean</th>\n",
       "      <td>6.854788</td>\n",
       "      <td>0.278241</td>\n",
       "      <td>0.334192</td>\n",
       "      <td>6.391415</td>\n",
       "      <td>0.045772</td>\n",
       "      <td>35.308085</td>\n",
       "      <td>138.360657</td>\n",
       "      <td>0.994027</td>\n",
       "      <td>3.188267</td>\n",
       "      <td>0.489847</td>\n",
       "      <td>10.514267</td>\n",
       "      <td>5.877909</td>\n",
       "    </tr>\n",
       "    <tr>\n",
       "      <th>std</th>\n",
       "      <td>0.843868</td>\n",
       "      <td>0.100795</td>\n",
       "      <td>0.121020</td>\n",
       "      <td>5.072058</td>\n",
       "      <td>0.021848</td>\n",
       "      <td>17.007137</td>\n",
       "      <td>42.498065</td>\n",
       "      <td>0.002991</td>\n",
       "      <td>0.151001</td>\n",
       "      <td>0.114126</td>\n",
       "      <td>1.230621</td>\n",
       "      <td>0.885639</td>\n",
       "    </tr>\n",
       "    <tr>\n",
       "      <th>min</th>\n",
       "      <td>3.800000</td>\n",
       "      <td>0.080000</td>\n",
       "      <td>0.000000</td>\n",
       "      <td>0.600000</td>\n",
       "      <td>0.009000</td>\n",
       "      <td>2.000000</td>\n",
       "      <td>9.000000</td>\n",
       "      <td>0.987110</td>\n",
       "      <td>2.720000</td>\n",
       "      <td>0.220000</td>\n",
       "      <td>8.000000</td>\n",
       "      <td>3.000000</td>\n",
       "    </tr>\n",
       "    <tr>\n",
       "      <th>25%</th>\n",
       "      <td>6.300000</td>\n",
       "      <td>0.210000</td>\n",
       "      <td>0.270000</td>\n",
       "      <td>1.700000</td>\n",
       "      <td>0.036000</td>\n",
       "      <td>23.000000</td>\n",
       "      <td>108.000000</td>\n",
       "      <td>0.991723</td>\n",
       "      <td>3.090000</td>\n",
       "      <td>0.410000</td>\n",
       "      <td>9.500000</td>\n",
       "      <td>5.000000</td>\n",
       "    </tr>\n",
       "    <tr>\n",
       "      <th>50%</th>\n",
       "      <td>6.800000</td>\n",
       "      <td>0.260000</td>\n",
       "      <td>0.320000</td>\n",
       "      <td>5.200000</td>\n",
       "      <td>0.043000</td>\n",
       "      <td>34.000000</td>\n",
       "      <td>134.000000</td>\n",
       "      <td>0.993740</td>\n",
       "      <td>3.180000</td>\n",
       "      <td>0.470000</td>\n",
       "      <td>10.400000</td>\n",
       "      <td>6.000000</td>\n",
       "    </tr>\n",
       "    <tr>\n",
       "      <th>75%</th>\n",
       "      <td>7.300000</td>\n",
       "      <td>0.320000</td>\n",
       "      <td>0.390000</td>\n",
       "      <td>9.900000</td>\n",
       "      <td>0.050000</td>\n",
       "      <td>46.000000</td>\n",
       "      <td>167.000000</td>\n",
       "      <td>0.996100</td>\n",
       "      <td>3.280000</td>\n",
       "      <td>0.550000</td>\n",
       "      <td>11.400000</td>\n",
       "      <td>6.000000</td>\n",
       "    </tr>\n",
       "    <tr>\n",
       "      <th>max</th>\n",
       "      <td>14.200000</td>\n",
       "      <td>1.100000</td>\n",
       "      <td>1.660000</td>\n",
       "      <td>65.800000</td>\n",
       "      <td>0.346000</td>\n",
       "      <td>289.000000</td>\n",
       "      <td>440.000000</td>\n",
       "      <td>1.038980</td>\n",
       "      <td>3.820000</td>\n",
       "      <td>1.080000</td>\n",
       "      <td>14.200000</td>\n",
       "      <td>9.000000</td>\n",
       "    </tr>\n",
       "  </tbody>\n",
       "</table>\n",
       "</div>"
      ],
      "text/plain": [
       "       fixed acidity  volatile acidity  citric acid  residual sugar  \\\n",
       "count    4898.000000       4898.000000  4898.000000     4898.000000   \n",
       "mean        6.854788          0.278241     0.334192        6.391415   \n",
       "std         0.843868          0.100795     0.121020        5.072058   \n",
       "min         3.800000          0.080000     0.000000        0.600000   \n",
       "25%         6.300000          0.210000     0.270000        1.700000   \n",
       "50%         6.800000          0.260000     0.320000        5.200000   \n",
       "75%         7.300000          0.320000     0.390000        9.900000   \n",
       "max        14.200000          1.100000     1.660000       65.800000   \n",
       "\n",
       "         chlorides  free sulfur dioxide  total sulfur dioxide      density  \\\n",
       "count  4898.000000          4898.000000           4898.000000  4898.000000   \n",
       "mean      0.045772            35.308085            138.360657     0.994027   \n",
       "std       0.021848            17.007137             42.498065     0.002991   \n",
       "min       0.009000             2.000000              9.000000     0.987110   \n",
       "25%       0.036000            23.000000            108.000000     0.991723   \n",
       "50%       0.043000            34.000000            134.000000     0.993740   \n",
       "75%       0.050000            46.000000            167.000000     0.996100   \n",
       "max       0.346000           289.000000            440.000000     1.038980   \n",
       "\n",
       "                pH    sulphates      alcohol      quality  \n",
       "count  4898.000000  4898.000000  4898.000000  4898.000000  \n",
       "mean      3.188267     0.489847    10.514267     5.877909  \n",
       "std       0.151001     0.114126     1.230621     0.885639  \n",
       "min       2.720000     0.220000     8.000000     3.000000  \n",
       "25%       3.090000     0.410000     9.500000     5.000000  \n",
       "50%       3.180000     0.470000    10.400000     6.000000  \n",
       "75%       3.280000     0.550000    11.400000     6.000000  \n",
       "max       3.820000     1.080000    14.200000     9.000000  "
      ]
     },
     "execution_count": 2,
     "metadata": {},
     "output_type": "execute_result"
    }
   ],
   "source": [
    "white.describe()"
   ]
  },
  {
   "cell_type": "code",
   "execution_count": 3,
   "metadata": {
    "ExecuteTime": {
     "end_time": "2019-07-22T19:33:18.148230Z",
     "start_time": "2019-07-22T19:33:18.032232Z"
    }
   },
   "outputs": [
    {
     "data": {
      "text/html": [
       "<div>\n",
       "<style scoped>\n",
       "    .dataframe tbody tr th:only-of-type {\n",
       "        vertical-align: middle;\n",
       "    }\n",
       "\n",
       "    .dataframe tbody tr th {\n",
       "        vertical-align: top;\n",
       "    }\n",
       "\n",
       "    .dataframe thead th {\n",
       "        text-align: right;\n",
       "    }\n",
       "</style>\n",
       "<table border=\"1\" class=\"dataframe\">\n",
       "  <thead>\n",
       "    <tr style=\"text-align: right;\">\n",
       "      <th></th>\n",
       "      <th>fixed acidity</th>\n",
       "      <th>volatile acidity</th>\n",
       "      <th>citric acid</th>\n",
       "      <th>residual sugar</th>\n",
       "      <th>chlorides</th>\n",
       "      <th>free sulfur dioxide</th>\n",
       "      <th>total sulfur dioxide</th>\n",
       "      <th>density</th>\n",
       "      <th>pH</th>\n",
       "      <th>sulphates</th>\n",
       "      <th>alcohol</th>\n",
       "      <th>quality</th>\n",
       "    </tr>\n",
       "  </thead>\n",
       "  <tbody>\n",
       "    <tr>\n",
       "      <th>count</th>\n",
       "      <td>1599.000000</td>\n",
       "      <td>1599.000000</td>\n",
       "      <td>1599.000000</td>\n",
       "      <td>1599.000000</td>\n",
       "      <td>1599.000000</td>\n",
       "      <td>1599.000000</td>\n",
       "      <td>1599.000000</td>\n",
       "      <td>1599.000000</td>\n",
       "      <td>1599.000000</td>\n",
       "      <td>1599.000000</td>\n",
       "      <td>1599.000000</td>\n",
       "      <td>1599.000000</td>\n",
       "    </tr>\n",
       "    <tr>\n",
       "      <th>mean</th>\n",
       "      <td>8.319637</td>\n",
       "      <td>0.527821</td>\n",
       "      <td>0.270976</td>\n",
       "      <td>2.538806</td>\n",
       "      <td>0.087467</td>\n",
       "      <td>15.874922</td>\n",
       "      <td>46.467792</td>\n",
       "      <td>0.996747</td>\n",
       "      <td>3.311113</td>\n",
       "      <td>0.658149</td>\n",
       "      <td>10.422983</td>\n",
       "      <td>5.636023</td>\n",
       "    </tr>\n",
       "    <tr>\n",
       "      <th>std</th>\n",
       "      <td>1.741096</td>\n",
       "      <td>0.179060</td>\n",
       "      <td>0.194801</td>\n",
       "      <td>1.409928</td>\n",
       "      <td>0.047065</td>\n",
       "      <td>10.460157</td>\n",
       "      <td>32.895324</td>\n",
       "      <td>0.001887</td>\n",
       "      <td>0.154386</td>\n",
       "      <td>0.169507</td>\n",
       "      <td>1.065668</td>\n",
       "      <td>0.807569</td>\n",
       "    </tr>\n",
       "    <tr>\n",
       "      <th>min</th>\n",
       "      <td>4.600000</td>\n",
       "      <td>0.120000</td>\n",
       "      <td>0.000000</td>\n",
       "      <td>0.900000</td>\n",
       "      <td>0.012000</td>\n",
       "      <td>1.000000</td>\n",
       "      <td>6.000000</td>\n",
       "      <td>0.990070</td>\n",
       "      <td>2.740000</td>\n",
       "      <td>0.330000</td>\n",
       "      <td>8.400000</td>\n",
       "      <td>3.000000</td>\n",
       "    </tr>\n",
       "    <tr>\n",
       "      <th>25%</th>\n",
       "      <td>7.100000</td>\n",
       "      <td>0.390000</td>\n",
       "      <td>0.090000</td>\n",
       "      <td>1.900000</td>\n",
       "      <td>0.070000</td>\n",
       "      <td>7.000000</td>\n",
       "      <td>22.000000</td>\n",
       "      <td>0.995600</td>\n",
       "      <td>3.210000</td>\n",
       "      <td>0.550000</td>\n",
       "      <td>9.500000</td>\n",
       "      <td>5.000000</td>\n",
       "    </tr>\n",
       "    <tr>\n",
       "      <th>50%</th>\n",
       "      <td>7.900000</td>\n",
       "      <td>0.520000</td>\n",
       "      <td>0.260000</td>\n",
       "      <td>2.200000</td>\n",
       "      <td>0.079000</td>\n",
       "      <td>14.000000</td>\n",
       "      <td>38.000000</td>\n",
       "      <td>0.996750</td>\n",
       "      <td>3.310000</td>\n",
       "      <td>0.620000</td>\n",
       "      <td>10.200000</td>\n",
       "      <td>6.000000</td>\n",
       "    </tr>\n",
       "    <tr>\n",
       "      <th>75%</th>\n",
       "      <td>9.200000</td>\n",
       "      <td>0.640000</td>\n",
       "      <td>0.420000</td>\n",
       "      <td>2.600000</td>\n",
       "      <td>0.090000</td>\n",
       "      <td>21.000000</td>\n",
       "      <td>62.000000</td>\n",
       "      <td>0.997835</td>\n",
       "      <td>3.400000</td>\n",
       "      <td>0.730000</td>\n",
       "      <td>11.100000</td>\n",
       "      <td>6.000000</td>\n",
       "    </tr>\n",
       "    <tr>\n",
       "      <th>max</th>\n",
       "      <td>15.900000</td>\n",
       "      <td>1.580000</td>\n",
       "      <td>1.000000</td>\n",
       "      <td>15.500000</td>\n",
       "      <td>0.611000</td>\n",
       "      <td>72.000000</td>\n",
       "      <td>289.000000</td>\n",
       "      <td>1.003690</td>\n",
       "      <td>4.010000</td>\n",
       "      <td>2.000000</td>\n",
       "      <td>14.900000</td>\n",
       "      <td>8.000000</td>\n",
       "    </tr>\n",
       "  </tbody>\n",
       "</table>\n",
       "</div>"
      ],
      "text/plain": [
       "       fixed acidity  volatile acidity  citric acid  residual sugar  \\\n",
       "count    1599.000000       1599.000000  1599.000000     1599.000000   \n",
       "mean        8.319637          0.527821     0.270976        2.538806   \n",
       "std         1.741096          0.179060     0.194801        1.409928   \n",
       "min         4.600000          0.120000     0.000000        0.900000   \n",
       "25%         7.100000          0.390000     0.090000        1.900000   \n",
       "50%         7.900000          0.520000     0.260000        2.200000   \n",
       "75%         9.200000          0.640000     0.420000        2.600000   \n",
       "max        15.900000          1.580000     1.000000       15.500000   \n",
       "\n",
       "         chlorides  free sulfur dioxide  total sulfur dioxide      density  \\\n",
       "count  1599.000000          1599.000000           1599.000000  1599.000000   \n",
       "mean      0.087467            15.874922             46.467792     0.996747   \n",
       "std       0.047065            10.460157             32.895324     0.001887   \n",
       "min       0.012000             1.000000              6.000000     0.990070   \n",
       "25%       0.070000             7.000000             22.000000     0.995600   \n",
       "50%       0.079000            14.000000             38.000000     0.996750   \n",
       "75%       0.090000            21.000000             62.000000     0.997835   \n",
       "max       0.611000            72.000000            289.000000     1.003690   \n",
       "\n",
       "                pH    sulphates      alcohol      quality  \n",
       "count  1599.000000  1599.000000  1599.000000  1599.000000  \n",
       "mean      3.311113     0.658149    10.422983     5.636023  \n",
       "std       0.154386     0.169507     1.065668     0.807569  \n",
       "min       2.740000     0.330000     8.400000     3.000000  \n",
       "25%       3.210000     0.550000     9.500000     5.000000  \n",
       "50%       3.310000     0.620000    10.200000     6.000000  \n",
       "75%       3.400000     0.730000    11.100000     6.000000  \n",
       "max       4.010000     2.000000    14.900000     8.000000  "
      ]
     },
     "execution_count": 3,
     "metadata": {},
     "output_type": "execute_result"
    }
   ],
   "source": [
    "red.describe()"
   ]
  },
  {
   "cell_type": "code",
   "execution_count": 4,
   "metadata": {
    "ExecuteTime": {
     "end_time": "2019-07-22T19:33:18.187237Z",
     "start_time": "2019-07-22T19:33:18.161242Z"
    },
    "scrolled": true
   },
   "outputs": [
    {
     "name": "stdout",
     "output_type": "stream",
     "text": [
      "<class 'pandas.core.frame.DataFrame'>\n",
      "RangeIndex: 4898 entries, 0 to 4897\n",
      "Data columns (total 12 columns):\n",
      "fixed acidity           4898 non-null float64\n",
      "volatile acidity        4898 non-null float64\n",
      "citric acid             4898 non-null float64\n",
      "residual sugar          4898 non-null float64\n",
      "chlorides               4898 non-null float64\n",
      "free sulfur dioxide     4898 non-null float64\n",
      "total sulfur dioxide    4898 non-null float64\n",
      "density                 4898 non-null float64\n",
      "pH                      4898 non-null float64\n",
      "sulphates               4898 non-null float64\n",
      "alcohol                 4898 non-null float64\n",
      "quality                 4898 non-null int64\n",
      "dtypes: float64(11), int64(1)\n",
      "memory usage: 459.3 KB\n"
     ]
    }
   ],
   "source": [
    "white.info()"
   ]
  },
  {
   "cell_type": "code",
   "execution_count": 5,
   "metadata": {
    "ExecuteTime": {
     "end_time": "2019-07-22T19:33:18.219233Z",
     "start_time": "2019-07-22T19:33:18.195234Z"
    },
    "scrolled": true
   },
   "outputs": [
    {
     "name": "stdout",
     "output_type": "stream",
     "text": [
      "<class 'pandas.core.frame.DataFrame'>\n",
      "RangeIndex: 1599 entries, 0 to 1598\n",
      "Data columns (total 12 columns):\n",
      "fixed acidity           1599 non-null float64\n",
      "volatile acidity        1599 non-null float64\n",
      "citric acid             1599 non-null float64\n",
      "residual sugar          1599 non-null float64\n",
      "chlorides               1599 non-null float64\n",
      "free sulfur dioxide     1599 non-null float64\n",
      "total sulfur dioxide    1599 non-null float64\n",
      "density                 1599 non-null float64\n",
      "pH                      1599 non-null float64\n",
      "sulphates               1599 non-null float64\n",
      "alcohol                 1599 non-null float64\n",
      "quality                 1599 non-null int64\n",
      "dtypes: float64(11), int64(1)\n",
      "memory usage: 150.0 KB\n"
     ]
    }
   ],
   "source": [
    "red.info()"
   ]
  },
  {
   "cell_type": "code",
   "execution_count": 6,
   "metadata": {
    "ExecuteTime": {
     "end_time": "2019-07-22T19:33:18.249231Z",
     "start_time": "2019-07-22T19:33:18.228239Z"
    }
   },
   "outputs": [],
   "source": [
    "red['type'] = 1\n",
    "white['type'] = 0\n",
    "\n",
    "wines = red.append(white, ignore_index=True)"
   ]
  },
  {
   "cell_type": "code",
   "execution_count": 7,
   "metadata": {
    "ExecuteTime": {
     "end_time": "2019-07-22T19:33:18.295239Z",
     "start_time": "2019-07-22T19:33:18.256233Z"
    }
   },
   "outputs": [
    {
     "data": {
      "text/plain": [
       "False"
      ]
     },
     "execution_count": 7,
     "metadata": {},
     "output_type": "execute_result"
    }
   ],
   "source": [
    "wines.isna().any().any()"
   ]
  },
  {
   "cell_type": "code",
   "execution_count": 8,
   "metadata": {
    "ExecuteTime": {
     "end_time": "2019-07-22T19:33:18.790239Z",
     "start_time": "2019-07-22T19:33:18.317244Z"
    }
   },
   "outputs": [
    {
     "data": {
      "text/plain": [
       "<matplotlib.axes._subplots.AxesSubplot at 0x1c894082c50>"
      ]
     },
     "execution_count": 8,
     "metadata": {},
     "output_type": "execute_result"
    },
    {
     "data": {
      "image/png": "[encoded data removed]",
      "text/plain": [
       "<Figure size 432x288 with 1 Axes>"
      ]
     },
     "metadata": {
      "needs_background": "light"
     },
     "output_type": "display_data"
    }
   ],
   "source": [
    "wines.quality.hist()"
   ]
  },
  {
   "cell_type": "code",
   "execution_count": 9,
   "metadata": {
    "ExecuteTime": {
     "end_time": "2019-07-22T19:33:18.827246Z",
     "start_time": "2019-07-22T19:33:18.805239Z"
    }
   },
   "outputs": [
    {
     "data": {
      "text/plain": [
       "6    2836\n",
       "5    2138\n",
       "7    1079\n",
       "4     216\n",
       "8     193\n",
       "3      30\n",
       "9       5\n",
       "Name: quality, dtype: int64"
      ]
     },
     "execution_count": 9,
     "metadata": {},
     "output_type": "execute_result"
    }
   ],
   "source": [
    "wines.quality.value_counts()"
   ]
  },
  {
   "cell_type": "code",
   "execution_count": 10,
   "metadata": {
    "ExecuteTime": {
     "end_time": "2019-07-22T19:33:18.858225Z",
     "start_time": "2019-07-22T19:33:18.836235Z"
    }
   },
   "outputs": [
    {
     "data": {
      "text/plain": [
       "density                -0.305858\n",
       "volatile acidity       -0.265699\n",
       "chlorides              -0.200666\n",
       "type                   -0.119323\n",
       "fixed acidity          -0.076743\n",
       "total sulfur dioxide   -0.041385\n",
       "residual sugar         -0.036980\n",
       "pH                      0.019506\n",
       "sulphates               0.038485\n",
       "free sulfur dioxide     0.055463\n",
       "citric acid             0.085532\n",
       "alcohol                 0.444319\n",
       "quality                 1.000000\n",
       "Name: quality, dtype: float64"
      ]
     },
     "execution_count": 10,
     "metadata": {},
     "output_type": "execute_result"
    }
   ],
   "source": [
    "wines.corr()['quality'].sort_values()"
   ]
  },
  {
   "cell_type": "code",
   "execution_count": 11,
   "metadata": {
    "ExecuteTime": {
     "end_time": "2019-07-22T19:33:19.353567Z",
     "start_time": "2019-07-22T19:33:18.870236Z"
    }
   },
   "outputs": [
    {
     "data": {
      "image/png": "[encoded data removed]",
      "text/plain": [
       "<Figure size 576x576 with 2 Axes>"
      ]
     },
     "metadata": {
      "needs_background": "light"
     },
     "output_type": "display_data"
    }
   ],
   "source": [
    "plt.figure(figsize=(8, 8))\n",
    "sns.heatmap(wines.corr(), square=True, cmap=\"YlGnBu\")\n",
    "plt.show()"
   ]
  },
  {
   "cell_type": "code",
   "execution_count": 12,
   "metadata": {
    "ExecuteTime": {
     "end_time": "2019-07-22T19:33:19.413797Z",
     "start_time": "2019-07-22T19:33:19.367575Z"
    }
   },
   "outputs": [
    {
     "data": {
      "text/html": [
       "<div>\n",
       "<style scoped>\n",
       "    .dataframe tbody tr th:only-of-type {\n",
       "        vertical-align: middle;\n",
       "    }\n",
       "\n",
       "    .dataframe tbody tr th {\n",
       "        vertical-align: top;\n",
       "    }\n",
       "\n",
       "    .dataframe thead th {\n",
       "        text-align: right;\n",
       "    }\n",
       "</style>\n",
       "<table border=\"1\" class=\"dataframe\">\n",
       "  <thead>\n",
       "    <tr style=\"text-align: right;\">\n",
       "      <th></th>\n",
       "      <th>fixed acidity</th>\n",
       "      <th>volatile acidity</th>\n",
       "      <th>citric acid</th>\n",
       "      <th>residual sugar</th>\n",
       "      <th>chlorides</th>\n",
       "      <th>free sulfur dioxide</th>\n",
       "      <th>total sulfur dioxide</th>\n",
       "      <th>density</th>\n",
       "      <th>pH</th>\n",
       "      <th>sulphates</th>\n",
       "      <th>alcohol</th>\n",
       "      <th>quality</th>\n",
       "      <th>type</th>\n",
       "    </tr>\n",
       "  </thead>\n",
       "  <tbody>\n",
       "    <tr>\n",
       "      <th>0</th>\n",
       "      <td>7.4</td>\n",
       "      <td>0.70</td>\n",
       "      <td>0.00</td>\n",
       "      <td>1.9</td>\n",
       "      <td>0.076</td>\n",
       "      <td>11.0</td>\n",
       "      <td>34.0</td>\n",
       "      <td>0.9978</td>\n",
       "      <td>3.51</td>\n",
       "      <td>0.56</td>\n",
       "      <td>9.4</td>\n",
       "      <td>5</td>\n",
       "      <td>1</td>\n",
       "    </tr>\n",
       "    <tr>\n",
       "      <th>1</th>\n",
       "      <td>7.8</td>\n",
       "      <td>0.88</td>\n",
       "      <td>0.00</td>\n",
       "      <td>2.6</td>\n",
       "      <td>0.098</td>\n",
       "      <td>25.0</td>\n",
       "      <td>67.0</td>\n",
       "      <td>0.9968</td>\n",
       "      <td>3.20</td>\n",
       "      <td>0.68</td>\n",
       "      <td>9.8</td>\n",
       "      <td>5</td>\n",
       "      <td>1</td>\n",
       "    </tr>\n",
       "    <tr>\n",
       "      <th>2</th>\n",
       "      <td>7.8</td>\n",
       "      <td>0.76</td>\n",
       "      <td>0.04</td>\n",
       "      <td>2.3</td>\n",
       "      <td>0.092</td>\n",
       "      <td>15.0</td>\n",
       "      <td>54.0</td>\n",
       "      <td>0.9970</td>\n",
       "      <td>3.26</td>\n",
       "      <td>0.65</td>\n",
       "      <td>9.8</td>\n",
       "      <td>5</td>\n",
       "      <td>1</td>\n",
       "    </tr>\n",
       "    <tr>\n",
       "      <th>3</th>\n",
       "      <td>11.2</td>\n",
       "      <td>0.28</td>\n",
       "      <td>0.56</td>\n",
       "      <td>1.9</td>\n",
       "      <td>0.075</td>\n",
       "      <td>17.0</td>\n",
       "      <td>60.0</td>\n",
       "      <td>0.9980</td>\n",
       "      <td>3.16</td>\n",
       "      <td>0.58</td>\n",
       "      <td>9.8</td>\n",
       "      <td>6</td>\n",
       "      <td>1</td>\n",
       "    </tr>\n",
       "    <tr>\n",
       "      <th>4</th>\n",
       "      <td>7.4</td>\n",
       "      <td>0.70</td>\n",
       "      <td>0.00</td>\n",
       "      <td>1.9</td>\n",
       "      <td>0.076</td>\n",
       "      <td>11.0</td>\n",
       "      <td>34.0</td>\n",
       "      <td>0.9978</td>\n",
       "      <td>3.51</td>\n",
       "      <td>0.56</td>\n",
       "      <td>9.4</td>\n",
       "      <td>5</td>\n",
       "      <td>1</td>\n",
       "    </tr>\n",
       "  </tbody>\n",
       "</table>\n",
       "</div>"
      ],
      "text/plain": [
       "   fixed acidity  volatile acidity  citric acid  residual sugar  chlorides  \\\n",
       "0            7.4              0.70         0.00             1.9      0.076   \n",
       "1            7.8              0.88         0.00             2.6      0.098   \n",
       "2            7.8              0.76         0.04             2.3      0.092   \n",
       "3           11.2              0.28         0.56             1.9      0.075   \n",
       "4            7.4              0.70         0.00             1.9      0.076   \n",
       "\n",
       "   free sulfur dioxide  total sulfur dioxide  density    pH  sulphates  \\\n",
       "0                 11.0                  34.0   0.9978  3.51       0.56   \n",
       "1                 25.0                  67.0   0.9968  3.20       0.68   \n",
       "2                 15.0                  54.0   0.9970  3.26       0.65   \n",
       "3                 17.0                  60.0   0.9980  3.16       0.58   \n",
       "4                 11.0                  34.0   0.9978  3.51       0.56   \n",
       "\n",
       "   alcohol  quality  type  \n",
       "0      9.4        5     1  \n",
       "1      9.8        5     1  \n",
       "2      9.8        5     1  \n",
       "3      9.8        6     1  \n",
       "4      9.4        5     1  "
      ]
     },
     "execution_count": 12,
     "metadata": {},
     "output_type": "execute_result"
    }
   ],
   "source": [
    "wines.head()"
   ]
  },
  {
   "cell_type": "code",
   "execution_count": 13,
   "metadata": {
    "ExecuteTime": {
     "end_time": "2019-07-22T19:33:19.435803Z",
     "start_time": "2019-07-22T19:33:19.421803Z"
    }
   },
   "outputs": [],
   "source": [
    "X = wines.drop('quality', axis=1)"
   ]
  },
  {
   "cell_type": "code",
   "execution_count": 14,
   "metadata": {
    "ExecuteTime": {
     "end_time": "2019-07-22T19:33:19.458798Z",
     "start_time": "2019-07-22T19:33:19.443805Z"
    }
   },
   "outputs": [
    {
     "data": {
      "text/plain": [
       "0    5\n",
       "1    5\n",
       "2    5\n",
       "3    6\n",
       "4    5\n",
       "Name: quality, dtype: int64"
      ]
     },
     "execution_count": 14,
     "metadata": {},
     "output_type": "execute_result"
    }
   ],
   "source": [
    "wines['quality'].head()"
   ]
  },
  {
   "cell_type": "code",
   "execution_count": 15,
   "metadata": {
    "ExecuteTime": {
     "end_time": "2019-07-22T19:33:23.784039Z",
     "start_time": "2019-07-22T19:33:19.465799Z"
    }
   },
   "outputs": [
    {
     "name": "stderr",
     "output_type": "stream",
     "text": [
      "Using TensorFlow backend.\n"
     ]
    }
   ],
   "source": [
    "from keras.utils import to_categorical\n",
    "\n",
    "y_cat = to_categorical(pd.Categorical(wines['quality'].astype(str)))\n",
    "y_reg = wines['quality']"
   ]
  },
  {
   "cell_type": "code",
   "execution_count": 16,
   "metadata": {
    "ExecuteTime": {
     "end_time": "2019-07-22T19:33:23.885489Z",
     "start_time": "2019-07-22T19:33:23.784039Z"
    }
   },
   "outputs": [
    {
     "data": {
      "text/html": [
       "<div>\n",
       "<style scoped>\n",
       "    .dataframe tbody tr th:only-of-type {\n",
       "        vertical-align: middle;\n",
       "    }\n",
       "\n",
       "    .dataframe tbody tr th {\n",
       "        vertical-align: top;\n",
       "    }\n",
       "\n",
       "    .dataframe thead th {\n",
       "        text-align: right;\n",
       "    }\n",
       "</style>\n",
       "<table border=\"1\" class=\"dataframe\">\n",
       "  <thead>\n",
       "    <tr style=\"text-align: right;\">\n",
       "      <th></th>\n",
       "      <th>0</th>\n",
       "      <th>1</th>\n",
       "      <th>2</th>\n",
       "      <th>3</th>\n",
       "      <th>4</th>\n",
       "      <th>5</th>\n",
       "      <th>6</th>\n",
       "      <th>7</th>\n",
       "      <th>8</th>\n",
       "      <th>9</th>\n",
       "    </tr>\n",
       "  </thead>\n",
       "  <tbody>\n",
       "    <tr>\n",
       "      <th>0</th>\n",
       "      <td>0.0</td>\n",
       "      <td>0.0</td>\n",
       "      <td>0.0</td>\n",
       "      <td>0.0</td>\n",
       "      <td>0.0</td>\n",
       "      <td>1.0</td>\n",
       "      <td>0.0</td>\n",
       "      <td>0.0</td>\n",
       "      <td>0.0</td>\n",
       "      <td>0.0</td>\n",
       "    </tr>\n",
       "    <tr>\n",
       "      <th>1</th>\n",
       "      <td>0.0</td>\n",
       "      <td>0.0</td>\n",
       "      <td>0.0</td>\n",
       "      <td>0.0</td>\n",
       "      <td>0.0</td>\n",
       "      <td>1.0</td>\n",
       "      <td>0.0</td>\n",
       "      <td>0.0</td>\n",
       "      <td>0.0</td>\n",
       "      <td>0.0</td>\n",
       "    </tr>\n",
       "    <tr>\n",
       "      <th>2</th>\n",
       "      <td>0.0</td>\n",
       "      <td>0.0</td>\n",
       "      <td>0.0</td>\n",
       "      <td>0.0</td>\n",
       "      <td>0.0</td>\n",
       "      <td>1.0</td>\n",
       "      <td>0.0</td>\n",
       "      <td>0.0</td>\n",
       "      <td>0.0</td>\n",
       "      <td>0.0</td>\n",
       "    </tr>\n",
       "    <tr>\n",
       "      <th>3</th>\n",
       "      <td>0.0</td>\n",
       "      <td>0.0</td>\n",
       "      <td>0.0</td>\n",
       "      <td>0.0</td>\n",
       "      <td>0.0</td>\n",
       "      <td>0.0</td>\n",
       "      <td>1.0</td>\n",
       "      <td>0.0</td>\n",
       "      <td>0.0</td>\n",
       "      <td>0.0</td>\n",
       "    </tr>\n",
       "    <tr>\n",
       "      <th>4</th>\n",
       "      <td>0.0</td>\n",
       "      <td>0.0</td>\n",
       "      <td>0.0</td>\n",
       "      <td>0.0</td>\n",
       "      <td>0.0</td>\n",
       "      <td>1.0</td>\n",
       "      <td>0.0</td>\n",
       "      <td>0.0</td>\n",
       "      <td>0.0</td>\n",
       "      <td>0.0</td>\n",
       "    </tr>\n",
       "  </tbody>\n",
       "</table>\n",
       "</div>"
      ],
      "text/plain": [
       "     0    1    2    3    4    5    6    7    8    9\n",
       "0  0.0  0.0  0.0  0.0  0.0  1.0  0.0  0.0  0.0  0.0\n",
       "1  0.0  0.0  0.0  0.0  0.0  1.0  0.0  0.0  0.0  0.0\n",
       "2  0.0  0.0  0.0  0.0  0.0  1.0  0.0  0.0  0.0  0.0\n",
       "3  0.0  0.0  0.0  0.0  0.0  0.0  1.0  0.0  0.0  0.0\n",
       "4  0.0  0.0  0.0  0.0  0.0  1.0  0.0  0.0  0.0  0.0"
      ]
     },
     "execution_count": 16,
     "metadata": {},
     "output_type": "execute_result"
    }
   ],
   "source": [
    "pd.DataFrame(y_cat).head()"
   ]
  },
  {
   "cell_type": "code",
   "execution_count": 17,
   "metadata": {
    "ExecuteTime": {
     "end_time": "2019-07-22T19:33:23.924474Z",
     "start_time": "2019-07-22T19:33:23.899469Z"
    }
   },
   "outputs": [
    {
     "data": {
      "text/plain": [
       "0    5\n",
       "1    5\n",
       "2    5\n",
       "3    6\n",
       "4    5\n",
       "Name: quality, dtype: int64"
      ]
     },
     "execution_count": 17,
     "metadata": {},
     "output_type": "execute_result"
    }
   ],
   "source": [
    "wines['quality'].head()"
   ]
  },
  {
   "cell_type": "code",
   "execution_count": 18,
   "metadata": {
    "ExecuteTime": {
     "end_time": "2019-07-22T19:33:24.517347Z",
     "start_time": "2019-07-22T19:33:23.931766Z"
    }
   },
   "outputs": [],
   "source": [
    "from sklearn.model_selection import train_test_split\n",
    "\n",
    "X_train, X_test, y_train_reg, y_test_reg, y_train_class, y_test_class = train_test_split(\n",
    "    X, y_reg, y_cat, test_size=0.2, random_state=123)"
   ]
  },
  {
   "cell_type": "code",
   "execution_count": 19,
   "metadata": {
    "ExecuteTime": {
     "end_time": "2019-07-22T19:33:24.569875Z",
     "start_time": "2019-07-22T19:33:24.522193Z"
    }
   },
   "outputs": [
    {
     "data": {
      "text/html": [
       "<div>\n",
       "<style scoped>\n",
       "    .dataframe tbody tr th:only-of-type {\n",
       "        vertical-align: middle;\n",
       "    }\n",
       "\n",
       "    .dataframe tbody tr th {\n",
       "        vertical-align: top;\n",
       "    }\n",
       "\n",
       "    .dataframe thead th {\n",
       "        text-align: right;\n",
       "    }\n",
       "</style>\n",
       "<table border=\"1\" class=\"dataframe\">\n",
       "  <thead>\n",
       "    <tr style=\"text-align: right;\">\n",
       "      <th></th>\n",
       "      <th>fixed acidity</th>\n",
       "      <th>volatile acidity</th>\n",
       "      <th>citric acid</th>\n",
       "      <th>residual sugar</th>\n",
       "      <th>chlorides</th>\n",
       "      <th>free sulfur dioxide</th>\n",
       "      <th>total sulfur dioxide</th>\n",
       "      <th>density</th>\n",
       "      <th>pH</th>\n",
       "      <th>sulphates</th>\n",
       "      <th>alcohol</th>\n",
       "      <th>type</th>\n",
       "    </tr>\n",
       "  </thead>\n",
       "  <tbody>\n",
       "    <tr>\n",
       "      <th>0</th>\n",
       "      <td>7.4</td>\n",
       "      <td>0.70</td>\n",
       "      <td>0.00</td>\n",
       "      <td>1.9</td>\n",
       "      <td>0.076</td>\n",
       "      <td>11.0</td>\n",
       "      <td>34.0</td>\n",
       "      <td>0.9978</td>\n",
       "      <td>3.51</td>\n",
       "      <td>0.56</td>\n",
       "      <td>9.4</td>\n",
       "      <td>1</td>\n",
       "    </tr>\n",
       "    <tr>\n",
       "      <th>1</th>\n",
       "      <td>7.8</td>\n",
       "      <td>0.88</td>\n",
       "      <td>0.00</td>\n",
       "      <td>2.6</td>\n",
       "      <td>0.098</td>\n",
       "      <td>25.0</td>\n",
       "      <td>67.0</td>\n",
       "      <td>0.9968</td>\n",
       "      <td>3.20</td>\n",
       "      <td>0.68</td>\n",
       "      <td>9.8</td>\n",
       "      <td>1</td>\n",
       "    </tr>\n",
       "    <tr>\n",
       "      <th>2</th>\n",
       "      <td>7.8</td>\n",
       "      <td>0.76</td>\n",
       "      <td>0.04</td>\n",
       "      <td>2.3</td>\n",
       "      <td>0.092</td>\n",
       "      <td>15.0</td>\n",
       "      <td>54.0</td>\n",
       "      <td>0.9970</td>\n",
       "      <td>3.26</td>\n",
       "      <td>0.65</td>\n",
       "      <td>9.8</td>\n",
       "      <td>1</td>\n",
       "    </tr>\n",
       "    <tr>\n",
       "      <th>3</th>\n",
       "      <td>11.2</td>\n",
       "      <td>0.28</td>\n",
       "      <td>0.56</td>\n",
       "      <td>1.9</td>\n",
       "      <td>0.075</td>\n",
       "      <td>17.0</td>\n",
       "      <td>60.0</td>\n",
       "      <td>0.9980</td>\n",
       "      <td>3.16</td>\n",
       "      <td>0.58</td>\n",
       "      <td>9.8</td>\n",
       "      <td>1</td>\n",
       "    </tr>\n",
       "    <tr>\n",
       "      <th>4</th>\n",
       "      <td>7.4</td>\n",
       "      <td>0.70</td>\n",
       "      <td>0.00</td>\n",
       "      <td>1.9</td>\n",
       "      <td>0.076</td>\n",
       "      <td>11.0</td>\n",
       "      <td>34.0</td>\n",
       "      <td>0.9978</td>\n",
       "      <td>3.51</td>\n",
       "      <td>0.56</td>\n",
       "      <td>9.4</td>\n",
       "      <td>1</td>\n",
       "    </tr>\n",
       "  </tbody>\n",
       "</table>\n",
       "</div>"
      ],
      "text/plain": [
       "   fixed acidity  volatile acidity  citric acid  residual sugar  chlorides  \\\n",
       "0            7.4              0.70         0.00             1.9      0.076   \n",
       "1            7.8              0.88         0.00             2.6      0.098   \n",
       "2            7.8              0.76         0.04             2.3      0.092   \n",
       "3           11.2              0.28         0.56             1.9      0.075   \n",
       "4            7.4              0.70         0.00             1.9      0.076   \n",
       "\n",
       "   free sulfur dioxide  total sulfur dioxide  density    pH  sulphates  \\\n",
       "0                 11.0                  34.0   0.9978  3.51       0.56   \n",
       "1                 25.0                  67.0   0.9968  3.20       0.68   \n",
       "2                 15.0                  54.0   0.9970  3.26       0.65   \n",
       "3                 17.0                  60.0   0.9980  3.16       0.58   \n",
       "4                 11.0                  34.0   0.9978  3.51       0.56   \n",
       "\n",
       "   alcohol  type  \n",
       "0      9.4     1  \n",
       "1      9.8     1  \n",
       "2      9.8     1  \n",
       "3      9.8     1  \n",
       "4      9.4     1  "
      ]
     },
     "execution_count": 19,
     "metadata": {},
     "output_type": "execute_result"
    }
   ],
   "source": [
    "X.head()"
   ]
  },
  {
   "cell_type": "code",
   "execution_count": 20,
   "metadata": {
    "ExecuteTime": {
     "end_time": "2019-07-22T19:33:24.627234Z",
     "start_time": "2019-07-22T19:33:24.582817Z"
    }
   },
   "outputs": [],
   "source": [
    "from sklearn.preprocessing import StandardScaler\n",
    "\n",
    "scaler = StandardScaler()\n",
    "\n",
    "scaler.fit(X_train)\n",
    "scaler.fit(y_train_reg.values.reshape(-1,1))\n",
    "\n",
    "X_train_scaled = scaler.transform(X_train)\n",
    "X_test_scaled = scaler.transform(X_test)\n",
    "y_train_scaled = scaler.transform(y_train_reg.values.reshape(-1,1))\n",
    "y_test_scaled = scaler.transform(y_test_reg.values.reshape(-1,1))"
   ]
  },
  {
   "cell_type": "code",
   "execution_count": 21,
   "metadata": {
    "ExecuteTime": {
     "end_time": "2019-07-22T19:33:24.649237Z",
     "start_time": "2019-07-22T19:33:24.636243Z"
    }
   },
   "outputs": [],
   "source": [
    "from keras.models import Sequential\n",
    "from keras.layers import Dense, BatchNormalization\n",
    "from keras.callbacks import EarlyStopping\n",
    "\n",
    "early_stopping_monitor = EarlyStopping(patience=3)"
   ]
  },
  {
   "cell_type": "code",
   "execution_count": 22,
   "metadata": {
    "ExecuteTime": {
     "end_time": "2019-07-22T19:33:24.695320Z",
     "start_time": "2019-07-22T19:33:24.670251Z"
    }
   },
   "outputs": [],
   "source": [
    "in_cols = X.shape[1]\n",
    "out_cols = y_cat.shape[1]"
   ]
  },
  {
   "cell_type": "code",
   "execution_count": 23,
   "metadata": {
    "ExecuteTime": {
     "end_time": "2019-07-22T19:33:24.710947Z",
     "start_time": "2019-07-22T19:33:24.695320Z"
    }
   },
   "outputs": [],
   "source": [
    "from keras.layers import Input"
   ]
  },
  {
   "cell_type": "code",
   "execution_count": 24,
   "metadata": {
    "ExecuteTime": {
     "end_time": "2019-07-22T19:33:25.345717Z",
     "start_time": "2019-07-22T19:33:24.710947Z"
    }
   },
   "outputs": [
    {
     "name": "stdout",
     "output_type": "stream",
     "text": [
      "WARNING:tensorflow:From C:\\Users\\thoma\\AppData\\Roaming\\Python\\Python37\\site-packages\\tensorflow\\python\\framework\\op_def_library.py:263: colocate_with (from tensorflow.python.framework.ops) is deprecated and will be removed in a future version.\n",
      "Instructions for updating:\n",
      "Colocations handled automatically by placer.\n"
     ]
    }
   ],
   "source": [
    "input_tensor = Input(shape=(in_cols,))\n",
    "hidden_1 = Dense(1000, activation='relu', name='hidden_1')(input_tensor)\n",
    "batch_1 = BatchNormalization()(hidden_1)\n",
    "hidden_2 = Dense(500, activation='relu', name='hidden_2')(batch_1)\n",
    "batch_2 = BatchNormalization()(hidden_2)\n",
    "hidden_3 = Dense(250, activation='relu', name='hidden_3')(batch_2)\n",
    "output_tensor_reg = Dense(1, name='Regression')(hidden_3)\n",
    "\n",
    "output_tensor_class = Dense(out_cols, activation='sigmoid', name='Classification')(output_tensor_reg)"
   ]
  },
  {
   "cell_type": "code",
   "execution_count": 25,
   "metadata": {
    "ExecuteTime": {
     "end_time": "2019-07-22T19:33:25.496557Z",
     "start_time": "2019-07-22T19:33:25.351561Z"
    }
   },
   "outputs": [],
   "source": [
    "from keras.models import Model\n",
    "\n",
    "model = Model(input_tensor, [output_tensor_reg, output_tensor_class])\n",
    "\n",
    "model.compile(loss=['mean_absolute_error', 'categorical_crossentropy'],\n",
    "             optimizer='adam',\n",
    "             metrics=['accuracy'])"
   ]
  },
  {
   "cell_type": "code",
   "execution_count": 26,
   "metadata": {
    "ExecuteTime": {
     "end_time": "2019-07-22T19:47:32.376006Z",
     "start_time": "2019-07-22T19:33:25.501556Z"
    },
    "scrolled": true
   },
   "outputs": [
    {
     "name": "stdout",
     "output_type": "stream",
     "text": [
      "WARNING:tensorflow:From C:\\Users\\thoma\\AppData\\Roaming\\Python\\Python37\\site-packages\\tensorflow\\python\\ops\\math_ops.py:3066: to_int32 (from tensorflow.python.ops.math_ops) is deprecated and will be removed in a future version.\n",
      "Instructions for updating:\n",
      "Use tf.cast instead.\n",
      "Train on 5197 samples, validate on 1300 samples\n",
      "Epoch 1/100\n",
      "5197/5197 [==============================] - 9s 2ms/step - loss: 3.1965 - Regression_loss: 0.9491 - Classification_loss: 2.2474 - Regression_acc: 0.0000e+00 - Classification_acc: 0.1876 - val_loss: 3.1418 - val_Regression_loss: 0.9845 - val_Classification_loss: 2.1574 - val_Regression_acc: 0.0000e+00 - val_Classification_acc: 0.2415\n",
      "Epoch 2/100\n",
      "5197/5197 [==============================] - 8s 1ms/step - loss: 2.9779 - Regression_loss: 0.8099 - Classification_loss: 2.1680 - Regression_acc: 0.0000e+00 - Classification_acc: 0.2825 - val_loss: 3.0777 - val_Regression_loss: 0.8919 - val_Classification_loss: 2.1859 - val_Regression_acc: 0.0000e+00 - val_Classification_acc: 0.3062\n",
      "Epoch 3/100\n",
      "5197/5197 [==============================] - 7s 1ms/step - loss: 2.8940 - Regression_loss: 0.7909 - Classification_loss: 2.1031 - Regression_acc: 0.0000e+00 - Classification_acc: 0.3569 - val_loss: 2.9432 - val_Regression_loss: 0.9145 - val_Classification_loss: 2.0287 - val_Regression_acc: 0.0000e+00 - val_Classification_acc: 0.3377\n",
      "Epoch 4/100\n",
      "5197/5197 [==============================] - 7s 1ms/step - loss: 2.7960 - Regression_loss: 0.7514 - Classification_loss: 2.0446 - Regression_acc: 0.0000e+00 - Classification_acc: 0.4187 - val_loss: 2.8807 - val_Regression_loss: 0.9020 - val_Classification_loss: 1.9786 - val_Regression_acc: 0.0000e+00 - val_Classification_acc: 0.3708 - Regression_acc: 0.0000e+00 - Classificati\n",
      "Epoch 5/100\n",
      "5197/5197 [==============================] - 8s 2ms/step - loss: 2.7823 - Regression_loss: 0.7940 - Classification_loss: 1.9883 - Regression_acc: 0.0000e+00 - Classification_acc: 0.4299 - val_loss: 2.7278 - val_Regression_loss: 0.8236 - val_Classification_loss: 1.9042 - val_Regression_acc: 0.0000e+00 - val_Classification_acc: 0.3815\n",
      "Epoch 6/100\n",
      "5197/5197 [==============================] - 8s 2ms/step - loss: 2.6614 - Regression_loss: 0.7360 - Classification_loss: 1.9254 - Regression_acc: 0.0000e+00 - Classification_acc: 0.4558 - val_loss: 2.6905 - val_Regression_loss: 0.8209 - val_Classification_loss: 1.8696 - val_Regression_acc: 0.0000e+00 - val_Classification_acc: 0.4315\n",
      "Epoch 7/100\n",
      "5197/5197 [==============================] - 9s 2ms/step - loss: 2.1571 - Regression_loss: 0.6664 - Classification_loss: 1.4907 - Regression_acc: 0.0000e+00 - Classification_acc: 0.5282 - val_loss: 2.1303 - val_Regression_loss: 0.6649 - val_Classification_loss: 1.4655 - val_Regression_acc: 0.0000e+00 - val_Classification_acc: 0.5238\n",
      "Epoch 18/100\n",
      "5197/5197 [==============================] - 9s 2ms/step - loss: 2.1315 - Regression_loss: 0.6672 - Classification_loss: 1.4643 - Regression_acc: 0.0000e+00 - Classification_acc: 0.5305 - val_loss: 2.1360 - val_Regression_loss: 0.6883 - val_Classification_loss: 1.4477 - val_Regression_acc: 0.0000e+00 - val_Classification_acc: 0.5292\n",
      "Epoch 19/100\n",
      "5197/5197 [==============================] - 8s 2ms/step - loss: 2.1019 - Regression_loss: 0.6624 - Classification_loss: 1.4395 - Regression_acc: 0.0000e+00 - Classification_acc: 0.5307 - val_loss: 2.2709 - val_Regression_loss: 0.8402 - val_Classification_loss: 1.4307 - val_Regression_acc: 0.0000e+00 - val_Classification_acc: 0.4854\n",
      "Epoch 20/100\n",
      "5197/5197 [==============================] - 9s 2ms/step - loss: 2.0744 - Regression_loss: 0.6598 - Classification_loss: 1.4146 - Regression_acc: 0.0000e+00 - Classification_acc: 0.5276 - val_loss: 2.0839 - val_Regression_loss: 0.6988 - val_Classification_loss: 1.3850 - val_Regression_acc: 0.0000e+00 - val_Classification_acc: 0.5423\n",
      "Epoch 21/100\n",
      "5197/5197 [==============================] - 9s 2ms/step - loss: 2.0498 - Regression_loss: 0.6555 - Classification_loss: 1.3943 - Regression_acc: 0.0000e+00 - Classification_acc: 0.5303 - val_loss: 2.1213 - val_Regression_loss: 0.6796 - val_Classification_loss: 1.4417 - val_Regression_acc: 0.0000e+00 - val_Classification_acc: 0.4985\n",
      "Epoch 22/100\n",
      "5197/5197 [==============================] - 9s 2ms/step - loss: 2.0226 - Regression_loss: 0.6519 - Classification_loss: 1.3707 - Regression_acc: 0.0000e+00 - Classification_acc: 0.5297 - val_loss: 2.2167 - val_Regression_loss: 0.7962 - val_Classification_loss: 1.4205 - val_Regression_acc: 0.0000e+00 - val_Classification_acc: 0.4808\n",
      "Epoch 23/100\n",
      "5197/5197 [==============================] - 9s 2ms/step - loss: 1.9926 - Regression_loss: 0.6406 - Classification_loss: 1.3520 - Regression_acc: 0.0000e+00 - Classification_acc: 0.5351 - val_loss: 2.0835 - val_Regression_loss: 0.7176 - val_Classification_loss: 1.3660 - val_Regression_acc: 0.0000e+00 - val_Classification_acc: 0.4908n_loss: 1.3492 - Regression_acc: 0.0000e+00 - Classification_acc\n",
      "Epoch 24/100\n",
      "5197/5197 [==============================] - 8s 2ms/step - loss: 1.9810 - Regression_loss: 0.6479 - Classification_loss: 1.3331 - Regression_acc: 0.0000e+00 - Classification_acc: 0.5301 - val_loss: 2.1671 - val_Regression_loss: 0.7306 - val_Classification_loss: 1.4364 - val_Regression_acc: 0.0000e+00 - val_Classification_acc: 0.4385\n",
      "Epoch 25/100\n",
      "5197/5197 [==============================] - 7s 1ms/step - loss: 1.9513 - Regression_loss: 0.6374 - Classification_loss: 1.3138 - Regression_acc: 0.0000e+00 - Classification_acc: 0.5336 - val_loss: 2.0502 - val_Regression_loss: 0.7199 - val_Classification_loss: 1.3303 - val_Regression_acc: 0.0000e+00 - val_Classification_acc: 0.4992\n",
      "Epoch 26/100\n",
      "5197/5197 [==============================] - 8s 1ms/step - loss: 1.9347 - Regression_loss: 0.6368 - Classification_loss: 1.2978 - Regression_acc: 0.0000e+00 - Classification_acc: 0.5345 - val_loss: 2.0184 - val_Regression_loss: 0.6784 - val_Classification_loss: 1.3400 - val_Regression_acc: 0.0000e+00 - val_Classification_acc: 0.5138\n",
      "Epoch 27/100\n",
      "5197/5197 [==============================] - 8s 2ms/step - loss: 1.9244 - Regression_loss: 0.6426 - Classification_loss: 1.2817 - Regression_acc: 0.0000e+00 - Classification_acc: 0.5343 - val_loss: 2.0876 - val_Regression_loss: 0.7583 - val_Classification_loss: 1.3292 - val_Regression_acc: 0.0000e+00 - val_Classification_acc: 0.4954\n",
      "Epoch 28/100\n",
      "5197/5197 [==============================] - 8s 2ms/step - loss: 1.8931 - Regression_loss: 0.6295 - Classification_loss: 1.2636 - Regression_acc: 0.0000e+00 - Classification_acc: 0.5376 - val_loss: 1.9951 - val_Regression_loss: 0.7133 - val_Classification_loss: 1.2818 - val_Regression_acc: 0.0000e+00 - val_Classification_acc: 0.5015ssion_acc: 0.0000e+00 - Classification_acc: 0.5\n",
      "Epoch 29/100\n",
      "5197/5197 [==============================] - 9s 2ms/step - loss: 1.8804 - Regression_loss: 0.6298 - Classification_loss: 1.2506 - Regression_acc: 0.0000e+00 - Classification_acc: 0.5399 - val_loss: 1.9129 - val_Regression_loss: 0.6451 - val_Classification_loss: 1.2678 - val_Regression_acc: 0.0000e+00 - val_Classification_acc: 0.5292\n",
      "Epoch 30/100\n",
      "5197/5197 [==============================] - 8s 2ms/step - loss: 1.7817 - Regression_loss: 0.6147 - Classification_loss: 1.1670 - Regression_acc: 0.0000e+00 - Classification_acc: 0.5411 - val_loss: 1.8893 - val_Regression_loss: 0.6793 - val_Classification_loss: 1.2100 - val_Regression_acc: 0.0000e+00 - val_Classification_acc: 0.5208\n",
      "Epoch 38/100\n",
      "5197/5197 [==============================] - 8s 2ms/step - loss: 1.7765 - Regression_loss: 0.6177 - Classification_loss: 1.1587 - Regression_acc: 0.0000e+00 - Classification_acc: 0.5359 - val_loss: 2.1129 - val_Regression_loss: 0.7912 - val_Classification_loss: 1.3217 - val_Regression_acc: 0.0000e+00 - val_Classification_acc: 0.4769s: 1.7438 - Regression_loss: 0.6023 - Classification_loss: 1.1415\n",
      "Epoch 39/100\n",
      "5197/5197 [==============================] - 8s 2ms/step - loss: 1.7670 - Regression_loss: 0.6133 - Classification_loss: 1.1537 - Regression_acc: 0.0000e+00 - Classification_acc: 0.5488 - val_loss: 2.1346 - val_Regression_loss: 0.7949 - val_Classification_loss: 1.3397 - val_Regression_acc: 0.0000e+00 - val_Classification_acc: 0.4938\n",
      "Epoch 40/100\n"
     ]
    },
    {
     "name": "stdout",
     "output_type": "stream",
     "text": [
      "5197/5197 [==============================] - 8s 2ms/step - loss: 1.7612 - Regression_loss: 0.6147 - Classification_loss: 1.1465 - Regression_acc: 0.0000e+00 - Classification_acc: 0.5413 - val_loss: 1.8059 - val_Regression_loss: 0.6262 - val_Classification_loss: 1.1796 - val_Regression_acc: 0.0000e+00 - val_Classification_acc: 0.5308\n",
      "Epoch 41/100\n",
      "5197/5197 [==============================] - 8s 2ms/step - loss: 1.7621 - Regression_loss: 0.6179 - Classification_loss: 1.1441 - Regression_acc: 0.0000e+00 - Classification_acc: 0.5342 - val_loss: 1.8361 - val_Regression_loss: 0.6549 - val_Classification_loss: 1.1813 - val_Regression_acc: 0.0000e+00 - val_Classification_acc: 0.5015\n",
      "Epoch 42/100\n",
      "5197/5197 [==============================] - 8s 2ms/step - loss: 1.7482 - Regression_loss: 0.6144 - Classification_loss: 1.1337 - Regression_acc: 0.0000e+00 - Classification_acc: 0.5417 - val_loss: 1.7902 - val_Regression_loss: 0.6342 - val_Classification_loss: 1.1561 - val_Regression_acc: 0.0000e+00 - val_Classification_acc: 0.5362\n",
      "Epoch 43/100\n",
      "5197/5197 [==============================] - 8s 2ms/step - loss: 1.7437 - Regression_loss: 0.6156 - Classification_loss: 1.1281 - Regression_acc: 0.0000e+00 - Classification_acc: 0.5376 - val_loss: 2.3642 - val_Regression_loss: 0.9035 - val_Classification_loss: 1.4607 - val_Regression_acc: 0.0000e+00 - val_Classification_acc: 0.4846\n",
      "Epoch 44/100\n",
      "5197/5197 [==============================] - 8s 2ms/step - loss: 1.7262 - Regression_loss: 0.6065 - Classification_loss: 1.1197 - Regression_acc: 0.0000e+00 - Classification_acc: 0.5457 - val_loss: 1.8300 - val_Regression_loss: 0.6607 - val_Classification_loss: 1.1693 - val_Regression_acc: 0.0000e+00 - val_Classification_acc: 0.5000\n",
      "Epoch 45/100\n",
      "5197/5197 [==============================] - 10s 2ms/step - loss: 1.7264 - Regression_loss: 0.6137 - Classification_loss: 1.1128 - Regression_acc: 0.0000e+00 - Classification_acc: 0.5384 - val_loss: 1.7552 - val_Regression_loss: 0.6205 - val_Classification_loss: 1.1347 - val_Regression_acc: 0.0000e+00 - val_Classification_acc: 0.5415\n",
      "Epoch 46/100\n",
      "5197/5197 [==============================] - 8s 2ms/step - loss: 1.7148 - Regression_loss: 0.6053 - Classification_loss: 1.1095 - Regression_acc: 0.0000e+00 - Classification_acc: 0.5472 - val_loss: 1.9780 - val_Regression_loss: 0.7242 - val_Classification_loss: 1.2538 - val_Regression_acc: 0.0000e+00 - val_Classification_acc: 0.5062\n",
      "Epoch 47/100\n",
      "5197/5197 [==============================] - 8s 2ms/step - loss: 1.7134 - Regression_loss: 0.6083 - Classification_loss: 1.1051 - Regression_acc: 0.0000e+00 - Classification_acc: 0.5444 - val_loss: 1.7550 - val_Regression_loss: 0.6179 - val_Classification_loss: 1.1371 - val_Regression_acc: 0.0000e+00 - val_Classification_acc: 0.5492\n",
      "Epoch 48/100\n",
      "5197/5197 [==============================] - 8s 2ms/step - loss: 1.7035 - Regression_loss: 0.6044 - Classification_loss: 1.0991 - Regression_acc: 0.0000e+00 - Classification_acc: 0.5417 - val_loss: 1.8591 - val_Regression_loss: 0.6760 - val_Classification_loss: 1.1831 - val_Regression_acc: 0.0000e+00 - val_Classification_acc: 0.4915\n",
      "Epoch 49/100\n",
      "5197/5197 [==============================] - 8s 2ms/step - loss: 1.6944 - Regression_loss: 0.6034 - Classification_loss: 1.0910 - Regression_acc: 0.0000e+00 - Classification_acc: 0.5442 - val_loss: 1.7833 - val_Regression_loss: 0.6372 - val_Classification_loss: 1.1461 - val_Regression_acc: 0.0000e+00 - val_Classification_acc: 0.5138\n",
      "Epoch 50/100\n",
      "5197/5197 [==============================] - 9s 2ms/step - loss: 1.6937 - Regression_loss: 0.6031 - Classification_loss: 1.0906 - Regression_acc: 0.0000e+00 - Classification_acc: 0.5467 - val_loss: 1.8933 - val_Regression_loss: 0.7066 - val_Classification_loss: 1.1867 - val_Regression_acc: 0.0000e+00 - val_Classification_acc: 0.4969\n",
      "Epoch 51/100\n",
      "5197/5197 [==============================] - 7s 1ms/step - loss: 1.6790 - Regression_loss: 0.5984 - Classification_loss: 1.0805 - Regression_acc: 0.0000e+00 - Classification_acc: 0.5517 - val_loss: 1.7553 - val_Regression_loss: 0.6251 - val_Classification_loss: 1.1302 - val_Regression_acc: 0.0000e+00 - val_Classification_acc: 0.5254\n",
      "Epoch 52/100\n",
      "5197/5197 [==============================] - 6s 1ms/step - loss: 1.6745 - Regression_loss: 0.5981 - Classification_loss: 1.0764 - Regression_acc: 0.0000e+00 - Classification_acc: 0.5499 - val_loss: 2.6855 - val_Regression_loss: 0.9966 - val_Classification_loss: 1.6889 - val_Regression_acc: 0.0000e+00 - val_Classification_acc: 0.4938\n",
      "Epoch 53/100\n",
      "5197/5197 [==============================] - 6s 1ms/step - loss: 1.6784 - Regression_loss: 0.5987 - Classification_loss: 1.0797 - Regression_acc: 0.0000e+00 - Classification_acc: 0.5455 - val_loss: 1.7221 - val_Regression_loss: 0.6188 - val_Classification_loss: 1.1033 - val_Regression_acc: 0.0000e+00 - val_Classification_acc: 0.5377\n",
      "Epoch 54/100\n",
      "5197/5197 [==============================] - 6s 1ms/step - loss: 1.6681 - Regression_loss: 0.5955 - Classification_loss: 1.0726 - Regression_acc: 0.0000e+00 - Classification_acc: 0.5497 - val_loss: 1.7211 - val_Regression_loss: 0.6198 - val_Classification_loss: 1.1014 - val_Regression_acc: 0.0000e+00 - val_Classification_acc: 0.5269\n",
      "Epoch 55/100\n",
      "5197/5197 [==============================] - 7s 1ms/step - loss: 1.6725 - Regression_loss: 0.5996 - Classification_loss: 1.0730 - Regression_acc: 0.0000e+00 - Classification_acc: 0.5480 - val_loss: 1.9316 - val_Regression_loss: 0.7133 - val_Classification_loss: 1.2183 - val_Regression_acc: 0.0000e+00 - val_Classification_acc: 0.50150713 - Regression_acc: 0.0000e+00 - Classification_\n",
      "Epoch 56/100\n",
      "5197/5197 [==============================] - 7s 1ms/step - loss: 1.6595 - Regression_loss: 0.5948 - Classification_loss: 1.0647 - Regression_acc: 0.0000e+00 - Classification_acc: 0.5528 - val_loss: 1.6931 - val_Regression_loss: 0.6075 - val_Classification_loss: 1.0856 - val_Regression_acc: 0.0000e+00 - val_Classification_acc: 0.5362\n",
      "Epoch 57/100\n",
      "5197/5197 [==============================] - 9s 2ms/step - loss: 1.6552 - Regression_loss: 0.5937 - Classification_loss: 1.0614 - Regression_acc: 0.0000e+00 - Classification_acc: 0.5582 - val_loss: 1.8082 - val_Regression_loss: 0.6654 - val_Classification_loss: 1.1428 - val_Regression_acc: 0.0000e+00 - val_Classification_acc: 0.4977\n",
      "Epoch 58/100\n",
      "5197/5197 [==============================] - 9s 2ms/step - loss: 1.6495 - Regression_loss: 0.5912 - Classification_loss: 1.0583 - Regression_acc: 0.0000e+00 - Classification_acc: 0.5515 - val_loss: 1.7065 - val_Regression_loss: 0.6180 - val_Classification_loss: 1.0885 - val_Regression_acc: 0.0000e+00 - val_Classification_acc: 0.5238\n",
      "Epoch 59/100\n",
      "5197/5197 [==============================] - 8s 2ms/step - loss: 1.6414 - Regression_loss: 0.5884 - Classification_loss: 1.0529 - Regression_acc: 0.0000e+00 - Classification_acc: 0.5542 - val_loss: 1.9035 - val_Regression_loss: 0.6888 - val_Classification_loss: 1.2147 - val_Regression_acc: 0.0000e+00 - val_Classification_acc: 0.5085\n",
      "Epoch 60/100\n",
      "5197/5197 [==============================] - 8s 2ms/step - loss: 1.6349 - Regression_loss: 0.5870 - Classification_loss: 1.0478 - Regression_acc: 0.0000e+00 - Classification_acc: 0.5520 - val_loss: 1.9637 - val_Regression_loss: 0.7175 - val_Classification_loss: 1.2462 - val_Regression_acc: 0.0000e+00 - val_Classification_acc: 0.4977\n",
      "Epoch 61/100\n",
      "5197/5197 [==============================] - 8s 2ms/step - loss: 1.6363 - Regression_loss: 0.5881 - Classification_loss: 1.0482 - Regression_acc: 0.0000e+00 - Classification_acc: 0.5528 - val_loss: 1.7526 - val_Regression_loss: 0.6330 - val_Classification_loss: 1.1196 - val_Regression_acc: 0.0000e+00 - val_Classification_acc: 0.5323\n",
      "Epoch 62/100\n",
      "5197/5197 [==============================] - 9s 2ms/step - loss: 1.5643 - Regression_loss: 0.5662 - Classification_loss: 0.9981 - Regression_acc: 0.0000e+00 - Classification_acc: 0.5678 - val_loss: 1.8669 - val_Regression_loss: 0.6882 - val_Classification_loss: 1.1787 - val_Regression_acc: 0.0000e+00 - val_Classification_acc: 0.5223\n",
      "Epoch 80/100\n"
     ]
    },
    {
     "name": "stdout",
     "output_type": "stream",
     "text": [
      "5197/5197 [==============================] - 8s 2ms/step - loss: 1.5539 - Regression_loss: 0.5625 - Classification_loss: 0.9914 - Regression_acc: 0.0000e+00 - Classification_acc: 0.5676 - val_loss: 1.7337 - val_Regression_loss: 0.6400 - val_Classification_loss: 1.0937 - val_Regression_acc: 0.0000e+00 - val_Classification_acc: 0.5231\n",
      "Epoch 81/100\n",
      "5197/5197 [==============================] - 8s 2ms/step - loss: 1.5390 - Regression_loss: 0.5550 - Classification_loss: 0.9840 - Regression_acc: 0.0000e+00 - Classification_acc: 0.5632 - val_loss: 1.6998 - val_Regression_loss: 0.6233 - val_Classification_loss: 1.0765 - val_Regression_acc: 0.0000e+00 - val_Classification_acc: 0.5246\n",
      "Epoch 82/100\n",
      "5197/5197 [==============================] - 8s 2ms/step - loss: 1.5368 - Regression_loss: 0.5550 - Classification_loss: 0.9818 - Regression_acc: 0.0000e+00 - Classification_acc: 0.5728 - val_loss: 1.7859 - val_Regression_loss: 0.6611 - val_Classification_loss: 1.1248 - val_Regression_acc: 0.0000e+00 - val_Classification_acc: 0.5100\n",
      "Epoch 83/100\n",
      "5197/5197 [==============================] - 8s 2ms/step - loss: 1.5325 - Regression_loss: 0.5552 - Classification_loss: 0.9773 - Regression_acc: 0.0000e+00 - Classification_acc: 0.5724 - val_loss: 1.9068 - val_Regression_loss: 0.7126 - val_Classification_loss: 1.1941 - val_Regression_acc: 0.0000e+00 - val_Classification_acc: 0.5131\n",
      "Epoch 84/100\n",
      "5197/5197 [==============================] - 8s 2ms/step - loss: 1.5237 - Regression_loss: 0.5478 - Classification_loss: 0.9758 - Regression_acc: 0.0000e+00 - Classification_acc: 0.5765 - val_loss: 1.6385 - val_Regression_loss: 0.5954 - val_Classification_loss: 1.0431 - val_Regression_acc: 0.0000e+00 - val_Classification_acc: 0.5454\n",
      "Epoch 85/100\n",
      "5197/5197 [==============================] - 9s 2ms/step - loss: 1.5149 - Regression_loss: 0.5463 - Classification_loss: 0.9687 - Regression_acc: 0.0000e+00 - Classification_acc: 0.5746 - val_loss: 1.8647 - val_Regression_loss: 0.6849 - val_Classification_loss: 1.1798 - val_Regression_acc: 0.0000e+00 - val_Classification_acc: 0.4946\n",
      "Epoch 86/100\n",
      "5197/5197 [==============================] - 9s 2ms/step - loss: 1.5171 - Regression_loss: 0.5466 - Classification_loss: 0.9705 - Regression_acc: 0.0000e+00 - Classification_acc: 0.5755 - val_loss: 1.9672 - val_Regression_loss: 0.7129 - val_Classification_loss: 1.2543 - val_Regression_acc: 0.0000e+00 - val_Classification_acc: 0.5123\n",
      "Epoch 87/100\n",
      "5197/5197 [==============================] - 8s 2ms/step - loss: 1.5206 - Regression_loss: 0.5509 - Classification_loss: 0.9697 - Regression_acc: 0.0000e+00 - Classification_acc: 0.5730 - val_loss: 1.7219 - val_Regression_loss: 0.6284 - val_Classification_loss: 1.0935 - val_Regression_acc: 0.0000e+00 - val_Classification_acc: 0.5423\n",
      "Epoch 88/100\n",
      "5197/5197 [==============================] - 9s 2ms/step - loss: 1.5147 - Regression_loss: 0.5477 - Classification_loss: 0.9669 - Regression_acc: 0.0000e+00 - Classification_acc: 0.5728 - val_loss: 1.6529 - val_Regression_loss: 0.6058 - val_Classification_loss: 1.0471 - val_Regression_acc: 0.0000e+00 - val_Classification_acc: 0.5438\n",
      "Epoch 89/100\n",
      "5197/5197 [==============================] - 8s 2ms/step - loss: 1.5076 - Regression_loss: 0.5466 - Classification_loss: 0.9610 - Regression_acc: 0.0000e+00 - Classification_acc: 0.5699 - val_loss: 1.9666 - val_Regression_loss: 0.7217 - val_Classification_loss: 1.2449 - val_Regression_acc: 0.0000e+00 - val_Classification_acc: 0.5177\n",
      "Epoch 90/100\n",
      "5197/5197 [==============================] - 8s 2ms/step - loss: 1.5106 - Regression_loss: 0.5463 - Classification_loss: 0.9642 - Regression_acc: 0.0000e+00 - Classification_acc: 0.5736 - val_loss: 1.7337 - val_Regression_loss: 0.6338 - val_Classification_loss: 1.0999 - val_Regression_acc: 0.0000e+00 - val_Classification_acc: 0.5338\n",
      "Epoch 91/100\n",
      "5197/5197 [==============================] - 10s 2ms/step - loss: 1.4921 - Regression_loss: 0.5376 - Classification_loss: 0.9545 - Regression_acc: 0.0000e+00 - Classification_acc: 0.5807 - val_loss: 1.8395 - val_Regression_loss: 0.6712 - val_Classification_loss: 1.1683 - val_Regression_acc: 0.0000e+00 - val_Classification_acc: 0.5085\n",
      "Epoch 92/100\n",
      "5197/5197 [==============================] - 8s 2ms/step - loss: 1.4928 - Regression_loss: 0.5390 - Classification_loss: 0.9538 - Regression_acc: 0.0000e+00 - Classification_acc: 0.5788 - val_loss: 1.8247 - val_Regression_loss: 0.6731 - val_Classification_loss: 1.1516 - val_Regression_acc: 0.0000e+00 - val_Classification_acc: 0.4992\n",
      "Epoch 93/100\n",
      "5197/5197 [==============================] - 8s 2ms/step - loss: 1.4743 - Regression_loss: 0.5320 - Classification_loss: 0.9423 - Regression_acc: 0.0000e+00 - Classification_acc: 0.5828 - val_loss: 1.7500 - val_Regression_loss: 0.6432 - val_Classification_loss: 1.1068 - val_Regression_acc: 0.0000e+00 - val_Classification_acc: 0.5315\n",
      "Epoch 94/100\n",
      "5197/5197 [==============================] - 8s 1ms/step - loss: 1.4788 - Regression_loss: 0.5333 - Classification_loss: 0.9454 - Regression_acc: 0.0000e+00 - Classification_acc: 0.5819 - val_loss: 1.7390 - val_Regression_loss: 0.6319 - val_Classification_loss: 1.1070 - val_Regression_acc: 0.0000e+00 - val_Classification_acc: 0.5554\n",
      "Epoch 95/100\n",
      "5197/5197 [==============================] - 9s 2ms/step - loss: 1.4774 - Regression_loss: 0.5358 - Classification_loss: 0.9416 - Regression_acc: 0.0000e+00 - Classification_acc: 0.5821 - val_loss: 1.7748 - val_Regression_loss: 0.6526 - val_Classification_loss: 1.1222 - val_Regression_acc: 0.0000e+00 - val_Classification_acc: 0.51620.9346 - Regression_acc: 0.0000e+00 - Classi\n",
      "Epoch 96/100\n",
      "5197/5197 [==============================] - 10s 2ms/step - loss: 1.4854 - Regression_loss: 0.5391 - Classification_loss: 0.9464 - Regression_acc: 0.0000e+00 - Classification_acc: 0.5763 - val_loss: 1.7447 - val_Regression_loss: 0.6414 - val_Classification_loss: 1.1034 - val_Regression_acc: 0.0000e+00 - val_Classification_acc: 0.5262\n",
      "Epoch 97/100\n",
      "5197/5197 [==============================] - 11s 2ms/step - loss: 1.4544 - Regression_loss: 0.5246 - Classification_loss: 0.9298 - Regression_acc: 0.0000e+00 - Classification_acc: 0.5882 - val_loss: 1.7397 - val_Regression_loss: 0.6425 - val_Classification_loss: 1.0972 - val_Regression_acc: 0.0000e+00 - val_Classification_acc: 0.5331\n",
      "Epoch 98/100\n",
      "5197/5197 [==============================] - 8s 2ms/step - loss: 1.4539 - Regression_loss: 0.5235 - Classification_loss: 0.9304 - Regression_acc: 0.0000e+00 - Classification_acc: 0.5855 - val_loss: 1.8378 - val_Regression_loss: 0.6776 - val_Classification_loss: 1.1602 - val_Regression_acc: 0.0000e+00 - val_Classification_acc: 0.5100\n",
      "Epoch 99/100\n",
      "5197/5197 [==============================] - 8s 2ms/step - loss: 1.4617 - Regression_loss: 0.5290 - Classification_loss: 0.9328 - Regression_acc: 0.0000e+00 - Classification_acc: 0.5855 - val_loss: 1.8193 - val_Regression_loss: 0.6603 - val_Classification_loss: 1.1590 - val_Regression_acc: 0.0000e+00 - val_Classification_acc: 0.5162\n",
      "Epoch 100/100\n",
      "5197/5197 [==============================] - 8s 2ms/step - loss: 1.4471 - Regression_loss: 0.5221 - Classification_loss: 0.9251 - Regression_acc: 0.0000e+00 - Classification_acc: 0.5913 - val_loss: 1.7260 - val_Regression_loss: 0.6322 - val_Classification_loss: 1.0938 - val_Regression_acc: 0.0000e+00 - val_Classification_acc: 0.5362\n"
     ]
    }
   ],
   "source": [
    "model_training = model.fit(\n",
    "    X_train_scaled,\n",
    "    [y_train_scaled, y_train_class],\n",
    "    validation_data=(X_test_scaled, [y_test_scaled, y_test_class]),\n",
    "    batch_size=50,\n",
    "    epochs=100,\n",
    "    #callbacks=[early_stopping_monitor],\n",
    "    verbose=1)"
   ]
  },
  {
   "cell_type": "code",
   "execution_count": 33,
   "metadata": {
    "ExecuteTime": {
     "end_time": "2019-07-22T20:13:34.332248Z",
     "start_time": "2019-07-22T20:13:32.523661Z"
    }
   },
   "outputs": [
    {
     "name": "stdout",
     "output_type": "stream",
     "text": [
      "5197/5197 [==============================] - 2s 343us/step\n"
     ]
    },
    {
     "data": {
      "text/plain": [
       "[1.4846987394683746,\n",
       " 0.5508931835545974,\n",
       " 0.9338055540787296,\n",
       " 0.0,\n",
       " 0.5797575524799727]"
      ]
     },
     "execution_count": 33,
     "metadata": {},
     "output_type": "execute_result"
    }
   ],
   "source": [
    "model.evaluate(X_train_scaled, [y_train_scaled, y_train_class])"
   ]
  },
  {
   "cell_type": "code",
   "execution_count": 34,
   "metadata": {
    "ExecuteTime": {
     "end_time": "2019-07-22T20:13:37.173747Z",
     "start_time": "2019-07-22T20:13:36.761736Z"
    }
   },
   "outputs": [
    {
     "name": "stdout",
     "output_type": "stream",
     "text": [
      "1300/1300 [==============================] - 0s 304us/step\n"
     ]
    },
    {
     "data": {
      "text/plain": [
       "[1.725970604969905,\n",
       " 0.6321652346390945,\n",
       " 1.093805369597215,\n",
       " 0.0,\n",
       " 0.5361538460621467]"
      ]
     },
     "execution_count": 34,
     "metadata": {},
     "output_type": "execute_result"
    }
   ],
   "source": [
    "model.evaluate(X_test_scaled, [y_test_scaled, y_test_class])"
   ]
  },
  {
   "cell_type": "code",
   "execution_count": 35,
   "metadata": {
    "ExecuteTime": {
     "end_time": "2019-07-22T20:13:40.524916Z",
     "start_time": "2019-07-22T20:13:40.510909Z"
    },
    "scrolled": true
   },
   "outputs": [
    {
     "name": "stdout",
     "output_type": "stream",
     "text": [
      "_________________________________________________________________\n",
      "Layer (type)                 Output Shape              Param #   \n",
      "=================================================================\n",
      "input_1 (InputLayer)         (None, 12)                0         \n",
      "_________________________________________________________________\n",
      "hidden_1 (Dense)             (None, 1000)              13000     \n",
      "_________________________________________________________________\n",
      "batch_normalization_1 (Batch (None, 1000)              4000      \n",
      "_________________________________________________________________\n",
      "hidden_2 (Dense)             (None, 500)               500500    \n",
      "_________________________________________________________________\n",
      "batch_normalization_2 (Batch (None, 500)               2000      \n",
      "_________________________________________________________________\n",
      "hidden_3 (Dense)             (None, 250)               125250    \n",
      "_________________________________________________________________\n",
      "Regression (Dense)           (None, 1)                 251       \n",
      "_________________________________________________________________\n",
      "Classification (Dense)       (None, 10)                20        \n",
      "=================================================================\n",
      "Total params: 645,021\n",
      "Trainable params: 642,021\n",
      "Non-trainable params: 3,000\n",
      "_________________________________________________________________\n"
     ]
    }
   ],
   "source": [
    "model.summary()"
   ]
  },
  {
   "cell_type": "code",
   "execution_count": 36,
   "metadata": {
    "ExecuteTime": {
     "end_time": "2019-07-22T20:13:42.897558Z",
     "start_time": "2019-07-22T20:13:42.100563Z"
    }
   },
   "outputs": [
    {
     "data": {
      "image/png": "[encoded data removed]",
      "text/plain": [
       "<Figure size 432x288 with 1 Axes>"
      ]
     },
     "metadata": {
      "needs_background": "light"
     },
     "output_type": "display_data"
    }
   ],
   "source": [
    "from keras.utils import plot_model\n",
    "\n",
    "plot_model(model, to_file ='model.png')\n",
    "           \n",
    "from matplotlib import pyplot as plt\n",
    "img = plt.imread('model.png')\n",
    "\n",
    "plt.imshow(img)\n",
    "plt.show()"
   ]
  },
  {
   "cell_type": "code",
   "execution_count": 37,
   "metadata": {
    "ExecuteTime": {
     "end_time": "2019-07-22T20:13:46.396047Z",
     "start_time": "2019-07-22T20:13:45.999041Z"
    }
   },
   "outputs": [
    {
     "name": "stdout",
     "output_type": "stream",
     "text": [
      "1300/1300 [==============================] - 0s 287us/step\n"
     ]
    },
    {
     "data": {
      "text/plain": [
       "[1.725970604969905,\n",
       " 0.6321652346390945,\n",
       " 1.093805369597215,\n",
       " 0.0,\n",
       " 0.5361538460621467]"
      ]
     },
     "execution_count": 37,
     "metadata": {},
     "output_type": "execute_result"
    }
   ],
   "source": [
    "model.evaluate(X_test_scaled, [y_test_scaled, y_test_class])"
   ]
  },
  {
   "cell_type": "code",
   "execution_count": 32,
   "metadata": {
    "ExecuteTime": {
     "end_time": "2019-07-22T19:47:45.711974Z",
     "start_time": "2019-07-22T19:47:39.090539Z"
    }
   },
   "outputs": [
    {
     "data": {
      "image/png": "[encoded data removed]",
      "text/plain": [
       "<Figure size 1008x720 with 4 Axes>"
      ]
     },
     "metadata": {
      "needs_background": "light"
     },
     "output_type": "display_data"
    }
   ],
   "source": [
    "fig, ax = plt.subplots(2, 2, figsize=(14, 10))\n",
    "\n",
    "ax[0,0].plot(model_training.history['loss'])\n",
    "ax[0,0].set_xlabel('Epochs')\n",
    "ax[0,0].set_ylim([0, 4])\n",
    "ax[0,0].set_title('Total Loss over Epochs')\n",
    "ax[0,0].plot(model_training.history['val_loss'])\n",
    "ax[0,0].legend(['Total Training loss', 'Total Prediction loss'])\n",
    "\n",
    "\n",
    "ax[0,1].plot(model_training.history['Regression_loss'])\n",
    "ax[0,1].set_xlabel('Epochs')\n",
    "ax[0,1].set_ylim([0, 2])\n",
    "ax[0,1].set_title('Regression Loss over Epochs')\n",
    "ax[0,1].plot(model_training.history['val_Regression_loss'])\n",
    "ax[0,1].legend(['Regression Training loss', 'Regression Test loss']) \n",
    "\n",
    "\n",
    "ax[1,0].plot(model_training.history['Classification_loss'])\n",
    "ax[1,0].set_xlabel('Epochs')\n",
    "ax[1,0].set_ylim([0, 3])\n",
    "ax[1,0].set_title('Classification Loss over Epochs')\n",
    "ax[1,0].plot(model_training.history['val_Classification_loss'])\n",
    "ax[1,0].legend(['Classification Training loss', 'Classification Test loss'])\n",
    "\n",
    "ax[1,1].plot(model_training.history['Classification_acc'])\n",
    "ax[1,1].set_xlabel('Epochs')\n",
    "ax[1,1].set_ylim([0, 1])\n",
    "ax[1,1].set_title('Classification Accuracy over Epochs')\n",
    "ax[1,1].plot(model_training.history['val_Classification_acc'])\n",
    "ax[1,1].legend(['Classification Training Accuracy', 'Classification Test Accuracy'])\n",
    "\n",
    "fig.suptitle(\"Model Quality over Epochs\")\n",
    "\n",
    "plt.show()"
   ]
  },
  {
   "cell_type": "code",
   "execution_count": null,
   "metadata": {},
   "outputs": [],
   "source": []
  }
 ],
 "metadata": {
  "kernelspec": {
   "display_name": "Python 3",
   "language": "python",
   "name": "python3"
  },
  "language_info": {
   "codemirror_mode": {
    "name": "ipython",
    "version": 3
   },
   "file_extension": ".py",
   "mimetype": "text/x-python",
   "name": "python",
   "nbconvert_exporter": "python",
   "pygments_lexer": "ipython3",
   "version": "3.7.3"
  }
 },
 "nbformat": 4,
 "nbformat_minor": 2
}
