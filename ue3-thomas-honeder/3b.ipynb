{
 "cells": [
  {
   "cell_type": "markdown",
   "metadata": {},
   "source": [
    "# Aufgabe 3b: Bildklassifizierung\n",
    "Für die folgende Problemstellung wurde für die Klassifizierung des cifar10 Datensatzes auf mehrere Neuronale Netze zurückgegriffen. Dieser Datensatz bildet verschieden Objekte in einer Größe von 32x32 Pixel ab. Das Training wurde in Google Colab durchgeführt, da das fitten der Netze ohne GPU zu lange dauern würde."
   ]
  },
  {
   "cell_type": "code",
   "execution_count": 0,
   "metadata": {
    "ExecuteTime": {
     "end_time": "2019-07-24T11:06:41.166204Z",
     "start_time": "2019-07-24T11:06:40.667363Z"
    },
    "colab": {},
    "colab_type": "code",
    "id": "PKEJbLQMo-Yz"
   },
   "outputs": [],
   "source": [
    "import pandas as pd\n",
    "import numpy as np\n",
    "import matplotlib.pyplot as plt"
   ]
  },
  {
   "cell_type": "code",
   "execution_count": 2,
   "metadata": {
    "ExecuteTime": {
     "end_time": "2019-07-24T10:56:43.665739Z",
     "start_time": "2019-07-24T10:56:43.657732Z"
    },
    "colab": {
     "base_uri": "https://localhost:8080/",
     "height": 34
    },
    "colab_type": "code",
    "executionInfo": {
     "elapsed": 3282,
     "status": "ok",
     "timestamp": 1563982911653,
     "user": {
      "displayName": "Thomas",
      "photoUrl": "",
      "userId": "10846726602050000050"
     },
     "user_tz": -120
    },
    "id": "fM5CgLl0o-ZB",
    "outputId": "2209c477-5f09-4392-c00c-df33451e7966"
   },
   "outputs": [
    {
     "name": "stderr",
     "output_type": "stream",
     "text": [
      "Using TensorFlow backend.\n"
     ]
    }
   ],
   "source": [
    "from keras.datasets import cifar10"
   ]
  },
  {
   "cell_type": "code",
   "execution_count": 0,
   "metadata": {
    "ExecuteTime": {
     "end_time": "2019-07-24T11:00:58.204819Z",
     "start_time": "2019-07-24T10:57:28.731638Z"
    },
    "colab": {},
    "colab_type": "code",
    "id": "R9YcGzmxo-ZH"
   },
   "outputs": [],
   "source": [
    "(X_train, y_train), (X_test, y_test) = cifar10.load_data()"
   ]
  },
  {
   "cell_type": "code",
   "execution_count": 4,
   "metadata": {
    "ExecuteTime": {
     "end_time": "2019-07-24T11:04:48.273204Z",
     "start_time": "2019-07-24T11:04:48.261202Z"
    },
    "colab": {
     "base_uri": "https://localhost:8080/",
     "height": 34
    },
    "colab_type": "code",
    "executionInfo": {
     "elapsed": 3417,
     "status": "ok",
     "timestamp": 1563982911874,
     "user": {
      "displayName": "Thomas",
      "photoUrl": "",
      "userId": "10846726602050000050"
     },
     "user_tz": -120
    },
    "id": "97JLm5dFo-ZS",
    "outputId": "bfc20730-f88f-443c-c0da-6e4313e29c7d"
   },
   "outputs": [
    {
     "data": {
      "text/plain": [
       "32"
      ]
     },
     "execution_count": 4,
     "metadata": {
      "tags": []
     },
     "output_type": "execute_result"
    }
   ],
   "source": [
    "len(X_train[0][0])"
   ]
  },
  {
   "cell_type": "code",
   "execution_count": 6,
   "metadata": {
    "ExecuteTime": {
     "end_time": "2019-07-24T11:39:44.283833Z",
     "start_time": "2019-07-24T11:39:44.273837Z"
    },
    "colab": {
     "base_uri": "https://localhost:8080/",
     "height": 34
    },
    "colab_type": "code",
    "executionInfo": {
     "elapsed": 3336,
     "status": "ok",
     "timestamp": 1563982911884,
     "user": {
      "displayName": "Thomas",
      "photoUrl": "",
      "userId": "10846726602050000050"
     },
     "user_tz": -120
    },
    "id": "atBlCZm0o-Zm",
    "outputId": "10d6c6fb-67c0-4ca3-b4f9-dc7a6ceba267"
   },
   "outputs": [
    {
     "data": {
      "text/plain": [
       "(50000, 1)"
      ]
     },
     "execution_count": 6,
     "metadata": {
      "tags": []
     },
     "output_type": "execute_result"
    }
   ],
   "source": [
    "y_train.shape"
   ]
  },
  {
   "cell_type": "code",
   "execution_count": 7,
   "metadata": {
    "ExecuteTime": {
     "end_time": "2019-07-24T11:07:16.170123Z",
     "start_time": "2019-07-24T11:07:15.861594Z"
    },
    "colab": {
     "base_uri": "https://localhost:8080/",
     "height": 269
    },
    "colab_type": "code",
    "executionInfo": {
     "elapsed": 3718,
     "status": "ok",
     "timestamp": 1563982912308,
     "user": {
      "displayName": "Thomas",
      "photoUrl": "",
      "userId": "10846726602050000050"
     },
     "user_tz": -120
    },
    "id": "W7SpxRAOo-Zu",
    "outputId": "7cebf03b-de89-4a58-a422-b631742093b5"
   },
   "outputs": [
    {
     "data": {
      "image/png": "[encoded data removed]",
      "text/plain": [
       "<Figure size 432x288 with 1 Axes>"
      ]
     },
     "metadata": {
      "tags": []
     },
     "output_type": "display_data"
    }
   ],
   "source": [
    "plt.imshow(X_train[1])\n",
    "plt.show()"
   ]
  },
  {
   "cell_type": "code",
   "execution_count": 8,
   "metadata": {
    "ExecuteTime": {
     "end_time": "2019-07-24T11:07:53.880398Z",
     "start_time": "2019-07-24T11:07:53.872398Z"
    },
    "colab": {
     "base_uri": "https://localhost:8080/",
     "height": 34
    },
    "colab_type": "code",
    "executionInfo": {
     "elapsed": 3685,
     "status": "ok",
     "timestamp": 1563982912315,
     "user": {
      "displayName": "Thomas",
      "photoUrl": "",
      "userId": "10846726602050000050"
     },
     "user_tz": -120
    },
    "id": "atUswwN0o-Z6",
    "outputId": "1e70b0d7-7c80-4fb1-8e0a-52a9258e5970"
   },
   "outputs": [
    {
     "name": "stdout",
     "output_type": "stream",
     "text": [
      "Label of image 0 is [9]\n"
     ]
    }
   ],
   "source": [
    "print('Label of image 0 is', y_train[1])"
   ]
  },
  {
   "cell_type": "code",
   "execution_count": 9,
   "metadata": {
    "ExecuteTime": {
     "end_time": "2019-07-24T11:10:32.830273Z",
     "start_time": "2019-07-24T11:10:32.822261Z"
    },
    "colab": {
     "base_uri": "https://localhost:8080/",
     "height": 34
    },
    "colab_type": "code",
    "executionInfo": {
     "elapsed": 3656,
     "status": "ok",
     "timestamp": 1563982912317,
     "user": {
      "displayName": "Thomas",
      "photoUrl": "",
      "userId": "10846726602050000050"
     },
     "user_tz": -120
    },
    "id": "nOO0jyeIo-aB",
    "outputId": "52ae36cd-1a30-41f9-8149-4d7906433397"
   },
   "outputs": [
    {
     "name": "stdout",
     "output_type": "stream",
     "text": [
      "[6]\n"
     ]
    }
   ],
   "source": [
    "print(y_train[0])"
   ]
  },
  {
   "cell_type": "code",
   "execution_count": 10,
   "metadata": {
    "colab": {
     "base_uri": "https://localhost:8080/",
     "height": 34
    },
    "colab_type": "code",
    "executionInfo": {
     "elapsed": 3624,
     "status": "ok",
     "timestamp": 1563982912319,
     "user": {
      "displayName": "Thomas",
      "photoUrl": "",
      "userId": "10846726602050000050"
     },
     "user_tz": -120
    },
    "id": "J2AugcSvo-aV",
    "outputId": "95049561-19f0-4662-e7c8-3d9b753240fa"
   },
   "outputs": [
    {
     "data": {
      "text/plain": [
       "255"
      ]
     },
     "execution_count": 10,
     "metadata": {
      "tags": []
     },
     "output_type": "execute_result"
    }
   ],
   "source": [
    "np.max(X_train)"
   ]
  },
  {
   "cell_type": "code",
   "execution_count": 0,
   "metadata": {
    "ExecuteTime": {
     "end_time": "2019-07-24T11:52:42.373813Z",
     "start_time": "2019-07-24T11:52:40.936487Z"
    },
    "colab": {},
    "colab_type": "code",
    "id": "lpELSfQio-aa"
   },
   "outputs": [],
   "source": [
    "X_train_reshaped = X_train.reshape(50000, 32, 32, 3) / 255\n",
    "X_test_reshaped = X_test.reshape(10000, 32, 32, 3) / 255"
   ]
  },
  {
   "cell_type": "code",
   "execution_count": 12,
   "metadata": {
    "ExecuteTime": {
     "end_time": "2019-07-24T11:52:53.950945Z",
     "start_time": "2019-07-24T11:52:53.940950Z"
    },
    "colab": {
     "base_uri": "https://localhost:8080/",
     "height": 34
    },
    "colab_type": "code",
    "executionInfo": {
     "elapsed": 4942,
     "status": "ok",
     "timestamp": 1563982913692,
     "user": {
      "displayName": "Thomas",
      "photoUrl": "",
      "userId": "10846726602050000050"
     },
     "user_tz": -120
    },
    "id": "RvmJo2H9o-af",
    "outputId": "2a7f1cfa-6670-4adb-aa05-286d40078ee9"
   },
   "outputs": [
    {
     "data": {
      "text/plain": [
       "(50000, 32, 32, 3)"
      ]
     },
     "execution_count": 12,
     "metadata": {
      "tags": []
     },
     "output_type": "execute_result"
    }
   ],
   "source": [
    "X_train_reshaped.shape"
   ]
  },
  {
   "cell_type": "code",
   "execution_count": 13,
   "metadata": {
    "colab": {
     "base_uri": "https://localhost:8080/",
     "height": 195
    },
    "colab_type": "code",
    "executionInfo": {
     "elapsed": 4918,
     "status": "ok",
     "timestamp": 1563982913700,
     "user": {
      "displayName": "Thomas",
      "photoUrl": "",
      "userId": "10846726602050000050"
     },
     "user_tz": -120
    },
    "id": "1cLlDuBAo-aq",
    "outputId": "540cfb5d-78be-4a5c-f31e-5f6e2f2c21b4"
   },
   "outputs": [
    {
     "data": {
      "text/html": [
       "<div>\n",
       "<style scoped>\n",
       "    .dataframe tbody tr th:only-of-type {\n",
       "        vertical-align: middle;\n",
       "    }\n",
       "\n",
       "    .dataframe tbody tr th {\n",
       "        vertical-align: top;\n",
       "    }\n",
       "\n",
       "    .dataframe thead th {\n",
       "        text-align: right;\n",
       "    }\n",
       "</style>\n",
       "<table border=\"1\" class=\"dataframe\">\n",
       "  <thead>\n",
       "    <tr style=\"text-align: right;\">\n",
       "      <th></th>\n",
       "      <th>0</th>\n",
       "    </tr>\n",
       "  </thead>\n",
       "  <tbody>\n",
       "    <tr>\n",
       "      <th>0</th>\n",
       "      <td>6</td>\n",
       "    </tr>\n",
       "    <tr>\n",
       "      <th>1</th>\n",
       "      <td>9</td>\n",
       "    </tr>\n",
       "    <tr>\n",
       "      <th>2</th>\n",
       "      <td>9</td>\n",
       "    </tr>\n",
       "    <tr>\n",
       "      <th>3</th>\n",
       "      <td>4</td>\n",
       "    </tr>\n",
       "    <tr>\n",
       "      <th>4</th>\n",
       "      <td>1</td>\n",
       "    </tr>\n",
       "  </tbody>\n",
       "</table>\n",
       "</div>"
      ],
      "text/plain": [
       "   0\n",
       "0  6\n",
       "1  9\n",
       "2  9\n",
       "3  4\n",
       "4  1"
      ]
     },
     "execution_count": 13,
     "metadata": {
      "tags": []
     },
     "output_type": "execute_result"
    }
   ],
   "source": [
    "pd.DataFrame(y_train).head()"
   ]
  },
  {
   "cell_type": "markdown",
   "metadata": {},
   "source": [
    "## OneHot\n",
    "Die verschiedenen Klassen werden onehot encoded."
   ]
  },
  {
   "cell_type": "code",
   "execution_count": 14,
   "metadata": {
    "ExecuteTime": {
     "end_time": "2019-07-24T11:10:03.125337Z",
     "start_time": "2019-07-24T11:10:03.113357Z"
    },
    "colab": {
     "base_uri": "https://localhost:8080/",
     "height": 34
    },
    "colab_type": "code",
    "executionInfo": {
     "elapsed": 4888,
     "status": "ok",
     "timestamp": 1563982913704,
     "user": {
      "displayName": "Thomas",
      "photoUrl": "",
      "userId": "10846726602050000050"
     },
     "user_tz": -120
    },
    "id": "e8FbPe__o-av",
    "outputId": "92f803ff-5c5a-4cfe-9f3c-f2dd91e58e8c"
   },
   "outputs": [
    {
     "name": "stdout",
     "output_type": "stream",
     "text": [
      "[0. 0. 0. 0. 0. 0. 1. 0. 0. 0.]\n"
     ]
    }
   ],
   "source": [
    "from keras.utils import to_categorical\n",
    "\n",
    "y_train_coded = to_categorical(y_train)\n",
    "y_test_coded = to_categorical(y_test)\n",
    "\n",
    "print(y_train_coded[0])"
   ]
  },
  {
   "cell_type": "code",
   "execution_count": 15,
   "metadata": {
    "ExecuteTime": {
     "end_time": "2019-07-24T11:12:07.106379Z",
     "start_time": "2019-07-24T11:12:07.074378Z"
    },
    "colab": {
     "base_uri": "https://localhost:8080/",
     "height": 195
    },
    "colab_type": "code",
    "executionInfo": {
     "elapsed": 4841,
     "status": "ok",
     "timestamp": 1563982913707,
     "user": {
      "displayName": "Thomas",
      "photoUrl": "",
      "userId": "10846726602050000050"
     },
     "user_tz": -120
    },
    "id": "HKxoe-rKo-bC",
    "outputId": "5e555dbe-a12a-4144-a42f-ca5e17202cca"
   },
   "outputs": [
    {
     "data": {
      "text/html": [
       "<div>\n",
       "<style scoped>\n",
       "    .dataframe tbody tr th:only-of-type {\n",
       "        vertical-align: middle;\n",
       "    }\n",
       "\n",
       "    .dataframe tbody tr th {\n",
       "        vertical-align: top;\n",
       "    }\n",
       "\n",
       "    .dataframe thead th {\n",
       "        text-align: right;\n",
       "    }\n",
       "</style>\n",
       "<table border=\"1\" class=\"dataframe\">\n",
       "  <thead>\n",
       "    <tr style=\"text-align: right;\">\n",
       "      <th></th>\n",
       "      <th>0</th>\n",
       "      <th>1</th>\n",
       "      <th>2</th>\n",
       "      <th>3</th>\n",
       "      <th>4</th>\n",
       "      <th>5</th>\n",
       "      <th>6</th>\n",
       "      <th>7</th>\n",
       "      <th>8</th>\n",
       "      <th>9</th>\n",
       "    </tr>\n",
       "  </thead>\n",
       "  <tbody>\n",
       "    <tr>\n",
       "      <th>0</th>\n",
       "      <td>0.0</td>\n",
       "      <td>0.0</td>\n",
       "      <td>0.0</td>\n",
       "      <td>0.0</td>\n",
       "      <td>0.0</td>\n",
       "      <td>0.0</td>\n",
       "      <td>1.0</td>\n",
       "      <td>0.0</td>\n",
       "      <td>0.0</td>\n",
       "      <td>0.0</td>\n",
       "    </tr>\n",
       "    <tr>\n",
       "      <th>1</th>\n",
       "      <td>0.0</td>\n",
       "      <td>0.0</td>\n",
       "      <td>0.0</td>\n",
       "      <td>0.0</td>\n",
       "      <td>0.0</td>\n",
       "      <td>0.0</td>\n",
       "      <td>0.0</td>\n",
       "      <td>0.0</td>\n",
       "      <td>0.0</td>\n",
       "      <td>1.0</td>\n",
       "    </tr>\n",
       "    <tr>\n",
       "      <th>2</th>\n",
       "      <td>0.0</td>\n",
       "      <td>0.0</td>\n",
       "      <td>0.0</td>\n",
       "      <td>0.0</td>\n",
       "      <td>0.0</td>\n",
       "      <td>0.0</td>\n",
       "      <td>0.0</td>\n",
       "      <td>0.0</td>\n",
       "      <td>0.0</td>\n",
       "      <td>1.0</td>\n",
       "    </tr>\n",
       "    <tr>\n",
       "      <th>3</th>\n",
       "      <td>0.0</td>\n",
       "      <td>0.0</td>\n",
       "      <td>0.0</td>\n",
       "      <td>0.0</td>\n",
       "      <td>1.0</td>\n",
       "      <td>0.0</td>\n",
       "      <td>0.0</td>\n",
       "      <td>0.0</td>\n",
       "      <td>0.0</td>\n",
       "      <td>0.0</td>\n",
       "    </tr>\n",
       "    <tr>\n",
       "      <th>4</th>\n",
       "      <td>0.0</td>\n",
       "      <td>1.0</td>\n",
       "      <td>0.0</td>\n",
       "      <td>0.0</td>\n",
       "      <td>0.0</td>\n",
       "      <td>0.0</td>\n",
       "      <td>0.0</td>\n",
       "      <td>0.0</td>\n",
       "      <td>0.0</td>\n",
       "      <td>0.0</td>\n",
       "    </tr>\n",
       "  </tbody>\n",
       "</table>\n",
       "</div>"
      ],
      "text/plain": [
       "     0    1    2    3    4    5    6    7    8    9\n",
       "0  0.0  0.0  0.0  0.0  0.0  0.0  1.0  0.0  0.0  0.0\n",
       "1  0.0  0.0  0.0  0.0  0.0  0.0  0.0  0.0  0.0  1.0\n",
       "2  0.0  0.0  0.0  0.0  0.0  0.0  0.0  0.0  0.0  1.0\n",
       "3  0.0  0.0  0.0  0.0  1.0  0.0  0.0  0.0  0.0  0.0\n",
       "4  0.0  1.0  0.0  0.0  0.0  0.0  0.0  0.0  0.0  0.0"
      ]
     },
     "execution_count": 15,
     "metadata": {
      "tags": []
     },
     "output_type": "execute_result"
    }
   ],
   "source": [
    "pd.DataFrame(y_train_coded).head()"
   ]
  },
  {
   "cell_type": "code",
   "execution_count": 0,
   "metadata": {
    "ExecuteTime": {
     "end_time": "2019-07-24T11:17:07.853472Z",
     "start_time": "2019-07-24T11:17:07.837460Z"
    },
    "colab": {},
    "colab_type": "code",
    "id": "jLGv28pyo-bj"
   },
   "outputs": [],
   "source": [
    "def plot_history(history): \n",
    "    fig, ax = plt.subplots(1, 2, figsize=(14, 5))\n",
    "\n",
    "    ax[0].plot(history.history['loss'])\n",
    "    ax[0].set_xlabel('Epochs')\n",
    "    ax[0].set_ylim([0, 2])\n",
    "    ax[0].set_title('Loss over Epochs')\n",
    "    ax[0].plot(history.history['val_loss'])\n",
    "    ax[0].legend(['Training loss', 'Prediction loss'])\n",
    "\n",
    "    ax[1].plot(history.history['acc'])\n",
    "    ax[1].set_xlabel('Epochs')\n",
    "    ax[1].set_ylim([0, 1])\n",
    "    ax[1].set_title('Accuracy over Epochs')\n",
    "    ax[1].plot(history.history['val_acc'])\n",
    "    ax[1].legend(['Training accuracy', 'Prediction accuracy'])\n",
    "\n",
    "    fig.suptitle(\"Model Quality over Epochs\")\n",
    "\n",
    "    plt.show()"
   ]
  },
  {
   "cell_type": "markdown",
   "metadata": {},
   "source": [
    "## Modell 1\n",
    "Das erste Modell besteht aus 2 Conv Layern. Beim ersten wurde ein padding verwendet damit die Größe der Bilder gleich bleibt.  Um die Parameterzahl zu veringern wurde im ersten Layer ein stride von 2 verwendet und in beiden layern ein maxpooling von 2x2 Feldern. Vor dem Output wurde noch ein Flatten Layer eingefügt der die ausladenden Convoluts auf einen 1 dim array abbildet. Es konnte bereits eine val_acc von ca 56% erreicht werden."
   ]
  },
  {
   "cell_type": "code",
   "execution_count": 17,
   "metadata": {
    "ExecuteTime": {
     "end_time": "2019-07-24T13:09:49.762572Z",
     "start_time": "2019-07-24T13:09:49.425441Z"
    },
    "colab": {
     "base_uri": "https://localhost:8080/",
     "height": 289
    },
    "colab_type": "code",
    "executionInfo": {
     "elapsed": 5324,
     "status": "ok",
     "timestamp": 1563982914259,
     "user": {
      "displayName": "Thomas",
      "photoUrl": "",
      "userId": "10846726602050000050"
     },
     "user_tz": -120
    },
    "id": "BLncYc3vo-bt",
    "outputId": "eab0e399-1ecf-420b-c6e0-a525ba57605b"
   },
   "outputs": [
    {
     "name": "stderr",
     "output_type": "stream",
     "text": [
      "WARNING: Logging before flag parsing goes to stderr.\n",
      "W0724 15:41:53.141459 140185529960320 deprecation_wrapper.py:119] From /usr/local/lib/python3.6/dist-packages/keras/backend/tensorflow_backend.py:74: The name tf.get_default_graph is deprecated. Please use tf.compat.v1.get_default_graph instead.\n",
      "\n",
      "W0724 15:41:53.156293 140185529960320 deprecation_wrapper.py:119] From /usr/local/lib/python3.6/dist-packages/keras/backend/tensorflow_backend.py:517: The name tf.placeholder is deprecated. Please use tf.compat.v1.placeholder instead.\n",
      "\n",
      "W0724 15:41:53.158509 140185529960320 deprecation_wrapper.py:119] From /usr/local/lib/python3.6/dist-packages/keras/backend/tensorflow_backend.py:4138: The name tf.random_uniform is deprecated. Please use tf.random.uniform instead.\n",
      "\n",
      "W0724 15:41:53.173735 140185529960320 deprecation_wrapper.py:119] From /usr/local/lib/python3.6/dist-packages/keras/backend/tensorflow_backend.py:3976: The name tf.nn.max_pool is deprecated. Please use tf.nn.max_pool2d instead.\n",
      "\n",
      "W0724 15:41:53.188053 140185529960320 deprecation_wrapper.py:119] From /usr/local/lib/python3.6/dist-packages/keras/backend/tensorflow_backend.py:174: The name tf.get_default_session is deprecated. Please use tf.compat.v1.get_default_session instead.\n",
      "\n",
      "W0724 15:41:53.188909 140185529960320 deprecation_wrapper.py:119] From /usr/local/lib/python3.6/dist-packages/keras/backend/tensorflow_backend.py:181: The name tf.ConfigProto is deprecated. Please use tf.compat.v1.ConfigProto instead.\n",
      "\n",
      "W0724 15:41:53.859967 140185529960320 deprecation_wrapper.py:119] From /usr/local/lib/python3.6/dist-packages/keras/backend/tensorflow_backend.py:1834: The name tf.nn.fused_batch_norm is deprecated. Please use tf.compat.v1.nn.fused_batch_norm instead.\n",
      "\n"
     ]
    }
   ],
   "source": [
    "from keras.models import Sequential\n",
    "from keras.layers import Dense, Conv2D, MaxPool2D, Flatten, Dropout, BatchNormalization\n",
    "\n",
    "model_1 = Sequential()\n",
    "model_1.add(Conv2D(5, kernel_size=3, activation='relu', input_shape=(32, 32, 3), padding='same', strides=2, dilation_rate=1))\n",
    "model_1.add(MaxPool2D(2))\n",
    "model_1.add(BatchNormalization())\n",
    "\n",
    "model_1.add(Conv2D(15, kernel_size=3, activation='relu', input_shape=(32, 32, 3), padding='same', strides=1, dilation_rate=1))\n",
    "model_1.add(MaxPool2D(2))\n",
    "model_1.add(Flatten())\n",
    "model_1.add(Dense(10, activation='softmax'))"
   ]
  },
  {
   "cell_type": "code",
   "execution_count": 18,
   "metadata": {
    "ExecuteTime": {
     "end_time": "2019-07-24T13:09:50.926710Z",
     "start_time": "2019-07-24T13:09:50.913709Z"
    },
    "colab": {
     "base_uri": "https://localhost:8080/",
     "height": 370
    },
    "colab_type": "code",
    "executionInfo": {
     "elapsed": 5251,
     "status": "ok",
     "timestamp": 1563982914283,
     "user": {
      "displayName": "Thomas",
      "photoUrl": "",
      "userId": "10846726602050000050"
     },
     "user_tz": -120
    },
    "id": "fO380HQio-b8",
    "outputId": "9bb1beb3-9dab-442f-d53e-ec5a2b149def"
   },
   "outputs": [
    {
     "name": "stdout",
     "output_type": "stream",
     "text": [
      "_________________________________________________________________\n",
      "Layer (type)                 Output Shape              Param #   \n",
      "=================================================================\n",
      "conv2d_1 (Conv2D)            (None, 16, 16, 5)         140       \n",
      "_________________________________________________________________\n",
      "max_pooling2d_1 (MaxPooling2 (None, 8, 8, 5)           0         \n",
      "_________________________________________________________________\n",
      "batch_normalization_1 (Batch (None, 8, 8, 5)           20        \n",
      "_________________________________________________________________\n",
      "conv2d_2 (Conv2D)            (None, 8, 8, 15)          690       \n",
      "_________________________________________________________________\n",
      "max_pooling2d_2 (MaxPooling2 (None, 4, 4, 15)          0         \n",
      "_________________________________________________________________\n",
      "flatten_1 (Flatten)          (None, 240)               0         \n",
      "_________________________________________________________________\n",
      "dense_1 (Dense)              (None, 10)                2410      \n",
      "=================================================================\n",
      "Total params: 3,260\n",
      "Trainable params: 3,250\n",
      "Non-trainable params: 10\n",
      "_________________________________________________________________\n"
     ]
    }
   ],
   "source": [
    "model_1.summary()"
   ]
  },
  {
   "cell_type": "code",
   "execution_count": 19,
   "metadata": {
    "ExecuteTime": {
     "end_time": "2019-07-24T12:55:57.727938Z",
     "start_time": "2019-07-24T12:55:57.607948Z"
    },
    "colab": {
     "base_uri": "https://localhost:8080/",
     "height": 70
    },
    "colab_type": "code",
    "executionInfo": {
     "elapsed": 5218,
     "status": "ok",
     "timestamp": 1563982914289,
     "user": {
      "displayName": "Thomas",
      "photoUrl": "",
      "userId": "10846726602050000050"
     },
     "user_tz": -120
    },
    "id": "_FlaSY4vo-cJ",
    "outputId": "8a8315eb-6f3c-4e4b-8e5a-697a98949188"
   },
   "outputs": [
    {
     "name": "stderr",
     "output_type": "stream",
     "text": [
      "W0724 15:41:53.966308 140185529960320 deprecation_wrapper.py:119] From /usr/local/lib/python3.6/dist-packages/keras/optimizers.py:790: The name tf.train.Optimizer is deprecated. Please use tf.compat.v1.train.Optimizer instead.\n",
      "\n"
     ]
    }
   ],
   "source": [
    "model_1.compile(\n",
    "    optimizer='adam',\n",
    "    loss='categorical_crossentropy', \n",
    "    metrics=['accuracy']\n",
    ")"
   ]
  },
  {
   "cell_type": "code",
   "execution_count": 20,
   "metadata": {
    "ExecuteTime": {
     "end_time": "2019-07-24T13:08:45.233243Z",
     "start_time": "2019-07-24T13:06:48.825236Z"
    },
    "colab": {
     "base_uri": "https://localhost:8080/",
     "height": 944
    },
    "colab_type": "code",
    "executionInfo": {
     "elapsed": 127367,
     "status": "ok",
     "timestamp": 1563983036473,
     "user": {
      "displayName": "Thomas",
      "photoUrl": "",
      "userId": "10846726602050000050"
     },
     "user_tz": -120
    },
    "id": "HhOVmJZDo-cV",
    "outputId": "e02bbbc5-af7f-4bbe-ff8b-c99474513b70"
   },
   "outputs": [
    {
     "name": "stderr",
     "output_type": "stream",
     "text": [
      "W0724 15:41:54.177929 140185529960320 deprecation.py:323] From /usr/local/lib/python3.6/dist-packages/tensorflow/python/ops/math_grad.py:1250: add_dispatch_support.<locals>.wrapper (from tensorflow.python.ops.array_ops) is deprecated and will be removed in a future version.\n",
      "Instructions for updating:\n",
      "Use tf.where in 2.0, which has the same broadcast rule as np.where\n"
     ]
    },
    {
     "name": "stdout",
     "output_type": "stream",
     "text": [
      "Train on 50000 samples, validate on 10000 samples\n",
      "Epoch 1/25\n",
      "50000/50000 [==============================] - 7s 139us/step - loss: 1.7250 - acc: 0.3831 - val_loss: 1.6505 - val_acc: 0.4256\n",
      "Epoch 2/25\n",
      "50000/50000 [==============================] - 5s 97us/step - loss: 1.4833 - acc: 0.4742 - val_loss: 1.4436 - val_acc: 0.4865\n",
      "Epoch 3/25\n",
      "50000/50000 [==============================] - 5s 98us/step - loss: 1.4065 - acc: 0.5037 - val_loss: 1.3836 - val_acc: 0.5127\n",
      "Epoch 4/25\n",
      "50000/50000 [==============================] - 5s 94us/step - loss: 1.3589 - acc: 0.5213 - val_loss: 1.3829 - val_acc: 0.5097\n",
      "Epoch 5/25\n",
      "50000/50000 [==============================] - 5s 95us/step - loss: 1.3265 - acc: 0.5334 - val_loss: 1.3569 - val_acc: 0.5171\n",
      "Epoch 6/25\n",
      "50000/50000 [==============================] - 5s 96us/step - loss: 1.3050 - acc: 0.5428 - val_loss: 1.3196 - val_acc: 0.5272\n",
      "Epoch 7/25\n",
      "50000/50000 [==============================] - 5s 95us/step - loss: 1.2868 - acc: 0.5473 - val_loss: 1.3052 - val_acc: 0.5397\n",
      "Epoch 8/25\n",
      "50000/50000 [==============================] - 5s 95us/step - loss: 1.2704 - acc: 0.5518 - val_loss: 1.3209 - val_acc: 0.5326\n",
      "Epoch 9/25\n",
      "50000/50000 [==============================] - 5s 95us/step - loss: 1.2574 - acc: 0.5594 - val_loss: 1.3154 - val_acc: 0.5373\n",
      "Epoch 10/25\n",
      "50000/50000 [==============================] - 5s 96us/step - loss: 1.2463 - acc: 0.5616 - val_loss: 1.2841 - val_acc: 0.5438\n",
      "Epoch 11/25\n",
      "50000/50000 [==============================] - 5s 94us/step - loss: 1.2354 - acc: 0.5670 - val_loss: 1.2735 - val_acc: 0.5470\n",
      "Epoch 12/25\n",
      "50000/50000 [==============================] - 5s 95us/step - loss: 1.2262 - acc: 0.5683 - val_loss: 1.2860 - val_acc: 0.5444\n",
      "Epoch 13/25\n",
      "50000/50000 [==============================] - 5s 96us/step - loss: 1.2175 - acc: 0.5729 - val_loss: 1.2385 - val_acc: 0.5574\n",
      "Epoch 14/25\n",
      "50000/50000 [==============================] - 5s 97us/step - loss: 1.2136 - acc: 0.5726 - val_loss: 1.2377 - val_acc: 0.5627\n",
      "Epoch 15/25\n",
      "50000/50000 [==============================] - 5s 94us/step - loss: 1.2034 - acc: 0.5778 - val_loss: 1.2383 - val_acc: 0.5593\n",
      "Epoch 16/25\n",
      "50000/50000 [==============================] - 5s 95us/step - loss: 1.2007 - acc: 0.5771 - val_loss: 1.2450 - val_acc: 0.5641\n",
      "Epoch 17/25\n",
      "50000/50000 [==============================] - 5s 94us/step - loss: 1.1952 - acc: 0.5798 - val_loss: 1.2278 - val_acc: 0.5695\n",
      "Epoch 18/25\n",
      "50000/50000 [==============================] - 5s 96us/step - loss: 1.1899 - acc: 0.5813 - val_loss: 1.4767 - val_acc: 0.4920\n",
      "Epoch 19/25\n",
      "50000/50000 [==============================] - 5s 97us/step - loss: 1.1859 - acc: 0.5836 - val_loss: 1.2951 - val_acc: 0.5484\n",
      "Epoch 20/25\n",
      "50000/50000 [==============================] - 5s 96us/step - loss: 1.1810 - acc: 0.5833 - val_loss: 1.2343 - val_acc: 0.5640\n",
      "Epoch 21/25\n",
      "50000/50000 [==============================] - 5s 95us/step - loss: 1.1775 - acc: 0.5868 - val_loss: 1.2228 - val_acc: 0.5675\n",
      "Epoch 22/25\n",
      "50000/50000 [==============================] - 5s 95us/step - loss: 1.1738 - acc: 0.5874 - val_loss: 1.2001 - val_acc: 0.5791\n",
      "Epoch 23/25\n",
      "50000/50000 [==============================] - 5s 96us/step - loss: 1.1715 - acc: 0.5868 - val_loss: 1.2614 - val_acc: 0.5543\n",
      "Epoch 24/25\n",
      "50000/50000 [==============================] - 5s 99us/step - loss: 1.1709 - acc: 0.5889 - val_loss: 1.2336 - val_acc: 0.5664\n",
      "Epoch 25/25\n",
      "50000/50000 [==============================] - 5s 100us/step - loss: 1.1665 - acc: 0.5900 - val_loss: 1.2299 - val_acc: 0.5606\n"
     ]
    }
   ],
   "source": [
    "model_1_training = model_1.fit(\n",
    "    X_train_reshaped,\n",
    "    y_train_coded, \n",
    "    validation_data=(X_test_reshaped, y_test_coded),\n",
    "    epochs=25,\n",
    "    batch_size=64\n",
    ")"
   ]
  },
  {
   "cell_type": "code",
   "execution_count": 21,
   "metadata": {
    "ExecuteTime": {
     "end_time": "2019-07-24T13:00:16.815062Z",
     "start_time": "2019-07-24T13:00:16.098206Z"
    },
    "colab": {
     "base_uri": "https://localhost:8080/",
     "height": 370
    },
    "colab_type": "code",
    "executionInfo": {
     "elapsed": 127991,
     "status": "ok",
     "timestamp": 1563983037143,
     "user": {
      "displayName": "Thomas",
      "photoUrl": "",
      "userId": "10846726602050000050"
     },
     "user_tz": -120
    },
    "id": "uAN0XWwFo-ck",
    "outputId": "10cdbc8c-87c7-4c05-bcfb-232b0aa1ddc9"
   },
   "outputs": [
    {
     "data": {
      "image/png": "[encoded data removed]",
      "text/plain": [
       "<Figure size 1008x360 with 2 Axes>"
      ]
     },
     "metadata": {
      "tags": []
     },
     "output_type": "display_data"
    }
   ],
   "source": [
    "plot_history(model_1_training)"
   ]
  },
  {
   "cell_type": "markdown",
   "metadata": {},
   "source": [
    "## Modell 2\n",
    "Das zweite Modell baut auf Modell 1 auf, führt aber zusätzlich noch ein Dropout ein, der ein overfitting verhindern soll. Mit einer val_acc von ca. 64% ist dieses Modell bereits etwas besser als das Erste, hat aber auch 5000 Parameter mehr, die trainiert werden müssen."
   ]
  },
  {
   "cell_type": "code",
   "execution_count": 22,
   "metadata": {
    "ExecuteTime": {
     "end_time": "2019-07-24T13:49:03.759308Z",
     "start_time": "2019-07-24T13:49:03.075868Z"
    },
    "colab": {
     "base_uri": "https://localhost:8080/",
     "height": 87
    },
    "colab_type": "code",
    "executionInfo": {
     "elapsed": 127954,
     "status": "ok",
     "timestamp": 1563983037146,
     "user": {
      "displayName": "Thomas",
      "photoUrl": "",
      "userId": "10846726602050000050"
     },
     "user_tz": -120
    },
    "id": "pN6A5IW8o-cs",
    "outputId": "f767fe2e-0cd8-40aa-91d6-68e4215ac2c8"
   },
   "outputs": [
    {
     "name": "stderr",
     "output_type": "stream",
     "text": [
      "W0724 15:43:56.959854 140185529960320 deprecation.py:506] From /usr/local/lib/python3.6/dist-packages/keras/backend/tensorflow_backend.py:3445: calling dropout (from tensorflow.python.ops.nn_ops) with keep_prob is deprecated and will be removed in a future version.\n",
      "Instructions for updating:\n",
      "Please use `rate` instead of `keep_prob`. Rate should be set to `rate = 1 - keep_prob`.\n"
     ]
    }
   ],
   "source": [
    "model_2 = Sequential()\n",
    "\n",
    "model_2.add(Conv2D(32, kernel_size=3, input_shape=(32, 32, 3), activation='relu', padding='same', strides=2))\n",
    "model_2.add(BatchNormalization())\n",
    "\n",
    "model_2.add(MaxPool2D(2))\n",
    "model_2.add(Dropout(0.25))\n",
    "\n",
    "model_2.add(Conv2D(16, kernel_size=3, activation='relu', padding='same', dilation_rate=2))\n",
    "model_2.add(BatchNormalization())\n",
    "\n",
    "model_2.add(MaxPool2D(2))\n",
    "model_2.add(Dropout(0.35))\n",
    "\n",
    "model_2.add(Flatten())\n",
    "model_2.add(Dense(10, activation='softmax'))"
   ]
  },
  {
   "cell_type": "code",
   "execution_count": 23,
   "metadata": {
    "ExecuteTime": {
     "end_time": "2019-07-24T13:49:05.021449Z",
     "start_time": "2019-07-24T13:49:05.006448Z"
    },
    "colab": {
     "base_uri": "https://localhost:8080/",
     "height": 470
    },
    "colab_type": "code",
    "executionInfo": {
     "elapsed": 127928,
     "status": "ok",
     "timestamp": 1563983037151,
     "user": {
      "displayName": "Thomas",
      "photoUrl": "",
      "userId": "10846726602050000050"
     },
     "user_tz": -120
    },
    "id": "xJ9BDdxMo-c0",
    "outputId": "41ac899c-543b-41a9-bffb-a54126be5161"
   },
   "outputs": [
    {
     "name": "stdout",
     "output_type": "stream",
     "text": [
      "_________________________________________________________________\n",
      "Layer (type)                 Output Shape              Param #   \n",
      "=================================================================\n",
      "conv2d_3 (Conv2D)            (None, 16, 16, 32)        896       \n",
      "_________________________________________________________________\n",
      "batch_normalization_2 (Batch (None, 16, 16, 32)        128       \n",
      "_________________________________________________________________\n",
      "max_pooling2d_3 (MaxPooling2 (None, 8, 8, 32)          0         \n",
      "_________________________________________________________________\n",
      "dropout_1 (Dropout)          (None, 8, 8, 32)          0         \n",
      "_________________________________________________________________\n",
      "conv2d_4 (Conv2D)            (None, 8, 8, 16)          4624      \n",
      "_________________________________________________________________\n",
      "batch_normalization_3 (Batch (None, 8, 8, 16)          64        \n",
      "_________________________________________________________________\n",
      "max_pooling2d_4 (MaxPooling2 (None, 4, 4, 16)          0         \n",
      "_________________________________________________________________\n",
      "dropout_2 (Dropout)          (None, 4, 4, 16)          0         \n",
      "_________________________________________________________________\n",
      "flatten_2 (Flatten)          (None, 256)               0         \n",
      "_________________________________________________________________\n",
      "dense_2 (Dense)              (None, 10)                2570      \n",
      "=================================================================\n",
      "Total params: 8,282\n",
      "Trainable params: 8,186\n",
      "Non-trainable params: 96\n",
      "_________________________________________________________________\n"
     ]
    }
   ],
   "source": [
    "model_2.summary()"
   ]
  },
  {
   "cell_type": "code",
   "execution_count": 0,
   "metadata": {
    "ExecuteTime": {
     "end_time": "2019-07-24T13:49:55.400685Z",
     "start_time": "2019-07-24T13:49:55.280700Z"
    },
    "colab": {},
    "colab_type": "code",
    "id": "xlPUPM5bo-c7"
   },
   "outputs": [],
   "source": [
    "model_2.compile(optimizer='adam',\n",
    "               loss='categorical_crossentropy',\n",
    "               metrics=['accuracy'])"
   ]
  },
  {
   "cell_type": "code",
   "execution_count": 25,
   "metadata": {
    "ExecuteTime": {
     "end_time": "2019-07-24T14:05:16.577571Z",
     "start_time": "2019-07-24T13:50:24.409532Z"
    },
    "colab": {
     "base_uri": "https://localhost:8080/",
     "height": 874
    },
    "colab_type": "code",
    "executionInfo": {
     "elapsed": 274365,
     "status": "ok",
     "timestamp": 1563983183644,
     "user": {
      "displayName": "Thomas",
      "photoUrl": "",
      "userId": "10846726602050000050"
     },
     "user_tz": -120
    },
    "id": "uxrkeT-do-c_",
    "outputId": "83e533d7-75f4-48c8-9b21-5760b66367a2",
    "scrolled": true
   },
   "outputs": [
    {
     "name": "stdout",
     "output_type": "stream",
     "text": [
      "Train on 50000 samples, validate on 10000 samples\n",
      "Epoch 1/25\n",
      "50000/50000 [==============================] - 6s 128us/step - loss: 1.9646 - acc: 0.3353 - val_loss: 1.5604 - val_acc: 0.4378\n",
      "Epoch 2/25\n",
      "50000/50000 [==============================] - 6s 117us/step - loss: 1.5070 - acc: 0.4573 - val_loss: 1.3320 - val_acc: 0.5234\n",
      "Epoch 3/25\n",
      "50000/50000 [==============================] - 6s 115us/step - loss: 1.3954 - acc: 0.4994 - val_loss: 1.4782 - val_acc: 0.4774\n",
      "Epoch 4/25\n",
      "50000/50000 [==============================] - 6s 117us/step - loss: 1.3394 - acc: 0.5228 - val_loss: 1.3412 - val_acc: 0.5156\n",
      "Epoch 5/25\n",
      "50000/50000 [==============================] - 6s 116us/step - loss: 1.2985 - acc: 0.5397 - val_loss: 1.2309 - val_acc: 0.5716\n",
      "Epoch 6/25\n",
      "50000/50000 [==============================] - 6s 116us/step - loss: 1.2653 - acc: 0.5494 - val_loss: 1.4318 - val_acc: 0.4929\n",
      "Epoch 7/25\n",
      "50000/50000 [==============================] - 6s 116us/step - loss: 1.2464 - acc: 0.5583 - val_loss: 1.1725 - val_acc: 0.5842\n",
      "Epoch 8/25\n",
      "50000/50000 [==============================] - 6s 119us/step - loss: 1.2376 - acc: 0.5613 - val_loss: 1.1565 - val_acc: 0.5981\n",
      "Epoch 9/25\n",
      "50000/50000 [==============================] - 6s 118us/step - loss: 1.2164 - acc: 0.5673 - val_loss: 1.1666 - val_acc: 0.5810\n",
      "Epoch 10/25\n",
      "50000/50000 [==============================] - 6s 115us/step - loss: 1.2025 - acc: 0.5733 - val_loss: 1.1734 - val_acc: 0.5910\n",
      "Epoch 11/25\n",
      "50000/50000 [==============================] - 6s 117us/step - loss: 1.1954 - acc: 0.5745 - val_loss: 1.1294 - val_acc: 0.5952\n",
      "Epoch 12/25\n",
      "50000/50000 [==============================] - 6s 116us/step - loss: 1.1900 - acc: 0.5772 - val_loss: 1.1772 - val_acc: 0.5784\n",
      "Epoch 13/25\n",
      "50000/50000 [==============================] - 6s 116us/step - loss: 1.1833 - acc: 0.5815 - val_loss: 1.1304 - val_acc: 0.6058\n",
      "Epoch 14/25\n",
      "50000/50000 [==============================] - 6s 116us/step - loss: 1.1768 - acc: 0.5826 - val_loss: 1.2176 - val_acc: 0.5613\n",
      "Epoch 15/25\n",
      "50000/50000 [==============================] - 6s 114us/step - loss: 1.1697 - acc: 0.5870 - val_loss: 1.0636 - val_acc: 0.6300\n",
      "Epoch 16/25\n",
      "50000/50000 [==============================] - 6s 115us/step - loss: 1.1619 - acc: 0.5868 - val_loss: 1.1094 - val_acc: 0.6051\n",
      "Epoch 17/25\n",
      "50000/50000 [==============================] - 6s 114us/step - loss: 1.1606 - acc: 0.5891 - val_loss: 1.1876 - val_acc: 0.5779\n",
      "Epoch 18/25\n",
      "50000/50000 [==============================] - 6s 116us/step - loss: 1.1551 - acc: 0.5915 - val_loss: 1.3402 - val_acc: 0.5237\n",
      "Epoch 19/25\n",
      "50000/50000 [==============================] - 6s 117us/step - loss: 1.1525 - acc: 0.5904 - val_loss: 1.1251 - val_acc: 0.5999\n",
      "Epoch 20/25\n",
      "50000/50000 [==============================] - 6s 116us/step - loss: 1.1499 - acc: 0.5938 - val_loss: 1.1657 - val_acc: 0.5854\n",
      "Epoch 21/25\n",
      "50000/50000 [==============================] - 6s 116us/step - loss: 1.1480 - acc: 0.5926 - val_loss: 1.3095 - val_acc: 0.5249\n",
      "Epoch 22/25\n",
      "50000/50000 [==============================] - 6s 117us/step - loss: 1.1440 - acc: 0.5955 - val_loss: 1.0445 - val_acc: 0.6362\n",
      "Epoch 23/25\n",
      "50000/50000 [==============================] - 6s 117us/step - loss: 1.1405 - acc: 0.5934 - val_loss: 1.0424 - val_acc: 0.6376\n",
      "Epoch 24/25\n",
      "50000/50000 [==============================] - 6s 115us/step - loss: 1.1354 - acc: 0.5985 - val_loss: 1.1511 - val_acc: 0.5869\n",
      "Epoch 25/25\n",
      "50000/50000 [==============================] - 6s 117us/step - loss: 1.1377 - acc: 0.5990 - val_loss: 1.0360 - val_acc: 0.6359\n"
     ]
    }
   ],
   "source": [
    "model_2_training = model_2.fit(\n",
    "   X_train_reshaped,\n",
    "    y_train_coded, \n",
    "    validation_data=(X_test_reshaped, y_test_coded),\n",
    "    epochs=25,\n",
    "    batch_size=64)"
   ]
  },
  {
   "cell_type": "code",
   "execution_count": 26,
   "metadata": {
    "ExecuteTime": {
     "end_time": "2019-07-24T15:25:43.125503Z",
     "start_time": "2019-07-24T15:25:43.086495Z"
    },
    "colab": {
     "base_uri": "https://localhost:8080/",
     "height": 370
    },
    "colab_type": "code",
    "executionInfo": {
     "elapsed": 274956,
     "status": "ok",
     "timestamp": 1563983184262,
     "user": {
      "displayName": "Thomas",
      "photoUrl": "",
      "userId": "10846726602050000050"
     },
     "user_tz": -120
    },
    "id": "apyi4SKCo-dF",
    "outputId": "17f47dab-9c95-4cf6-d964-2c156b1146b3"
   },
   "outputs": [
    {
     "data": {
      "image/png": "[encoded data removed]",
      "text/plain": [
       "<Figure size 1008x360 with 2 Axes>"
      ]
     },
     "metadata": {
      "tags": []
     },
     "output_type": "display_data"
    }
   ],
   "source": [
    "plot_history(model_2_training)"
   ]
  },
  {
   "cell_type": "markdown",
   "metadata": {},
   "source": [
    "## Modell 3,\n",
    "baut wiederum auf den 2. auf hat aber zusätzliche 2 Conv Layer, was sich in zusätzlichen 20000 Parametern und einer 76-prozentigen validation Genauigkeit wiederspiegelt."
   ]
  },
  {
   "cell_type": "code",
   "execution_count": 0,
   "metadata": {
    "ExecuteTime": {
     "end_time": "2019-07-24T13:44:43.039346Z",
     "start_time": "2019-07-24T13:44:41.631736Z"
    },
    "colab": {},
    "colab_type": "code",
    "id": "hVNEy17ao-dR"
   },
   "outputs": [],
   "source": [
    "model_3 = Sequential()\n",
    "\n",
    "model_3.add(Conv2D(32, kernel_size=3, input_shape=(32, 32, 3), activation='relu', padding='same'))\n",
    "model_3.add(BatchNormalization())\n",
    "\n",
    "model_3.add(Conv2D(32, kernel_size=3, activation='relu', padding='same'))\n",
    "model_3.add(BatchNormalization())\n",
    "\n",
    "model_3.add(MaxPool2D(2))\n",
    "model_3.add(Dropout(0.2))\n",
    "\n",
    "model_3.add(Conv2D(16, kernel_size=3, activation='relu', padding='same'))\n",
    "model_3.add(BatchNormalization())\n",
    "\n",
    "model_3.add(Conv2D(16, kernel_size=3, activation='relu', padding='same'))\n",
    "model_3.add(BatchNormalization())\n",
    "\n",
    "model_3.add(MaxPool2D(2))\n",
    "model_3.add(Dropout(0.3))\n",
    "\n",
    "model_3.add(Flatten())\n",
    "model_3.add(Dense(10, activation='softmax'))"
   ]
  },
  {
   "cell_type": "code",
   "execution_count": 28,
   "metadata": {
    "ExecuteTime": {
     "end_time": "2019-07-24T13:44:43.106633Z",
     "start_time": "2019-07-24T13:44:43.045196Z"
    },
    "colab": {
     "base_uri": "https://localhost:8080/",
     "height": 605
    },
    "colab_type": "code",
    "executionInfo": {
     "elapsed": 275151,
     "status": "ok",
     "timestamp": 1563983184513,
     "user": {
      "displayName": "Thomas",
      "photoUrl": "",
      "userId": "10846726602050000050"
     },
     "user_tz": -120
    },
    "id": "ySlZUihMo-dV",
    "outputId": "d37fae1d-1cef-4705-b556-3e4ffd6a52d1"
   },
   "outputs": [
    {
     "name": "stdout",
     "output_type": "stream",
     "text": [
      "_________________________________________________________________\n",
      "Layer (type)                 Output Shape              Param #   \n",
      "=================================================================\n",
      "conv2d_5 (Conv2D)            (None, 32, 32, 32)        896       \n",
      "_________________________________________________________________\n",
      "batch_normalization_4 (Batch (None, 32, 32, 32)        128       \n",
      "_________________________________________________________________\n",
      "conv2d_6 (Conv2D)            (None, 32, 32, 32)        9248      \n",
      "_________________________________________________________________\n",
      "batch_normalization_5 (Batch (None, 32, 32, 32)        128       \n",
      "_________________________________________________________________\n",
      "max_pooling2d_5 (MaxPooling2 (None, 16, 16, 32)        0         \n",
      "_________________________________________________________________\n",
      "dropout_3 (Dropout)          (None, 16, 16, 32)        0         \n",
      "_________________________________________________________________\n",
      "conv2d_7 (Conv2D)            (None, 16, 16, 16)        4624      \n",
      "_________________________________________________________________\n",
      "batch_normalization_6 (Batch (None, 16, 16, 16)        64        \n",
      "_________________________________________________________________\n",
      "conv2d_8 (Conv2D)            (None, 16, 16, 16)        2320      \n",
      "_________________________________________________________________\n",
      "batch_normalization_7 (Batch (None, 16, 16, 16)        64        \n",
      "_________________________________________________________________\n",
      "max_pooling2d_6 (MaxPooling2 (None, 8, 8, 16)          0         \n",
      "_________________________________________________________________\n",
      "dropout_4 (Dropout)          (None, 8, 8, 16)          0         \n",
      "_________________________________________________________________\n",
      "flatten_3 (Flatten)          (None, 1024)              0         \n",
      "_________________________________________________________________\n",
      "dense_3 (Dense)              (None, 10)                10250     \n",
      "=================================================================\n",
      "Total params: 27,722\n",
      "Trainable params: 27,530\n",
      "Non-trainable params: 192\n",
      "_________________________________________________________________\n"
     ]
    }
   ],
   "source": [
    "model_3.summary()"
   ]
  },
  {
   "cell_type": "code",
   "execution_count": 0,
   "metadata": {
    "ExecuteTime": {
     "end_time": "2019-07-24T13:44:47.206821Z",
     "start_time": "2019-07-24T13:44:47.042815Z"
    },
    "colab": {},
    "colab_type": "code",
    "id": "xVVK32tuo-df"
   },
   "outputs": [],
   "source": [
    "model_3.compile(optimizer='adam',\n",
    "               loss='categorical_crossentropy',\n",
    "               metrics=['accuracy'])"
   ]
  },
  {
   "cell_type": "code",
   "execution_count": 30,
   "metadata": {
    "ExecuteTime": {
     "end_time": "2019-07-24T13:45:57.556754Z",
     "start_time": "2019-07-24T13:44:47.648556Z"
    },
    "colab": {
     "base_uri": "https://localhost:8080/",
     "height": 874
    },
    "colab_type": "code",
    "executionInfo": {
     "elapsed": 490701,
     "status": "ok",
     "timestamp": 1563983400119,
     "user": {
      "displayName": "Thomas",
      "photoUrl": "",
      "userId": "10846726602050000050"
     },
     "user_tz": -120
    },
    "id": "SXPXVgAIo-dl",
    "outputId": "822ae283-b227-4722-f190-60c0b5cd74a8",
    "scrolled": true
   },
   "outputs": [
    {
     "name": "stdout",
     "output_type": "stream",
     "text": [
      "Train on 50000 samples, validate on 10000 samples\n",
      "Epoch 1/25\n",
      "50000/50000 [==============================] - 10s 192us/step - loss: 1.6827 - acc: 0.4374 - val_loss: 1.1919 - val_acc: 0.5772\n",
      "Epoch 2/25\n",
      "50000/50000 [==============================] - 9s 170us/step - loss: 1.1592 - acc: 0.5892 - val_loss: 1.1478 - val_acc: 0.5912\n",
      "Epoch 3/25\n",
      "50000/50000 [==============================] - 9s 171us/step - loss: 1.0043 - acc: 0.6455 - val_loss: 1.0652 - val_acc: 0.6256\n",
      "Epoch 4/25\n",
      "50000/50000 [==============================] - 9s 170us/step - loss: 0.9222 - acc: 0.6766 - val_loss: 0.8887 - val_acc: 0.6807\n",
      "Epoch 5/25\n",
      "50000/50000 [==============================] - 9s 171us/step - loss: 0.8733 - acc: 0.6949 - val_loss: 0.8630 - val_acc: 0.7014\n",
      "Epoch 6/25\n",
      "50000/50000 [==============================] - 8s 170us/step - loss: 0.8443 - acc: 0.7060 - val_loss: 0.8502 - val_acc: 0.7007\n",
      "Epoch 7/25\n",
      "50000/50000 [==============================] - 8s 170us/step - loss: 0.8134 - acc: 0.7180 - val_loss: 0.9548 - val_acc: 0.6728\n",
      "Epoch 8/25\n",
      "50000/50000 [==============================] - 9s 171us/step - loss: 0.7909 - acc: 0.7233 - val_loss: 0.8044 - val_acc: 0.7166\n",
      "Epoch 9/25\n",
      "50000/50000 [==============================] - 8s 169us/step - loss: 0.7746 - acc: 0.7288 - val_loss: 0.8030 - val_acc: 0.7200\n",
      "Epoch 10/25\n",
      "50000/50000 [==============================] - 9s 171us/step - loss: 0.7649 - acc: 0.7344 - val_loss: 0.7835 - val_acc: 0.7247\n",
      "Epoch 11/25\n",
      "50000/50000 [==============================] - 9s 170us/step - loss: 0.7489 - acc: 0.7388 - val_loss: 0.7770 - val_acc: 0.7291\n",
      "Epoch 12/25\n",
      "50000/50000 [==============================] - 9s 171us/step - loss: 0.7339 - acc: 0.7451 - val_loss: 0.7812 - val_acc: 0.7308\n",
      "Epoch 13/25\n",
      "50000/50000 [==============================] - 9s 171us/step - loss: 0.7218 - acc: 0.7486 - val_loss: 0.7486 - val_acc: 0.7383\n",
      "Epoch 14/25\n",
      "50000/50000 [==============================] - 8s 170us/step - loss: 0.7164 - acc: 0.7497 - val_loss: 0.7204 - val_acc: 0.7483\n",
      "Epoch 15/25\n",
      "50000/50000 [==============================] - 9s 172us/step - loss: 0.7014 - acc: 0.7549 - val_loss: 0.7615 - val_acc: 0.7396\n",
      "Epoch 16/25\n",
      "50000/50000 [==============================] - 9s 172us/step - loss: 0.6986 - acc: 0.7553 - val_loss: 0.7364 - val_acc: 0.7407\n",
      "Epoch 17/25\n",
      "50000/50000 [==============================] - 9s 172us/step - loss: 0.6921 - acc: 0.7570 - val_loss: 0.7458 - val_acc: 0.7366\n",
      "Epoch 18/25\n",
      "50000/50000 [==============================] - 9s 170us/step - loss: 0.6853 - acc: 0.7598 - val_loss: 0.6915 - val_acc: 0.7623\n",
      "Epoch 19/25\n",
      "50000/50000 [==============================] - 9s 175us/step - loss: 0.6781 - acc: 0.7625 - val_loss: 0.7196 - val_acc: 0.7523\n",
      "Epoch 20/25\n",
      "50000/50000 [==============================] - 8s 169us/step - loss: 0.6721 - acc: 0.7648 - val_loss: 0.8995 - val_acc: 0.6904\n",
      "Epoch 21/25\n",
      "50000/50000 [==============================] - 8s 169us/step - loss: 0.6686 - acc: 0.7667 - val_loss: 0.7021 - val_acc: 0.7620\n",
      "Epoch 22/25\n",
      "50000/50000 [==============================] - 9s 170us/step - loss: 0.6605 - acc: 0.7691 - val_loss: 0.6905 - val_acc: 0.7616\n",
      "Epoch 23/25\n",
      "50000/50000 [==============================] - 9s 171us/step - loss: 0.6565 - acc: 0.7713 - val_loss: 0.7343 - val_acc: 0.7517\n",
      "Epoch 24/25\n",
      "50000/50000 [==============================] - 9s 172us/step - loss: 0.6514 - acc: 0.7716 - val_loss: 0.7405 - val_acc: 0.7479\n",
      "Epoch 25/25\n",
      "50000/50000 [==============================] - 9s 171us/step - loss: 0.6451 - acc: 0.7737 - val_loss: 0.7214 - val_acc: 0.7519\n"
     ]
    }
   ],
   "source": [
    "model_3_training = model_3.fit(\n",
    "   X_train_reshaped,\n",
    "    y_train_coded, \n",
    "    validation_data=(X_test_reshaped,y_test_coded),\n",
    "    epochs=25,\n",
    "    batch_size=64)"
   ]
  },
  {
   "cell_type": "code",
   "execution_count": 31,
   "metadata": {
    "colab": {
     "base_uri": "https://localhost:8080/",
     "height": 370
    },
    "colab_type": "code",
    "executionInfo": {
     "elapsed": 491168,
     "status": "ok",
     "timestamp": 1563983400615,
     "user": {
      "displayName": "Thomas",
      "photoUrl": "",
      "userId": "10846726602050000050"
     },
     "user_tz": -120
    },
    "id": "9iSEyLzqo-eA",
    "outputId": "8e45d244-a247-4d3c-ade5-2c825f2545ff"
   },
   "outputs": [
    {
     "data": {
      "image/png": "[encoded data removed]",
      "text/plain": [
       "<Figure size 1008x360 with 2 Axes>"
      ]
     },
     "metadata": {
      "tags": []
     },
     "output_type": "display_data"
    }
   ],
   "source": [
    "plot_history(model_3_training)"
   ]
  },
  {
   "cell_type": "markdown",
   "metadata": {},
   "source": [
    "## Modell 4,\n",
    "ist das letzte und mit 6 Conv Layern mit jeweils verdoppelter Neuronenzahl und mehreren Batch und Dropout layerm, das umfassendste Modell. Es hat 310.000 Parameter, die mit GPU Support dennoch recht schnell trainiert werden können. Das Resultat ist eine Testgenauigkeit von ca. 85%. "
   ]
  },
  {
   "cell_type": "code",
   "execution_count": 0,
   "metadata": {
    "ExecuteTime": {
     "end_time": "2019-07-24T13:34:31.380412Z",
     "start_time": "2019-07-24T13:34:27.886046Z"
    },
    "colab": {},
    "colab_type": "code",
    "id": "QQkVGZmIo-eI"
   },
   "outputs": [],
   "source": [
    "model_4 = Sequential()\n",
    "\n",
    "model_4.add(Conv2D(32, kernel_size=3, input_shape=(32, 32, 3), activation='relu', padding='same'))\n",
    "model_4.add(BatchNormalization())\n",
    "model_4.add(Conv2D(32, kernel_size=3, activation='relu', padding='same'))\n",
    "model_4.add(BatchNormalization())\n",
    "model_4.add(MaxPool2D(2))\n",
    "model_4.add(Dropout(0.2))\n",
    "\n",
    "model_4.add(Conv2D(64, kernel_size=3, activation='relu', padding='same'))\n",
    "model_4.add(BatchNormalization())\n",
    "model_4.add(Conv2D(64, kernel_size=3, activation='relu', padding='same'))\n",
    "model_4.add(BatchNormalization())\n",
    "model_4.add(MaxPool2D(2))\n",
    "model_4.add(Dropout(0.3))\n",
    "\n",
    "model_4.add(Conv2D(128, kernel_size=3, activation='relu', padding='same'))\n",
    "model_4.add(BatchNormalization())\n",
    "model_4.add(Conv2D(128, kernel_size=3, activation='relu', padding='same'))\n",
    "model_4.add(BatchNormalization())\n",
    "model_4.add(MaxPool2D(2))\n",
    "model_4.add(Dropout(0.4))\n",
    "\n",
    "model_4.add(Flatten())\n",
    "model_4.add(Dense(10, activation='softmax'))"
   ]
  },
  {
   "cell_type": "code",
   "execution_count": 34,
   "metadata": {
    "ExecuteTime": {
     "end_time": "2019-07-24T13:34:31.583329Z",
     "start_time": "2019-07-24T13:34:31.388315Z"
    },
    "colab": {
     "base_uri": "https://localhost:8080/",
     "height": 806
    },
    "colab_type": "code",
    "executionInfo": {
     "elapsed": 491439,
     "status": "ok",
     "timestamp": 1563983400973,
     "user": {
      "displayName": "Thomas",
      "photoUrl": "",
      "userId": "10846726602050000050"
     },
     "user_tz": -120
    },
    "id": "y4T0RNcKo-eW",
    "outputId": "ce160963-c0db-4d2a-b7ea-0f15595af8dd"
   },
   "outputs": [
    {
     "name": "stdout",
     "output_type": "stream",
     "text": [
      "_________________________________________________________________\n",
      "Layer (type)                 Output Shape              Param #   \n",
      "=================================================================\n",
      "conv2d_9 (Conv2D)            (None, 32, 32, 32)        896       \n",
      "_________________________________________________________________\n",
      "batch_normalization_8 (Batch (None, 32, 32, 32)        128       \n",
      "_________________________________________________________________\n",
      "conv2d_10 (Conv2D)           (None, 32, 32, 32)        9248      \n",
      "_________________________________________________________________\n",
      "batch_normalization_9 (Batch (None, 32, 32, 32)        128       \n",
      "_________________________________________________________________\n",
      "max_pooling2d_7 (MaxPooling2 (None, 16, 16, 32)        0         \n",
      "_________________________________________________________________\n",
      "dropout_5 (Dropout)          (None, 16, 16, 32)        0         \n",
      "_________________________________________________________________\n",
      "conv2d_11 (Conv2D)           (None, 16, 16, 64)        18496     \n",
      "_________________________________________________________________\n",
      "batch_normalization_10 (Batc (None, 16, 16, 64)        256       \n",
      "_________________________________________________________________\n",
      "conv2d_12 (Conv2D)           (None, 16, 16, 64)        36928     \n",
      "_________________________________________________________________\n",
      "batch_normalization_11 (Batc (None, 16, 16, 64)        256       \n",
      "_________________________________________________________________\n",
      "max_pooling2d_8 (MaxPooling2 (None, 8, 8, 64)          0         \n",
      "_________________________________________________________________\n",
      "dropout_6 (Dropout)          (None, 8, 8, 64)          0         \n",
      "_________________________________________________________________\n",
      "conv2d_13 (Conv2D)           (None, 8, 8, 128)         73856     \n",
      "_________________________________________________________________\n",
      "batch_normalization_12 (Batc (None, 8, 8, 128)         512       \n",
      "_________________________________________________________________\n",
      "conv2d_14 (Conv2D)           (None, 8, 8, 128)         147584    \n",
      "_________________________________________________________________\n",
      "batch_normalization_13 (Batc (None, 8, 8, 128)         512       \n",
      "_________________________________________________________________\n",
      "max_pooling2d_9 (MaxPooling2 (None, 4, 4, 128)         0         \n",
      "_________________________________________________________________\n",
      "dropout_7 (Dropout)          (None, 4, 4, 128)         0         \n",
      "_________________________________________________________________\n",
      "flatten_4 (Flatten)          (None, 2048)              0         \n",
      "_________________________________________________________________\n",
      "dense_4 (Dense)              (None, 10)                20490     \n",
      "=================================================================\n",
      "Total params: 309,290\n",
      "Trainable params: 308,394\n",
      "Non-trainable params: 896\n",
      "_________________________________________________________________\n"
     ]
    }
   ],
   "source": [
    "model_4.summary()"
   ]
  },
  {
   "cell_type": "code",
   "execution_count": 0,
   "metadata": {
    "ExecuteTime": {
     "end_time": "2019-07-24T13:22:52.330075Z",
     "start_time": "2019-07-24T13:22:52.202063Z"
    },
    "colab": {},
    "colab_type": "code",
    "id": "y5NE28J_o-ek"
   },
   "outputs": [],
   "source": [
    "model_4.compile(optimizer='adam',\n",
    "               loss='categorical_crossentropy',\n",
    "               metrics=['accuracy'])"
   ]
  },
  {
   "cell_type": "code",
   "execution_count": 36,
   "metadata": {
    "ExecuteTime": {
     "end_time": "2019-07-24T13:29:08.675131Z",
     "start_time": "2019-07-24T13:23:44.412562Z"
    },
    "colab": {
     "base_uri": "https://localhost:8080/",
     "height": 874
    },
    "colab_type": "code",
    "executionInfo": {
     "elapsed": 777774,
     "status": "ok",
     "timestamp": 1563983687361,
     "user": {
      "displayName": "Thomas",
      "photoUrl": "",
      "userId": "10846726602050000050"
     },
     "user_tz": -120
    },
    "id": "fU5SjYPlo-er",
    "outputId": "621b098b-37fd-4ee8-a26a-840136e26d58",
    "scrolled": true
   },
   "outputs": [
    {
     "name": "stdout",
     "output_type": "stream",
     "text": [
      "Train on 50000 samples, validate on 10000 samples\n",
      "Epoch 1/25\n",
      "50000/50000 [==============================] - 13s 263us/step - loss: 1.7431 - acc: 0.4596 - val_loss: 1.9656 - val_acc: 0.4136\n",
      "Epoch 2/25\n",
      "50000/50000 [==============================] - 11s 227us/step - loss: 1.0657 - acc: 0.6398 - val_loss: 0.9977 - val_acc: 0.6601\n",
      "Epoch 3/25\n",
      "50000/50000 [==============================] - 11s 227us/step - loss: 0.8595 - acc: 0.7005 - val_loss: 0.7947 - val_acc: 0.7291\n",
      "Epoch 4/25\n",
      "50000/50000 [==============================] - 11s 227us/step - loss: 0.7463 - acc: 0.7402 - val_loss: 0.8185 - val_acc: 0.7274\n",
      "Epoch 5/25\n",
      "50000/50000 [==============================] - 11s 225us/step - loss: 0.6684 - acc: 0.7682 - val_loss: 0.7531 - val_acc: 0.7407\n",
      "Epoch 6/25\n",
      "50000/50000 [==============================] - 11s 227us/step - loss: 0.6177 - acc: 0.7844 - val_loss: 0.9365 - val_acc: 0.6945\n",
      "Epoch 7/25\n",
      "50000/50000 [==============================] - 11s 226us/step - loss: 0.5645 - acc: 0.8029 - val_loss: 0.6957 - val_acc: 0.7657\n",
      "Epoch 8/25\n",
      "50000/50000 [==============================] - 11s 227us/step - loss: 0.5248 - acc: 0.8178 - val_loss: 0.6259 - val_acc: 0.7884\n",
      "Epoch 9/25\n",
      "50000/50000 [==============================] - 11s 228us/step - loss: 0.4882 - acc: 0.8307 - val_loss: 0.5165 - val_acc: 0.8211\n",
      "Epoch 10/25\n",
      "50000/50000 [==============================] - 11s 226us/step - loss: 0.4597 - acc: 0.8400 - val_loss: 0.5285 - val_acc: 0.8215\n",
      "Epoch 11/25\n",
      "50000/50000 [==============================] - 11s 227us/step - loss: 0.4378 - acc: 0.8468 - val_loss: 0.4923 - val_acc: 0.8340\n",
      "Epoch 12/25\n",
      "50000/50000 [==============================] - 11s 227us/step - loss: 0.4137 - acc: 0.8542 - val_loss: 0.5123 - val_acc: 0.8239\n",
      "Epoch 13/25\n",
      "50000/50000 [==============================] - 11s 226us/step - loss: 0.3886 - acc: 0.8639 - val_loss: 0.5083 - val_acc: 0.8360\n",
      "Epoch 14/25\n",
      "50000/50000 [==============================] - 11s 227us/step - loss: 0.3707 - acc: 0.8692 - val_loss: 0.5337 - val_acc: 0.8263\n",
      "Epoch 15/25\n",
      "50000/50000 [==============================] - 11s 228us/step - loss: 0.3576 - acc: 0.8717 - val_loss: 0.4972 - val_acc: 0.8362\n",
      "Epoch 16/25\n",
      "50000/50000 [==============================] - 11s 225us/step - loss: 0.3354 - acc: 0.8819 - val_loss: 0.5369 - val_acc: 0.8289\n",
      "Epoch 17/25\n",
      "50000/50000 [==============================] - 11s 226us/step - loss: 0.3260 - acc: 0.8835 - val_loss: 0.5008 - val_acc: 0.8376\n",
      "Epoch 18/25\n",
      "50000/50000 [==============================] - 11s 225us/step - loss: 0.3121 - acc: 0.8882 - val_loss: 0.5184 - val_acc: 0.8331\n",
      "Epoch 19/25\n",
      "50000/50000 [==============================] - 11s 226us/step - loss: 0.3018 - acc: 0.8932 - val_loss: 0.4921 - val_acc: 0.8426\n",
      "Epoch 20/25\n",
      "50000/50000 [==============================] - 11s 227us/step - loss: 0.2924 - acc: 0.8942 - val_loss: 0.5253 - val_acc: 0.8389\n",
      "Epoch 21/25\n",
      "50000/50000 [==============================] - 11s 226us/step - loss: 0.2795 - acc: 0.9010 - val_loss: 0.4676 - val_acc: 0.8506\n",
      "Epoch 22/25\n",
      "50000/50000 [==============================] - 12s 230us/step - loss: 0.2727 - acc: 0.9019 - val_loss: 0.4577 - val_acc: 0.8551\n",
      "Epoch 23/25\n",
      "50000/50000 [==============================] - 11s 228us/step - loss: 0.2589 - acc: 0.9076 - val_loss: 0.5658 - val_acc: 0.8263\n",
      "Epoch 24/25\n",
      "50000/50000 [==============================] - 11s 226us/step - loss: 0.2571 - acc: 0.9064 - val_loss: 0.4966 - val_acc: 0.8430\n",
      "Epoch 25/25\n",
      "50000/50000 [==============================] - 11s 228us/step - loss: 0.2465 - acc: 0.9121 - val_loss: 0.5011 - val_acc: 0.8453\n"
     ]
    }
   ],
   "source": [
    "model_4_training = model_4.fit(\n",
    "    X_train_reshaped,\n",
    "    y_train_coded, \n",
    "    validation_data=(X_test_reshaped, y_test_coded),\n",
    "    epochs=25,\n",
    "    batch_size=64)"
   ]
  },
  {
   "cell_type": "code",
   "execution_count": 37,
   "metadata": {
    "colab": {
     "base_uri": "https://localhost:8080/",
     "height": 370
    },
    "colab_type": "code",
    "executionInfo": {
     "elapsed": 778534,
     "status": "ok",
     "timestamp": 1563983688149,
     "user": {
      "displayName": "Thomas",
      "photoUrl": "",
      "userId": "10846726602050000050"
     },
     "user_tz": -120
    },
    "id": "l0e0p4Pho-e0",
    "outputId": "783e42ca-9389-4935-abb6-1a324dd3d8b4"
   },
   "outputs": [
    {
     "data": {
      "image/png": "[encoded data removed]",
      "text/plain": [
       "<Figure size 1008x360 with 2 Axes>"
      ]
     },
     "metadata": {
      "tags": []
     },
     "output_type": "display_data"
    }
   ],
   "source": [
    "plot_history(model_4_training)"
   ]
  }
 ],
 "metadata": {
  "accelerator": "GPU",
  "colab": {
   "collapsed_sections": [],
   "name": "3b-draft.ipynb",
   "provenance": [],
   "version": "0.3.2"
  },
  "kernelspec": {
   "display_name": "Python 3",
   "language": "python",
   "name": "python3"
  },
  "language_info": {
   "codemirror_mode": {
    "name": "ipython",
    "version": 3
   },
   "file_extension": ".py",
   "mimetype": "text/x-python",
   "name": "python",
   "nbconvert_exporter": "python",
   "pygments_lexer": "ipython3",
   "version": "3.7.3"
  }
 },
 "nbformat": 4,
 "nbformat_minor": 1
}
